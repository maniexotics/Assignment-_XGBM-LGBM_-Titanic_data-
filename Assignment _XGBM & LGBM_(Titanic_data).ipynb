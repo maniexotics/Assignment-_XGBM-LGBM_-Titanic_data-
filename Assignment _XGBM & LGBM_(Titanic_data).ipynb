{
 "cells": [
  {
   "cell_type": "markdown",
   "id": "ca918c87",
   "metadata": {},
   "source": [
    "[1. Introduction](#1)\n",
    "\n",
    "[2. Why Logistic Regression ?](#2)\n",
    "\n",
    "* [2.1 Sigmoid Function](#2.1)\n",
    "\n",
    "[3. Importing Libraries](#3)\n",
    "\n",
    "[4. Importing Training and Test Dataset](#4)\n",
    "\n",
    "[5. Dataset Column Details](#5)\n",
    "\n",
    "[6. Explanatory Data Analysis - Training Data](#6)\n",
    "\n",
    "* [6.1 Number of Rows and Column](#6.1)\n",
    "\n",
    "* [6.2 Missing Data Analysis](#6.2)\n",
    "\n",
    "* [6.3 Heat Map](#6.3)\n",
    "\n",
    "* [6.4 Verifing Unique Values ](#6.4)\n",
    "\n",
    "* [6.5 Visual Representation of Target based on features](#6.5)\n",
    "\n",
    "* [6.6 Statistical Analysis of Target based on features](#6.6)\n",
    "\n",
    "* [ 6.7 Visual Representation of features ](#6.7)\n",
    "\n",
    "[7. Data Preprocessing](#7)\n",
    "\n",
    "* [7.1 Handling missing data of age](#7.1)\n",
    "\n",
    "* [7.2 Handling missing data of Cabin](#7.2)\n",
    "\n",
    "* [7.3 Handling missing data of Embarked](#7.3)\n",
    "\n",
    "[8. Encoding Categorical Features](#8)\n",
    "\n",
    "[9. Analysis Numerical columns](#9)\n",
    "\n",
    "[10. Train and Test Split](#10)\n",
    "\n",
    "[11. Feature Scaling](#11)\n",
    "\n",
    "[12. Logistic Regression Model](#12)\n",
    "\n",
    "[13. Evaluation](#13)\n",
    "\n",
    "* [13.1 Confusion Matrix](#13.1)\n",
    "\n",
    "* [13.2 Accuracy, Precision and Recall](#13.2)\n",
    "\n",
    "* [13.3 Classification Report](#13.3)\n",
    "\n",
    "[14. Setting New Threshold](#14)\n",
    "\n",
    "* [14.1 Confusion Matrix for updated Threshold](#14.1)\n",
    "\n",
    "* [14.2 Accuracy, Precision and Recall](#14.2)\n",
    "\n",
    "* [14.3 Classification Report for updated Threshold](#14.3)\n",
    "\n",
    "[15. Test.csv Analysis](#15)\n",
    "\n",
    "* [15.1 Missing Value Analysis of Test.csv](#15.1)\n",
    "\n",
    "* [15.2  Heat Map for missing value of Test.csv](#15.2)\n",
    "\n",
    "[16. Data Preprocessing for Test.csv](#16)\n",
    "\n",
    "* [16.1 Handling Missing Data of Age](#16.1)\n",
    "\n",
    "* [16.2 Handling Missing Data of Cabin](#16.2)\n",
    "\n",
    "* [16.3 Handling Missing Data of Fare](#16.3)\n",
    "\n",
    "[17. Dropping Insignificant Features](#17)\n",
    "\n",
    "[18. Encoding Categorical Features of Test.csv](#18)\n",
    "\n",
    "[19. Feature Scaling](#19)\n",
    "\n",
    "[20. Building Logistic Regression](#20)\n",
    "\n",
    "[21. Conclusion](#21)\n",
    "\n",
    "\n",
    "\n"
   ]
  },
  {
   "cell_type": "code",
   "execution_count": null,
   "id": "00b04174",
   "metadata": {},
   "outputs": [],
   "source": []
  },
  {
   "cell_type": "code",
   "execution_count": null,
   "id": "a5363c6d",
   "metadata": {},
   "outputs": [],
   "source": []
  },
  {
   "cell_type": "code",
   "execution_count": null,
   "id": "17d696e9",
   "metadata": {},
   "outputs": [],
   "source": []
  },
  {
   "cell_type": "markdown",
   "id": "a9f5dbc0",
   "metadata": {},
   "source": [
    "### Importing Libreries:"
   ]
  },
  {
   "cell_type": "code",
   "execution_count": 1,
   "id": "9c8b6608",
   "metadata": {},
   "outputs": [],
   "source": [
    "import pandas as pd\n",
    "import numpy as np\n",
    "\n",
    "\n",
    "import matplotlib.pyplot as plt\n",
    "import seaborn as sns\n",
    "import cufflinks as cf\n",
    "import plotly.express as px\n",
    "%matplotlib inline\n",
    "\n",
    "import warnings\n",
    "warnings.filterwarnings('ignore')"
   ]
  },
  {
   "cell_type": "code",
   "execution_count": 2,
   "id": "ada8523e",
   "metadata": {},
   "outputs": [],
   "source": [
    "train_data = pd.read_csv(\"C:\\\\Users\\\\hp\\\\Desktop\\\\assignments\\\\XGBM & LGBM\\\\Titanic_train.csv\")"
   ]
  },
  {
   "cell_type": "code",
   "execution_count": 3,
   "id": "52d5c4e3",
   "metadata": {},
   "outputs": [
    {
     "data": {
      "text/html": [
       "<div>\n",
       "<style scoped>\n",
       "    .dataframe tbody tr th:only-of-type {\n",
       "        vertical-align: middle;\n",
       "    }\n",
       "\n",
       "    .dataframe tbody tr th {\n",
       "        vertical-align: top;\n",
       "    }\n",
       "\n",
       "    .dataframe thead th {\n",
       "        text-align: right;\n",
       "    }\n",
       "</style>\n",
       "<table border=\"1\" class=\"dataframe\">\n",
       "  <thead>\n",
       "    <tr style=\"text-align: right;\">\n",
       "      <th></th>\n",
       "      <th>PassengerId</th>\n",
       "      <th>Survived</th>\n",
       "      <th>Pclass</th>\n",
       "      <th>Name</th>\n",
       "      <th>Sex</th>\n",
       "      <th>Age</th>\n",
       "      <th>SibSp</th>\n",
       "      <th>Parch</th>\n",
       "      <th>Ticket</th>\n",
       "      <th>Fare</th>\n",
       "      <th>Cabin</th>\n",
       "      <th>Embarked</th>\n",
       "    </tr>\n",
       "  </thead>\n",
       "  <tbody>\n",
       "    <tr>\n",
       "      <th>0</th>\n",
       "      <td>1</td>\n",
       "      <td>0</td>\n",
       "      <td>3</td>\n",
       "      <td>Braund, Mr. Owen Harris</td>\n",
       "      <td>male</td>\n",
       "      <td>22.0</td>\n",
       "      <td>1</td>\n",
       "      <td>0</td>\n",
       "      <td>A/5 21171</td>\n",
       "      <td>7.2500</td>\n",
       "      <td>NaN</td>\n",
       "      <td>S</td>\n",
       "    </tr>\n",
       "    <tr>\n",
       "      <th>1</th>\n",
       "      <td>2</td>\n",
       "      <td>1</td>\n",
       "      <td>1</td>\n",
       "      <td>Cumings, Mrs. John Bradley (Florence Briggs Th...</td>\n",
       "      <td>female</td>\n",
       "      <td>38.0</td>\n",
       "      <td>1</td>\n",
       "      <td>0</td>\n",
       "      <td>PC 17599</td>\n",
       "      <td>71.2833</td>\n",
       "      <td>C85</td>\n",
       "      <td>C</td>\n",
       "    </tr>\n",
       "    <tr>\n",
       "      <th>2</th>\n",
       "      <td>3</td>\n",
       "      <td>1</td>\n",
       "      <td>3</td>\n",
       "      <td>Heikkinen, Miss. Laina</td>\n",
       "      <td>female</td>\n",
       "      <td>26.0</td>\n",
       "      <td>0</td>\n",
       "      <td>0</td>\n",
       "      <td>STON/O2. 3101282</td>\n",
       "      <td>7.9250</td>\n",
       "      <td>NaN</td>\n",
       "      <td>S</td>\n",
       "    </tr>\n",
       "    <tr>\n",
       "      <th>3</th>\n",
       "      <td>4</td>\n",
       "      <td>1</td>\n",
       "      <td>1</td>\n",
       "      <td>Futrelle, Mrs. Jacques Heath (Lily May Peel)</td>\n",
       "      <td>female</td>\n",
       "      <td>35.0</td>\n",
       "      <td>1</td>\n",
       "      <td>0</td>\n",
       "      <td>113803</td>\n",
       "      <td>53.1000</td>\n",
       "      <td>C123</td>\n",
       "      <td>S</td>\n",
       "    </tr>\n",
       "    <tr>\n",
       "      <th>4</th>\n",
       "      <td>5</td>\n",
       "      <td>0</td>\n",
       "      <td>3</td>\n",
       "      <td>Allen, Mr. William Henry</td>\n",
       "      <td>male</td>\n",
       "      <td>35.0</td>\n",
       "      <td>0</td>\n",
       "      <td>0</td>\n",
       "      <td>373450</td>\n",
       "      <td>8.0500</td>\n",
       "      <td>NaN</td>\n",
       "      <td>S</td>\n",
       "    </tr>\n",
       "    <tr>\n",
       "      <th>...</th>\n",
       "      <td>...</td>\n",
       "      <td>...</td>\n",
       "      <td>...</td>\n",
       "      <td>...</td>\n",
       "      <td>...</td>\n",
       "      <td>...</td>\n",
       "      <td>...</td>\n",
       "      <td>...</td>\n",
       "      <td>...</td>\n",
       "      <td>...</td>\n",
       "      <td>...</td>\n",
       "      <td>...</td>\n",
       "    </tr>\n",
       "    <tr>\n",
       "      <th>886</th>\n",
       "      <td>887</td>\n",
       "      <td>0</td>\n",
       "      <td>2</td>\n",
       "      <td>Montvila, Rev. Juozas</td>\n",
       "      <td>male</td>\n",
       "      <td>27.0</td>\n",
       "      <td>0</td>\n",
       "      <td>0</td>\n",
       "      <td>211536</td>\n",
       "      <td>13.0000</td>\n",
       "      <td>NaN</td>\n",
       "      <td>S</td>\n",
       "    </tr>\n",
       "    <tr>\n",
       "      <th>887</th>\n",
       "      <td>888</td>\n",
       "      <td>1</td>\n",
       "      <td>1</td>\n",
       "      <td>Graham, Miss. Margaret Edith</td>\n",
       "      <td>female</td>\n",
       "      <td>19.0</td>\n",
       "      <td>0</td>\n",
       "      <td>0</td>\n",
       "      <td>112053</td>\n",
       "      <td>30.0000</td>\n",
       "      <td>B42</td>\n",
       "      <td>S</td>\n",
       "    </tr>\n",
       "    <tr>\n",
       "      <th>888</th>\n",
       "      <td>889</td>\n",
       "      <td>0</td>\n",
       "      <td>3</td>\n",
       "      <td>Johnston, Miss. Catherine Helen \"Carrie\"</td>\n",
       "      <td>female</td>\n",
       "      <td>NaN</td>\n",
       "      <td>1</td>\n",
       "      <td>2</td>\n",
       "      <td>W./C. 6607</td>\n",
       "      <td>23.4500</td>\n",
       "      <td>NaN</td>\n",
       "      <td>S</td>\n",
       "    </tr>\n",
       "    <tr>\n",
       "      <th>889</th>\n",
       "      <td>890</td>\n",
       "      <td>1</td>\n",
       "      <td>1</td>\n",
       "      <td>Behr, Mr. Karl Howell</td>\n",
       "      <td>male</td>\n",
       "      <td>26.0</td>\n",
       "      <td>0</td>\n",
       "      <td>0</td>\n",
       "      <td>111369</td>\n",
       "      <td>30.0000</td>\n",
       "      <td>C148</td>\n",
       "      <td>C</td>\n",
       "    </tr>\n",
       "    <tr>\n",
       "      <th>890</th>\n",
       "      <td>891</td>\n",
       "      <td>0</td>\n",
       "      <td>3</td>\n",
       "      <td>Dooley, Mr. Patrick</td>\n",
       "      <td>male</td>\n",
       "      <td>32.0</td>\n",
       "      <td>0</td>\n",
       "      <td>0</td>\n",
       "      <td>370376</td>\n",
       "      <td>7.7500</td>\n",
       "      <td>NaN</td>\n",
       "      <td>Q</td>\n",
       "    </tr>\n",
       "  </tbody>\n",
       "</table>\n",
       "<p>891 rows × 12 columns</p>\n",
       "</div>"
      ],
      "text/plain": [
       "     PassengerId  Survived  Pclass  \\\n",
       "0              1         0       3   \n",
       "1              2         1       1   \n",
       "2              3         1       3   \n",
       "3              4         1       1   \n",
       "4              5         0       3   \n",
       "..           ...       ...     ...   \n",
       "886          887         0       2   \n",
       "887          888         1       1   \n",
       "888          889         0       3   \n",
       "889          890         1       1   \n",
       "890          891         0       3   \n",
       "\n",
       "                                                  Name     Sex   Age  SibSp  \\\n",
       "0                              Braund, Mr. Owen Harris    male  22.0      1   \n",
       "1    Cumings, Mrs. John Bradley (Florence Briggs Th...  female  38.0      1   \n",
       "2                               Heikkinen, Miss. Laina  female  26.0      0   \n",
       "3         Futrelle, Mrs. Jacques Heath (Lily May Peel)  female  35.0      1   \n",
       "4                             Allen, Mr. William Henry    male  35.0      0   \n",
       "..                                                 ...     ...   ...    ...   \n",
       "886                              Montvila, Rev. Juozas    male  27.0      0   \n",
       "887                       Graham, Miss. Margaret Edith  female  19.0      0   \n",
       "888           Johnston, Miss. Catherine Helen \"Carrie\"  female   NaN      1   \n",
       "889                              Behr, Mr. Karl Howell    male  26.0      0   \n",
       "890                                Dooley, Mr. Patrick    male  32.0      0   \n",
       "\n",
       "     Parch            Ticket     Fare Cabin Embarked  \n",
       "0        0         A/5 21171   7.2500   NaN        S  \n",
       "1        0          PC 17599  71.2833   C85        C  \n",
       "2        0  STON/O2. 3101282   7.9250   NaN        S  \n",
       "3        0            113803  53.1000  C123        S  \n",
       "4        0            373450   8.0500   NaN        S  \n",
       "..     ...               ...      ...   ...      ...  \n",
       "886      0            211536  13.0000   NaN        S  \n",
       "887      0            112053  30.0000   B42        S  \n",
       "888      2        W./C. 6607  23.4500   NaN        S  \n",
       "889      0            111369  30.0000  C148        C  \n",
       "890      0            370376   7.7500   NaN        Q  \n",
       "\n",
       "[891 rows x 12 columns]"
      ]
     },
     "execution_count": 3,
     "metadata": {},
     "output_type": "execute_result"
    }
   ],
   "source": [
    "train_data"
   ]
  },
  {
   "cell_type": "markdown",
   "id": "6fa2af38",
   "metadata": {},
   "source": [
    "### Data Exploretion:"
   ]
  },
  {
   "cell_type": "code",
   "execution_count": 4,
   "id": "83894fef",
   "metadata": {},
   "outputs": [
    {
     "data": {
      "text/plain": [
       "(891, 12)"
      ]
     },
     "execution_count": 4,
     "metadata": {},
     "output_type": "execute_result"
    }
   ],
   "source": [
    "train_data.shape"
   ]
  },
  {
   "cell_type": "markdown",
   "id": "0798c6b0",
   "metadata": {},
   "source": [
    "Basic Stats For Numerical Data:"
   ]
  },
  {
   "cell_type": "code",
   "execution_count": 5,
   "id": "d22508ef",
   "metadata": {
    "scrolled": true
   },
   "outputs": [
    {
     "data": {
      "text/html": [
       "<div>\n",
       "<style scoped>\n",
       "    .dataframe tbody tr th:only-of-type {\n",
       "        vertical-align: middle;\n",
       "    }\n",
       "\n",
       "    .dataframe tbody tr th {\n",
       "        vertical-align: top;\n",
       "    }\n",
       "\n",
       "    .dataframe thead th {\n",
       "        text-align: right;\n",
       "    }\n",
       "</style>\n",
       "<table border=\"1\" class=\"dataframe\">\n",
       "  <thead>\n",
       "    <tr style=\"text-align: right;\">\n",
       "      <th></th>\n",
       "      <th>PassengerId</th>\n",
       "      <th>Survived</th>\n",
       "      <th>Pclass</th>\n",
       "      <th>Age</th>\n",
       "      <th>SibSp</th>\n",
       "      <th>Parch</th>\n",
       "      <th>Fare</th>\n",
       "    </tr>\n",
       "  </thead>\n",
       "  <tbody>\n",
       "    <tr>\n",
       "      <th>count</th>\n",
       "      <td>891.000000</td>\n",
       "      <td>891.000000</td>\n",
       "      <td>891.000000</td>\n",
       "      <td>714.000000</td>\n",
       "      <td>891.000000</td>\n",
       "      <td>891.000000</td>\n",
       "      <td>891.000000</td>\n",
       "    </tr>\n",
       "    <tr>\n",
       "      <th>mean</th>\n",
       "      <td>446.000000</td>\n",
       "      <td>0.383838</td>\n",
       "      <td>2.308642</td>\n",
       "      <td>29.699118</td>\n",
       "      <td>0.523008</td>\n",
       "      <td>0.381594</td>\n",
       "      <td>32.204208</td>\n",
       "    </tr>\n",
       "    <tr>\n",
       "      <th>std</th>\n",
       "      <td>257.353842</td>\n",
       "      <td>0.486592</td>\n",
       "      <td>0.836071</td>\n",
       "      <td>14.526497</td>\n",
       "      <td>1.102743</td>\n",
       "      <td>0.806057</td>\n",
       "      <td>49.693429</td>\n",
       "    </tr>\n",
       "    <tr>\n",
       "      <th>min</th>\n",
       "      <td>1.000000</td>\n",
       "      <td>0.000000</td>\n",
       "      <td>1.000000</td>\n",
       "      <td>0.420000</td>\n",
       "      <td>0.000000</td>\n",
       "      <td>0.000000</td>\n",
       "      <td>0.000000</td>\n",
       "    </tr>\n",
       "    <tr>\n",
       "      <th>25%</th>\n",
       "      <td>223.500000</td>\n",
       "      <td>0.000000</td>\n",
       "      <td>2.000000</td>\n",
       "      <td>20.125000</td>\n",
       "      <td>0.000000</td>\n",
       "      <td>0.000000</td>\n",
       "      <td>7.910400</td>\n",
       "    </tr>\n",
       "    <tr>\n",
       "      <th>50%</th>\n",
       "      <td>446.000000</td>\n",
       "      <td>0.000000</td>\n",
       "      <td>3.000000</td>\n",
       "      <td>28.000000</td>\n",
       "      <td>0.000000</td>\n",
       "      <td>0.000000</td>\n",
       "      <td>14.454200</td>\n",
       "    </tr>\n",
       "    <tr>\n",
       "      <th>75%</th>\n",
       "      <td>668.500000</td>\n",
       "      <td>1.000000</td>\n",
       "      <td>3.000000</td>\n",
       "      <td>38.000000</td>\n",
       "      <td>1.000000</td>\n",
       "      <td>0.000000</td>\n",
       "      <td>31.000000</td>\n",
       "    </tr>\n",
       "    <tr>\n",
       "      <th>max</th>\n",
       "      <td>891.000000</td>\n",
       "      <td>1.000000</td>\n",
       "      <td>3.000000</td>\n",
       "      <td>80.000000</td>\n",
       "      <td>8.000000</td>\n",
       "      <td>6.000000</td>\n",
       "      <td>512.329200</td>\n",
       "    </tr>\n",
       "  </tbody>\n",
       "</table>\n",
       "</div>"
      ],
      "text/plain": [
       "       PassengerId    Survived      Pclass         Age       SibSp  \\\n",
       "count   891.000000  891.000000  891.000000  714.000000  891.000000   \n",
       "mean    446.000000    0.383838    2.308642   29.699118    0.523008   \n",
       "std     257.353842    0.486592    0.836071   14.526497    1.102743   \n",
       "min       1.000000    0.000000    1.000000    0.420000    0.000000   \n",
       "25%     223.500000    0.000000    2.000000   20.125000    0.000000   \n",
       "50%     446.000000    0.000000    3.000000   28.000000    0.000000   \n",
       "75%     668.500000    1.000000    3.000000   38.000000    1.000000   \n",
       "max     891.000000    1.000000    3.000000   80.000000    8.000000   \n",
       "\n",
       "            Parch        Fare  \n",
       "count  891.000000  891.000000  \n",
       "mean     0.381594   32.204208  \n",
       "std      0.806057   49.693429  \n",
       "min      0.000000    0.000000  \n",
       "25%      0.000000    7.910400  \n",
       "50%      0.000000   14.454200  \n",
       "75%      0.000000   31.000000  \n",
       "max      6.000000  512.329200  "
      ]
     },
     "execution_count": 5,
     "metadata": {},
     "output_type": "execute_result"
    }
   ],
   "source": [
    "train_data.describe()"
   ]
  },
  {
   "cell_type": "markdown",
   "id": "1cc0b741",
   "metadata": {},
   "source": [
    "Obesrvation:As we see There is a Imbalnce Data `Survived`,`pclass`,`Age`,`SibSp`,`Parch`,`Fare`"
   ]
  },
  {
   "cell_type": "code",
   "execution_count": 6,
   "id": "47453b8a",
   "metadata": {},
   "outputs": [
    {
     "name": "stdout",
     "output_type": "stream",
     "text": [
      "<class 'pandas.core.frame.DataFrame'>\n",
      "RangeIndex: 891 entries, 0 to 890\n",
      "Data columns (total 12 columns):\n",
      " #   Column       Non-Null Count  Dtype  \n",
      "---  ------       --------------  -----  \n",
      " 0   PassengerId  891 non-null    int64  \n",
      " 1   Survived     891 non-null    int64  \n",
      " 2   Pclass       891 non-null    int64  \n",
      " 3   Name         891 non-null    object \n",
      " 4   Sex          891 non-null    object \n",
      " 5   Age          714 non-null    float64\n",
      " 6   SibSp        891 non-null    int64  \n",
      " 7   Parch        891 non-null    int64  \n",
      " 8   Ticket       891 non-null    object \n",
      " 9   Fare         891 non-null    float64\n",
      " 10  Cabin        204 non-null    object \n",
      " 11  Embarked     889 non-null    object \n",
      "dtypes: float64(2), int64(5), object(5)\n",
      "memory usage: 83.7+ KB\n"
     ]
    }
   ],
   "source": [
    "train_data.info()"
   ]
  },
  {
   "cell_type": "markdown",
   "id": "fae7a250",
   "metadata": {},
   "source": [
    "Observation: As we see There are  `int64`,`float64`,and Object Datatypes And Also i got Null Values in the Data"
   ]
  },
  {
   "cell_type": "markdown",
   "id": "034bbe4f",
   "metadata": {},
   "source": [
    "### Missing Values:\n",
    "Checking For Missing Values By Using `isnull()`"
   ]
  },
  {
   "cell_type": "code",
   "execution_count": 7,
   "id": "655de5e9",
   "metadata": {},
   "outputs": [
    {
     "data": {
      "text/plain": [
       "PassengerId      0\n",
       "Survived         0\n",
       "Pclass           0\n",
       "Name             0\n",
       "Sex              0\n",
       "Age            177\n",
       "SibSp            0\n",
       "Parch            0\n",
       "Ticket           0\n",
       "Fare             0\n",
       "Cabin          687\n",
       "Embarked         2\n",
       "dtype: int64"
      ]
     },
     "execution_count": 7,
     "metadata": {},
     "output_type": "execute_result"
    }
   ],
   "source": [
    "train_data.isnull().sum()"
   ]
  },
  {
   "cell_type": "markdown",
   "id": "201ba1f8",
   "metadata": {},
   "source": [
    "Observation: There Are 177 in `Age`, 687 in `Cabin` and 2 in `Embarked` Null Values"
   ]
  },
  {
   "cell_type": "markdown",
   "id": "7cc8a8d1",
   "metadata": {},
   "source": [
    "Heat Map To Highlight Missing Value"
   ]
  },
  {
   "cell_type": "code",
   "execution_count": 8,
   "id": "942104fc",
   "metadata": {
    "execution": {
     "iopub.execute_input": "2022-04-11T05:11:43.011613Z",
     "iopub.status.busy": "2022-04-11T05:11:43.011235Z",
     "iopub.status.idle": "2022-04-11T05:11:43.283471Z",
     "shell.execute_reply": "2022-04-11T05:11:43.281033Z",
     "shell.execute_reply.started": "2022-04-11T05:11:43.011585Z"
    }
   },
   "outputs": [
    {
     "data": {
      "text/plain": [
       "<Axes: >"
      ]
     },
     "execution_count": 8,
     "metadata": {},
     "output_type": "execute_result"
    },
    {
     "data": {
      "image/png": "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",
      "text/plain": [
       "<Figure size 1100x800 with 1 Axes>"
      ]
     },
     "metadata": {},
     "output_type": "display_data"
    }
   ],
   "source": [
    "sns.set(rc={'figure.figsize':(11,8)})\n",
    "sns.heatmap(train_data.isnull(),yticklabels=False,cbar=False,cmap=\"winter\")"
   ]
  },
  {
   "cell_type": "markdown",
   "id": "4ab133f9",
   "metadata": {},
   "source": [
    "<a id=\"6.3\"></a> <br>\n",
    "### 6.3 Heat Map"
   ]
  },
  {
   "cell_type": "markdown",
   "id": "9fa84523",
   "metadata": {},
   "source": [
    "* Heat Map To check correlation between numerical features"
   ]
  },
  {
   "cell_type": "code",
   "execution_count": 9,
   "id": "f8e3d2c6",
   "metadata": {
    "execution": {
     "iopub.execute_input": "2022-04-11T05:11:42.40974Z",
     "iopub.status.busy": "2022-04-11T05:11:42.409376Z",
     "iopub.status.idle": "2022-04-11T05:11:42.423731Z",
     "shell.execute_reply": "2022-04-11T05:11:42.4232Z",
     "shell.execute_reply.started": "2022-04-11T05:11:42.409693Z"
    }
   },
   "outputs": [],
   "source": [
    "train_data_num_col = train_data.select_dtypes(exclude=['object']).columns\n",
    "train_data_num = train_data[train_data_num_col]"
   ]
  },
  {
   "cell_type": "code",
   "execution_count": 10,
   "id": "01b58ad3",
   "metadata": {
    "execution": {
     "iopub.execute_input": "2022-04-11T05:11:42.426592Z",
     "iopub.status.busy": "2022-04-11T05:11:42.42622Z",
     "iopub.status.idle": "2022-04-11T05:11:42.992765Z",
     "shell.execute_reply": "2022-04-11T05:11:42.991956Z",
     "shell.execute_reply.started": "2022-04-11T05:11:42.426566Z"
    }
   },
   "outputs": [
    {
     "data": {
      "image/png": "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",
      "text/plain": [
       "<Figure size 1000x500 with 2 Axes>"
      ]
     },
     "metadata": {},
     "output_type": "display_data"
    }
   ],
   "source": [
    "plt.figure(figsize=(10, 5))\n",
    "sns.heatmap(train_data_num.corr(), annot=True, cmap='PuRd');"
   ]
  },
  {
   "cell_type": "code",
   "execution_count": 11,
   "id": "295f3e50",
   "metadata": {
    "execution": {
     "iopub.execute_input": "2022-04-11T05:11:42.994766Z",
     "iopub.status.busy": "2022-04-11T05:11:42.99428Z",
     "iopub.status.idle": "2022-04-11T05:11:43.010037Z",
     "shell.execute_reply": "2022-04-11T05:11:43.009391Z",
     "shell.execute_reply.started": "2022-04-11T05:11:42.994724Z"
    }
   },
   "outputs": [
    {
     "data": {
      "text/html": [
       "<div>\n",
       "<style scoped>\n",
       "    .dataframe tbody tr th:only-of-type {\n",
       "        vertical-align: middle;\n",
       "    }\n",
       "\n",
       "    .dataframe tbody tr th {\n",
       "        vertical-align: top;\n",
       "    }\n",
       "\n",
       "    .dataframe thead th {\n",
       "        text-align: right;\n",
       "    }\n",
       "</style>\n",
       "<table border=\"1\" class=\"dataframe\">\n",
       "  <thead>\n",
       "    <tr style=\"text-align: right;\">\n",
       "      <th></th>\n",
       "      <th>Survived</th>\n",
       "    </tr>\n",
       "  </thead>\n",
       "  <tbody>\n",
       "    <tr>\n",
       "      <th>PassengerId</th>\n",
       "      <td>0.005007</td>\n",
       "    </tr>\n",
       "    <tr>\n",
       "      <th>Survived</th>\n",
       "      <td>1.000000</td>\n",
       "    </tr>\n",
       "    <tr>\n",
       "      <th>Pclass</th>\n",
       "      <td>0.338481</td>\n",
       "    </tr>\n",
       "    <tr>\n",
       "      <th>Age</th>\n",
       "      <td>0.077221</td>\n",
       "    </tr>\n",
       "    <tr>\n",
       "      <th>SibSp</th>\n",
       "      <td>0.035322</td>\n",
       "    </tr>\n",
       "    <tr>\n",
       "      <th>Parch</th>\n",
       "      <td>0.081629</td>\n",
       "    </tr>\n",
       "    <tr>\n",
       "      <th>Fare</th>\n",
       "      <td>0.257307</td>\n",
       "    </tr>\n",
       "  </tbody>\n",
       "</table>\n",
       "</div>"
      ],
      "text/plain": [
       "             Survived\n",
       "PassengerId  0.005007\n",
       "Survived     1.000000\n",
       "Pclass       0.338481\n",
       "Age          0.077221\n",
       "SibSp        0.035322\n",
       "Parch        0.081629\n",
       "Fare         0.257307"
      ]
     },
     "execution_count": 11,
     "metadata": {},
     "output_type": "execute_result"
    }
   ],
   "source": [
    "correlation = abs(pd.DataFrame(train_data_num.corr().Survived))\n",
    "correlation"
   ]
  },
  {
   "cell_type": "markdown",
   "id": "c52f31cc",
   "metadata": {},
   "source": [
    "<a id=\"6.4\"></a> <br>\n",
    "### 6.4 Verifing Unique Values"
   ]
  },
  {
   "cell_type": "markdown",
   "id": "c7c2cd5e",
   "metadata": {},
   "source": [
    "As per data dictionary of dataset following column have unique discrete values\n",
    "1. survival - 0 = No, 1 = Yes\n",
    "1. pclass - 1 = 1st, 2 = 2nd, 3 = 3rd\n",
    "1. embarked - C = Cherbourg, Q = Queenstown, S = Southampton"
   ]
  },
  {
   "cell_type": "markdown",
   "id": "2093a35d",
   "metadata": {},
   "source": [
    "* Verifying unique value of survival"
   ]
  },
  {
   "cell_type": "code",
   "execution_count": 12,
   "id": "d7bdb4cd",
   "metadata": {
    "execution": {
     "iopub.execute_input": "2022-04-11T05:11:43.285012Z",
     "iopub.status.busy": "2022-04-11T05:11:43.284798Z",
     "iopub.status.idle": "2022-04-11T05:11:43.293649Z",
     "shell.execute_reply": "2022-04-11T05:11:43.292734Z",
     "shell.execute_reply.started": "2022-04-11T05:11:43.284988Z"
    }
   },
   "outputs": [
    {
     "data": {
      "text/plain": [
       "0    549\n",
       "1    342\n",
       "Name: Survived, dtype: int64"
      ]
     },
     "execution_count": 12,
     "metadata": {},
     "output_type": "execute_result"
    }
   ],
   "source": [
    "train_data['Survived'].value_counts()"
   ]
  },
  {
   "cell_type": "code",
   "execution_count": 13,
   "id": "873f4e5f",
   "metadata": {
    "execution": {
     "iopub.execute_input": "2022-04-11T05:11:43.296626Z",
     "iopub.status.busy": "2022-04-11T05:11:43.296423Z",
     "iopub.status.idle": "2022-04-11T05:11:43.305119Z",
     "shell.execute_reply": "2022-04-11T05:11:43.304556Z",
     "shell.execute_reply.started": "2022-04-11T05:11:43.296596Z"
    }
   },
   "outputs": [
    {
     "data": {
      "text/plain": [
       "3    491\n",
       "1    216\n",
       "2    184\n",
       "Name: Pclass, dtype: int64"
      ]
     },
     "execution_count": 13,
     "metadata": {},
     "output_type": "execute_result"
    }
   ],
   "source": [
    "train_data['Pclass'].value_counts()"
   ]
  },
  {
   "cell_type": "markdown",
   "id": "7eb77bb5",
   "metadata": {},
   "source": [
    "* Verifying unique value of Embarked"
   ]
  },
  {
   "cell_type": "code",
   "execution_count": 14,
   "id": "ab40b029",
   "metadata": {
    "execution": {
     "iopub.execute_input": "2022-04-11T05:11:43.306741Z",
     "iopub.status.busy": "2022-04-11T05:11:43.30607Z",
     "iopub.status.idle": "2022-04-11T05:11:43.3197Z",
     "shell.execute_reply": "2022-04-11T05:11:43.318873Z",
     "shell.execute_reply.started": "2022-04-11T05:11:43.30671Z"
    }
   },
   "outputs": [
    {
     "data": {
      "text/plain": [
       "S    644\n",
       "C    168\n",
       "Q     77\n",
       "Name: Embarked, dtype: int64"
      ]
     },
     "execution_count": 14,
     "metadata": {},
     "output_type": "execute_result"
    }
   ],
   "source": [
    "train_data['Embarked'].value_counts()"
   ]
  },
  {
   "cell_type": "markdown",
   "id": "50a23b41",
   "metadata": {},
   "source": [
    "There is no mismatch in the unique value provided in the dataset. The number aganist each unique value represents number of records belonging to that particular category."
   ]
  },
  {
   "cell_type": "markdown",
   "id": "cda2bb00",
   "metadata": {},
   "source": [
    "<a id=\"6.5\"></a> <br>\n",
    "### 6.5 Visual Representation of Target based on features"
   ]
  },
  {
   "cell_type": "markdown",
   "id": "dd2824b7",
   "metadata": {},
   "source": [
    "* Survival Vs Demise"
   ]
  },
  {
   "cell_type": "code",
   "execution_count": 15,
   "id": "37defc8b",
   "metadata": {
    "execution": {
     "iopub.execute_input": "2022-04-11T05:11:43.321172Z",
     "iopub.status.busy": "2022-04-11T05:11:43.320937Z",
     "iopub.status.idle": "2022-04-11T05:11:43.447404Z",
     "shell.execute_reply": "2022-04-11T05:11:43.446579Z",
     "shell.execute_reply.started": "2022-04-11T05:11:43.321134Z"
    }
   },
   "outputs": [
    {
     "data": {
      "image/png": "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",
      "text/plain": [
       "<Figure size 1000x300 with 1 Axes>"
      ]
     },
     "metadata": {},
     "output_type": "display_data"
    }
   ],
   "source": [
    "plt.figure(figsize=(10, 3))\n",
    "sns.countplot(x = \"Survived\",data=train_data, palette=\"tab10\")\n",
    "plt.show()"
   ]
  },
  {
   "cell_type": "markdown",
   "id": "841ca0c6",
   "metadata": {},
   "source": [
    "<div style=\"color:white;\n",
    "           display:fill;\n",
    "           border-radius:5px;\n",
    "           background-color:#1645C5;\n",
    "           font-size:110%;\n",
    "           font-family:Times New Roman;\n",
    "           letter-spacing:0.5px\">\n",
    "\n",
    "<p style=\"padding: 10px;\n",
    "              color:white;\">\n",
    "From the above visual plot of training set, it is clear that number of person survived is less than number of person demise.</p>\n",
    "</div>"
   ]
  },
  {
   "cell_type": "markdown",
   "id": "8f8df266",
   "metadata": {},
   "source": [
    "* Survival based on sex"
   ]
  },
  {
   "cell_type": "code",
   "execution_count": 16,
   "id": "a07328f5",
   "metadata": {
    "execution": {
     "iopub.execute_input": "2022-04-11T05:11:43.449769Z",
     "iopub.status.busy": "2022-04-11T05:11:43.448761Z",
     "iopub.status.idle": "2022-04-11T05:11:43.802895Z",
     "shell.execute_reply": "2022-04-11T05:11:43.801927Z",
     "shell.execute_reply.started": "2022-04-11T05:11:43.449727Z"
    },
    "scrolled": false
   },
   "outputs": [
    {
     "data": {
      "text/plain": [
       "<Figure size 1000x300 with 0 Axes>"
      ]
     },
     "metadata": {},
     "output_type": "display_data"
    },
    {
     "data": {
      "image/png": "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",
      "text/plain": [
       "<Figure size 1000x500 with 2 Axes>"
      ]
     },
     "metadata": {},
     "output_type": "display_data"
    }
   ],
   "source": [
    "plt.figure(figsize=(10, 3))\n",
    "sns.catplot(x='Survived', col='Sex', kind='count', data=train_data,palette=\"tab10\");\n",
    "plt.show()"
   ]
  },
  {
   "cell_type": "markdown",
   "id": "3ed99dd2",
   "metadata": {},
   "source": [
    "<div style=\"color:white;\n",
    "           display:fill;\n",
    "           border-radius:5px;\n",
    "           background-color:#006989;\n",
    "           font-size:110%;\n",
    "           font-family:Times New Roman;\n",
    "           letter-spacing:0.5px\">\n",
    "\n",
    "<p style=\"padding: 10px;\n",
    "              color:white;\">\n",
    "Above visual states, most people who didnot survive are much more likely to be male and people who survived are much likely to be female.</p>\n",
    "</div>\n"
   ]
  },
  {
   "cell_type": "markdown",
   "id": "7b8970ac",
   "metadata": {},
   "source": [
    "* Survival based on Pclass - Passenger Class"
   ]
  },
  {
   "cell_type": "code",
   "execution_count": 17,
   "id": "84047349",
   "metadata": {
    "execution": {
     "iopub.execute_input": "2022-04-11T05:11:43.804314Z",
     "iopub.status.busy": "2022-04-11T05:11:43.804073Z",
     "iopub.status.idle": "2022-04-11T05:11:44.452124Z",
     "shell.execute_reply": "2022-04-11T05:11:44.451301Z",
     "shell.execute_reply.started": "2022-04-11T05:11:43.804287Z"
    }
   },
   "outputs": [
    {
     "data": {
      "text/plain": [
       "<Figure size 1000x300 with 0 Axes>"
      ]
     },
     "metadata": {},
     "output_type": "display_data"
    },
    {
     "data": {
      "image/png": "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",
      "text/plain": [
       "<Figure size 1500x500 with 3 Axes>"
      ]
     },
     "metadata": {},
     "output_type": "display_data"
    }
   ],
   "source": [
    "plt.figure(figsize=(10, 3))\n",
    "sns.catplot(x='Survived', col='Pclass', kind='count', data=train_data,palette=\"tab10\");\n",
    "plt.show()"
   ]
  },
  {
   "cell_type": "markdown",
   "id": "e440f9a9",
   "metadata": {},
   "source": [
    "<div style=\"color:white;\n",
    "           display:fill;\n",
    "           border-radius:5px;\n",
    "           background-color:#006989;\n",
    "           font-size:110%;\n",
    "           font-family:Times New Roman;\n",
    "           letter-spacing:0.5px\">\n",
    "\n",
    "<p style=\"padding: 10px;\n",
    "              color:white;\">\n",
    "Above plot indicates. people not survived belong to passenger class 3 or cheapest ticket class.</p>\n",
    "</div>"
   ]
  },
  {
   "cell_type": "markdown",
   "id": "e7a389fb",
   "metadata": {},
   "source": [
    "* Survival based on Pclass and Sex"
   ]
  },
  {
   "cell_type": "code",
   "execution_count": 18,
   "id": "1601ae34",
   "metadata": {
    "execution": {
     "iopub.execute_input": "2022-04-11T05:11:44.454044Z",
     "iopub.status.busy": "2022-04-11T05:11:44.453407Z",
     "iopub.status.idle": "2022-04-11T05:11:45.089227Z",
     "shell.execute_reply": "2022-04-11T05:11:45.088266Z",
     "shell.execute_reply.started": "2022-04-11T05:11:44.454002Z"
    }
   },
   "outputs": [
    {
     "data": {
      "text/plain": [
       "<Figure size 1000x300 with 0 Axes>"
      ]
     },
     "metadata": {},
     "output_type": "display_data"
    },
    {
     "data": {
      "image/png": "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",
      "text/plain": [
       "<Figure size 1601.12x500 with 3 Axes>"
      ]
     },
     "metadata": {},
     "output_type": "display_data"
    }
   ],
   "source": [
    "plt.figure(figsize=(10, 3))\n",
    "sns.set_style('whitegrid')\n",
    "sns.catplot(x='Survived', col='Pclass', hue = 'Sex', kind='count', data=train_data,palette=\"tab10\");\n",
    "plt.show()"
   ]
  },
  {
   "cell_type": "markdown",
   "id": "6ea90b39",
   "metadata": {},
   "source": [
    "<div style=\"color:white;\n",
    "           display:fill;\n",
    "           border-radius:5px;\n",
    "           background-color:#006989;\n",
    "           font-size:110%;\n",
    "           font-family:Times New Roman;\n",
    "           letter-spacing:0.5px\">\n",
    "\n",
    "<p style=\"padding: 10px;\n",
    "              color:white;\">\n",
    "Above plot gives a deeper picture of people not survived. \n",
    "    \n",
    "PClass 3 - The Majority of male and half of female crowd could not make up to survive.\n",
    "    \n",
    "PClass 2 and 1 - Almost all who did not survive are male.\n",
    "    \n",
    "    </p>\n",
    "</div>"
   ]
  },
  {
   "cell_type": "markdown",
   "id": "f353ffdd",
   "metadata": {},
   "source": [
    "* Survival based on Embarked "
   ]
  },
  {
   "cell_type": "code",
   "execution_count": 19,
   "id": "a826cd22",
   "metadata": {
    "execution": {
     "iopub.execute_input": "2022-04-11T05:11:45.090662Z",
     "iopub.status.busy": "2022-04-11T05:11:45.09043Z",
     "iopub.status.idle": "2022-04-11T05:11:45.643942Z",
     "shell.execute_reply": "2022-04-11T05:11:45.642988Z",
     "shell.execute_reply.started": "2022-04-11T05:11:45.090635Z"
    }
   },
   "outputs": [
    {
     "data": {
      "text/plain": [
       "<Figure size 1000x300 with 0 Axes>"
      ]
     },
     "metadata": {},
     "output_type": "display_data"
    },
    {
     "data": {
      "image/png": "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",
      "text/plain": [
       "<Figure size 1500x500 with 3 Axes>"
      ]
     },
     "metadata": {},
     "output_type": "display_data"
    }
   ],
   "source": [
    "plt.figure(figsize=(10, 3))\n",
    "sns.set_style('whitegrid')\n",
    "sns.catplot(x='Survived', col='Embarked', kind='count', data=train_data,palette=\"tab10\");\n",
    "plt.show()"
   ]
  },
  {
   "cell_type": "markdown",
   "id": "b1f834ea",
   "metadata": {},
   "source": [
    "<div style=\"color:white;\n",
    "           display:fill;\n",
    "           border-radius:5px;\n",
    "           background-color:#006989;\n",
    "           font-size:110%;\n",
    "           font-family:Times New Roman;\n",
    "           letter-spacing:0.5px\">\n",
    "\n",
    "<p style=\"padding: 10px;\n",
    "              color:white;\">\n",
    "Majority of people boarded from Southampton port could not survive. Already we have seen people in 3rd Class could not survive. So we have check relation between Pclass and Embarked\n",
    "\n",
    "    </p>\n",
    "</div>"
   ]
  },
  {
   "cell_type": "markdown",
   "id": "d907648e",
   "metadata": {},
   "source": [
    "* Survival based on Embarked and Pclass"
   ]
  },
  {
   "cell_type": "code",
   "execution_count": 20,
   "id": "78964801",
   "metadata": {
    "execution": {
     "iopub.execute_input": "2022-04-11T05:11:45.645317Z",
     "iopub.status.busy": "2022-04-11T05:11:45.64506Z",
     "iopub.status.idle": "2022-04-11T05:11:46.388518Z",
     "shell.execute_reply": "2022-04-11T05:11:46.387704Z",
     "shell.execute_reply.started": "2022-04-11T05:11:45.645288Z"
    }
   },
   "outputs": [
    {
     "data": {
      "text/plain": [
       "<Figure size 1000x300 with 0 Axes>"
      ]
     },
     "metadata": {},
     "output_type": "display_data"
    },
    {
     "data": {
      "image/png": "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",
      "text/plain": [
       "<Figure size 1563.5x500 with 3 Axes>"
      ]
     },
     "metadata": {},
     "output_type": "display_data"
    }
   ],
   "source": [
    "plt.figure(figsize=(10, 3))\n",
    "sns.set_style('whitegrid')\n",
    "sns.catplot(x='Survived', col='Embarked', hue = 'Pclass', kind='count', data=train_data,palette=\"tab10\");\n",
    "plt.show()"
   ]
  },
  {
   "cell_type": "markdown",
   "id": "1193237a",
   "metadata": {},
   "source": [
    "<div style=\"color:white;\n",
    "           display:fill;\n",
    "           border-radius:5px;\n",
    "           background-color:#006989;\n",
    "           font-size:110%;\n",
    "           font-family:Times New Roman;\n",
    "           letter-spacing:0.5px\">\n",
    "\n",
    "<p style=\"padding: 10px;\n",
    "              color:white;\">\n",
    "Embarked S - Majority of people died belong to PClass  3.\n",
    "Embarked C - Here Pclass 2 has less death compared to other 2 class, still Pclass 3 has majority of death. But when compared to Embarked C infact it is much much less.\n",
    "Embarked Q - Here Pclass 3 only have death rate.\n",
    "\n",
    "    </p>\n",
    "</div>"
   ]
  },
  {
   "cell_type": "markdown",
   "id": "5bb591d7",
   "metadata": {},
   "source": [
    "* Survival based on Fare"
   ]
  },
  {
   "cell_type": "code",
   "execution_count": 21,
   "id": "0ccc1ef5",
   "metadata": {
    "execution": {
     "iopub.execute_input": "2022-04-11T05:11:46.390502Z",
     "iopub.status.busy": "2022-04-11T05:11:46.389819Z",
     "iopub.status.idle": "2022-04-11T05:11:46.9396Z",
     "shell.execute_reply": "2022-04-11T05:11:46.938826Z",
     "shell.execute_reply.started": "2022-04-11T05:11:46.390471Z"
    },
    "scrolled": true
   },
   "outputs": [
    {
     "data": {
      "text/plain": [
       "<seaborn.axisgrid.FacetGrid at 0x29ebfbc4f50>"
      ]
     },
     "execution_count": 21,
     "metadata": {},
     "output_type": "execute_result"
    },
    {
     "data": {
      "image/png": "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",
      "text/plain": [
       "<Figure size 577.472x500 with 1 Axes>"
      ]
     },
     "metadata": {},
     "output_type": "display_data"
    }
   ],
   "source": [
    "sns.displot(data=train_data, x=\"Fare\",hue='Survived',kind ='kde')"
   ]
  },
  {
   "cell_type": "markdown",
   "id": "f37eeafe",
   "metadata": {},
   "source": [
    "<div style=\"color:white;\n",
    "           display:fill;\n",
    "           border-radius:5px;\n",
    "           background-color:#006989;\n",
    "           font-size:110%;\n",
    "           font-family:Times New Roman;\n",
    "           letter-spacing:0.5px\">\n",
    "\n",
    "<p style=\"padding: 10px;\n",
    "              color:white;\">\n",
    "The Maximum of people who could not survive were those who bought the ticket with low fare.\n",
    "    </p>\n",
    "</div>"
   ]
  },
  {
   "cell_type": "markdown",
   "id": "3d4ab532",
   "metadata": {},
   "source": [
    "<a id=\"6.6\"></a> <br>\n",
    "### 6.6 Statistical Analysis of Target based on features"
   ]
  },
  {
   "cell_type": "markdown",
   "id": "8994b9f0",
   "metadata": {},
   "source": [
    "* Survival based on Sex"
   ]
  },
  {
   "cell_type": "code",
   "execution_count": 22,
   "id": "605edb75",
   "metadata": {
    "execution": {
     "iopub.execute_input": "2022-04-11T05:11:46.941058Z",
     "iopub.status.busy": "2022-04-11T05:11:46.940777Z",
     "iopub.status.idle": "2022-04-11T05:11:47.015873Z",
     "shell.execute_reply": "2022-04-11T05:11:47.015125Z",
     "shell.execute_reply.started": "2022-04-11T05:11:46.941026Z"
    }
   },
   "outputs": [
    {
     "data": {
      "text/html": [
       "<style type=\"text/css\">\n",
       "#T_51d24_row0_col0, #T_51d24_row1_col1 {\n",
       "  background-color: #8dd3c7;\n",
       "  color: #000000;\n",
       "}\n",
       "#T_51d24_row0_col1, #T_51d24_row1_col0 {\n",
       "  background-color: #ffed6f;\n",
       "  color: #000000;\n",
       "}\n",
       "</style>\n",
       "<table id=\"T_51d24\">\n",
       "  <thead>\n",
       "    <tr>\n",
       "      <th class=\"index_name level0\" >Survived</th>\n",
       "      <th id=\"T_51d24_level0_col0\" class=\"col_heading level0 col0\" >0</th>\n",
       "      <th id=\"T_51d24_level0_col1\" class=\"col_heading level0 col1\" >1</th>\n",
       "    </tr>\n",
       "    <tr>\n",
       "      <th class=\"index_name level0\" >Sex</th>\n",
       "      <th class=\"blank col0\" >&nbsp;</th>\n",
       "      <th class=\"blank col1\" >&nbsp;</th>\n",
       "    </tr>\n",
       "  </thead>\n",
       "  <tbody>\n",
       "    <tr>\n",
       "      <th id=\"T_51d24_level0_row0\" class=\"row_heading level0 row0\" >female</th>\n",
       "      <td id=\"T_51d24_row0_col0\" class=\"data row0 col0\" >0.257962</td>\n",
       "      <td id=\"T_51d24_row0_col1\" class=\"data row0 col1\" >0.742038</td>\n",
       "    </tr>\n",
       "    <tr>\n",
       "      <th id=\"T_51d24_level0_row1\" class=\"row_heading level0 row1\" >male</th>\n",
       "      <td id=\"T_51d24_row1_col0\" class=\"data row1 col0\" >0.811092</td>\n",
       "      <td id=\"T_51d24_row1_col1\" class=\"data row1 col1\" >0.188908</td>\n",
       "    </tr>\n",
       "  </tbody>\n",
       "</table>\n"
      ],
      "text/plain": [
       "<pandas.io.formats.style.Styler at 0x29ec00bd290>"
      ]
     },
     "execution_count": 22,
     "metadata": {},
     "output_type": "execute_result"
    }
   ],
   "source": [
    "pd.crosstab(train_data.Sex,train_data.Survived,normalize = \"index\" ).style.background_gradient(cmap='Set3')"
   ]
  },
  {
   "cell_type": "markdown",
   "id": "aa27f184",
   "metadata": {},
   "source": [
    "<div style=\"color:white;\n",
    "           display:fill;\n",
    "           border-radius:5px;\n",
    "           background-color:#006989;\n",
    "           font-size:110%;\n",
    "           font-family:Times New Roman;\n",
    "           letter-spacing:0.5px\">\n",
    "\n",
    "<p style=\"padding: 10px;\n",
    "              color:white;\">\n",
    "Out of total females traveled 74.2% of them could survive but  only 18.9% of total male traveled could survive.\n",
    "\n",
    "    </p>\n",
    "</div>"
   ]
  },
  {
   "cell_type": "markdown",
   "id": "25aae31c",
   "metadata": {},
   "source": [
    "* Survival based on Pclass"
   ]
  },
  {
   "cell_type": "code",
   "execution_count": 23,
   "id": "fed76a28",
   "metadata": {
    "execution": {
     "iopub.execute_input": "2022-04-11T05:11:47.017101Z",
     "iopub.status.busy": "2022-04-11T05:11:47.016871Z",
     "iopub.status.idle": "2022-04-11T05:11:47.041804Z",
     "shell.execute_reply": "2022-04-11T05:11:47.041121Z",
     "shell.execute_reply.started": "2022-04-11T05:11:47.017077Z"
    },
    "scrolled": true
   },
   "outputs": [
    {
     "data": {
      "text/html": [
       "<style type=\"text/css\">\n",
       "#T_c19b4_row0_col0, #T_c19b4_row2_col1 {\n",
       "  background-color: #66c2a5;\n",
       "  color: #000000;\n",
       "}\n",
       "#T_c19b4_row0_col1, #T_c19b4_row2_col0 {\n",
       "  background-color: #b3b3b3;\n",
       "  color: #000000;\n",
       "}\n",
       "#T_c19b4_row1_col0 {\n",
       "  background-color: #e78ac3;\n",
       "  color: #f1f1f1;\n",
       "}\n",
       "#T_c19b4_row1_col1 {\n",
       "  background-color: #a6d854;\n",
       "  color: #000000;\n",
       "}\n",
       "</style>\n",
       "<table id=\"T_c19b4\">\n",
       "  <thead>\n",
       "    <tr>\n",
       "      <th class=\"index_name level0\" >Survived</th>\n",
       "      <th id=\"T_c19b4_level0_col0\" class=\"col_heading level0 col0\" >0</th>\n",
       "      <th id=\"T_c19b4_level0_col1\" class=\"col_heading level0 col1\" >1</th>\n",
       "    </tr>\n",
       "    <tr>\n",
       "      <th class=\"index_name level0\" >Pclass</th>\n",
       "      <th class=\"blank col0\" >&nbsp;</th>\n",
       "      <th class=\"blank col1\" >&nbsp;</th>\n",
       "    </tr>\n",
       "  </thead>\n",
       "  <tbody>\n",
       "    <tr>\n",
       "      <th id=\"T_c19b4_level0_row0\" class=\"row_heading level0 row0\" >1</th>\n",
       "      <td id=\"T_c19b4_row0_col0\" class=\"data row0 col0\" >0.370370</td>\n",
       "      <td id=\"T_c19b4_row0_col1\" class=\"data row0 col1\" >0.629630</td>\n",
       "    </tr>\n",
       "    <tr>\n",
       "      <th id=\"T_c19b4_level0_row1\" class=\"row_heading level0 row1\" >2</th>\n",
       "      <td id=\"T_c19b4_row1_col0\" class=\"data row1 col0\" >0.527174</td>\n",
       "      <td id=\"T_c19b4_row1_col1\" class=\"data row1 col1\" >0.472826</td>\n",
       "    </tr>\n",
       "    <tr>\n",
       "      <th id=\"T_c19b4_level0_row2\" class=\"row_heading level0 row2\" >3</th>\n",
       "      <td id=\"T_c19b4_row2_col0\" class=\"data row2 col0\" >0.757637</td>\n",
       "      <td id=\"T_c19b4_row2_col1\" class=\"data row2 col1\" >0.242363</td>\n",
       "    </tr>\n",
       "  </tbody>\n",
       "</table>\n"
      ],
      "text/plain": [
       "<pandas.io.formats.style.Styler at 0x29ebf903b90>"
      ]
     },
     "execution_count": 23,
     "metadata": {},
     "output_type": "execute_result"
    }
   ],
   "source": [
    "pd.crosstab(train_data.Pclass,train_data.Survived,normalize = \"index\" ).style.background_gradient(cmap='Set2')"
   ]
  },
  {
   "cell_type": "markdown",
   "id": "da0ad6b2",
   "metadata": {},
   "source": [
    "<div style=\"color:white;\n",
    "           display:fill;\n",
    "           border-radius:5px;\n",
    "           background-color:#006989;\n",
    "           font-size:110%;\n",
    "           font-family:Times New Roman;\n",
    "           letter-spacing:0.5px\">\n",
    "\n",
    "<p style=\"padding: 10px;\n",
    "              color:white;\">\n",
    "Statistical analysis of survival based on Pclass shows, 62.96% of PClass 1 could survive, and 47.28% of Pclass2 could survive and 24.24% of PClass3 could survive. \n",
    "\n",
    "    </p>\n",
    "</div>"
   ]
  },
  {
   "cell_type": "markdown",
   "id": "0ace7b2e",
   "metadata": {},
   "source": [
    "* Survival based on Embarked"
   ]
  },
  {
   "cell_type": "code",
   "execution_count": 24,
   "id": "da4c9e4b",
   "metadata": {
    "execution": {
     "iopub.execute_input": "2022-04-11T05:11:47.043065Z",
     "iopub.status.busy": "2022-04-11T05:11:47.042773Z",
     "iopub.status.idle": "2022-04-11T05:11:47.066671Z",
     "shell.execute_reply": "2022-04-11T05:11:47.065849Z",
     "shell.execute_reply.started": "2022-04-11T05:11:47.043041Z"
    }
   },
   "outputs": [
    {
     "data": {
      "text/html": [
       "<style type=\"text/css\">\n",
       "#T_244e9_row0_col0, #T_244e9_row2_col1 {\n",
       "  background-color: #e41a1c;\n",
       "  color: #f1f1f1;\n",
       "}\n",
       "#T_244e9_row0_col1, #T_244e9_row2_col0 {\n",
       "  background-color: #999999;\n",
       "  color: #f1f1f1;\n",
       "}\n",
       "#T_244e9_row1_col0 {\n",
       "  background-color: #a65628;\n",
       "  color: #f1f1f1;\n",
       "}\n",
       "#T_244e9_row1_col1 {\n",
       "  background-color: #4daf4a;\n",
       "  color: #f1f1f1;\n",
       "}\n",
       "</style>\n",
       "<table id=\"T_244e9\">\n",
       "  <thead>\n",
       "    <tr>\n",
       "      <th class=\"index_name level0\" >Survived</th>\n",
       "      <th id=\"T_244e9_level0_col0\" class=\"col_heading level0 col0\" >0</th>\n",
       "      <th id=\"T_244e9_level0_col1\" class=\"col_heading level0 col1\" >1</th>\n",
       "    </tr>\n",
       "    <tr>\n",
       "      <th class=\"index_name level0\" >Embarked</th>\n",
       "      <th class=\"blank col0\" >&nbsp;</th>\n",
       "      <th class=\"blank col1\" >&nbsp;</th>\n",
       "    </tr>\n",
       "  </thead>\n",
       "  <tbody>\n",
       "    <tr>\n",
       "      <th id=\"T_244e9_level0_row0\" class=\"row_heading level0 row0\" >C</th>\n",
       "      <td id=\"T_244e9_row0_col0\" class=\"data row0 col0\" >0.446429</td>\n",
       "      <td id=\"T_244e9_row0_col1\" class=\"data row0 col1\" >0.553571</td>\n",
       "    </tr>\n",
       "    <tr>\n",
       "      <th id=\"T_244e9_level0_row1\" class=\"row_heading level0 row1\" >Q</th>\n",
       "      <td id=\"T_244e9_row1_col0\" class=\"data row1 col0\" >0.610390</td>\n",
       "      <td id=\"T_244e9_row1_col1\" class=\"data row1 col1\" >0.389610</td>\n",
       "    </tr>\n",
       "    <tr>\n",
       "      <th id=\"T_244e9_level0_row2\" class=\"row_heading level0 row2\" >S</th>\n",
       "      <td id=\"T_244e9_row2_col0\" class=\"data row2 col0\" >0.663043</td>\n",
       "      <td id=\"T_244e9_row2_col1\" class=\"data row2 col1\" >0.336957</td>\n",
       "    </tr>\n",
       "  </tbody>\n",
       "</table>\n"
      ],
      "text/plain": [
       "<pandas.io.formats.style.Styler at 0x29ec06c2610>"
      ]
     },
     "execution_count": 24,
     "metadata": {},
     "output_type": "execute_result"
    }
   ],
   "source": [
    "pd.crosstab(train_data.Embarked,train_data.Survived,normalize = \"index\" ).style.background_gradient(cmap='Set1')"
   ]
  },
  {
   "cell_type": "markdown",
   "id": "29252130",
   "metadata": {},
   "source": [
    "<div style=\"color:white;\n",
    "           display:fill;\n",
    "           border-radius:5px;\n",
    "           background-color:#006989;\n",
    "           font-size:110%;\n",
    "           font-family:Times New Roman;\n",
    "           letter-spacing:0.5px\">\n",
    "\n",
    "<p style=\"padding: 10px;\n",
    "              color:white;\">\n",
    "Statistical analysis of survival based on Embarked shows, 55.36% of Embarked C could survive, and 38.96% of Embarked Q could survive and 33.7% of Embarked s could survive. \n",
    "\n",
    "    </p>\n",
    "</div>"
   ]
  },
  {
   "cell_type": "markdown",
   "id": "72247138",
   "metadata": {},
   "source": [
    "<a id=\"6.7\"></a> <br>\n",
    "### 6.7 Visual Representation of features "
   ]
  },
  {
   "cell_type": "markdown",
   "id": "eafd5efa",
   "metadata": {},
   "source": [
    "* Visual representation of age"
   ]
  },
  {
   "cell_type": "code",
   "execution_count": 25,
   "id": "00b0d253",
   "metadata": {
    "execution": {
     "iopub.execute_input": "2022-04-11T05:11:47.067908Z",
     "iopub.status.busy": "2022-04-11T05:11:47.067711Z",
     "iopub.status.idle": "2022-04-11T05:11:47.404019Z",
     "shell.execute_reply": "2022-04-11T05:11:47.403238Z",
     "shell.execute_reply.started": "2022-04-11T05:11:47.067886Z"
    }
   },
   "outputs": [
    {
     "data": {
      "text/plain": [
       "<Axes: xlabel='Age', ylabel='Count'>"
      ]
     },
     "execution_count": 25,
     "metadata": {},
     "output_type": "execute_result"
    },
    {
     "data": {
      "image/png": "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",
      "text/plain": [
       "<Figure size 1000x300 with 1 Axes>"
      ]
     },
     "metadata": {},
     "output_type": "display_data"
    }
   ],
   "source": [
    "plt.figure(figsize=(10, 3))\n",
    "sns.histplot(train_data['Age'].dropna(),kde=True,color='blue',bins=30)"
   ]
  },
  {
   "cell_type": "markdown",
   "id": "d27a1bfb",
   "metadata": {},
   "source": [
    "Age distribution visualisation, clearly shows skew towards younger passengers. "
   ]
  },
  {
   "cell_type": "markdown",
   "id": "c0e611cd",
   "metadata": {},
   "source": [
    "If more details of age group is to be seen, we can use cufflinks."
   ]
  },
  {
   "cell_type": "code",
   "execution_count": 26,
   "id": "b2ab1044",
   "metadata": {
    "execution": {
     "iopub.execute_input": "2022-04-11T05:11:47.405369Z",
     "iopub.status.busy": "2022-04-11T05:11:47.40515Z",
     "iopub.status.idle": "2022-04-11T05:11:48.131916Z",
     "shell.execute_reply": "2022-04-11T05:11:48.1312Z",
     "shell.execute_reply.started": "2022-04-11T05:11:47.405346Z"
    },
    "scrolled": true
   },
   "outputs": [
    {
     "data": {
      "text/html": [
       "        <script type=\"text/javascript\">\n",
       "        window.PlotlyConfig = {MathJaxConfig: 'local'};\n",
       "        if (window.MathJax && window.MathJax.Hub && window.MathJax.Hub.Config) {window.MathJax.Hub.Config({SVG: {font: \"STIX-Web\"}});}\n",
       "        if (typeof require !== 'undefined') {\n",
       "        require.undef(\"plotly\");\n",
       "        requirejs.config({\n",
       "            paths: {\n",
       "                'plotly': ['https://cdn.plot.ly/plotly-2.32.0.min']\n",
       "            }\n",
       "        });\n",
       "        require(['plotly'], function(Plotly) {\n",
       "            window._Plotly = Plotly;\n",
       "        });\n",
       "        }\n",
       "        </script>\n",
       "        "
      ]
     },
     "metadata": {},
     "output_type": "display_data"
    },
    {
     "data": {
      "application/vnd.plotly.v1+json": {
       "config": {
        "linkText": "Export to plot.ly",
        "plotlyServerURL": "https://plot.ly",
        "showLink": true
       },
       "data": [
        {
         "histfunc": "count",
         "histnorm": "",
         "marker": {
          "color": "rgba(255, 153, 51, 1.0)",
          "line": {
           "color": "#4D5663",
           "width": 1.3
          }
         },
         "name": "Age",
         "nbinsx": 35,
         "opacity": 0.8,
         "orientation": "v",
         "type": "histogram",
         "x": [
          22,
          38,
          26,
          35,
          35,
          null,
          54,
          2,
          27,
          14,
          4,
          58,
          20,
          39,
          14,
          55,
          2,
          null,
          31,
          null,
          35,
          34,
          15,
          28,
          8,
          38,
          null,
          19,
          null,
          null,
          40,
          null,
          null,
          66,
          28,
          42,
          null,
          21,
          18,
          14,
          40,
          27,
          null,
          3,
          19,
          null,
          null,
          null,
          null,
          18,
          7,
          21,
          49,
          29,
          65,
          null,
          21,
          28.5,
          5,
          11,
          22,
          38,
          45,
          4,
          null,
          null,
          29,
          19,
          17,
          26,
          32,
          16,
          21,
          26,
          32,
          25,
          null,
          null,
          0.83,
          30,
          22,
          29,
          null,
          28,
          17,
          33,
          16,
          null,
          23,
          24,
          29,
          20,
          46,
          26,
          59,
          null,
          71,
          23,
          34,
          34,
          28,
          null,
          21,
          33,
          37,
          28,
          21,
          null,
          38,
          null,
          47,
          14.5,
          22,
          20,
          17,
          21,
          70.5,
          29,
          24,
          2,
          21,
          null,
          32.5,
          32.5,
          54,
          12,
          null,
          24,
          null,
          45,
          33,
          20,
          47,
          29,
          25,
          23,
          19,
          37,
          16,
          24,
          null,
          22,
          24,
          19,
          18,
          19,
          27,
          9,
          36.5,
          42,
          51,
          22,
          55.5,
          40.5,
          null,
          51,
          16,
          30,
          null,
          null,
          44,
          40,
          26,
          17,
          1,
          9,
          null,
          45,
          null,
          28,
          61,
          4,
          1,
          21,
          56,
          18,
          null,
          50,
          30,
          36,
          null,
          null,
          9,
          1,
          4,
          null,
          null,
          45,
          40,
          36,
          32,
          19,
          19,
          3,
          44,
          58,
          null,
          42,
          null,
          24,
          28,
          null,
          34,
          45.5,
          18,
          2,
          32,
          26,
          16,
          40,
          24,
          35,
          22,
          30,
          null,
          31,
          27,
          42,
          32,
          30,
          16,
          27,
          51,
          null,
          38,
          22,
          19,
          20.5,
          18,
          null,
          35,
          29,
          59,
          5,
          24,
          null,
          44,
          8,
          19,
          33,
          null,
          null,
          29,
          22,
          30,
          44,
          25,
          24,
          37,
          54,
          null,
          29,
          62,
          30,
          41,
          29,
          null,
          30,
          35,
          50,
          null,
          3,
          52,
          40,
          null,
          36,
          16,
          25,
          58,
          35,
          null,
          25,
          41,
          37,
          null,
          63,
          45,
          null,
          7,
          35,
          65,
          28,
          16,
          19,
          null,
          33,
          30,
          22,
          42,
          22,
          26,
          19,
          36,
          24,
          24,
          null,
          23.5,
          2,
          null,
          50,
          null,
          null,
          19,
          null,
          null,
          0.92,
          null,
          17,
          30,
          30,
          24,
          18,
          26,
          28,
          43,
          26,
          24,
          54,
          31,
          40,
          22,
          27,
          30,
          22,
          null,
          36,
          61,
          36,
          31,
          16,
          null,
          45.5,
          38,
          16,
          null,
          null,
          29,
          41,
          45,
          45,
          2,
          24,
          28,
          25,
          36,
          24,
          40,
          null,
          3,
          42,
          23,
          null,
          15,
          25,
          null,
          28,
          22,
          38,
          null,
          null,
          40,
          29,
          45,
          35,
          null,
          30,
          60,
          null,
          null,
          24,
          25,
          18,
          19,
          22,
          3,
          null,
          22,
          27,
          20,
          19,
          42,
          1,
          32,
          35,
          null,
          18,
          1,
          36,
          null,
          17,
          36,
          21,
          28,
          23,
          24,
          22,
          31,
          46,
          23,
          28,
          39,
          26,
          21,
          28,
          20,
          34,
          51,
          3,
          21,
          null,
          null,
          null,
          33,
          null,
          44,
          null,
          34,
          18,
          30,
          10,
          null,
          21,
          29,
          28,
          18,
          null,
          28,
          19,
          null,
          32,
          28,
          null,
          42,
          17,
          50,
          14,
          21,
          24,
          64,
          31,
          45,
          20,
          25,
          28,
          null,
          4,
          13,
          34,
          5,
          52,
          36,
          null,
          30,
          49,
          null,
          29,
          65,
          null,
          50,
          null,
          48,
          34,
          47,
          48,
          null,
          38,
          null,
          56,
          null,
          0.75,
          null,
          38,
          33,
          23,
          22,
          null,
          34,
          29,
          22,
          2,
          9,
          null,
          50,
          63,
          25,
          null,
          35,
          58,
          30,
          9,
          null,
          21,
          55,
          71,
          21,
          null,
          54,
          null,
          25,
          24,
          17,
          21,
          null,
          37,
          16,
          18,
          33,
          null,
          28,
          26,
          29,
          null,
          36,
          54,
          24,
          47,
          34,
          null,
          36,
          32,
          30,
          22,
          null,
          44,
          null,
          40.5,
          50,
          null,
          39,
          23,
          2,
          null,
          17,
          null,
          30,
          7,
          45,
          30,
          null,
          22,
          36,
          9,
          11,
          32,
          50,
          64,
          19,
          null,
          33,
          8,
          17,
          27,
          null,
          22,
          22,
          62,
          48,
          null,
          39,
          36,
          null,
          40,
          28,
          null,
          null,
          24,
          19,
          29,
          null,
          32,
          62,
          53,
          36,
          null,
          16,
          19,
          34,
          39,
          null,
          32,
          25,
          39,
          54,
          36,
          null,
          18,
          47,
          60,
          22,
          null,
          35,
          52,
          47,
          null,
          37,
          36,
          null,
          49,
          null,
          49,
          24,
          null,
          null,
          44,
          35,
          36,
          30,
          27,
          22,
          40,
          39,
          null,
          null,
          null,
          35,
          24,
          34,
          26,
          4,
          26,
          27,
          42,
          20,
          21,
          21,
          61,
          57,
          21,
          26,
          null,
          80,
          51,
          32,
          null,
          9,
          28,
          32,
          31,
          41,
          null,
          20,
          24,
          2,
          null,
          0.75,
          48,
          19,
          56,
          null,
          23,
          null,
          18,
          21,
          null,
          18,
          24,
          null,
          32,
          23,
          58,
          50,
          40,
          47,
          36,
          20,
          32,
          25,
          null,
          43,
          null,
          40,
          31,
          70,
          31,
          null,
          18,
          24.5,
          18,
          43,
          36,
          null,
          27,
          20,
          14,
          60,
          25,
          14,
          19,
          18,
          15,
          31,
          4,
          null,
          25,
          60,
          52,
          44,
          null,
          49,
          42,
          18,
          35,
          18,
          25,
          26,
          39,
          45,
          42,
          22,
          null,
          24,
          null,
          48,
          29,
          52,
          19,
          38,
          27,
          null,
          33,
          6,
          17,
          34,
          50,
          27,
          20,
          30,
          null,
          25,
          25,
          29,
          11,
          null,
          23,
          23,
          28.5,
          48,
          35,
          null,
          null,
          null,
          36,
          21,
          24,
          31,
          70,
          16,
          30,
          19,
          31,
          4,
          6,
          33,
          23,
          48,
          0.67,
          28,
          18,
          34,
          33,
          null,
          41,
          20,
          36,
          16,
          51,
          null,
          30.5,
          null,
          32,
          24,
          48,
          57,
          null,
          54,
          18,
          null,
          5,
          null,
          43,
          13,
          17,
          29,
          null,
          25,
          25,
          18,
          8,
          1,
          46,
          null,
          16,
          null,
          null,
          25,
          39,
          49,
          31,
          30,
          30,
          34,
          31,
          11,
          0.42,
          27,
          31,
          39,
          18,
          39,
          33,
          26,
          39,
          35,
          6,
          30.5,
          null,
          23,
          31,
          43,
          10,
          52,
          27,
          38,
          27,
          2,
          null,
          null,
          1,
          null,
          62,
          15,
          0.83,
          null,
          23,
          18,
          39,
          21,
          null,
          32,
          null,
          20,
          16,
          30,
          34.5,
          17,
          42,
          null,
          35,
          28,
          null,
          4,
          74,
          9,
          16,
          44,
          18,
          45,
          51,
          24,
          null,
          41,
          21,
          48,
          null,
          24,
          42,
          27,
          31,
          null,
          4,
          26,
          47,
          33,
          47,
          28,
          15,
          20,
          19,
          null,
          56,
          25,
          33,
          22,
          28,
          25,
          39,
          27,
          19,
          null,
          26,
          32
         ]
        }
       ],
       "layout": {
        "barmode": "overlay",
        "legend": {
         "bgcolor": "#F5F6F9",
         "font": {
          "color": "#4D5663"
         }
        },
        "paper_bgcolor": "#F5F6F9",
        "plot_bgcolor": "#F5F6F9",
        "template": {
         "data": {
          "bar": [
           {
            "error_x": {
             "color": "#2a3f5f"
            },
            "error_y": {
             "color": "#2a3f5f"
            },
            "marker": {
             "line": {
              "color": "#E5ECF6",
              "width": 0.5
             },
             "pattern": {
              "fillmode": "overlay",
              "size": 10,
              "solidity": 0.2
             }
            },
            "type": "bar"
           }
          ],
          "barpolar": [
           {
            "marker": {
             "line": {
              "color": "#E5ECF6",
              "width": 0.5
             },
             "pattern": {
              "fillmode": "overlay",
              "size": 10,
              "solidity": 0.2
             }
            },
            "type": "barpolar"
           }
          ],
          "carpet": [
           {
            "aaxis": {
             "endlinecolor": "#2a3f5f",
             "gridcolor": "white",
             "linecolor": "white",
             "minorgridcolor": "white",
             "startlinecolor": "#2a3f5f"
            },
            "baxis": {
             "endlinecolor": "#2a3f5f",
             "gridcolor": "white",
             "linecolor": "white",
             "minorgridcolor": "white",
             "startlinecolor": "#2a3f5f"
            },
            "type": "carpet"
           }
          ],
          "choropleth": [
           {
            "colorbar": {
             "outlinewidth": 0,
             "ticks": ""
            },
            "type": "choropleth"
           }
          ],
          "contour": [
           {
            "colorbar": {
             "outlinewidth": 0,
             "ticks": ""
            },
            "colorscale": [
             [
              0,
              "#0d0887"
             ],
             [
              0.1111111111111111,
              "#46039f"
             ],
             [
              0.2222222222222222,
              "#7201a8"
             ],
             [
              0.3333333333333333,
              "#9c179e"
             ],
             [
              0.4444444444444444,
              "#bd3786"
             ],
             [
              0.5555555555555556,
              "#d8576b"
             ],
             [
              0.6666666666666666,
              "#ed7953"
             ],
             [
              0.7777777777777778,
              "#fb9f3a"
             ],
             [
              0.8888888888888888,
              "#fdca26"
             ],
             [
              1,
              "#f0f921"
             ]
            ],
            "type": "contour"
           }
          ],
          "contourcarpet": [
           {
            "colorbar": {
             "outlinewidth": 0,
             "ticks": ""
            },
            "type": "contourcarpet"
           }
          ],
          "heatmap": [
           {
            "colorbar": {
             "outlinewidth": 0,
             "ticks": ""
            },
            "colorscale": [
             [
              0,
              "#0d0887"
             ],
             [
              0.1111111111111111,
              "#46039f"
             ],
             [
              0.2222222222222222,
              "#7201a8"
             ],
             [
              0.3333333333333333,
              "#9c179e"
             ],
             [
              0.4444444444444444,
              "#bd3786"
             ],
             [
              0.5555555555555556,
              "#d8576b"
             ],
             [
              0.6666666666666666,
              "#ed7953"
             ],
             [
              0.7777777777777778,
              "#fb9f3a"
             ],
             [
              0.8888888888888888,
              "#fdca26"
             ],
             [
              1,
              "#f0f921"
             ]
            ],
            "type": "heatmap"
           }
          ],
          "heatmapgl": [
           {
            "colorbar": {
             "outlinewidth": 0,
             "ticks": ""
            },
            "colorscale": [
             [
              0,
              "#0d0887"
             ],
             [
              0.1111111111111111,
              "#46039f"
             ],
             [
              0.2222222222222222,
              "#7201a8"
             ],
             [
              0.3333333333333333,
              "#9c179e"
             ],
             [
              0.4444444444444444,
              "#bd3786"
             ],
             [
              0.5555555555555556,
              "#d8576b"
             ],
             [
              0.6666666666666666,
              "#ed7953"
             ],
             [
              0.7777777777777778,
              "#fb9f3a"
             ],
             [
              0.8888888888888888,
              "#fdca26"
             ],
             [
              1,
              "#f0f921"
             ]
            ],
            "type": "heatmapgl"
           }
          ],
          "histogram": [
           {
            "marker": {
             "pattern": {
              "fillmode": "overlay",
              "size": 10,
              "solidity": 0.2
             }
            },
            "type": "histogram"
           }
          ],
          "histogram2d": [
           {
            "colorbar": {
             "outlinewidth": 0,
             "ticks": ""
            },
            "colorscale": [
             [
              0,
              "#0d0887"
             ],
             [
              0.1111111111111111,
              "#46039f"
             ],
             [
              0.2222222222222222,
              "#7201a8"
             ],
             [
              0.3333333333333333,
              "#9c179e"
             ],
             [
              0.4444444444444444,
              "#bd3786"
             ],
             [
              0.5555555555555556,
              "#d8576b"
             ],
             [
              0.6666666666666666,
              "#ed7953"
             ],
             [
              0.7777777777777778,
              "#fb9f3a"
             ],
             [
              0.8888888888888888,
              "#fdca26"
             ],
             [
              1,
              "#f0f921"
             ]
            ],
            "type": "histogram2d"
           }
          ],
          "histogram2dcontour": [
           {
            "colorbar": {
             "outlinewidth": 0,
             "ticks": ""
            },
            "colorscale": [
             [
              0,
              "#0d0887"
             ],
             [
              0.1111111111111111,
              "#46039f"
             ],
             [
              0.2222222222222222,
              "#7201a8"
             ],
             [
              0.3333333333333333,
              "#9c179e"
             ],
             [
              0.4444444444444444,
              "#bd3786"
             ],
             [
              0.5555555555555556,
              "#d8576b"
             ],
             [
              0.6666666666666666,
              "#ed7953"
             ],
             [
              0.7777777777777778,
              "#fb9f3a"
             ],
             [
              0.8888888888888888,
              "#fdca26"
             ],
             [
              1,
              "#f0f921"
             ]
            ],
            "type": "histogram2dcontour"
           }
          ],
          "mesh3d": [
           {
            "colorbar": {
             "outlinewidth": 0,
             "ticks": ""
            },
            "type": "mesh3d"
           }
          ],
          "parcoords": [
           {
            "line": {
             "colorbar": {
              "outlinewidth": 0,
              "ticks": ""
             }
            },
            "type": "parcoords"
           }
          ],
          "pie": [
           {
            "automargin": true,
            "type": "pie"
           }
          ],
          "scatter": [
           {
            "fillpattern": {
             "fillmode": "overlay",
             "size": 10,
             "solidity": 0.2
            },
            "type": "scatter"
           }
          ],
          "scatter3d": [
           {
            "line": {
             "colorbar": {
              "outlinewidth": 0,
              "ticks": ""
             }
            },
            "marker": {
             "colorbar": {
              "outlinewidth": 0,
              "ticks": ""
             }
            },
            "type": "scatter3d"
           }
          ],
          "scattercarpet": [
           {
            "marker": {
             "colorbar": {
              "outlinewidth": 0,
              "ticks": ""
             }
            },
            "type": "scattercarpet"
           }
          ],
          "scattergeo": [
           {
            "marker": {
             "colorbar": {
              "outlinewidth": 0,
              "ticks": ""
             }
            },
            "type": "scattergeo"
           }
          ],
          "scattergl": [
           {
            "marker": {
             "colorbar": {
              "outlinewidth": 0,
              "ticks": ""
             }
            },
            "type": "scattergl"
           }
          ],
          "scattermapbox": [
           {
            "marker": {
             "colorbar": {
              "outlinewidth": 0,
              "ticks": ""
             }
            },
            "type": "scattermapbox"
           }
          ],
          "scatterpolar": [
           {
            "marker": {
             "colorbar": {
              "outlinewidth": 0,
              "ticks": ""
             }
            },
            "type": "scatterpolar"
           }
          ],
          "scatterpolargl": [
           {
            "marker": {
             "colorbar": {
              "outlinewidth": 0,
              "ticks": ""
             }
            },
            "type": "scatterpolargl"
           }
          ],
          "scatterternary": [
           {
            "marker": {
             "colorbar": {
              "outlinewidth": 0,
              "ticks": ""
             }
            },
            "type": "scatterternary"
           }
          ],
          "surface": [
           {
            "colorbar": {
             "outlinewidth": 0,
             "ticks": ""
            },
            "colorscale": [
             [
              0,
              "#0d0887"
             ],
             [
              0.1111111111111111,
              "#46039f"
             ],
             [
              0.2222222222222222,
              "#7201a8"
             ],
             [
              0.3333333333333333,
              "#9c179e"
             ],
             [
              0.4444444444444444,
              "#bd3786"
             ],
             [
              0.5555555555555556,
              "#d8576b"
             ],
             [
              0.6666666666666666,
              "#ed7953"
             ],
             [
              0.7777777777777778,
              "#fb9f3a"
             ],
             [
              0.8888888888888888,
              "#fdca26"
             ],
             [
              1,
              "#f0f921"
             ]
            ],
            "type": "surface"
           }
          ],
          "table": [
           {
            "cells": {
             "fill": {
              "color": "#EBF0F8"
             },
             "line": {
              "color": "white"
             }
            },
            "header": {
             "fill": {
              "color": "#C8D4E3"
             },
             "line": {
              "color": "white"
             }
            },
            "type": "table"
           }
          ]
         },
         "layout": {
          "annotationdefaults": {
           "arrowcolor": "#2a3f5f",
           "arrowhead": 0,
           "arrowwidth": 1
          },
          "autotypenumbers": "strict",
          "coloraxis": {
           "colorbar": {
            "outlinewidth": 0,
            "ticks": ""
           }
          },
          "colorscale": {
           "diverging": [
            [
             0,
             "#8e0152"
            ],
            [
             0.1,
             "#c51b7d"
            ],
            [
             0.2,
             "#de77ae"
            ],
            [
             0.3,
             "#f1b6da"
            ],
            [
             0.4,
             "#fde0ef"
            ],
            [
             0.5,
             "#f7f7f7"
            ],
            [
             0.6,
             "#e6f5d0"
            ],
            [
             0.7,
             "#b8e186"
            ],
            [
             0.8,
             "#7fbc41"
            ],
            [
             0.9,
             "#4d9221"
            ],
            [
             1,
             "#276419"
            ]
           ],
           "sequential": [
            [
             0,
             "#0d0887"
            ],
            [
             0.1111111111111111,
             "#46039f"
            ],
            [
             0.2222222222222222,
             "#7201a8"
            ],
            [
             0.3333333333333333,
             "#9c179e"
            ],
            [
             0.4444444444444444,
             "#bd3786"
            ],
            [
             0.5555555555555556,
             "#d8576b"
            ],
            [
             0.6666666666666666,
             "#ed7953"
            ],
            [
             0.7777777777777778,
             "#fb9f3a"
            ],
            [
             0.8888888888888888,
             "#fdca26"
            ],
            [
             1,
             "#f0f921"
            ]
           ],
           "sequentialminus": [
            [
             0,
             "#0d0887"
            ],
            [
             0.1111111111111111,
             "#46039f"
            ],
            [
             0.2222222222222222,
             "#7201a8"
            ],
            [
             0.3333333333333333,
             "#9c179e"
            ],
            [
             0.4444444444444444,
             "#bd3786"
            ],
            [
             0.5555555555555556,
             "#d8576b"
            ],
            [
             0.6666666666666666,
             "#ed7953"
            ],
            [
             0.7777777777777778,
             "#fb9f3a"
            ],
            [
             0.8888888888888888,
             "#fdca26"
            ],
            [
             1,
             "#f0f921"
            ]
           ]
          },
          "colorway": [
           "#636efa",
           "#EF553B",
           "#00cc96",
           "#ab63fa",
           "#FFA15A",
           "#19d3f3",
           "#FF6692",
           "#B6E880",
           "#FF97FF",
           "#FECB52"
          ],
          "font": {
           "color": "#2a3f5f"
          },
          "geo": {
           "bgcolor": "white",
           "lakecolor": "white",
           "landcolor": "#E5ECF6",
           "showlakes": true,
           "showland": true,
           "subunitcolor": "white"
          },
          "hoverlabel": {
           "align": "left"
          },
          "hovermode": "closest",
          "mapbox": {
           "style": "light"
          },
          "paper_bgcolor": "white",
          "plot_bgcolor": "#E5ECF6",
          "polar": {
           "angularaxis": {
            "gridcolor": "white",
            "linecolor": "white",
            "ticks": ""
           },
           "bgcolor": "#E5ECF6",
           "radialaxis": {
            "gridcolor": "white",
            "linecolor": "white",
            "ticks": ""
           }
          },
          "scene": {
           "xaxis": {
            "backgroundcolor": "#E5ECF6",
            "gridcolor": "white",
            "gridwidth": 2,
            "linecolor": "white",
            "showbackground": true,
            "ticks": "",
            "zerolinecolor": "white"
           },
           "yaxis": {
            "backgroundcolor": "#E5ECF6",
            "gridcolor": "white",
            "gridwidth": 2,
            "linecolor": "white",
            "showbackground": true,
            "ticks": "",
            "zerolinecolor": "white"
           },
           "zaxis": {
            "backgroundcolor": "#E5ECF6",
            "gridcolor": "white",
            "gridwidth": 2,
            "linecolor": "white",
            "showbackground": true,
            "ticks": "",
            "zerolinecolor": "white"
           }
          },
          "shapedefaults": {
           "line": {
            "color": "#2a3f5f"
           }
          },
          "ternary": {
           "aaxis": {
            "gridcolor": "white",
            "linecolor": "white",
            "ticks": ""
           },
           "baxis": {
            "gridcolor": "white",
            "linecolor": "white",
            "ticks": ""
           },
           "bgcolor": "#E5ECF6",
           "caxis": {
            "gridcolor": "white",
            "linecolor": "white",
            "ticks": ""
           }
          },
          "title": {
           "x": 0.05
          },
          "xaxis": {
           "automargin": true,
           "gridcolor": "white",
           "linecolor": "white",
           "ticks": "",
           "title": {
            "standoff": 15
           },
           "zerolinecolor": "white",
           "zerolinewidth": 2
          },
          "yaxis": {
           "automargin": true,
           "gridcolor": "white",
           "linecolor": "white",
           "ticks": "",
           "title": {
            "standoff": 15
           },
           "zerolinecolor": "white",
           "zerolinewidth": 2
          }
         }
        },
        "title": {
         "font": {
          "color": "#4D5663"
         }
        },
        "xaxis": {
         "gridcolor": "#E1E5ED",
         "showgrid": true,
         "tickfont": {
          "color": "#4D5663"
         },
         "title": {
          "font": {
           "color": "#4D5663"
          },
          "text": ""
         },
         "zerolinecolor": "#E1E5ED"
        },
        "yaxis": {
         "gridcolor": "#E1E5ED",
         "showgrid": true,
         "tickfont": {
          "color": "#4D5663"
         },
         "title": {
          "font": {
           "color": "#4D5663"
          },
          "text": ""
         },
         "zerolinecolor": "#E1E5ED"
        }
       }
      },
      "text/html": [
       "<div>                            <div id=\"60a5c021-637a-46eb-ba09-d5572142a4e8\" class=\"plotly-graph-div\" style=\"height:525px; width:100%;\"></div>            <script type=\"text/javascript\">                require([\"plotly\"], function(Plotly) {                    window.PLOTLYENV=window.PLOTLYENV || {};\n",
       "                    window.PLOTLYENV.BASE_URL='https://plot.ly';                                    if (document.getElementById(\"60a5c021-637a-46eb-ba09-d5572142a4e8\")) {                    Plotly.newPlot(                        \"60a5c021-637a-46eb-ba09-d5572142a4e8\",                        [{\"histfunc\":\"count\",\"histnorm\":\"\",\"marker\":{\"color\":\"rgba(255, 153, 51, 1.0)\",\"line\":{\"color\":\"#4D5663\",\"width\":1.3}},\"name\":\"Age\",\"nbinsx\":35,\"opacity\":0.8,\"orientation\":\"v\",\"x\":[22.0,38.0,26.0,35.0,35.0,null,54.0,2.0,27.0,14.0,4.0,58.0,20.0,39.0,14.0,55.0,2.0,null,31.0,null,35.0,34.0,15.0,28.0,8.0,38.0,null,19.0,null,null,40.0,null,null,66.0,28.0,42.0,null,21.0,18.0,14.0,40.0,27.0,null,3.0,19.0,null,null,null,null,18.0,7.0,21.0,49.0,29.0,65.0,null,21.0,28.5,5.0,11.0,22.0,38.0,45.0,4.0,null,null,29.0,19.0,17.0,26.0,32.0,16.0,21.0,26.0,32.0,25.0,null,null,0.83,30.0,22.0,29.0,null,28.0,17.0,33.0,16.0,null,23.0,24.0,29.0,20.0,46.0,26.0,59.0,null,71.0,23.0,34.0,34.0,28.0,null,21.0,33.0,37.0,28.0,21.0,null,38.0,null,47.0,14.5,22.0,20.0,17.0,21.0,70.5,29.0,24.0,2.0,21.0,null,32.5,32.5,54.0,12.0,null,24.0,null,45.0,33.0,20.0,47.0,29.0,25.0,23.0,19.0,37.0,16.0,24.0,null,22.0,24.0,19.0,18.0,19.0,27.0,9.0,36.5,42.0,51.0,22.0,55.5,40.5,null,51.0,16.0,30.0,null,null,44.0,40.0,26.0,17.0,1.0,9.0,null,45.0,null,28.0,61.0,4.0,1.0,21.0,56.0,18.0,null,50.0,30.0,36.0,null,null,9.0,1.0,4.0,null,null,45.0,40.0,36.0,32.0,19.0,19.0,3.0,44.0,58.0,null,42.0,null,24.0,28.0,null,34.0,45.5,18.0,2.0,32.0,26.0,16.0,40.0,24.0,35.0,22.0,30.0,null,31.0,27.0,42.0,32.0,30.0,16.0,27.0,51.0,null,38.0,22.0,19.0,20.5,18.0,null,35.0,29.0,59.0,5.0,24.0,null,44.0,8.0,19.0,33.0,null,null,29.0,22.0,30.0,44.0,25.0,24.0,37.0,54.0,null,29.0,62.0,30.0,41.0,29.0,null,30.0,35.0,50.0,null,3.0,52.0,40.0,null,36.0,16.0,25.0,58.0,35.0,null,25.0,41.0,37.0,null,63.0,45.0,null,7.0,35.0,65.0,28.0,16.0,19.0,null,33.0,30.0,22.0,42.0,22.0,26.0,19.0,36.0,24.0,24.0,null,23.5,2.0,null,50.0,null,null,19.0,null,null,0.92,null,17.0,30.0,30.0,24.0,18.0,26.0,28.0,43.0,26.0,24.0,54.0,31.0,40.0,22.0,27.0,30.0,22.0,null,36.0,61.0,36.0,31.0,16.0,null,45.5,38.0,16.0,null,null,29.0,41.0,45.0,45.0,2.0,24.0,28.0,25.0,36.0,24.0,40.0,null,3.0,42.0,23.0,null,15.0,25.0,null,28.0,22.0,38.0,null,null,40.0,29.0,45.0,35.0,null,30.0,60.0,null,null,24.0,25.0,18.0,19.0,22.0,3.0,null,22.0,27.0,20.0,19.0,42.0,1.0,32.0,35.0,null,18.0,1.0,36.0,null,17.0,36.0,21.0,28.0,23.0,24.0,22.0,31.0,46.0,23.0,28.0,39.0,26.0,21.0,28.0,20.0,34.0,51.0,3.0,21.0,null,null,null,33.0,null,44.0,null,34.0,18.0,30.0,10.0,null,21.0,29.0,28.0,18.0,null,28.0,19.0,null,32.0,28.0,null,42.0,17.0,50.0,14.0,21.0,24.0,64.0,31.0,45.0,20.0,25.0,28.0,null,4.0,13.0,34.0,5.0,52.0,36.0,null,30.0,49.0,null,29.0,65.0,null,50.0,null,48.0,34.0,47.0,48.0,null,38.0,null,56.0,null,0.75,null,38.0,33.0,23.0,22.0,null,34.0,29.0,22.0,2.0,9.0,null,50.0,63.0,25.0,null,35.0,58.0,30.0,9.0,null,21.0,55.0,71.0,21.0,null,54.0,null,25.0,24.0,17.0,21.0,null,37.0,16.0,18.0,33.0,null,28.0,26.0,29.0,null,36.0,54.0,24.0,47.0,34.0,null,36.0,32.0,30.0,22.0,null,44.0,null,40.5,50.0,null,39.0,23.0,2.0,null,17.0,null,30.0,7.0,45.0,30.0,null,22.0,36.0,9.0,11.0,32.0,50.0,64.0,19.0,null,33.0,8.0,17.0,27.0,null,22.0,22.0,62.0,48.0,null,39.0,36.0,null,40.0,28.0,null,null,24.0,19.0,29.0,null,32.0,62.0,53.0,36.0,null,16.0,19.0,34.0,39.0,null,32.0,25.0,39.0,54.0,36.0,null,18.0,47.0,60.0,22.0,null,35.0,52.0,47.0,null,37.0,36.0,null,49.0,null,49.0,24.0,null,null,44.0,35.0,36.0,30.0,27.0,22.0,40.0,39.0,null,null,null,35.0,24.0,34.0,26.0,4.0,26.0,27.0,42.0,20.0,21.0,21.0,61.0,57.0,21.0,26.0,null,80.0,51.0,32.0,null,9.0,28.0,32.0,31.0,41.0,null,20.0,24.0,2.0,null,0.75,48.0,19.0,56.0,null,23.0,null,18.0,21.0,null,18.0,24.0,null,32.0,23.0,58.0,50.0,40.0,47.0,36.0,20.0,32.0,25.0,null,43.0,null,40.0,31.0,70.0,31.0,null,18.0,24.5,18.0,43.0,36.0,null,27.0,20.0,14.0,60.0,25.0,14.0,19.0,18.0,15.0,31.0,4.0,null,25.0,60.0,52.0,44.0,null,49.0,42.0,18.0,35.0,18.0,25.0,26.0,39.0,45.0,42.0,22.0,null,24.0,null,48.0,29.0,52.0,19.0,38.0,27.0,null,33.0,6.0,17.0,34.0,50.0,27.0,20.0,30.0,null,25.0,25.0,29.0,11.0,null,23.0,23.0,28.5,48.0,35.0,null,null,null,36.0,21.0,24.0,31.0,70.0,16.0,30.0,19.0,31.0,4.0,6.0,33.0,23.0,48.0,0.67,28.0,18.0,34.0,33.0,null,41.0,20.0,36.0,16.0,51.0,null,30.5,null,32.0,24.0,48.0,57.0,null,54.0,18.0,null,5.0,null,43.0,13.0,17.0,29.0,null,25.0,25.0,18.0,8.0,1.0,46.0,null,16.0,null,null,25.0,39.0,49.0,31.0,30.0,30.0,34.0,31.0,11.0,0.42,27.0,31.0,39.0,18.0,39.0,33.0,26.0,39.0,35.0,6.0,30.5,null,23.0,31.0,43.0,10.0,52.0,27.0,38.0,27.0,2.0,null,null,1.0,null,62.0,15.0,0.83,null,23.0,18.0,39.0,21.0,null,32.0,null,20.0,16.0,30.0,34.5,17.0,42.0,null,35.0,28.0,null,4.0,74.0,9.0,16.0,44.0,18.0,45.0,51.0,24.0,null,41.0,21.0,48.0,null,24.0,42.0,27.0,31.0,null,4.0,26.0,47.0,33.0,47.0,28.0,15.0,20.0,19.0,null,56.0,25.0,33.0,22.0,28.0,25.0,39.0,27.0,19.0,null,26.0,32.0],\"type\":\"histogram\"}],                        {\"barmode\":\"overlay\",\"legend\":{\"bgcolor\":\"#F5F6F9\",\"font\":{\"color\":\"#4D5663\"}},\"paper_bgcolor\":\"#F5F6F9\",\"plot_bgcolor\":\"#F5F6F9\",\"template\":{\"data\":{\"barpolar\":[{\"marker\":{\"line\":{\"color\":\"#E5ECF6\",\"width\":0.5},\"pattern\":{\"fillmode\":\"overlay\",\"size\":10,\"solidity\":0.2}},\"type\":\"barpolar\"}],\"bar\":[{\"error_x\":{\"color\":\"#2a3f5f\"},\"error_y\":{\"color\":\"#2a3f5f\"},\"marker\":{\"line\":{\"color\":\"#E5ECF6\",\"width\":0.5},\"pattern\":{\"fillmode\":\"overlay\",\"size\":10,\"solidity\":0.2}},\"type\":\"bar\"}],\"carpet\":[{\"aaxis\":{\"endlinecolor\":\"#2a3f5f\",\"gridcolor\":\"white\",\"linecolor\":\"white\",\"minorgridcolor\":\"white\",\"startlinecolor\":\"#2a3f5f\"},\"baxis\":{\"endlinecolor\":\"#2a3f5f\",\"gridcolor\":\"white\",\"linecolor\":\"white\",\"minorgridcolor\":\"white\",\"startlinecolor\":\"#2a3f5f\"},\"type\":\"carpet\"}],\"choropleth\":[{\"colorbar\":{\"outlinewidth\":0,\"ticks\":\"\"},\"type\":\"choropleth\"}],\"contourcarpet\":[{\"colorbar\":{\"outlinewidth\":0,\"ticks\":\"\"},\"type\":\"contourcarpet\"}],\"contour\":[{\"colorbar\":{\"outlinewidth\":0,\"ticks\":\"\"},\"colorscale\":[[0.0,\"#0d0887\"],[0.1111111111111111,\"#46039f\"],[0.2222222222222222,\"#7201a8\"],[0.3333333333333333,\"#9c179e\"],[0.4444444444444444,\"#bd3786\"],[0.5555555555555556,\"#d8576b\"],[0.6666666666666666,\"#ed7953\"],[0.7777777777777778,\"#fb9f3a\"],[0.8888888888888888,\"#fdca26\"],[1.0,\"#f0f921\"]],\"type\":\"contour\"}],\"heatmapgl\":[{\"colorbar\":{\"outlinewidth\":0,\"ticks\":\"\"},\"colorscale\":[[0.0,\"#0d0887\"],[0.1111111111111111,\"#46039f\"],[0.2222222222222222,\"#7201a8\"],[0.3333333333333333,\"#9c179e\"],[0.4444444444444444,\"#bd3786\"],[0.5555555555555556,\"#d8576b\"],[0.6666666666666666,\"#ed7953\"],[0.7777777777777778,\"#fb9f3a\"],[0.8888888888888888,\"#fdca26\"],[1.0,\"#f0f921\"]],\"type\":\"heatmapgl\"}],\"heatmap\":[{\"colorbar\":{\"outlinewidth\":0,\"ticks\":\"\"},\"colorscale\":[[0.0,\"#0d0887\"],[0.1111111111111111,\"#46039f\"],[0.2222222222222222,\"#7201a8\"],[0.3333333333333333,\"#9c179e\"],[0.4444444444444444,\"#bd3786\"],[0.5555555555555556,\"#d8576b\"],[0.6666666666666666,\"#ed7953\"],[0.7777777777777778,\"#fb9f3a\"],[0.8888888888888888,\"#fdca26\"],[1.0,\"#f0f921\"]],\"type\":\"heatmap\"}],\"histogram2dcontour\":[{\"colorbar\":{\"outlinewidth\":0,\"ticks\":\"\"},\"colorscale\":[[0.0,\"#0d0887\"],[0.1111111111111111,\"#46039f\"],[0.2222222222222222,\"#7201a8\"],[0.3333333333333333,\"#9c179e\"],[0.4444444444444444,\"#bd3786\"],[0.5555555555555556,\"#d8576b\"],[0.6666666666666666,\"#ed7953\"],[0.7777777777777778,\"#fb9f3a\"],[0.8888888888888888,\"#fdca26\"],[1.0,\"#f0f921\"]],\"type\":\"histogram2dcontour\"}],\"histogram2d\":[{\"colorbar\":{\"outlinewidth\":0,\"ticks\":\"\"},\"colorscale\":[[0.0,\"#0d0887\"],[0.1111111111111111,\"#46039f\"],[0.2222222222222222,\"#7201a8\"],[0.3333333333333333,\"#9c179e\"],[0.4444444444444444,\"#bd3786\"],[0.5555555555555556,\"#d8576b\"],[0.6666666666666666,\"#ed7953\"],[0.7777777777777778,\"#fb9f3a\"],[0.8888888888888888,\"#fdca26\"],[1.0,\"#f0f921\"]],\"type\":\"histogram2d\"}],\"histogram\":[{\"marker\":{\"pattern\":{\"fillmode\":\"overlay\",\"size\":10,\"solidity\":0.2}},\"type\":\"histogram\"}],\"mesh3d\":[{\"colorbar\":{\"outlinewidth\":0,\"ticks\":\"\"},\"type\":\"mesh3d\"}],\"parcoords\":[{\"line\":{\"colorbar\":{\"outlinewidth\":0,\"ticks\":\"\"}},\"type\":\"parcoords\"}],\"pie\":[{\"automargin\":true,\"type\":\"pie\"}],\"scatter3d\":[{\"line\":{\"colorbar\":{\"outlinewidth\":0,\"ticks\":\"\"}},\"marker\":{\"colorbar\":{\"outlinewidth\":0,\"ticks\":\"\"}},\"type\":\"scatter3d\"}],\"scattercarpet\":[{\"marker\":{\"colorbar\":{\"outlinewidth\":0,\"ticks\":\"\"}},\"type\":\"scattercarpet\"}],\"scattergeo\":[{\"marker\":{\"colorbar\":{\"outlinewidth\":0,\"ticks\":\"\"}},\"type\":\"scattergeo\"}],\"scattergl\":[{\"marker\":{\"colorbar\":{\"outlinewidth\":0,\"ticks\":\"\"}},\"type\":\"scattergl\"}],\"scattermapbox\":[{\"marker\":{\"colorbar\":{\"outlinewidth\":0,\"ticks\":\"\"}},\"type\":\"scattermapbox\"}],\"scatterpolargl\":[{\"marker\":{\"colorbar\":{\"outlinewidth\":0,\"ticks\":\"\"}},\"type\":\"scatterpolargl\"}],\"scatterpolar\":[{\"marker\":{\"colorbar\":{\"outlinewidth\":0,\"ticks\":\"\"}},\"type\":\"scatterpolar\"}],\"scatter\":[{\"fillpattern\":{\"fillmode\":\"overlay\",\"size\":10,\"solidity\":0.2},\"type\":\"scatter\"}],\"scatterternary\":[{\"marker\":{\"colorbar\":{\"outlinewidth\":0,\"ticks\":\"\"}},\"type\":\"scatterternary\"}],\"surface\":[{\"colorbar\":{\"outlinewidth\":0,\"ticks\":\"\"},\"colorscale\":[[0.0,\"#0d0887\"],[0.1111111111111111,\"#46039f\"],[0.2222222222222222,\"#7201a8\"],[0.3333333333333333,\"#9c179e\"],[0.4444444444444444,\"#bd3786\"],[0.5555555555555556,\"#d8576b\"],[0.6666666666666666,\"#ed7953\"],[0.7777777777777778,\"#fb9f3a\"],[0.8888888888888888,\"#fdca26\"],[1.0,\"#f0f921\"]],\"type\":\"surface\"}],\"table\":[{\"cells\":{\"fill\":{\"color\":\"#EBF0F8\"},\"line\":{\"color\":\"white\"}},\"header\":{\"fill\":{\"color\":\"#C8D4E3\"},\"line\":{\"color\":\"white\"}},\"type\":\"table\"}]},\"layout\":{\"annotationdefaults\":{\"arrowcolor\":\"#2a3f5f\",\"arrowhead\":0,\"arrowwidth\":1},\"autotypenumbers\":\"strict\",\"coloraxis\":{\"colorbar\":{\"outlinewidth\":0,\"ticks\":\"\"}},\"colorscale\":{\"diverging\":[[0,\"#8e0152\"],[0.1,\"#c51b7d\"],[0.2,\"#de77ae\"],[0.3,\"#f1b6da\"],[0.4,\"#fde0ef\"],[0.5,\"#f7f7f7\"],[0.6,\"#e6f5d0\"],[0.7,\"#b8e186\"],[0.8,\"#7fbc41\"],[0.9,\"#4d9221\"],[1,\"#276419\"]],\"sequential\":[[0.0,\"#0d0887\"],[0.1111111111111111,\"#46039f\"],[0.2222222222222222,\"#7201a8\"],[0.3333333333333333,\"#9c179e\"],[0.4444444444444444,\"#bd3786\"],[0.5555555555555556,\"#d8576b\"],[0.6666666666666666,\"#ed7953\"],[0.7777777777777778,\"#fb9f3a\"],[0.8888888888888888,\"#fdca26\"],[1.0,\"#f0f921\"]],\"sequentialminus\":[[0.0,\"#0d0887\"],[0.1111111111111111,\"#46039f\"],[0.2222222222222222,\"#7201a8\"],[0.3333333333333333,\"#9c179e\"],[0.4444444444444444,\"#bd3786\"],[0.5555555555555556,\"#d8576b\"],[0.6666666666666666,\"#ed7953\"],[0.7777777777777778,\"#fb9f3a\"],[0.8888888888888888,\"#fdca26\"],[1.0,\"#f0f921\"]]},\"colorway\":[\"#636efa\",\"#EF553B\",\"#00cc96\",\"#ab63fa\",\"#FFA15A\",\"#19d3f3\",\"#FF6692\",\"#B6E880\",\"#FF97FF\",\"#FECB52\"],\"font\":{\"color\":\"#2a3f5f\"},\"geo\":{\"bgcolor\":\"white\",\"lakecolor\":\"white\",\"landcolor\":\"#E5ECF6\",\"showlakes\":true,\"showland\":true,\"subunitcolor\":\"white\"},\"hoverlabel\":{\"align\":\"left\"},\"hovermode\":\"closest\",\"mapbox\":{\"style\":\"light\"},\"paper_bgcolor\":\"white\",\"plot_bgcolor\":\"#E5ECF6\",\"polar\":{\"angularaxis\":{\"gridcolor\":\"white\",\"linecolor\":\"white\",\"ticks\":\"\"},\"bgcolor\":\"#E5ECF6\",\"radialaxis\":{\"gridcolor\":\"white\",\"linecolor\":\"white\",\"ticks\":\"\"}},\"scene\":{\"xaxis\":{\"backgroundcolor\":\"#E5ECF6\",\"gridcolor\":\"white\",\"gridwidth\":2,\"linecolor\":\"white\",\"showbackground\":true,\"ticks\":\"\",\"zerolinecolor\":\"white\"},\"yaxis\":{\"backgroundcolor\":\"#E5ECF6\",\"gridcolor\":\"white\",\"gridwidth\":2,\"linecolor\":\"white\",\"showbackground\":true,\"ticks\":\"\",\"zerolinecolor\":\"white\"},\"zaxis\":{\"backgroundcolor\":\"#E5ECF6\",\"gridcolor\":\"white\",\"gridwidth\":2,\"linecolor\":\"white\",\"showbackground\":true,\"ticks\":\"\",\"zerolinecolor\":\"white\"}},\"shapedefaults\":{\"line\":{\"color\":\"#2a3f5f\"}},\"ternary\":{\"aaxis\":{\"gridcolor\":\"white\",\"linecolor\":\"white\",\"ticks\":\"\"},\"baxis\":{\"gridcolor\":\"white\",\"linecolor\":\"white\",\"ticks\":\"\"},\"bgcolor\":\"#E5ECF6\",\"caxis\":{\"gridcolor\":\"white\",\"linecolor\":\"white\",\"ticks\":\"\"}},\"title\":{\"x\":0.05},\"xaxis\":{\"automargin\":true,\"gridcolor\":\"white\",\"linecolor\":\"white\",\"ticks\":\"\",\"title\":{\"standoff\":15},\"zerolinecolor\":\"white\",\"zerolinewidth\":2},\"yaxis\":{\"automargin\":true,\"gridcolor\":\"white\",\"linecolor\":\"white\",\"ticks\":\"\",\"title\":{\"standoff\":15},\"zerolinecolor\":\"white\",\"zerolinewidth\":2}}},\"title\":{\"font\":{\"color\":\"#4D5663\"}},\"xaxis\":{\"gridcolor\":\"#E1E5ED\",\"showgrid\":true,\"tickfont\":{\"color\":\"#4D5663\"},\"title\":{\"font\":{\"color\":\"#4D5663\"},\"text\":\"\"},\"zerolinecolor\":\"#E1E5ED\"},\"yaxis\":{\"gridcolor\":\"#E1E5ED\",\"showgrid\":true,\"tickfont\":{\"color\":\"#4D5663\"},\"title\":{\"font\":{\"color\":\"#4D5663\"},\"text\":\"\"},\"zerolinecolor\":\"#E1E5ED\"}},                        {\"showLink\": true, \"linkText\": \"Export to plot.ly\", \"plotlyServerURL\": \"https://plot.ly\", \"responsive\": true}                    ).then(function(){\n",
       "                            \n",
       "var gd = document.getElementById('60a5c021-637a-46eb-ba09-d5572142a4e8');\n",
       "var x = new MutationObserver(function (mutations, observer) {{\n",
       "        var display = window.getComputedStyle(gd).display;\n",
       "        if (!display || display === 'none') {{\n",
       "            console.log([gd, 'removed!']);\n",
       "            Plotly.purge(gd);\n",
       "            observer.disconnect();\n",
       "        }}\n",
       "}});\n",
       "\n",
       "// Listen for the removal of the full notebook cells\n",
       "var notebookContainer = gd.closest('#notebook-container');\n",
       "if (notebookContainer) {{\n",
       "    x.observe(notebookContainer, {childList: true});\n",
       "}}\n",
       "\n",
       "// Listen for the clearing of the current output cell\n",
       "var outputEl = gd.closest('.output');\n",
       "if (outputEl) {{\n",
       "    x.observe(outputEl, {childList: true});\n",
       "}}\n",
       "\n",
       "                        })                };                });            </script>        </div>"
      ]
     },
     "metadata": {},
     "output_type": "display_data"
    }
   ],
   "source": [
    "cf.go_offline()\n",
    "train_data['Age'].iplot(kind='hist',bins=35)"
   ]
  },
  {
   "cell_type": "markdown",
   "id": "b66ec5be",
   "metadata": {},
   "source": [
    "From cufflinks visualisation, it is much more clear about passenger age distribution. The passgeners are more likely to belong to age group grom 18-33 and there are quite few infant passengers from 0-2. cufflinks visualisation allows to create an interactive plot, like can magnify, zoom in zoom out and much more options. "
   ]
  },
  {
   "cell_type": "markdown",
   "id": "636ffc38",
   "metadata": {},
   "source": [
    "* Visualisation of SibSp (Siblings/Spouses )"
   ]
  },
  {
   "cell_type": "code",
   "execution_count": 27,
   "id": "21f3180e",
   "metadata": {
    "execution": {
     "iopub.execute_input": "2022-04-11T05:11:48.137053Z",
     "iopub.status.busy": "2022-04-11T05:11:48.136234Z",
     "iopub.status.idle": "2022-04-11T05:11:48.376732Z",
     "shell.execute_reply": "2022-04-11T05:11:48.375937Z",
     "shell.execute_reply.started": "2022-04-11T05:11:48.137013Z"
    }
   },
   "outputs": [
    {
     "data": {
      "text/plain": [
       "<Axes: xlabel='SibSp', ylabel='count'>"
      ]
     },
     "execution_count": 27,
     "metadata": {},
     "output_type": "execute_result"
    },
    {
     "data": {
      "image/png": "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",
      "text/plain": [
       "<Figure size 1000x500 with 1 Axes>"
      ]
     },
     "metadata": {},
     "output_type": "display_data"
    }
   ],
   "source": [
    "plt.figure(figsize=(10, 5))\n",
    "sns.countplot(x='SibSp',data=train_data, palette='YlOrBr')"
   ]
  },
  {
   "cell_type": "markdown",
   "id": "7ec14923",
   "metadata": {},
   "source": [
    "The above visualisation clearly states most of the people travelled didnot have sibling or spouse"
   ]
  },
  {
   "cell_type": "markdown",
   "id": "f8d3821f",
   "metadata": {},
   "source": [
    "* Visualisation of Parch  feature"
   ]
  },
  {
   "cell_type": "code",
   "execution_count": 28,
   "id": "8b119104",
   "metadata": {
    "execution": {
     "iopub.execute_input": "2022-04-11T05:11:48.378417Z",
     "iopub.status.busy": "2022-04-11T05:11:48.377975Z",
     "iopub.status.idle": "2022-04-11T05:11:48.625772Z",
     "shell.execute_reply": "2022-04-11T05:11:48.62495Z",
     "shell.execute_reply.started": "2022-04-11T05:11:48.378376Z"
    }
   },
   "outputs": [
    {
     "data": {
      "text/plain": [
       "<Axes: xlabel='Parch', ylabel='count'>"
      ]
     },
     "execution_count": 28,
     "metadata": {},
     "output_type": "execute_result"
    },
    {
     "data": {
      "image/png": "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",
      "text/plain": [
       "<Figure size 1000x500 with 1 Axes>"
      ]
     },
     "metadata": {},
     "output_type": "display_data"
    }
   ],
   "source": [
    "plt.figure(figsize=(10, 5))\n",
    "sns.countplot(x='Parch',data=train_data,palette='YlGnBu')"
   ]
  },
  {
   "cell_type": "markdown",
   "id": "2f869b03",
   "metadata": {},
   "source": [
    "The above visualisation clearly states most of the people travelled didnot have children accompanying them"
   ]
  },
  {
   "cell_type": "markdown",
   "id": "3b194071",
   "metadata": {},
   "source": [
    "* Joint plot of SibSp and Parch"
   ]
  },
  {
   "cell_type": "markdown",
   "id": "d632bf3d",
   "metadata": {},
   "source": [
    "As Visual representation of SibSp and Parch shows there majority where single passengers, so we can use a joint map to check the distribution."
   ]
  },
  {
   "cell_type": "code",
   "execution_count": 29,
   "id": "13d3ecd8",
   "metadata": {
    "execution": {
     "iopub.execute_input": "2022-04-11T05:11:48.627304Z",
     "iopub.status.busy": "2022-04-11T05:11:48.626729Z",
     "iopub.status.idle": "2022-04-11T05:11:50.209051Z",
     "shell.execute_reply": "2022-04-11T05:11:50.208115Z",
     "shell.execute_reply.started": "2022-04-11T05:11:48.627272Z"
    }
   },
   "outputs": [
    {
     "data": {
      "image/png": "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",
      "text/plain": [
       "<Figure size 600x600 with 3 Axes>"
      ]
     },
     "metadata": {},
     "output_type": "display_data"
    }
   ],
   "source": [
    "sns.jointplot(x='SibSp',y='Parch',data=train_data,color='red',kind='kde', fill =True);"
   ]
  },
  {
   "cell_type": "markdown",
   "id": "8595dc7d",
   "metadata": {},
   "source": [
    "* 3D Visualisation of a person with features Name,Sex and Age"
   ]
  },
  {
   "cell_type": "code",
   "execution_count": 30,
   "id": "d071c5b6",
   "metadata": {
    "execution": {
     "iopub.execute_input": "2022-04-11T05:11:50.210638Z",
     "iopub.status.busy": "2022-04-11T05:11:50.210336Z",
     "iopub.status.idle": "2022-04-11T05:11:50.416678Z",
     "shell.execute_reply": "2022-04-11T05:11:50.416144Z",
     "shell.execute_reply.started": "2022-04-11T05:11:50.210599Z"
    },
    "scrolled": true
   },
   "outputs": [
    {
     "data": {
      "application/vnd.plotly.v1+json": {
       "config": {
        "plotlyServerURL": "https://plot.ly"
       },
       "data": [
        {
         "hovertemplate": "Name=%{x}<br>Sex=%{y}<br>Age=%{marker.color}<extra></extra>",
         "legendgroup": "",
         "marker": {
          "color": [
           22,
           38,
           26,
           35,
           35,
           null,
           54,
           2,
           27,
           14,
           4,
           58,
           20,
           39,
           14,
           55,
           2,
           null,
           31,
           null,
           35,
           34,
           15,
           28,
           8,
           38,
           null,
           19,
           null,
           null,
           40,
           null,
           null,
           66,
           28,
           42,
           null,
           21,
           18,
           14,
           40,
           27,
           null,
           3,
           19,
           null,
           null,
           null,
           null,
           18,
           7,
           21,
           49,
           29,
           65,
           null,
           21,
           28.5,
           5,
           11,
           22,
           38,
           45,
           4,
           null,
           null,
           29,
           19,
           17,
           26,
           32,
           16,
           21,
           26,
           32,
           25,
           null,
           null,
           0.83,
           30,
           22,
           29,
           null,
           28,
           17,
           33,
           16,
           null,
           23,
           24,
           29,
           20,
           46,
           26,
           59,
           null,
           71,
           23,
           34,
           34,
           28,
           null,
           21,
           33,
           37,
           28,
           21,
           null,
           38,
           null,
           47,
           14.5,
           22,
           20,
           17,
           21,
           70.5,
           29,
           24,
           2,
           21,
           null,
           32.5,
           32.5,
           54,
           12,
           null,
           24,
           null,
           45,
           33,
           20,
           47,
           29,
           25,
           23,
           19,
           37,
           16,
           24,
           null,
           22,
           24,
           19,
           18,
           19,
           27,
           9,
           36.5,
           42,
           51,
           22,
           55.5,
           40.5,
           null,
           51,
           16,
           30,
           null,
           null,
           44,
           40,
           26,
           17,
           1,
           9,
           null,
           45,
           null,
           28,
           61,
           4,
           1,
           21,
           56,
           18,
           null,
           50,
           30,
           36,
           null,
           null,
           9,
           1,
           4,
           null,
           null,
           45,
           40,
           36,
           32,
           19,
           19,
           3,
           44,
           58,
           null,
           42,
           null,
           24,
           28,
           null,
           34,
           45.5,
           18,
           2,
           32,
           26,
           16,
           40,
           24,
           35,
           22,
           30,
           null,
           31,
           27,
           42,
           32,
           30,
           16,
           27,
           51,
           null,
           38,
           22,
           19,
           20.5,
           18,
           null,
           35,
           29,
           59,
           5,
           24,
           null,
           44,
           8,
           19,
           33,
           null,
           null,
           29,
           22,
           30,
           44,
           25,
           24,
           37,
           54,
           null,
           29,
           62,
           30,
           41,
           29,
           null,
           30,
           35,
           50,
           null,
           3,
           52,
           40,
           null,
           36,
           16,
           25,
           58,
           35,
           null,
           25,
           41,
           37,
           null,
           63,
           45,
           null,
           7,
           35,
           65,
           28,
           16,
           19,
           null,
           33,
           30,
           22,
           42,
           22,
           26,
           19,
           36,
           24,
           24,
           null,
           23.5,
           2,
           null,
           50,
           null,
           null,
           19,
           null,
           null,
           0.92,
           null,
           17,
           30,
           30,
           24,
           18,
           26,
           28,
           43,
           26,
           24,
           54,
           31,
           40,
           22,
           27,
           30,
           22,
           null,
           36,
           61,
           36,
           31,
           16,
           null,
           45.5,
           38,
           16,
           null,
           null,
           29,
           41,
           45,
           45,
           2,
           24,
           28,
           25,
           36,
           24,
           40,
           null,
           3,
           42,
           23,
           null,
           15,
           25,
           null,
           28,
           22,
           38,
           null,
           null,
           40,
           29,
           45,
           35,
           null,
           30,
           60,
           null,
           null,
           24,
           25,
           18,
           19,
           22,
           3,
           null,
           22,
           27,
           20,
           19,
           42,
           1,
           32,
           35,
           null,
           18,
           1,
           36,
           null,
           17,
           36,
           21,
           28,
           23,
           24,
           22,
           31,
           46,
           23,
           28,
           39,
           26,
           21,
           28,
           20,
           34,
           51,
           3,
           21,
           null,
           null,
           null,
           33,
           null,
           44,
           null,
           34,
           18,
           30,
           10,
           null,
           21,
           29,
           28,
           18,
           null,
           28,
           19,
           null,
           32,
           28,
           null,
           42,
           17,
           50,
           14,
           21,
           24,
           64,
           31,
           45,
           20,
           25,
           28,
           null,
           4,
           13,
           34,
           5,
           52,
           36,
           null,
           30,
           49,
           null,
           29,
           65,
           null,
           50,
           null,
           48,
           34,
           47,
           48,
           null,
           38,
           null,
           56,
           null,
           0.75,
           null,
           38,
           33,
           23,
           22,
           null,
           34,
           29,
           22,
           2,
           9,
           null,
           50,
           63,
           25,
           null,
           35,
           58,
           30,
           9,
           null,
           21,
           55,
           71,
           21,
           null,
           54,
           null,
           25,
           24,
           17,
           21,
           null,
           37,
           16,
           18,
           33,
           null,
           28,
           26,
           29,
           null,
           36,
           54,
           24,
           47,
           34,
           null,
           36,
           32,
           30,
           22,
           null,
           44,
           null,
           40.5,
           50,
           null,
           39,
           23,
           2,
           null,
           17,
           null,
           30,
           7,
           45,
           30,
           null,
           22,
           36,
           9,
           11,
           32,
           50,
           64,
           19,
           null,
           33,
           8,
           17,
           27,
           null,
           22,
           22,
           62,
           48,
           null,
           39,
           36,
           null,
           40,
           28,
           null,
           null,
           24,
           19,
           29,
           null,
           32,
           62,
           53,
           36,
           null,
           16,
           19,
           34,
           39,
           null,
           32,
           25,
           39,
           54,
           36,
           null,
           18,
           47,
           60,
           22,
           null,
           35,
           52,
           47,
           null,
           37,
           36,
           null,
           49,
           null,
           49,
           24,
           null,
           null,
           44,
           35,
           36,
           30,
           27,
           22,
           40,
           39,
           null,
           null,
           null,
           35,
           24,
           34,
           26,
           4,
           26,
           27,
           42,
           20,
           21,
           21,
           61,
           57,
           21,
           26,
           null,
           80,
           51,
           32,
           null,
           9,
           28,
           32,
           31,
           41,
           null,
           20,
           24,
           2,
           null,
           0.75,
           48,
           19,
           56,
           null,
           23,
           null,
           18,
           21,
           null,
           18,
           24,
           null,
           32,
           23,
           58,
           50,
           40,
           47,
           36,
           20,
           32,
           25,
           null,
           43,
           null,
           40,
           31,
           70,
           31,
           null,
           18,
           24.5,
           18,
           43,
           36,
           null,
           27,
           20,
           14,
           60,
           25,
           14,
           19,
           18,
           15,
           31,
           4,
           null,
           25,
           60,
           52,
           44,
           null,
           49,
           42,
           18,
           35,
           18,
           25,
           26,
           39,
           45,
           42,
           22,
           null,
           24,
           null,
           48,
           29,
           52,
           19,
           38,
           27,
           null,
           33,
           6,
           17,
           34,
           50,
           27,
           20,
           30,
           null,
           25,
           25,
           29,
           11,
           null,
           23,
           23,
           28.5,
           48,
           35,
           null,
           null,
           null,
           36,
           21,
           24,
           31,
           70,
           16,
           30,
           19,
           31,
           4,
           6,
           33,
           23,
           48,
           0.67,
           28,
           18,
           34,
           33,
           null,
           41,
           20,
           36,
           16,
           51,
           null,
           30.5,
           null,
           32,
           24,
           48,
           57,
           null,
           54,
           18,
           null,
           5,
           null,
           43,
           13,
           17,
           29,
           null,
           25,
           25,
           18,
           8,
           1,
           46,
           null,
           16,
           null,
           null,
           25,
           39,
           49,
           31,
           30,
           30,
           34,
           31,
           11,
           0.42,
           27,
           31,
           39,
           18,
           39,
           33,
           26,
           39,
           35,
           6,
           30.5,
           null,
           23,
           31,
           43,
           10,
           52,
           27,
           38,
           27,
           2,
           null,
           null,
           1,
           null,
           62,
           15,
           0.83,
           null,
           23,
           18,
           39,
           21,
           null,
           32,
           null,
           20,
           16,
           30,
           34.5,
           17,
           42,
           null,
           35,
           28,
           null,
           4,
           74,
           9,
           16,
           44,
           18,
           45,
           51,
           24,
           null,
           41,
           21,
           48,
           null,
           24,
           42,
           27,
           31,
           null,
           4,
           26,
           47,
           33,
           47,
           28,
           15,
           20,
           19,
           null,
           56,
           25,
           33,
           22,
           28,
           25,
           39,
           27,
           19,
           null,
           26,
           32
          ],
          "coloraxis": "coloraxis",
          "symbol": "circle"
         },
         "mode": "markers",
         "name": "",
         "scene": "scene",
         "showlegend": false,
         "type": "scatter3d",
         "x": [
          "Braund, Mr. Owen Harris",
          "Cumings, Mrs. John Bradley (Florence Briggs Thayer)",
          "Heikkinen, Miss. Laina",
          "Futrelle, Mrs. Jacques Heath (Lily May Peel)",
          "Allen, Mr. William Henry",
          "Moran, Mr. James",
          "McCarthy, Mr. Timothy J",
          "Palsson, Master. Gosta Leonard",
          "Johnson, Mrs. Oscar W (Elisabeth Vilhelmina Berg)",
          "Nasser, Mrs. Nicholas (Adele Achem)",
          "Sandstrom, Miss. Marguerite Rut",
          "Bonnell, Miss. Elizabeth",
          "Saundercock, Mr. William Henry",
          "Andersson, Mr. Anders Johan",
          "Vestrom, Miss. Hulda Amanda Adolfina",
          "Hewlett, Mrs. (Mary D Kingcome) ",
          "Rice, Master. Eugene",
          "Williams, Mr. Charles Eugene",
          "Vander Planke, Mrs. Julius (Emelia Maria Vandemoortele)",
          "Masselmani, Mrs. Fatima",
          "Fynney, Mr. Joseph J",
          "Beesley, Mr. Lawrence",
          "McGowan, Miss. Anna \"Annie\"",
          "Sloper, Mr. William Thompson",
          "Palsson, Miss. Torborg Danira",
          "Asplund, Mrs. Carl Oscar (Selma Augusta Emilia Johansson)",
          "Emir, Mr. Farred Chehab",
          "Fortune, Mr. Charles Alexander",
          "O'Dwyer, Miss. Ellen \"Nellie\"",
          "Todoroff, Mr. Lalio",
          "Uruchurtu, Don. Manuel E",
          "Spencer, Mrs. William Augustus (Marie Eugenie)",
          "Glynn, Miss. Mary Agatha",
          "Wheadon, Mr. Edward H",
          "Meyer, Mr. Edgar Joseph",
          "Holverson, Mr. Alexander Oskar",
          "Mamee, Mr. Hanna",
          "Cann, Mr. Ernest Charles",
          "Vander Planke, Miss. Augusta Maria",
          "Nicola-Yarred, Miss. Jamila",
          "Ahlin, Mrs. Johan (Johanna Persdotter Larsson)",
          "Turpin, Mrs. William John Robert (Dorothy Ann Wonnacott)",
          "Kraeff, Mr. Theodor",
          "Laroche, Miss. Simonne Marie Anne Andree",
          "Devaney, Miss. Margaret Delia",
          "Rogers, Mr. William John",
          "Lennon, Mr. Denis",
          "O'Driscoll, Miss. Bridget",
          "Samaan, Mr. Youssef",
          "Arnold-Franchi, Mrs. Josef (Josefine Franchi)",
          "Panula, Master. Juha Niilo",
          "Nosworthy, Mr. Richard Cater",
          "Harper, Mrs. Henry Sleeper (Myna Haxtun)",
          "Faunthorpe, Mrs. Lizzie (Elizabeth Anne Wilkinson)",
          "Ostby, Mr. Engelhart Cornelius",
          "Woolner, Mr. Hugh",
          "Rugg, Miss. Emily",
          "Novel, Mr. Mansouer",
          "West, Miss. Constance Mirium",
          "Goodwin, Master. William Frederick",
          "Sirayanian, Mr. Orsen",
          "Icard, Miss. Amelie",
          "Harris, Mr. Henry Birkhardt",
          "Skoog, Master. Harald",
          "Stewart, Mr. Albert A",
          "Moubarek, Master. Gerios",
          "Nye, Mrs. (Elizabeth Ramell)",
          "Crease, Mr. Ernest James",
          "Andersson, Miss. Erna Alexandra",
          "Kink, Mr. Vincenz",
          "Jenkin, Mr. Stephen Curnow",
          "Goodwin, Miss. Lillian Amy",
          "Hood, Mr. Ambrose Jr",
          "Chronopoulos, Mr. Apostolos",
          "Bing, Mr. Lee",
          "Moen, Mr. Sigurd Hansen",
          "Staneff, Mr. Ivan",
          "Moutal, Mr. Rahamin Haim",
          "Caldwell, Master. Alden Gates",
          "Dowdell, Miss. Elizabeth",
          "Waelens, Mr. Achille",
          "Sheerlinck, Mr. Jan Baptist",
          "McDermott, Miss. Brigdet Delia",
          "Carrau, Mr. Francisco M",
          "Ilett, Miss. Bertha",
          "Backstrom, Mrs. Karl Alfred (Maria Mathilda Gustafsson)",
          "Ford, Mr. William Neal",
          "Slocovski, Mr. Selman Francis",
          "Fortune, Miss. Mabel Helen",
          "Celotti, Mr. Francesco",
          "Christmann, Mr. Emil",
          "Andreasson, Mr. Paul Edvin",
          "Chaffee, Mr. Herbert Fuller",
          "Dean, Mr. Bertram Frank",
          "Coxon, Mr. Daniel",
          "Shorney, Mr. Charles Joseph",
          "Goldschmidt, Mr. George B",
          "Greenfield, Mr. William Bertram",
          "Doling, Mrs. John T (Ada Julia Bone)",
          "Kantor, Mr. Sinai",
          "Petranec, Miss. Matilda",
          "Petroff, Mr. Pastcho (\"Pentcho\")",
          "White, Mr. Richard Frasar",
          "Johansson, Mr. Gustaf Joel",
          "Gustafsson, Mr. Anders Vilhelm",
          "Mionoff, Mr. Stoytcho",
          "Salkjelsvik, Miss. Anna Kristine",
          "Moss, Mr. Albert Johan",
          "Rekic, Mr. Tido",
          "Moran, Miss. Bertha",
          "Porter, Mr. Walter Chamberlain",
          "Zabour, Miss. Hileni",
          "Barton, Mr. David John",
          "Jussila, Miss. Katriina",
          "Attalah, Miss. Malake",
          "Pekoniemi, Mr. Edvard",
          "Connors, Mr. Patrick",
          "Turpin, Mr. William John Robert",
          "Baxter, Mr. Quigg Edmond",
          "Andersson, Miss. Ellis Anna Maria",
          "Hickman, Mr. Stanley George",
          "Moore, Mr. Leonard Charles",
          "Nasser, Mr. Nicholas",
          "Webber, Miss. Susan",
          "White, Mr. Percival Wayland",
          "Nicola-Yarred, Master. Elias",
          "McMahon, Mr. Martin",
          "Madsen, Mr. Fridtjof Arne",
          "Peter, Miss. Anna",
          "Ekstrom, Mr. Johan",
          "Drazenoic, Mr. Jozef",
          "Coelho, Mr. Domingos Fernandeo",
          "Robins, Mrs. Alexander A (Grace Charity Laury)",
          "Weisz, Mrs. Leopold (Mathilde Francoise Pede)",
          "Sobey, Mr. Samuel James Hayden",
          "Richard, Mr. Emile",
          "Newsom, Miss. Helen Monypeny",
          "Futrelle, Mr. Jacques Heath",
          "Osen, Mr. Olaf Elon",
          "Giglio, Mr. Victor",
          "Boulos, Mrs. Joseph (Sultana)",
          "Nysten, Miss. Anna Sofia",
          "Hakkarainen, Mrs. Pekka Pietari (Elin Matilda Dolck)",
          "Burke, Mr. Jeremiah",
          "Andrew, Mr. Edgardo Samuel",
          "Nicholls, Mr. Joseph Charles",
          "Andersson, Mr. August Edvard (\"Wennerstrom\")",
          "Ford, Miss. Robina Maggie \"Ruby\"",
          "Navratil, Mr. Michel (\"Louis M Hoffman\")",
          "Byles, Rev. Thomas Roussel Davids",
          "Bateman, Rev. Robert James",
          "Pears, Mrs. Thomas (Edith Wearne)",
          "Meo, Mr. Alfonzo",
          "van Billiard, Mr. Austin Blyler",
          "Olsen, Mr. Ole Martin",
          "Williams, Mr. Charles Duane",
          "Gilnagh, Miss. Katherine \"Katie\"",
          "Corn, Mr. Harry",
          "Smiljanic, Mr. Mile",
          "Sage, Master. Thomas Henry",
          "Cribb, Mr. John Hatfield",
          "Watt, Mrs. James (Elizabeth \"Bessie\" Inglis Milne)",
          "Bengtsson, Mr. John Viktor",
          "Calic, Mr. Jovo",
          "Panula, Master. Eino Viljami",
          "Goldsmith, Master. Frank John William \"Frankie\"",
          "Chibnall, Mrs. (Edith Martha Bowerman)",
          "Skoog, Mrs. William (Anna Bernhardina Karlsson)",
          "Baumann, Mr. John D",
          "Ling, Mr. Lee",
          "Van der hoef, Mr. Wyckoff",
          "Rice, Master. Arthur",
          "Johnson, Miss. Eleanor Ileen",
          "Sivola, Mr. Antti Wilhelm",
          "Smith, Mr. James Clinch",
          "Klasen, Mr. Klas Albin",
          "Lefebre, Master. Henry Forbes",
          "Isham, Miss. Ann Elizabeth",
          "Hale, Mr. Reginald",
          "Leonard, Mr. Lionel",
          "Sage, Miss. Constance Gladys",
          "Pernot, Mr. Rene",
          "Asplund, Master. Clarence Gustaf Hugo",
          "Becker, Master. Richard F",
          "Kink-Heilmann, Miss. Luise Gretchen",
          "Rood, Mr. Hugh Roscoe",
          "O'Brien, Mrs. Thomas (Johanna \"Hannah\" Godfrey)",
          "Romaine, Mr. Charles Hallace (\"Mr C Rolmane\")",
          "Bourke, Mr. John",
          "Turcin, Mr. Stjepan",
          "Pinsky, Mrs. (Rosa)",
          "Carbines, Mr. William",
          "Andersen-Jensen, Miss. Carla Christine Nielsine",
          "Navratil, Master. Michel M",
          "Brown, Mrs. James Joseph (Margaret Tobin)",
          "Lurette, Miss. Elise",
          "Mernagh, Mr. Robert",
          "Olsen, Mr. Karl Siegwart Andreas",
          "Madigan, Miss. Margaret \"Maggie\"",
          "Yrois, Miss. Henriette (\"Mrs Harbeck\")",
          "Vande Walle, Mr. Nestor Cyriel",
          "Sage, Mr. Frederick",
          "Johanson, Mr. Jakob Alfred",
          "Youseff, Mr. Gerious",
          "Cohen, Mr. Gurshon \"Gus\"",
          "Strom, Miss. Telma Matilda",
          "Backstrom, Mr. Karl Alfred",
          "Albimona, Mr. Nassef Cassem",
          "Carr, Miss. Helen \"Ellen\"",
          "Blank, Mr. Henry",
          "Ali, Mr. Ahmed",
          "Cameron, Miss. Clear Annie",
          "Perkin, Mr. John Henry",
          "Givard, Mr. Hans Kristensen",
          "Kiernan, Mr. Philip",
          "Newell, Miss. Madeleine",
          "Honkanen, Miss. Eliina",
          "Jacobsohn, Mr. Sidney Samuel",
          "Bazzani, Miss. Albina",
          "Harris, Mr. Walter",
          "Sunderland, Mr. Victor Francis",
          "Bracken, Mr. James H",
          "Green, Mr. George Henry",
          "Nenkoff, Mr. Christo",
          "Hoyt, Mr. Frederick Maxfield",
          "Berglund, Mr. Karl Ivar Sven",
          "Mellors, Mr. William John",
          "Lovell, Mr. John Hall (\"Henry\")",
          "Fahlstrom, Mr. Arne Jonas",
          "Lefebre, Miss. Mathilde",
          "Harris, Mrs. Henry Birkhardt (Irene Wallach)",
          "Larsson, Mr. Bengt Edvin",
          "Sjostedt, Mr. Ernst Adolf",
          "Asplund, Miss. Lillian Gertrud",
          "Leyson, Mr. Robert William Norman",
          "Harknett, Miss. Alice Phoebe",
          "Hold, Mr. Stephen",
          "Collyer, Miss. Marjorie \"Lottie\"",
          "Pengelly, Mr. Frederick William",
          "Hunt, Mr. George Henry",
          "Zabour, Miss. Thamine",
          "Murphy, Miss. Katherine \"Kate\"",
          "Coleridge, Mr. Reginald Charles",
          "Maenpaa, Mr. Matti Alexanteri",
          "Attalah, Mr. Sleiman",
          "Minahan, Dr. William Edward",
          "Lindahl, Miss. Agda Thorilda Viktoria",
          "Hamalainen, Mrs. William (Anna)",
          "Beckwith, Mr. Richard Leonard",
          "Carter, Rev. Ernest Courtenay",
          "Reed, Mr. James George",
          "Strom, Mrs. Wilhelm (Elna Matilda Persson)",
          "Stead, Mr. William Thomas",
          "Lobb, Mr. William Arthur",
          "Rosblom, Mrs. Viktor (Helena Wilhelmina)",
          "Touma, Mrs. Darwis (Hanne Youssef Razi)",
          "Thorne, Mrs. Gertrude Maybelle",
          "Cherry, Miss. Gladys",
          "Ward, Miss. Anna",
          "Parrish, Mrs. (Lutie Davis)",
          "Smith, Mr. Thomas",
          "Asplund, Master. Edvin Rojj Felix",
          "Taussig, Mr. Emil",
          "Harrison, Mr. William",
          "Henry, Miss. Delia",
          "Reeves, Mr. David",
          "Panula, Mr. Ernesti Arvid",
          "Persson, Mr. Ernst Ulrik",
          "Graham, Mrs. William Thompson (Edith Junkins)",
          "Bissette, Miss. Amelia",
          "Cairns, Mr. Alexander",
          "Tornquist, Mr. William Henry",
          "Mellinger, Mrs. (Elizabeth Anne Maidment)",
          "Natsch, Mr. Charles H",
          "Healy, Miss. Hanora \"Nora\"",
          "Andrews, Miss. Kornelia Theodosia",
          "Lindblom, Miss. Augusta Charlotta",
          "Parkes, Mr. Francis \"Frank\"",
          "Rice, Master. Eric",
          "Abbott, Mrs. Stanton (Rosa Hunt)",
          "Duane, Mr. Frank",
          "Olsson, Mr. Nils Johan Goransson",
          "de Pelsmaeker, Mr. Alfons",
          "Dorking, Mr. Edward Arthur",
          "Smith, Mr. Richard William",
          "Stankovic, Mr. Ivan",
          "de Mulder, Mr. Theodore",
          "Naidenoff, Mr. Penko",
          "Hosono, Mr. Masabumi",
          "Connolly, Miss. Kate",
          "Barber, Miss. Ellen \"Nellie\"",
          "Bishop, Mrs. Dickinson H (Helen Walton)",
          "Levy, Mr. Rene Jacques",
          "Haas, Miss. Aloisia",
          "Mineff, Mr. Ivan",
          "Lewy, Mr. Ervin G",
          "Hanna, Mr. Mansour",
          "Allison, Miss. Helen Loraine",
          "Saalfeld, Mr. Adolphe",
          "Baxter, Mrs. James (Helene DeLaudeniere Chaput)",
          "Kelly, Miss. Anna Katherine \"Annie Kate\"",
          "McCoy, Mr. Bernard",
          "Johnson, Mr. William Cahoone Jr",
          "Keane, Miss. Nora A",
          "Williams, Mr. Howard Hugh \"Harry\"",
          "Allison, Master. Hudson Trevor",
          "Fleming, Miss. Margaret",
          "Penasco y Castellana, Mrs. Victor de Satode (Maria Josefa Perez de Soto y Vallejo)",
          "Abelson, Mr. Samuel",
          "Francatelli, Miss. Laura Mabel",
          "Hays, Miss. Margaret Bechstein",
          "Ryerson, Miss. Emily Borie",
          "Lahtinen, Mrs. William (Anna Sylfven)",
          "Hendekovic, Mr. Ignjac",
          "Hart, Mr. Benjamin",
          "Nilsson, Miss. Helmina Josefina",
          "Kantor, Mrs. Sinai (Miriam Sternin)",
          "Moraweck, Dr. Ernest",
          "Wick, Miss. Mary Natalie",
          "Spedden, Mrs. Frederic Oakley (Margaretta Corning Stone)",
          "Dennis, Mr. Samuel",
          "Danoff, Mr. Yoto",
          "Slayter, Miss. Hilda Mary",
          "Caldwell, Mrs. Albert Francis (Sylvia Mae Harbaugh)",
          "Sage, Mr. George John Jr",
          "Young, Miss. Marie Grice",
          "Nysveen, Mr. Johan Hansen",
          "Ball, Mrs. (Ada E Hall)",
          "Goldsmith, Mrs. Frank John (Emily Alice Brown)",
          "Hippach, Miss. Jean Gertrude",
          "McCoy, Miss. Agnes",
          "Partner, Mr. Austen",
          "Graham, Mr. George Edward",
          "Vander Planke, Mr. Leo Edmondus",
          "Frauenthal, Mrs. Henry William (Clara Heinsheimer)",
          "Denkoff, Mr. Mitto",
          "Pears, Mr. Thomas Clinton",
          "Burns, Miss. Elizabeth Margaret",
          "Dahl, Mr. Karl Edwart",
          "Blackwell, Mr. Stephen Weart",
          "Navratil, Master. Edmond Roger",
          "Fortune, Miss. Alice Elizabeth",
          "Collander, Mr. Erik Gustaf",
          "Sedgwick, Mr. Charles Frederick Waddington",
          "Fox, Mr. Stanley Hubert",
          "Brown, Miss. Amelia \"Mildred\"",
          "Smith, Miss. Marion Elsie",
          "Davison, Mrs. Thomas Henry (Mary E Finck)",
          "Coutts, Master. William Loch \"William\"",
          "Dimic, Mr. Jovan",
          "Odahl, Mr. Nils Martin",
          "Williams-Lambert, Mr. Fletcher Fellows",
          "Elias, Mr. Tannous",
          "Arnold-Franchi, Mr. Josef",
          "Yousif, Mr. Wazli",
          "Vanden Steen, Mr. Leo Peter",
          "Bowerman, Miss. Elsie Edith",
          "Funk, Miss. Annie Clemmer",
          "McGovern, Miss. Mary",
          "Mockler, Miss. Helen Mary \"Ellie\"",
          "Skoog, Mr. Wilhelm",
          "del Carlo, Mr. Sebastiano",
          "Barbara, Mrs. (Catherine David)",
          "Asim, Mr. Adola",
          "O'Brien, Mr. Thomas",
          "Adahl, Mr. Mauritz Nils Martin",
          "Warren, Mrs. Frank Manley (Anna Sophia Atkinson)",
          "Moussa, Mrs. (Mantoura Boulos)",
          "Jermyn, Miss. Annie",
          "Aubart, Mme. Leontine Pauline",
          "Harder, Mr. George Achilles",
          "Wiklund, Mr. Jakob Alfred",
          "Beavan, Mr. William Thomas",
          "Ringhini, Mr. Sante",
          "Palsson, Miss. Stina Viola",
          "Meyer, Mrs. Edgar Joseph (Leila Saks)",
          "Landergren, Miss. Aurora Adelia",
          "Widener, Mr. Harry Elkins",
          "Betros, Mr. Tannous",
          "Gustafsson, Mr. Karl Gideon",
          "Bidois, Miss. Rosalie",
          "Nakid, Miss. Maria (\"Mary\")",
          "Tikkanen, Mr. Juho",
          "Holverson, Mrs. Alexander Oskar (Mary Aline Towner)",
          "Plotcharsky, Mr. Vasil",
          "Davies, Mr. Charles Henry",
          "Goodwin, Master. Sidney Leonard",
          "Buss, Miss. Kate",
          "Sadlier, Mr. Matthew",
          "Lehmann, Miss. Bertha",
          "Carter, Mr. William Ernest",
          "Jansson, Mr. Carl Olof",
          "Gustafsson, Mr. Johan Birger",
          "Newell, Miss. Marjorie",
          "Sandstrom, Mrs. Hjalmar (Agnes Charlotta Bengtsson)",
          "Johansson, Mr. Erik",
          "Olsson, Miss. Elina",
          "McKane, Mr. Peter David",
          "Pain, Dr. Alfred",
          "Trout, Mrs. William H (Jessie L)",
          "Niskanen, Mr. Juha",
          "Adams, Mr. John",
          "Jussila, Miss. Mari Aina",
          "Hakkarainen, Mr. Pekka Pietari",
          "Oreskovic, Miss. Marija",
          "Gale, Mr. Shadrach",
          "Widegren, Mr. Carl/Charles Peter",
          "Richards, Master. William Rowe",
          "Birkeland, Mr. Hans Martin Monsen",
          "Lefebre, Miss. Ida",
          "Sdycoff, Mr. Todor",
          "Hart, Mr. Henry",
          "Minahan, Miss. Daisy E",
          "Cunningham, Mr. Alfred Fleming",
          "Sundman, Mr. Johan Julian",
          "Meek, Mrs. Thomas (Annie Louise Rowley)",
          "Drew, Mrs. James Vivian (Lulu Thorne Christian)",
          "Silven, Miss. Lyyli Karoliina",
          "Matthews, Mr. William John",
          "Van Impe, Miss. Catharina",
          "Gheorgheff, Mr. Stanio",
          "Charters, Mr. David",
          "Zimmerman, Mr. Leo",
          "Danbom, Mrs. Ernst Gilbert (Anna Sigrid Maria Brogren)",
          "Rosblom, Mr. Viktor Richard",
          "Wiseman, Mr. Phillippe",
          "Clarke, Mrs. Charles V (Ada Maria Winfield)",
          "Phillips, Miss. Kate Florence (\"Mrs Kate Louise Phillips Marshall\")",
          "Flynn, Mr. James",
          "Pickard, Mr. Berk (Berk Trembisky)",
          "Bjornstrom-Steffansson, Mr. Mauritz Hakan",
          "Thorneycroft, Mrs. Percival (Florence Kate White)",
          "Louch, Mrs. Charles Alexander (Alice Adelaide Slow)",
          "Kallio, Mr. Nikolai Erland",
          "Silvey, Mr. William Baird",
          "Carter, Miss. Lucile Polk",
          "Ford, Miss. Doolina Margaret \"Daisy\"",
          "Richards, Mrs. Sidney (Emily Hocking)",
          "Fortune, Mr. Mark",
          "Kvillner, Mr. Johan Henrik Johannesson",
          "Hart, Mrs. Benjamin (Esther Ada Bloomfield)",
          "Hampe, Mr. Leon",
          "Petterson, Mr. Johan Emil",
          "Reynaldo, Ms. Encarnacion",
          "Johannesen-Bratthammer, Mr. Bernt",
          "Dodge, Master. Washington",
          "Mellinger, Miss. Madeleine Violet",
          "Seward, Mr. Frederic Kimber",
          "Baclini, Miss. Marie Catherine",
          "Peuchen, Major. Arthur Godfrey",
          "West, Mr. Edwy Arthur",
          "Hagland, Mr. Ingvald Olai Olsen",
          "Foreman, Mr. Benjamin Laventall",
          "Goldenberg, Mr. Samuel L",
          "Peduzzi, Mr. Joseph",
          "Jalsevac, Mr. Ivan",
          "Millet, Mr. Francis Davis",
          "Kenyon, Mrs. Frederick R (Marion)",
          "Toomey, Miss. Ellen",
          "O'Connor, Mr. Maurice",
          "Anderson, Mr. Harry",
          "Morley, Mr. William",
          "Gee, Mr. Arthur H",
          "Milling, Mr. Jacob Christian",
          "Maisner, Mr. Simon",
          "Goncalves, Mr. Manuel Estanslas",
          "Campbell, Mr. William",
          "Smart, Mr. John Montgomery",
          "Scanlan, Mr. James",
          "Baclini, Miss. Helene Barbara",
          "Keefe, Mr. Arthur",
          "Cacic, Mr. Luka",
          "West, Mrs. Edwy Arthur (Ada Mary Worth)",
          "Jerwan, Mrs. Amin S (Marie Marthe Thuillard)",
          "Strandberg, Miss. Ida Sofia",
          "Clifford, Mr. George Quincy",
          "Renouf, Mr. Peter Henry",
          "Braund, Mr. Lewis Richard",
          "Karlsson, Mr. Nils August",
          "Hirvonen, Miss. Hildur E",
          "Goodwin, Master. Harold Victor",
          "Frost, Mr. Anthony Wood \"Archie\"",
          "Rouse, Mr. Richard Henry",
          "Turkula, Mrs. (Hedwig)",
          "Bishop, Mr. Dickinson H",
          "Lefebre, Miss. Jeannie",
          "Hoyt, Mrs. Frederick Maxfield (Jane Anne Forby)",
          "Kent, Mr. Edward Austin",
          "Somerton, Mr. Francis William",
          "Coutts, Master. Eden Leslie \"Neville\"",
          "Hagland, Mr. Konrad Mathias Reiersen",
          "Windelov, Mr. Einar",
          "Molson, Mr. Harry Markland",
          "Artagaveytia, Mr. Ramon",
          "Stanley, Mr. Edward Roland",
          "Yousseff, Mr. Gerious",
          "Eustis, Miss. Elizabeth Mussey",
          "Shellard, Mr. Frederick William",
          "Allison, Mrs. Hudson J C (Bessie Waldo Daniels)",
          "Svensson, Mr. Olof",
          "Calic, Mr. Petar",
          "Canavan, Miss. Mary",
          "O'Sullivan, Miss. Bridget Mary",
          "Laitinen, Miss. Kristina Sofia",
          "Maioni, Miss. Roberta",
          "Penasco y Castellana, Mr. Victor de Satode",
          "Quick, Mrs. Frederick Charles (Jane Richards)",
          "Bradley, Mr. George (\"George Arthur Brayton\")",
          "Olsen, Mr. Henry Margido",
          "Lang, Mr. Fang",
          "Daly, Mr. Eugene Patrick",
          "Webber, Mr. James",
          "McGough, Mr. James Robert",
          "Rothschild, Mrs. Martin (Elizabeth L. Barrett)",
          "Coleff, Mr. Satio",
          "Walker, Mr. William Anderson",
          "Lemore, Mrs. (Amelia Milley)",
          "Ryan, Mr. Patrick",
          "Angle, Mrs. William A (Florence \"Mary\" Agnes Hughes)",
          "Pavlovic, Mr. Stefo",
          "Perreault, Miss. Anne",
          "Vovk, Mr. Janko",
          "Lahoud, Mr. Sarkis",
          "Hippach, Mrs. Louis Albert (Ida Sophia Fischer)",
          "Kassem, Mr. Fared",
          "Farrell, Mr. James",
          "Ridsdale, Miss. Lucy",
          "Farthing, Mr. John",
          "Salonen, Mr. Johan Werner",
          "Hocking, Mr. Richard George",
          "Quick, Miss. Phyllis May",
          "Toufik, Mr. Nakli",
          "Elias, Mr. Joseph Jr",
          "Peter, Mrs. Catherine (Catherine Rizk)",
          "Cacic, Miss. Marija",
          "Hart, Miss. Eva Miriam",
          "Butt, Major. Archibald Willingham",
          "LeRoy, Miss. Bertha",
          "Risien, Mr. Samuel Beard",
          "Frolicher, Miss. Hedwig Margaritha",
          "Crosby, Miss. Harriet R",
          "Andersson, Miss. Ingeborg Constanzia",
          "Andersson, Miss. Sigrid Elisabeth",
          "Beane, Mr. Edward",
          "Douglas, Mr. Walter Donald",
          "Nicholson, Mr. Arthur Ernest",
          "Beane, Mrs. Edward (Ethel Clarke)",
          "Padro y Manent, Mr. Julian",
          "Goldsmith, Mr. Frank John",
          "Davies, Master. John Morgan Jr",
          "Thayer, Mr. John Borland Jr",
          "Sharp, Mr. Percival James R",
          "O'Brien, Mr. Timothy",
          "Leeni, Mr. Fahim (\"Philip Zenni\")",
          "Ohman, Miss. Velin",
          "Wright, Mr. George",
          "Duff Gordon, Lady. (Lucille Christiana Sutherland) (\"Mrs Morgan\")",
          "Robbins, Mr. Victor",
          "Taussig, Mrs. Emil (Tillie Mandelbaum)",
          "de Messemaeker, Mrs. Guillaume Joseph (Emma)",
          "Morrow, Mr. Thomas Rowan",
          "Sivic, Mr. Husein",
          "Norman, Mr. Robert Douglas",
          "Simmons, Mr. John",
          "Meanwell, Miss. (Marion Ogden)",
          "Davies, Mr. Alfred J",
          "Stoytcheff, Mr. Ilia",
          "Palsson, Mrs. Nils (Alma Cornelia Berglund)",
          "Doharr, Mr. Tannous",
          "Jonsson, Mr. Carl",
          "Harris, Mr. George",
          "Appleton, Mrs. Edward Dale (Charlotte Lamson)",
          "Flynn, Mr. John Irwin (\"Irving\")",
          "Kelly, Miss. Mary",
          "Rush, Mr. Alfred George John",
          "Patchett, Mr. George",
          "Garside, Miss. Ethel",
          "Silvey, Mrs. William Baird (Alice Munger)",
          "Caram, Mrs. Joseph (Maria Elias)",
          "Jussila, Mr. Eiriik",
          "Christy, Miss. Julie Rachel",
          "Thayer, Mrs. John Borland (Marian Longstreth Morris)",
          "Downton, Mr. William James",
          "Ross, Mr. John Hugo",
          "Paulner, Mr. Uscher",
          "Taussig, Miss. Ruth",
          "Jarvis, Mr. John Denzil",
          "Frolicher-Stehli, Mr. Maxmillian",
          "Gilinski, Mr. Eliezer",
          "Murdlin, Mr. Joseph",
          "Rintamaki, Mr. Matti",
          "Stephenson, Mrs. Walter Bertram (Martha Eustis)",
          "Elsbury, Mr. William James",
          "Bourke, Miss. Mary",
          "Chapman, Mr. John Henry",
          "Van Impe, Mr. Jean Baptiste",
          "Leitch, Miss. Jessie Wills",
          "Johnson, Mr. Alfred",
          "Boulos, Mr. Hanna",
          "Duff Gordon, Sir. Cosmo Edmund (\"Mr Morgan\")",
          "Jacobsohn, Mrs. Sidney Samuel (Amy Frances Christy)",
          "Slabenoff, Mr. Petco",
          "Harrington, Mr. Charles H",
          "Torber, Mr. Ernst William",
          "Homer, Mr. Harry (\"Mr E Haven\")",
          "Lindell, Mr. Edvard Bengtsson",
          "Karaic, Mr. Milan",
          "Daniel, Mr. Robert Williams",
          "Laroche, Mrs. Joseph (Juliette Marie Louise Lafargue)",
          "Shutes, Miss. Elizabeth W",
          "Andersson, Mrs. Anders Johan (Alfrida Konstantia Brogren)",
          "Jardin, Mr. Jose Neto",
          "Murphy, Miss. Margaret Jane",
          "Horgan, Mr. John",
          "Brocklebank, Mr. William Alfred",
          "Herman, Miss. Alice",
          "Danbom, Mr. Ernst Gilbert",
          "Lobb, Mrs. William Arthur (Cordelia K Stanlick)",
          "Becker, Miss. Marion Louise",
          "Gavey, Mr. Lawrence",
          "Yasbeck, Mr. Antoni",
          "Kimball, Mr. Edwin Nelson Jr",
          "Nakid, Mr. Sahid",
          "Hansen, Mr. Henry Damsgaard",
          "Bowen, Mr. David John \"Dai\"",
          "Sutton, Mr. Frederick",
          "Kirkland, Rev. Charles Leonard",
          "Longley, Miss. Gretchen Fiske",
          "Bostandyeff, Mr. Guentcho",
          "O'Connell, Mr. Patrick D",
          "Barkworth, Mr. Algernon Henry Wilson",
          "Lundahl, Mr. Johan Svensson",
          "Stahelin-Maeglin, Dr. Max",
          "Parr, Mr. William Henry Marsh",
          "Skoog, Miss. Mabel",
          "Davis, Miss. Mary",
          "Leinonen, Mr. Antti Gustaf",
          "Collyer, Mr. Harvey",
          "Panula, Mrs. Juha (Maria Emilia Ojala)",
          "Thorneycroft, Mr. Percival",
          "Jensen, Mr. Hans Peder",
          "Sagesser, Mlle. Emma",
          "Skoog, Miss. Margit Elizabeth",
          "Foo, Mr. Choong",
          "Baclini, Miss. Eugenie",
          "Harper, Mr. Henry Sleeper",
          "Cor, Mr. Liudevit",
          "Simonius-Blumer, Col. Oberst Alfons",
          "Willey, Mr. Edward",
          "Stanley, Miss. Amy Zillah Elsie",
          "Mitkoff, Mr. Mito",
          "Doling, Miss. Elsie",
          "Kalvik, Mr. Johannes Halvorsen",
          "O'Leary, Miss. Hanora \"Norah\"",
          "Hegarty, Miss. Hanora \"Nora\"",
          "Hickman, Mr. Leonard Mark",
          "Radeff, Mr. Alexander",
          "Bourke, Mrs. John (Catherine)",
          "Eitemiller, Mr. George Floyd",
          "Newell, Mr. Arthur Webster",
          "Frauenthal, Dr. Henry William",
          "Badt, Mr. Mohamed",
          "Colley, Mr. Edward Pomeroy",
          "Coleff, Mr. Peju",
          "Lindqvist, Mr. Eino William",
          "Hickman, Mr. Lewis",
          "Butler, Mr. Reginald Fenton",
          "Rommetvedt, Mr. Knud Paust",
          "Cook, Mr. Jacob",
          "Taylor, Mrs. Elmer Zebley (Juliet Cummins Wright)",
          "Brown, Mrs. Thomas William Solomon (Elizabeth Catherine Ford)",
          "Davidson, Mr. Thornton",
          "Mitchell, Mr. Henry Michael",
          "Wilhelms, Mr. Charles",
          "Watson, Mr. Ennis Hastings",
          "Edvardsson, Mr. Gustaf Hjalmar",
          "Sawyer, Mr. Frederick Charles",
          "Turja, Miss. Anna Sofia",
          "Goodwin, Mrs. Frederick (Augusta Tyler)",
          "Cardeza, Mr. Thomas Drake Martinez",
          "Peters, Miss. Katie",
          "Hassab, Mr. Hammad",
          "Olsvigen, Mr. Thor Anderson",
          "Goodwin, Mr. Charles Edward",
          "Brown, Mr. Thomas William Solomon",
          "Laroche, Mr. Joseph Philippe Lemercier",
          "Panula, Mr. Jaako Arnold",
          "Dakic, Mr. Branko",
          "Fischer, Mr. Eberhard Thelander",
          "Madill, Miss. Georgette Alexandra",
          "Dick, Mr. Albert Adrian",
          "Karun, Miss. Manca",
          "Lam, Mr. Ali",
          "Saad, Mr. Khalil",
          "Weir, Col. John",
          "Chapman, Mr. Charles Henry",
          "Kelly, Mr. James",
          "Mullens, Miss. Katherine \"Katie\"",
          "Thayer, Mr. John Borland",
          "Humblen, Mr. Adolf Mathias Nicolai Olsen",
          "Astor, Mrs. John Jacob (Madeleine Talmadge Force)",
          "Silverthorne, Mr. Spencer Victor",
          "Barbara, Miss. Saiide",
          "Gallagher, Mr. Martin",
          "Hansen, Mr. Henrik Juul",
          "Morley, Mr. Henry Samuel (\"Mr Henry Marshall\")",
          "Kelly, Mrs. Florence \"Fannie\"",
          "Calderhead, Mr. Edward Pennington",
          "Cleaver, Miss. Alice",
          "Moubarek, Master. Halim Gonios (\"William George\")",
          "Mayne, Mlle. Berthe Antonine (\"Mrs de Villiers\")",
          "Klaber, Mr. Herman",
          "Taylor, Mr. Elmer Zebley",
          "Larsson, Mr. August Viktor",
          "Greenberg, Mr. Samuel",
          "Soholt, Mr. Peter Andreas Lauritz Andersen",
          "Endres, Miss. Caroline Louise",
          "Troutt, Miss. Edwina Celia \"Winnie\"",
          "McEvoy, Mr. Michael",
          "Johnson, Mr. Malkolm Joackim",
          "Harper, Miss. Annie Jessie \"Nina\"",
          "Jensen, Mr. Svend Lauritz",
          "Gillespie, Mr. William Henry",
          "Hodges, Mr. Henry Price",
          "Chambers, Mr. Norman Campbell",
          "Oreskovic, Mr. Luka",
          "Renouf, Mrs. Peter Henry (Lillian Jefferys)",
          "Mannion, Miss. Margareth",
          "Bryhl, Mr. Kurt Arnold Gottfrid",
          "Ilmakangas, Miss. Pieta Sofia",
          "Allen, Miss. Elisabeth Walton",
          "Hassan, Mr. Houssein G N",
          "Knight, Mr. Robert J",
          "Berriman, Mr. William John",
          "Troupiansky, Mr. Moses Aaron",
          "Williams, Mr. Leslie",
          "Ford, Mrs. Edward (Margaret Ann Watson)",
          "Lesurer, Mr. Gustave J",
          "Ivanoff, Mr. Kanio",
          "Nankoff, Mr. Minko",
          "Hawksford, Mr. Walter James",
          "Cavendish, Mr. Tyrell William",
          "Ryerson, Miss. Susan Parker \"Suzette\"",
          "McNamee, Mr. Neal",
          "Stranden, Mr. Juho",
          "Crosby, Capt. Edward Gifford",
          "Abbott, Mr. Rossmore Edward",
          "Sinkkonen, Miss. Anna",
          "Marvin, Mr. Daniel Warner",
          "Connaghton, Mr. Michael",
          "Wells, Miss. Joan",
          "Moor, Master. Meier",
          "Vande Velde, Mr. Johannes Joseph",
          "Jonkoff, Mr. Lalio",
          "Herman, Mrs. Samuel (Jane Laver)",
          "Hamalainen, Master. Viljo",
          "Carlsson, Mr. August Sigfrid",
          "Bailey, Mr. Percy Andrew",
          "Theobald, Mr. Thomas Leonard",
          "Rothes, the Countess. of (Lucy Noel Martha Dyer-Edwards)",
          "Garfirth, Mr. John",
          "Nirva, Mr. Iisakki Antino Aijo",
          "Barah, Mr. Hanna Assi",
          "Carter, Mrs. William Ernest (Lucile Polk)",
          "Eklund, Mr. Hans Linus",
          "Hogeboom, Mrs. John C (Anna Andrews)",
          "Brewe, Dr. Arthur Jackson",
          "Mangan, Miss. Mary",
          "Moran, Mr. Daniel J",
          "Gronnestad, Mr. Daniel Danielsen",
          "Lievens, Mr. Rene Aime",
          "Jensen, Mr. Niels Peder",
          "Mack, Mrs. (Mary)",
          "Elias, Mr. Dibo",
          "Hocking, Mrs. Elizabeth (Eliza Needs)",
          "Myhrman, Mr. Pehr Fabian Oliver Malkolm",
          "Tobin, Mr. Roger",
          "Emanuel, Miss. Virginia Ethel",
          "Kilgannon, Mr. Thomas J",
          "Robert, Mrs. Edward Scott (Elisabeth Walton McMillan)",
          "Ayoub, Miss. Banoura",
          "Dick, Mrs. Albert Adrian (Vera Gillespie)",
          "Long, Mr. Milton Clyde",
          "Johnston, Mr. Andrew G",
          "Ali, Mr. William",
          "Harmer, Mr. Abraham (David Lishin)",
          "Sjoblom, Miss. Anna Sofia",
          "Rice, Master. George Hugh",
          "Dean, Master. Bertram Vere",
          "Guggenheim, Mr. Benjamin",
          "Keane, Mr. Andrew \"Andy\"",
          "Gaskell, Mr. Alfred",
          "Sage, Miss. Stella Anna",
          "Hoyt, Mr. William Fisher",
          "Dantcheff, Mr. Ristiu",
          "Otter, Mr. Richard",
          "Leader, Dr. Alice (Farnham)",
          "Osman, Mrs. Mara",
          "Ibrahim Shawah, Mr. Yousseff",
          "Van Impe, Mrs. Jean Baptiste (Rosalie Paula Govaert)",
          "Ponesell, Mr. Martin",
          "Collyer, Mrs. Harvey (Charlotte Annie Tate)",
          "Carter, Master. William Thornton II",
          "Thomas, Master. Assad Alexander",
          "Hedman, Mr. Oskar Arvid",
          "Johansson, Mr. Karl Johan",
          "Andrews, Mr. Thomas Jr",
          "Pettersson, Miss. Ellen Natalia",
          "Meyer, Mr. August",
          "Chambers, Mrs. Norman Campbell (Bertha Griggs)",
          "Alexander, Mr. William",
          "Lester, Mr. James",
          "Slemen, Mr. Richard James",
          "Andersson, Miss. Ebba Iris Alfrida",
          "Tomlin, Mr. Ernest Portage",
          "Fry, Mr. Richard",
          "Heininen, Miss. Wendla Maria",
          "Mallet, Mr. Albert",
          "Holm, Mr. John Fredrik Alexander",
          "Skoog, Master. Karl Thorsten",
          "Hays, Mrs. Charles Melville (Clara Jennings Gregg)",
          "Lulic, Mr. Nikola",
          "Reuchlin, Jonkheer. John George",
          "Moor, Mrs. (Beila)",
          "Panula, Master. Urho Abraham",
          "Flynn, Mr. John",
          "Lam, Mr. Len",
          "Mallet, Master. Andre",
          "McCormack, Mr. Thomas Joseph",
          "Stone, Mrs. George Nelson (Martha Evelyn)",
          "Yasbeck, Mrs. Antoni (Selini Alexander)",
          "Richards, Master. George Sibley",
          "Saad, Mr. Amin",
          "Augustsson, Mr. Albert",
          "Allum, Mr. Owen George",
          "Compton, Miss. Sara Rebecca",
          "Pasic, Mr. Jakob",
          "Sirota, Mr. Maurice",
          "Chip, Mr. Chang",
          "Marechal, Mr. Pierre",
          "Alhomaki, Mr. Ilmari Rudolf",
          "Mudd, Mr. Thomas Charles",
          "Serepeca, Miss. Augusta",
          "Lemberopolous, Mr. Peter L",
          "Culumovic, Mr. Jeso",
          "Abbing, Mr. Anthony",
          "Sage, Mr. Douglas Bullen",
          "Markoff, Mr. Marin",
          "Harper, Rev. John",
          "Goldenberg, Mrs. Samuel L (Edwiga Grabowska)",
          "Andersson, Master. Sigvard Harald Elias",
          "Svensson, Mr. Johan",
          "Boulos, Miss. Nourelain",
          "Lines, Miss. Mary Conover",
          "Carter, Mrs. Ernest Courtenay (Lilian Hughes)",
          "Aks, Mrs. Sam (Leah Rosen)",
          "Wick, Mrs. George Dennick (Mary Hitchcock)",
          "Daly, Mr. Peter Denis ",
          "Baclini, Mrs. Solomon (Latifa Qurban)",
          "Razi, Mr. Raihed",
          "Hansen, Mr. Claus Peter",
          "Giles, Mr. Frederick Edward",
          "Swift, Mrs. Frederick Joel (Margaret Welles Barron)",
          "Sage, Miss. Dorothy Edith \"Dolly\"",
          "Gill, Mr. John William",
          "Bystrom, Mrs. (Karolina)",
          "Duran y More, Miss. Asuncion",
          "Roebling, Mr. Washington Augustus II",
          "van Melkebeke, Mr. Philemon",
          "Johnson, Master. Harold Theodor",
          "Balkic, Mr. Cerin",
          "Beckwith, Mrs. Richard Leonard (Sallie Monypeny)",
          "Carlsson, Mr. Frans Olof",
          "Vander Cruyssen, Mr. Victor",
          "Abelson, Mrs. Samuel (Hannah Wizosky)",
          "Najib, Miss. Adele Kiamie \"Jane\"",
          "Gustafsson, Mr. Alfred Ossian",
          "Petroff, Mr. Nedelio",
          "Laleff, Mr. Kristo",
          "Potter, Mrs. Thomas Jr (Lily Alexenia Wilson)",
          "Shelley, Mrs. William (Imanita Parrish Hall)",
          "Markun, Mr. Johann",
          "Dahlberg, Miss. Gerda Ulrika",
          "Banfield, Mr. Frederick James",
          "Sutehall, Mr. Henry Jr",
          "Rice, Mrs. William (Margaret Norton)",
          "Montvila, Rev. Juozas",
          "Graham, Miss. Margaret Edith",
          "Johnston, Miss. Catherine Helen \"Carrie\"",
          "Behr, Mr. Karl Howell",
          "Dooley, Mr. Patrick"
         ],
         "y": [
          "male",
          "female",
          "female",
          "female",
          "male",
          "male",
          "male",
          "male",
          "female",
          "female",
          "female",
          "female",
          "male",
          "male",
          "female",
          "female",
          "male",
          "male",
          "female",
          "female",
          "male",
          "male",
          "female",
          "male",
          "female",
          "female",
          "male",
          "male",
          "female",
          "male",
          "male",
          "female",
          "female",
          "male",
          "male",
          "male",
          "male",
          "male",
          "female",
          "female",
          "female",
          "female",
          "male",
          "female",
          "female",
          "male",
          "male",
          "female",
          "male",
          "female",
          "male",
          "male",
          "female",
          "female",
          "male",
          "male",
          "female",
          "male",
          "female",
          "male",
          "male",
          "female",
          "male",
          "male",
          "male",
          "male",
          "female",
          "male",
          "female",
          "male",
          "male",
          "female",
          "male",
          "male",
          "male",
          "male",
          "male",
          "male",
          "male",
          "female",
          "male",
          "male",
          "female",
          "male",
          "female",
          "female",
          "male",
          "male",
          "female",
          "male",
          "male",
          "male",
          "male",
          "male",
          "male",
          "male",
          "male",
          "male",
          "female",
          "male",
          "female",
          "male",
          "male",
          "male",
          "male",
          "male",
          "female",
          "male",
          "male",
          "female",
          "male",
          "female",
          "male",
          "female",
          "female",
          "male",
          "male",
          "male",
          "male",
          "female",
          "male",
          "male",
          "male",
          "female",
          "male",
          "male",
          "male",
          "male",
          "female",
          "male",
          "male",
          "male",
          "female",
          "female",
          "male",
          "male",
          "female",
          "male",
          "male",
          "male",
          "female",
          "female",
          "female",
          "male",
          "male",
          "male",
          "male",
          "female",
          "male",
          "male",
          "male",
          "female",
          "male",
          "male",
          "male",
          "male",
          "female",
          "male",
          "male",
          "male",
          "male",
          "female",
          "male",
          "male",
          "male",
          "male",
          "female",
          "female",
          "male",
          "male",
          "male",
          "male",
          "female",
          "male",
          "male",
          "male",
          "male",
          "female",
          "male",
          "male",
          "female",
          "male",
          "male",
          "male",
          "female",
          "male",
          "female",
          "male",
          "male",
          "male",
          "female",
          "male",
          "female",
          "male",
          "female",
          "female",
          "male",
          "male",
          "female",
          "female",
          "male",
          "male",
          "male",
          "male",
          "male",
          "female",
          "male",
          "male",
          "female",
          "male",
          "male",
          "female",
          "male",
          "male",
          "male",
          "female",
          "female",
          "male",
          "female",
          "male",
          "male",
          "male",
          "male",
          "male",
          "male",
          "male",
          "male",
          "male",
          "male",
          "female",
          "female",
          "male",
          "male",
          "female",
          "male",
          "female",
          "male",
          "female",
          "male",
          "male",
          "female",
          "female",
          "male",
          "male",
          "male",
          "male",
          "female",
          "female",
          "male",
          "male",
          "male",
          "female",
          "male",
          "male",
          "female",
          "female",
          "female",
          "female",
          "female",
          "female",
          "male",
          "male",
          "male",
          "male",
          "female",
          "male",
          "male",
          "male",
          "female",
          "female",
          "male",
          "male",
          "female",
          "male",
          "female",
          "female",
          "female",
          "male",
          "male",
          "female",
          "male",
          "male",
          "male",
          "male",
          "male",
          "male",
          "male",
          "male",
          "male",
          "female",
          "female",
          "female",
          "male",
          "female",
          "male",
          "male",
          "male",
          "female",
          "male",
          "female",
          "female",
          "male",
          "male",
          "female",
          "male",
          "male",
          "female",
          "female",
          "male",
          "female",
          "female",
          "female",
          "female",
          "male",
          "male",
          "female",
          "female",
          "male",
          "female",
          "female",
          "male",
          "male",
          "female",
          "female",
          "male",
          "female",
          "male",
          "female",
          "female",
          "female",
          "female",
          "male",
          "male",
          "male",
          "female",
          "male",
          "male",
          "female",
          "male",
          "male",
          "male",
          "female",
          "male",
          "male",
          "male",
          "female",
          "female",
          "female",
          "male",
          "male",
          "male",
          "male",
          "male",
          "male",
          "male",
          "male",
          "female",
          "female",
          "female",
          "female",
          "male",
          "male",
          "female",
          "male",
          "male",
          "male",
          "female",
          "female",
          "female",
          "female",
          "male",
          "male",
          "male",
          "male",
          "female",
          "female",
          "female",
          "male",
          "male",
          "male",
          "female",
          "female",
          "male",
          "female",
          "male",
          "male",
          "male",
          "female",
          "male",
          "female",
          "male",
          "male",
          "male",
          "female",
          "female",
          "male",
          "female",
          "male",
          "male",
          "female",
          "male",
          "male",
          "female",
          "male",
          "female",
          "male",
          "male",
          "male",
          "male",
          "female",
          "male",
          "male",
          "female",
          "male",
          "male",
          "female",
          "female",
          "female",
          "male",
          "female",
          "male",
          "male",
          "male",
          "female",
          "male",
          "male",
          "female",
          "female",
          "male",
          "male",
          "male",
          "female",
          "female",
          "male",
          "male",
          "female",
          "female",
          "female",
          "male",
          "male",
          "female",
          "male",
          "male",
          "female",
          "male",
          "male",
          "female",
          "male",
          "female",
          "male",
          "male",
          "male",
          "male",
          "male",
          "male",
          "male",
          "male",
          "female",
          "female",
          "male",
          "male",
          "male",
          "male",
          "male",
          "male",
          "male",
          "male",
          "male",
          "male",
          "female",
          "male",
          "male",
          "female",
          "female",
          "female",
          "male",
          "male",
          "male",
          "male",
          "female",
          "male",
          "male",
          "male",
          "female",
          "male",
          "female",
          "female",
          "male",
          "male",
          "male",
          "male",
          "male",
          "male",
          "male",
          "male",
          "male",
          "female",
          "male",
          "female",
          "male",
          "male",
          "female",
          "female",
          "female",
          "female",
          "male",
          "female",
          "male",
          "male",
          "male",
          "male",
          "male",
          "male",
          "female",
          "male",
          "male",
          "female",
          "male",
          "female",
          "male",
          "female",
          "male",
          "male",
          "female",
          "male",
          "male",
          "female",
          "male",
          "male",
          "male",
          "female",
          "male",
          "male",
          "female",
          "female",
          "female",
          "male",
          "female",
          "male",
          "female",
          "female",
          "female",
          "female",
          "male",
          "male",
          "male",
          "female",
          "male",
          "male",
          "male",
          "male",
          "male",
          "male",
          "male",
          "female",
          "male",
          "female",
          "male",
          "female",
          "female",
          "male",
          "male",
          "male",
          "male",
          "female",
          "male",
          "male",
          "female",
          "male",
          "male",
          "male",
          "female",
          "male",
          "female",
          "male",
          "male",
          "female",
          "female",
          "female",
          "male",
          "female",
          "female",
          "male",
          "male",
          "male",
          "female",
          "male",
          "male",
          "male",
          "male",
          "male",
          "female",
          "male",
          "female",
          "male",
          "male",
          "female",
          "male",
          "male",
          "male",
          "female",
          "male",
          "male",
          "male",
          "male",
          "male",
          "male",
          "male",
          "female",
          "female",
          "female",
          "male",
          "female",
          "male",
          "male",
          "female",
          "male",
          "female",
          "female",
          "male",
          "male",
          "male",
          "male",
          "male",
          "male",
          "male",
          "male",
          "female",
          "male",
          "male",
          "male",
          "male",
          "male",
          "male",
          "female",
          "female",
          "male",
          "male",
          "female",
          "male",
          "male",
          "female",
          "female",
          "male",
          "female",
          "male",
          "male",
          "male",
          "male",
          "female",
          "male",
          "female",
          "male",
          "female",
          "female",
          "male",
          "male",
          "female",
          "male",
          "male",
          "male",
          "male",
          "male",
          "male",
          "male",
          "male",
          "male",
          "male",
          "male",
          "female",
          "female",
          "male",
          "male",
          "male",
          "male",
          "male",
          "male",
          "female",
          "female",
          "male",
          "female",
          "male",
          "male",
          "male",
          "male",
          "male",
          "male",
          "male",
          "male",
          "female",
          "male",
          "female",
          "male",
          "male",
          "male",
          "male",
          "male",
          "female",
          "male",
          "male",
          "female",
          "male",
          "female",
          "male",
          "male",
          "male",
          "female",
          "male",
          "female",
          "male",
          "female",
          "male",
          "male",
          "male",
          "male",
          "male",
          "female",
          "female",
          "male",
          "male",
          "female",
          "male",
          "male",
          "male",
          "male",
          "male",
          "female",
          "female",
          "male",
          "female",
          "female",
          "male",
          "male",
          "male",
          "male",
          "male",
          "female",
          "male",
          "male",
          "male",
          "male",
          "male",
          "female",
          "male",
          "male",
          "male",
          "male",
          "female",
          "male",
          "male",
          "female",
          "male",
          "male",
          "male",
          "female",
          "male",
          "male",
          "male",
          "male",
          "female",
          "male",
          "male",
          "male",
          "female",
          "male",
          "female",
          "male",
          "female",
          "male",
          "male",
          "male",
          "male",
          "female",
          "male",
          "female",
          "male",
          "male",
          "female",
          "male",
          "female",
          "female",
          "female",
          "male",
          "male",
          "male",
          "male",
          "female",
          "male",
          "male",
          "male",
          "male",
          "male",
          "female",
          "male",
          "male",
          "male",
          "female",
          "female",
          "male",
          "female",
          "male",
          "female",
          "male",
          "male",
          "male",
          "male",
          "male",
          "female",
          "male",
          "female",
          "male",
          "male",
          "male",
          "female",
          "male",
          "male",
          "female",
          "male",
          "male",
          "male",
          "female",
          "male",
          "male",
          "female",
          "male",
          "male",
          "male",
          "male",
          "male",
          "female",
          "female",
          "male",
          "male",
          "male",
          "male",
          "female",
          "male",
          "male",
          "male",
          "male",
          "male",
          "male",
          "female",
          "male",
          "male",
          "male",
          "male",
          "male",
          "male",
          "female",
          "male",
          "male",
          "female",
          "female",
          "female",
          "female",
          "female",
          "male",
          "female",
          "male",
          "male",
          "male",
          "female",
          "female",
          "male",
          "female",
          "female",
          "male",
          "male",
          "male",
          "male",
          "female",
          "male",
          "male",
          "female",
          "female",
          "male",
          "male",
          "male",
          "female",
          "female",
          "male",
          "female",
          "male",
          "male",
          "female",
          "male",
          "female",
          "female",
          "male",
          "male"
         ],
         "z": [
          22,
          38,
          26,
          35,
          35,
          null,
          54,
          2,
          27,
          14,
          4,
          58,
          20,
          39,
          14,
          55,
          2,
          null,
          31,
          null,
          35,
          34,
          15,
          28,
          8,
          38,
          null,
          19,
          null,
          null,
          40,
          null,
          null,
          66,
          28,
          42,
          null,
          21,
          18,
          14,
          40,
          27,
          null,
          3,
          19,
          null,
          null,
          null,
          null,
          18,
          7,
          21,
          49,
          29,
          65,
          null,
          21,
          28.5,
          5,
          11,
          22,
          38,
          45,
          4,
          null,
          null,
          29,
          19,
          17,
          26,
          32,
          16,
          21,
          26,
          32,
          25,
          null,
          null,
          0.83,
          30,
          22,
          29,
          null,
          28,
          17,
          33,
          16,
          null,
          23,
          24,
          29,
          20,
          46,
          26,
          59,
          null,
          71,
          23,
          34,
          34,
          28,
          null,
          21,
          33,
          37,
          28,
          21,
          null,
          38,
          null,
          47,
          14.5,
          22,
          20,
          17,
          21,
          70.5,
          29,
          24,
          2,
          21,
          null,
          32.5,
          32.5,
          54,
          12,
          null,
          24,
          null,
          45,
          33,
          20,
          47,
          29,
          25,
          23,
          19,
          37,
          16,
          24,
          null,
          22,
          24,
          19,
          18,
          19,
          27,
          9,
          36.5,
          42,
          51,
          22,
          55.5,
          40.5,
          null,
          51,
          16,
          30,
          null,
          null,
          44,
          40,
          26,
          17,
          1,
          9,
          null,
          45,
          null,
          28,
          61,
          4,
          1,
          21,
          56,
          18,
          null,
          50,
          30,
          36,
          null,
          null,
          9,
          1,
          4,
          null,
          null,
          45,
          40,
          36,
          32,
          19,
          19,
          3,
          44,
          58,
          null,
          42,
          null,
          24,
          28,
          null,
          34,
          45.5,
          18,
          2,
          32,
          26,
          16,
          40,
          24,
          35,
          22,
          30,
          null,
          31,
          27,
          42,
          32,
          30,
          16,
          27,
          51,
          null,
          38,
          22,
          19,
          20.5,
          18,
          null,
          35,
          29,
          59,
          5,
          24,
          null,
          44,
          8,
          19,
          33,
          null,
          null,
          29,
          22,
          30,
          44,
          25,
          24,
          37,
          54,
          null,
          29,
          62,
          30,
          41,
          29,
          null,
          30,
          35,
          50,
          null,
          3,
          52,
          40,
          null,
          36,
          16,
          25,
          58,
          35,
          null,
          25,
          41,
          37,
          null,
          63,
          45,
          null,
          7,
          35,
          65,
          28,
          16,
          19,
          null,
          33,
          30,
          22,
          42,
          22,
          26,
          19,
          36,
          24,
          24,
          null,
          23.5,
          2,
          null,
          50,
          null,
          null,
          19,
          null,
          null,
          0.92,
          null,
          17,
          30,
          30,
          24,
          18,
          26,
          28,
          43,
          26,
          24,
          54,
          31,
          40,
          22,
          27,
          30,
          22,
          null,
          36,
          61,
          36,
          31,
          16,
          null,
          45.5,
          38,
          16,
          null,
          null,
          29,
          41,
          45,
          45,
          2,
          24,
          28,
          25,
          36,
          24,
          40,
          null,
          3,
          42,
          23,
          null,
          15,
          25,
          null,
          28,
          22,
          38,
          null,
          null,
          40,
          29,
          45,
          35,
          null,
          30,
          60,
          null,
          null,
          24,
          25,
          18,
          19,
          22,
          3,
          null,
          22,
          27,
          20,
          19,
          42,
          1,
          32,
          35,
          null,
          18,
          1,
          36,
          null,
          17,
          36,
          21,
          28,
          23,
          24,
          22,
          31,
          46,
          23,
          28,
          39,
          26,
          21,
          28,
          20,
          34,
          51,
          3,
          21,
          null,
          null,
          null,
          33,
          null,
          44,
          null,
          34,
          18,
          30,
          10,
          null,
          21,
          29,
          28,
          18,
          null,
          28,
          19,
          null,
          32,
          28,
          null,
          42,
          17,
          50,
          14,
          21,
          24,
          64,
          31,
          45,
          20,
          25,
          28,
          null,
          4,
          13,
          34,
          5,
          52,
          36,
          null,
          30,
          49,
          null,
          29,
          65,
          null,
          50,
          null,
          48,
          34,
          47,
          48,
          null,
          38,
          null,
          56,
          null,
          0.75,
          null,
          38,
          33,
          23,
          22,
          null,
          34,
          29,
          22,
          2,
          9,
          null,
          50,
          63,
          25,
          null,
          35,
          58,
          30,
          9,
          null,
          21,
          55,
          71,
          21,
          null,
          54,
          null,
          25,
          24,
          17,
          21,
          null,
          37,
          16,
          18,
          33,
          null,
          28,
          26,
          29,
          null,
          36,
          54,
          24,
          47,
          34,
          null,
          36,
          32,
          30,
          22,
          null,
          44,
          null,
          40.5,
          50,
          null,
          39,
          23,
          2,
          null,
          17,
          null,
          30,
          7,
          45,
          30,
          null,
          22,
          36,
          9,
          11,
          32,
          50,
          64,
          19,
          null,
          33,
          8,
          17,
          27,
          null,
          22,
          22,
          62,
          48,
          null,
          39,
          36,
          null,
          40,
          28,
          null,
          null,
          24,
          19,
          29,
          null,
          32,
          62,
          53,
          36,
          null,
          16,
          19,
          34,
          39,
          null,
          32,
          25,
          39,
          54,
          36,
          null,
          18,
          47,
          60,
          22,
          null,
          35,
          52,
          47,
          null,
          37,
          36,
          null,
          49,
          null,
          49,
          24,
          null,
          null,
          44,
          35,
          36,
          30,
          27,
          22,
          40,
          39,
          null,
          null,
          null,
          35,
          24,
          34,
          26,
          4,
          26,
          27,
          42,
          20,
          21,
          21,
          61,
          57,
          21,
          26,
          null,
          80,
          51,
          32,
          null,
          9,
          28,
          32,
          31,
          41,
          null,
          20,
          24,
          2,
          null,
          0.75,
          48,
          19,
          56,
          null,
          23,
          null,
          18,
          21,
          null,
          18,
          24,
          null,
          32,
          23,
          58,
          50,
          40,
          47,
          36,
          20,
          32,
          25,
          null,
          43,
          null,
          40,
          31,
          70,
          31,
          null,
          18,
          24.5,
          18,
          43,
          36,
          null,
          27,
          20,
          14,
          60,
          25,
          14,
          19,
          18,
          15,
          31,
          4,
          null,
          25,
          60,
          52,
          44,
          null,
          49,
          42,
          18,
          35,
          18,
          25,
          26,
          39,
          45,
          42,
          22,
          null,
          24,
          null,
          48,
          29,
          52,
          19,
          38,
          27,
          null,
          33,
          6,
          17,
          34,
          50,
          27,
          20,
          30,
          null,
          25,
          25,
          29,
          11,
          null,
          23,
          23,
          28.5,
          48,
          35,
          null,
          null,
          null,
          36,
          21,
          24,
          31,
          70,
          16,
          30,
          19,
          31,
          4,
          6,
          33,
          23,
          48,
          0.67,
          28,
          18,
          34,
          33,
          null,
          41,
          20,
          36,
          16,
          51,
          null,
          30.5,
          null,
          32,
          24,
          48,
          57,
          null,
          54,
          18,
          null,
          5,
          null,
          43,
          13,
          17,
          29,
          null,
          25,
          25,
          18,
          8,
          1,
          46,
          null,
          16,
          null,
          null,
          25,
          39,
          49,
          31,
          30,
          30,
          34,
          31,
          11,
          0.42,
          27,
          31,
          39,
          18,
          39,
          33,
          26,
          39,
          35,
          6,
          30.5,
          null,
          23,
          31,
          43,
          10,
          52,
          27,
          38,
          27,
          2,
          null,
          null,
          1,
          null,
          62,
          15,
          0.83,
          null,
          23,
          18,
          39,
          21,
          null,
          32,
          null,
          20,
          16,
          30,
          34.5,
          17,
          42,
          null,
          35,
          28,
          null,
          4,
          74,
          9,
          16,
          44,
          18,
          45,
          51,
          24,
          null,
          41,
          21,
          48,
          null,
          24,
          42,
          27,
          31,
          null,
          4,
          26,
          47,
          33,
          47,
          28,
          15,
          20,
          19,
          null,
          56,
          25,
          33,
          22,
          28,
          25,
          39,
          27,
          19,
          null,
          26,
          32
         ]
        }
       ],
       "layout": {
        "coloraxis": {
         "colorbar": {
          "title": {
           "text": "Age"
          }
         },
         "colorscale": [
          [
           0,
           "#0d0887"
          ],
          [
           0.1111111111111111,
           "#46039f"
          ],
          [
           0.2222222222222222,
           "#7201a8"
          ],
          [
           0.3333333333333333,
           "#9c179e"
          ],
          [
           0.4444444444444444,
           "#bd3786"
          ],
          [
           0.5555555555555556,
           "#d8576b"
          ],
          [
           0.6666666666666666,
           "#ed7953"
          ],
          [
           0.7777777777777778,
           "#fb9f3a"
          ],
          [
           0.8888888888888888,
           "#fdca26"
          ],
          [
           1,
           "#f0f921"
          ]
         ]
        },
        "legend": {
         "tracegroupgap": 0
        },
        "margin": {
         "t": 60
        },
        "scene": {
         "domain": {
          "x": [
           0,
           1
          ],
          "y": [
           0,
           1
          ]
         },
         "xaxis": {
          "title": {
           "text": "Name"
          }
         },
         "yaxis": {
          "title": {
           "text": "Sex"
          }
         },
         "zaxis": {
          "title": {
           "text": "Age"
          }
         }
        },
        "template": {
         "data": {
          "bar": [
           {
            "error_x": {
             "color": "#2a3f5f"
            },
            "error_y": {
             "color": "#2a3f5f"
            },
            "marker": {
             "line": {
              "color": "#E5ECF6",
              "width": 0.5
             },
             "pattern": {
              "fillmode": "overlay",
              "size": 10,
              "solidity": 0.2
             }
            },
            "type": "bar"
           }
          ],
          "barpolar": [
           {
            "marker": {
             "line": {
              "color": "#E5ECF6",
              "width": 0.5
             },
             "pattern": {
              "fillmode": "overlay",
              "size": 10,
              "solidity": 0.2
             }
            },
            "type": "barpolar"
           }
          ],
          "carpet": [
           {
            "aaxis": {
             "endlinecolor": "#2a3f5f",
             "gridcolor": "white",
             "linecolor": "white",
             "minorgridcolor": "white",
             "startlinecolor": "#2a3f5f"
            },
            "baxis": {
             "endlinecolor": "#2a3f5f",
             "gridcolor": "white",
             "linecolor": "white",
             "minorgridcolor": "white",
             "startlinecolor": "#2a3f5f"
            },
            "type": "carpet"
           }
          ],
          "choropleth": [
           {
            "colorbar": {
             "outlinewidth": 0,
             "ticks": ""
            },
            "type": "choropleth"
           }
          ],
          "contour": [
           {
            "colorbar": {
             "outlinewidth": 0,
             "ticks": ""
            },
            "colorscale": [
             [
              0,
              "#0d0887"
             ],
             [
              0.1111111111111111,
              "#46039f"
             ],
             [
              0.2222222222222222,
              "#7201a8"
             ],
             [
              0.3333333333333333,
              "#9c179e"
             ],
             [
              0.4444444444444444,
              "#bd3786"
             ],
             [
              0.5555555555555556,
              "#d8576b"
             ],
             [
              0.6666666666666666,
              "#ed7953"
             ],
             [
              0.7777777777777778,
              "#fb9f3a"
             ],
             [
              0.8888888888888888,
              "#fdca26"
             ],
             [
              1,
              "#f0f921"
             ]
            ],
            "type": "contour"
           }
          ],
          "contourcarpet": [
           {
            "colorbar": {
             "outlinewidth": 0,
             "ticks": ""
            },
            "type": "contourcarpet"
           }
          ],
          "heatmap": [
           {
            "colorbar": {
             "outlinewidth": 0,
             "ticks": ""
            },
            "colorscale": [
             [
              0,
              "#0d0887"
             ],
             [
              0.1111111111111111,
              "#46039f"
             ],
             [
              0.2222222222222222,
              "#7201a8"
             ],
             [
              0.3333333333333333,
              "#9c179e"
             ],
             [
              0.4444444444444444,
              "#bd3786"
             ],
             [
              0.5555555555555556,
              "#d8576b"
             ],
             [
              0.6666666666666666,
              "#ed7953"
             ],
             [
              0.7777777777777778,
              "#fb9f3a"
             ],
             [
              0.8888888888888888,
              "#fdca26"
             ],
             [
              1,
              "#f0f921"
             ]
            ],
            "type": "heatmap"
           }
          ],
          "heatmapgl": [
           {
            "colorbar": {
             "outlinewidth": 0,
             "ticks": ""
            },
            "colorscale": [
             [
              0,
              "#0d0887"
             ],
             [
              0.1111111111111111,
              "#46039f"
             ],
             [
              0.2222222222222222,
              "#7201a8"
             ],
             [
              0.3333333333333333,
              "#9c179e"
             ],
             [
              0.4444444444444444,
              "#bd3786"
             ],
             [
              0.5555555555555556,
              "#d8576b"
             ],
             [
              0.6666666666666666,
              "#ed7953"
             ],
             [
              0.7777777777777778,
              "#fb9f3a"
             ],
             [
              0.8888888888888888,
              "#fdca26"
             ],
             [
              1,
              "#f0f921"
             ]
            ],
            "type": "heatmapgl"
           }
          ],
          "histogram": [
           {
            "marker": {
             "pattern": {
              "fillmode": "overlay",
              "size": 10,
              "solidity": 0.2
             }
            },
            "type": "histogram"
           }
          ],
          "histogram2d": [
           {
            "colorbar": {
             "outlinewidth": 0,
             "ticks": ""
            },
            "colorscale": [
             [
              0,
              "#0d0887"
             ],
             [
              0.1111111111111111,
              "#46039f"
             ],
             [
              0.2222222222222222,
              "#7201a8"
             ],
             [
              0.3333333333333333,
              "#9c179e"
             ],
             [
              0.4444444444444444,
              "#bd3786"
             ],
             [
              0.5555555555555556,
              "#d8576b"
             ],
             [
              0.6666666666666666,
              "#ed7953"
             ],
             [
              0.7777777777777778,
              "#fb9f3a"
             ],
             [
              0.8888888888888888,
              "#fdca26"
             ],
             [
              1,
              "#f0f921"
             ]
            ],
            "type": "histogram2d"
           }
          ],
          "histogram2dcontour": [
           {
            "colorbar": {
             "outlinewidth": 0,
             "ticks": ""
            },
            "colorscale": [
             [
              0,
              "#0d0887"
             ],
             [
              0.1111111111111111,
              "#46039f"
             ],
             [
              0.2222222222222222,
              "#7201a8"
             ],
             [
              0.3333333333333333,
              "#9c179e"
             ],
             [
              0.4444444444444444,
              "#bd3786"
             ],
             [
              0.5555555555555556,
              "#d8576b"
             ],
             [
              0.6666666666666666,
              "#ed7953"
             ],
             [
              0.7777777777777778,
              "#fb9f3a"
             ],
             [
              0.8888888888888888,
              "#fdca26"
             ],
             [
              1,
              "#f0f921"
             ]
            ],
            "type": "histogram2dcontour"
           }
          ],
          "mesh3d": [
           {
            "colorbar": {
             "outlinewidth": 0,
             "ticks": ""
            },
            "type": "mesh3d"
           }
          ],
          "parcoords": [
           {
            "line": {
             "colorbar": {
              "outlinewidth": 0,
              "ticks": ""
             }
            },
            "type": "parcoords"
           }
          ],
          "pie": [
           {
            "automargin": true,
            "type": "pie"
           }
          ],
          "scatter": [
           {
            "fillpattern": {
             "fillmode": "overlay",
             "size": 10,
             "solidity": 0.2
            },
            "type": "scatter"
           }
          ],
          "scatter3d": [
           {
            "line": {
             "colorbar": {
              "outlinewidth": 0,
              "ticks": ""
             }
            },
            "marker": {
             "colorbar": {
              "outlinewidth": 0,
              "ticks": ""
             }
            },
            "type": "scatter3d"
           }
          ],
          "scattercarpet": [
           {
            "marker": {
             "colorbar": {
              "outlinewidth": 0,
              "ticks": ""
             }
            },
            "type": "scattercarpet"
           }
          ],
          "scattergeo": [
           {
            "marker": {
             "colorbar": {
              "outlinewidth": 0,
              "ticks": ""
             }
            },
            "type": "scattergeo"
           }
          ],
          "scattergl": [
           {
            "marker": {
             "colorbar": {
              "outlinewidth": 0,
              "ticks": ""
             }
            },
            "type": "scattergl"
           }
          ],
          "scattermapbox": [
           {
            "marker": {
             "colorbar": {
              "outlinewidth": 0,
              "ticks": ""
             }
            },
            "type": "scattermapbox"
           }
          ],
          "scatterpolar": [
           {
            "marker": {
             "colorbar": {
              "outlinewidth": 0,
              "ticks": ""
             }
            },
            "type": "scatterpolar"
           }
          ],
          "scatterpolargl": [
           {
            "marker": {
             "colorbar": {
              "outlinewidth": 0,
              "ticks": ""
             }
            },
            "type": "scatterpolargl"
           }
          ],
          "scatterternary": [
           {
            "marker": {
             "colorbar": {
              "outlinewidth": 0,
              "ticks": ""
             }
            },
            "type": "scatterternary"
           }
          ],
          "surface": [
           {
            "colorbar": {
             "outlinewidth": 0,
             "ticks": ""
            },
            "colorscale": [
             [
              0,
              "#0d0887"
             ],
             [
              0.1111111111111111,
              "#46039f"
             ],
             [
              0.2222222222222222,
              "#7201a8"
             ],
             [
              0.3333333333333333,
              "#9c179e"
             ],
             [
              0.4444444444444444,
              "#bd3786"
             ],
             [
              0.5555555555555556,
              "#d8576b"
             ],
             [
              0.6666666666666666,
              "#ed7953"
             ],
             [
              0.7777777777777778,
              "#fb9f3a"
             ],
             [
              0.8888888888888888,
              "#fdca26"
             ],
             [
              1,
              "#f0f921"
             ]
            ],
            "type": "surface"
           }
          ],
          "table": [
           {
            "cells": {
             "fill": {
              "color": "#EBF0F8"
             },
             "line": {
              "color": "white"
             }
            },
            "header": {
             "fill": {
              "color": "#C8D4E3"
             },
             "line": {
              "color": "white"
             }
            },
            "type": "table"
           }
          ]
         },
         "layout": {
          "annotationdefaults": {
           "arrowcolor": "#2a3f5f",
           "arrowhead": 0,
           "arrowwidth": 1
          },
          "autotypenumbers": "strict",
          "coloraxis": {
           "colorbar": {
            "outlinewidth": 0,
            "ticks": ""
           }
          },
          "colorscale": {
           "diverging": [
            [
             0,
             "#8e0152"
            ],
            [
             0.1,
             "#c51b7d"
            ],
            [
             0.2,
             "#de77ae"
            ],
            [
             0.3,
             "#f1b6da"
            ],
            [
             0.4,
             "#fde0ef"
            ],
            [
             0.5,
             "#f7f7f7"
            ],
            [
             0.6,
             "#e6f5d0"
            ],
            [
             0.7,
             "#b8e186"
            ],
            [
             0.8,
             "#7fbc41"
            ],
            [
             0.9,
             "#4d9221"
            ],
            [
             1,
             "#276419"
            ]
           ],
           "sequential": [
            [
             0,
             "#0d0887"
            ],
            [
             0.1111111111111111,
             "#46039f"
            ],
            [
             0.2222222222222222,
             "#7201a8"
            ],
            [
             0.3333333333333333,
             "#9c179e"
            ],
            [
             0.4444444444444444,
             "#bd3786"
            ],
            [
             0.5555555555555556,
             "#d8576b"
            ],
            [
             0.6666666666666666,
             "#ed7953"
            ],
            [
             0.7777777777777778,
             "#fb9f3a"
            ],
            [
             0.8888888888888888,
             "#fdca26"
            ],
            [
             1,
             "#f0f921"
            ]
           ],
           "sequentialminus": [
            [
             0,
             "#0d0887"
            ],
            [
             0.1111111111111111,
             "#46039f"
            ],
            [
             0.2222222222222222,
             "#7201a8"
            ],
            [
             0.3333333333333333,
             "#9c179e"
            ],
            [
             0.4444444444444444,
             "#bd3786"
            ],
            [
             0.5555555555555556,
             "#d8576b"
            ],
            [
             0.6666666666666666,
             "#ed7953"
            ],
            [
             0.7777777777777778,
             "#fb9f3a"
            ],
            [
             0.8888888888888888,
             "#fdca26"
            ],
            [
             1,
             "#f0f921"
            ]
           ]
          },
          "colorway": [
           "#636efa",
           "#EF553B",
           "#00cc96",
           "#ab63fa",
           "#FFA15A",
           "#19d3f3",
           "#FF6692",
           "#B6E880",
           "#FF97FF",
           "#FECB52"
          ],
          "font": {
           "color": "#2a3f5f"
          },
          "geo": {
           "bgcolor": "white",
           "lakecolor": "white",
           "landcolor": "#E5ECF6",
           "showlakes": true,
           "showland": true,
           "subunitcolor": "white"
          },
          "hoverlabel": {
           "align": "left"
          },
          "hovermode": "closest",
          "mapbox": {
           "style": "light"
          },
          "paper_bgcolor": "white",
          "plot_bgcolor": "#E5ECF6",
          "polar": {
           "angularaxis": {
            "gridcolor": "white",
            "linecolor": "white",
            "ticks": ""
           },
           "bgcolor": "#E5ECF6",
           "radialaxis": {
            "gridcolor": "white",
            "linecolor": "white",
            "ticks": ""
           }
          },
          "scene": {
           "xaxis": {
            "backgroundcolor": "#E5ECF6",
            "gridcolor": "white",
            "gridwidth": 2,
            "linecolor": "white",
            "showbackground": true,
            "ticks": "",
            "zerolinecolor": "white"
           },
           "yaxis": {
            "backgroundcolor": "#E5ECF6",
            "gridcolor": "white",
            "gridwidth": 2,
            "linecolor": "white",
            "showbackground": true,
            "ticks": "",
            "zerolinecolor": "white"
           },
           "zaxis": {
            "backgroundcolor": "#E5ECF6",
            "gridcolor": "white",
            "gridwidth": 2,
            "linecolor": "white",
            "showbackground": true,
            "ticks": "",
            "zerolinecolor": "white"
           }
          },
          "shapedefaults": {
           "line": {
            "color": "#2a3f5f"
           }
          },
          "ternary": {
           "aaxis": {
            "gridcolor": "white",
            "linecolor": "white",
            "ticks": ""
           },
           "baxis": {
            "gridcolor": "white",
            "linecolor": "white",
            "ticks": ""
           },
           "bgcolor": "#E5ECF6",
           "caxis": {
            "gridcolor": "white",
            "linecolor": "white",
            "ticks": ""
           }
          },
          "title": {
           "x": 0.05
          },
          "xaxis": {
           "automargin": true,
           "gridcolor": "white",
           "linecolor": "white",
           "ticks": "",
           "title": {
            "standoff": 15
           },
           "zerolinecolor": "white",
           "zerolinewidth": 2
          },
          "yaxis": {
           "automargin": true,
           "gridcolor": "white",
           "linecolor": "white",
           "ticks": "",
           "title": {
            "standoff": 15
           },
           "zerolinecolor": "white",
           "zerolinewidth": 2
          }
         }
        }
       }
      },
      "text/html": [
       "<div>                            <div id=\"559afe2f-55cb-4baa-9682-f49e41f87e94\" class=\"plotly-graph-div\" style=\"height:525px; width:100%;\"></div>            <script type=\"text/javascript\">                require([\"plotly\"], function(Plotly) {                    window.PLOTLYENV=window.PLOTLYENV || {};                                    if (document.getElementById(\"559afe2f-55cb-4baa-9682-f49e41f87e94\")) {                    Plotly.newPlot(                        \"559afe2f-55cb-4baa-9682-f49e41f87e94\",                        [{\"hovertemplate\":\"Name=%{x}\\u003cbr\\u003eSex=%{y}\\u003cbr\\u003eAge=%{marker.color}\\u003cextra\\u003e\\u003c\\u002fextra\\u003e\",\"legendgroup\":\"\",\"marker\":{\"color\":[22.0,38.0,26.0,35.0,35.0,null,54.0,2.0,27.0,14.0,4.0,58.0,20.0,39.0,14.0,55.0,2.0,null,31.0,null,35.0,34.0,15.0,28.0,8.0,38.0,null,19.0,null,null,40.0,null,null,66.0,28.0,42.0,null,21.0,18.0,14.0,40.0,27.0,null,3.0,19.0,null,null,null,null,18.0,7.0,21.0,49.0,29.0,65.0,null,21.0,28.5,5.0,11.0,22.0,38.0,45.0,4.0,null,null,29.0,19.0,17.0,26.0,32.0,16.0,21.0,26.0,32.0,25.0,null,null,0.83,30.0,22.0,29.0,null,28.0,17.0,33.0,16.0,null,23.0,24.0,29.0,20.0,46.0,26.0,59.0,null,71.0,23.0,34.0,34.0,28.0,null,21.0,33.0,37.0,28.0,21.0,null,38.0,null,47.0,14.5,22.0,20.0,17.0,21.0,70.5,29.0,24.0,2.0,21.0,null,32.5,32.5,54.0,12.0,null,24.0,null,45.0,33.0,20.0,47.0,29.0,25.0,23.0,19.0,37.0,16.0,24.0,null,22.0,24.0,19.0,18.0,19.0,27.0,9.0,36.5,42.0,51.0,22.0,55.5,40.5,null,51.0,16.0,30.0,null,null,44.0,40.0,26.0,17.0,1.0,9.0,null,45.0,null,28.0,61.0,4.0,1.0,21.0,56.0,18.0,null,50.0,30.0,36.0,null,null,9.0,1.0,4.0,null,null,45.0,40.0,36.0,32.0,19.0,19.0,3.0,44.0,58.0,null,42.0,null,24.0,28.0,null,34.0,45.5,18.0,2.0,32.0,26.0,16.0,40.0,24.0,35.0,22.0,30.0,null,31.0,27.0,42.0,32.0,30.0,16.0,27.0,51.0,null,38.0,22.0,19.0,20.5,18.0,null,35.0,29.0,59.0,5.0,24.0,null,44.0,8.0,19.0,33.0,null,null,29.0,22.0,30.0,44.0,25.0,24.0,37.0,54.0,null,29.0,62.0,30.0,41.0,29.0,null,30.0,35.0,50.0,null,3.0,52.0,40.0,null,36.0,16.0,25.0,58.0,35.0,null,25.0,41.0,37.0,null,63.0,45.0,null,7.0,35.0,65.0,28.0,16.0,19.0,null,33.0,30.0,22.0,42.0,22.0,26.0,19.0,36.0,24.0,24.0,null,23.5,2.0,null,50.0,null,null,19.0,null,null,0.92,null,17.0,30.0,30.0,24.0,18.0,26.0,28.0,43.0,26.0,24.0,54.0,31.0,40.0,22.0,27.0,30.0,22.0,null,36.0,61.0,36.0,31.0,16.0,null,45.5,38.0,16.0,null,null,29.0,41.0,45.0,45.0,2.0,24.0,28.0,25.0,36.0,24.0,40.0,null,3.0,42.0,23.0,null,15.0,25.0,null,28.0,22.0,38.0,null,null,40.0,29.0,45.0,35.0,null,30.0,60.0,null,null,24.0,25.0,18.0,19.0,22.0,3.0,null,22.0,27.0,20.0,19.0,42.0,1.0,32.0,35.0,null,18.0,1.0,36.0,null,17.0,36.0,21.0,28.0,23.0,24.0,22.0,31.0,46.0,23.0,28.0,39.0,26.0,21.0,28.0,20.0,34.0,51.0,3.0,21.0,null,null,null,33.0,null,44.0,null,34.0,18.0,30.0,10.0,null,21.0,29.0,28.0,18.0,null,28.0,19.0,null,32.0,28.0,null,42.0,17.0,50.0,14.0,21.0,24.0,64.0,31.0,45.0,20.0,25.0,28.0,null,4.0,13.0,34.0,5.0,52.0,36.0,null,30.0,49.0,null,29.0,65.0,null,50.0,null,48.0,34.0,47.0,48.0,null,38.0,null,56.0,null,0.75,null,38.0,33.0,23.0,22.0,null,34.0,29.0,22.0,2.0,9.0,null,50.0,63.0,25.0,null,35.0,58.0,30.0,9.0,null,21.0,55.0,71.0,21.0,null,54.0,null,25.0,24.0,17.0,21.0,null,37.0,16.0,18.0,33.0,null,28.0,26.0,29.0,null,36.0,54.0,24.0,47.0,34.0,null,36.0,32.0,30.0,22.0,null,44.0,null,40.5,50.0,null,39.0,23.0,2.0,null,17.0,null,30.0,7.0,45.0,30.0,null,22.0,36.0,9.0,11.0,32.0,50.0,64.0,19.0,null,33.0,8.0,17.0,27.0,null,22.0,22.0,62.0,48.0,null,39.0,36.0,null,40.0,28.0,null,null,24.0,19.0,29.0,null,32.0,62.0,53.0,36.0,null,16.0,19.0,34.0,39.0,null,32.0,25.0,39.0,54.0,36.0,null,18.0,47.0,60.0,22.0,null,35.0,52.0,47.0,null,37.0,36.0,null,49.0,null,49.0,24.0,null,null,44.0,35.0,36.0,30.0,27.0,22.0,40.0,39.0,null,null,null,35.0,24.0,34.0,26.0,4.0,26.0,27.0,42.0,20.0,21.0,21.0,61.0,57.0,21.0,26.0,null,80.0,51.0,32.0,null,9.0,28.0,32.0,31.0,41.0,null,20.0,24.0,2.0,null,0.75,48.0,19.0,56.0,null,23.0,null,18.0,21.0,null,18.0,24.0,null,32.0,23.0,58.0,50.0,40.0,47.0,36.0,20.0,32.0,25.0,null,43.0,null,40.0,31.0,70.0,31.0,null,18.0,24.5,18.0,43.0,36.0,null,27.0,20.0,14.0,60.0,25.0,14.0,19.0,18.0,15.0,31.0,4.0,null,25.0,60.0,52.0,44.0,null,49.0,42.0,18.0,35.0,18.0,25.0,26.0,39.0,45.0,42.0,22.0,null,24.0,null,48.0,29.0,52.0,19.0,38.0,27.0,null,33.0,6.0,17.0,34.0,50.0,27.0,20.0,30.0,null,25.0,25.0,29.0,11.0,null,23.0,23.0,28.5,48.0,35.0,null,null,null,36.0,21.0,24.0,31.0,70.0,16.0,30.0,19.0,31.0,4.0,6.0,33.0,23.0,48.0,0.67,28.0,18.0,34.0,33.0,null,41.0,20.0,36.0,16.0,51.0,null,30.5,null,32.0,24.0,48.0,57.0,null,54.0,18.0,null,5.0,null,43.0,13.0,17.0,29.0,null,25.0,25.0,18.0,8.0,1.0,46.0,null,16.0,null,null,25.0,39.0,49.0,31.0,30.0,30.0,34.0,31.0,11.0,0.42,27.0,31.0,39.0,18.0,39.0,33.0,26.0,39.0,35.0,6.0,30.5,null,23.0,31.0,43.0,10.0,52.0,27.0,38.0,27.0,2.0,null,null,1.0,null,62.0,15.0,0.83,null,23.0,18.0,39.0,21.0,null,32.0,null,20.0,16.0,30.0,34.5,17.0,42.0,null,35.0,28.0,null,4.0,74.0,9.0,16.0,44.0,18.0,45.0,51.0,24.0,null,41.0,21.0,48.0,null,24.0,42.0,27.0,31.0,null,4.0,26.0,47.0,33.0,47.0,28.0,15.0,20.0,19.0,null,56.0,25.0,33.0,22.0,28.0,25.0,39.0,27.0,19.0,null,26.0,32.0],\"coloraxis\":\"coloraxis\",\"symbol\":\"circle\"},\"mode\":\"markers\",\"name\":\"\",\"scene\":\"scene\",\"showlegend\":false,\"x\":[\"Braund, Mr. Owen Harris\",\"Cumings, Mrs. John Bradley (Florence Briggs Thayer)\",\"Heikkinen, Miss. Laina\",\"Futrelle, Mrs. Jacques Heath (Lily May Peel)\",\"Allen, Mr. William Henry\",\"Moran, Mr. James\",\"McCarthy, Mr. Timothy J\",\"Palsson, Master. Gosta Leonard\",\"Johnson, Mrs. Oscar W (Elisabeth Vilhelmina Berg)\",\"Nasser, Mrs. Nicholas (Adele Achem)\",\"Sandstrom, Miss. Marguerite Rut\",\"Bonnell, Miss. Elizabeth\",\"Saundercock, Mr. William Henry\",\"Andersson, Mr. Anders Johan\",\"Vestrom, Miss. Hulda Amanda Adolfina\",\"Hewlett, Mrs. (Mary D Kingcome) \",\"Rice, Master. Eugene\",\"Williams, Mr. Charles Eugene\",\"Vander Planke, Mrs. Julius (Emelia Maria Vandemoortele)\",\"Masselmani, Mrs. Fatima\",\"Fynney, Mr. Joseph J\",\"Beesley, Mr. Lawrence\",\"McGowan, Miss. Anna \\\"Annie\\\"\",\"Sloper, Mr. William Thompson\",\"Palsson, Miss. Torborg Danira\",\"Asplund, Mrs. Carl Oscar (Selma Augusta Emilia Johansson)\",\"Emir, Mr. Farred Chehab\",\"Fortune, Mr. Charles Alexander\",\"O'Dwyer, Miss. Ellen \\\"Nellie\\\"\",\"Todoroff, Mr. Lalio\",\"Uruchurtu, Don. Manuel E\",\"Spencer, Mrs. William Augustus (Marie Eugenie)\",\"Glynn, Miss. Mary Agatha\",\"Wheadon, Mr. Edward H\",\"Meyer, Mr. Edgar Joseph\",\"Holverson, Mr. Alexander Oskar\",\"Mamee, Mr. Hanna\",\"Cann, Mr. Ernest Charles\",\"Vander Planke, Miss. Augusta Maria\",\"Nicola-Yarred, Miss. Jamila\",\"Ahlin, Mrs. Johan (Johanna Persdotter Larsson)\",\"Turpin, Mrs. William John Robert (Dorothy Ann Wonnacott)\",\"Kraeff, Mr. Theodor\",\"Laroche, Miss. Simonne Marie Anne Andree\",\"Devaney, Miss. Margaret Delia\",\"Rogers, Mr. William John\",\"Lennon, Mr. Denis\",\"O'Driscoll, Miss. Bridget\",\"Samaan, Mr. Youssef\",\"Arnold-Franchi, Mrs. Josef (Josefine Franchi)\",\"Panula, Master. Juha Niilo\",\"Nosworthy, Mr. Richard Cater\",\"Harper, Mrs. Henry Sleeper (Myna Haxtun)\",\"Faunthorpe, Mrs. Lizzie (Elizabeth Anne Wilkinson)\",\"Ostby, Mr. Engelhart Cornelius\",\"Woolner, Mr. Hugh\",\"Rugg, Miss. Emily\",\"Novel, Mr. Mansouer\",\"West, Miss. Constance Mirium\",\"Goodwin, Master. William Frederick\",\"Sirayanian, Mr. Orsen\",\"Icard, Miss. Amelie\",\"Harris, Mr. Henry Birkhardt\",\"Skoog, Master. Harald\",\"Stewart, Mr. Albert A\",\"Moubarek, Master. Gerios\",\"Nye, Mrs. (Elizabeth Ramell)\",\"Crease, Mr. Ernest James\",\"Andersson, Miss. Erna Alexandra\",\"Kink, Mr. Vincenz\",\"Jenkin, Mr. Stephen Curnow\",\"Goodwin, Miss. Lillian Amy\",\"Hood, Mr. Ambrose Jr\",\"Chronopoulos, Mr. Apostolos\",\"Bing, Mr. Lee\",\"Moen, Mr. Sigurd Hansen\",\"Staneff, Mr. Ivan\",\"Moutal, Mr. Rahamin Haim\",\"Caldwell, Master. Alden Gates\",\"Dowdell, Miss. Elizabeth\",\"Waelens, Mr. Achille\",\"Sheerlinck, Mr. Jan Baptist\",\"McDermott, Miss. Brigdet Delia\",\"Carrau, Mr. Francisco M\",\"Ilett, Miss. Bertha\",\"Backstrom, Mrs. Karl Alfred (Maria Mathilda Gustafsson)\",\"Ford, Mr. William Neal\",\"Slocovski, Mr. Selman Francis\",\"Fortune, Miss. Mabel Helen\",\"Celotti, Mr. Francesco\",\"Christmann, Mr. Emil\",\"Andreasson, Mr. Paul Edvin\",\"Chaffee, Mr. Herbert Fuller\",\"Dean, Mr. Bertram Frank\",\"Coxon, Mr. Daniel\",\"Shorney, Mr. Charles Joseph\",\"Goldschmidt, Mr. George B\",\"Greenfield, Mr. William Bertram\",\"Doling, Mrs. John T (Ada Julia Bone)\",\"Kantor, Mr. Sinai\",\"Petranec, Miss. Matilda\",\"Petroff, Mr. Pastcho (\\\"Pentcho\\\")\",\"White, Mr. Richard Frasar\",\"Johansson, Mr. Gustaf Joel\",\"Gustafsson, Mr. Anders Vilhelm\",\"Mionoff, Mr. Stoytcho\",\"Salkjelsvik, Miss. Anna Kristine\",\"Moss, Mr. Albert Johan\",\"Rekic, Mr. Tido\",\"Moran, Miss. Bertha\",\"Porter, Mr. Walter Chamberlain\",\"Zabour, Miss. Hileni\",\"Barton, Mr. David John\",\"Jussila, Miss. Katriina\",\"Attalah, Miss. Malake\",\"Pekoniemi, Mr. Edvard\",\"Connors, Mr. Patrick\",\"Turpin, Mr. William John Robert\",\"Baxter, Mr. Quigg Edmond\",\"Andersson, Miss. Ellis Anna Maria\",\"Hickman, Mr. Stanley George\",\"Moore, Mr. Leonard Charles\",\"Nasser, Mr. Nicholas\",\"Webber, Miss. Susan\",\"White, Mr. Percival Wayland\",\"Nicola-Yarred, Master. Elias\",\"McMahon, Mr. Martin\",\"Madsen, Mr. Fridtjof Arne\",\"Peter, Miss. Anna\",\"Ekstrom, Mr. Johan\",\"Drazenoic, Mr. Jozef\",\"Coelho, Mr. Domingos Fernandeo\",\"Robins, Mrs. Alexander A (Grace Charity Laury)\",\"Weisz, Mrs. Leopold (Mathilde Francoise Pede)\",\"Sobey, Mr. Samuel James Hayden\",\"Richard, Mr. Emile\",\"Newsom, Miss. Helen Monypeny\",\"Futrelle, Mr. Jacques Heath\",\"Osen, Mr. Olaf Elon\",\"Giglio, Mr. Victor\",\"Boulos, Mrs. Joseph (Sultana)\",\"Nysten, Miss. Anna Sofia\",\"Hakkarainen, Mrs. Pekka Pietari (Elin Matilda Dolck)\",\"Burke, Mr. Jeremiah\",\"Andrew, Mr. Edgardo Samuel\",\"Nicholls, Mr. Joseph Charles\",\"Andersson, Mr. August Edvard (\\\"Wennerstrom\\\")\",\"Ford, Miss. Robina Maggie \\\"Ruby\\\"\",\"Navratil, Mr. Michel (\\\"Louis M Hoffman\\\")\",\"Byles, Rev. Thomas Roussel Davids\",\"Bateman, Rev. Robert James\",\"Pears, Mrs. Thomas (Edith Wearne)\",\"Meo, Mr. Alfonzo\",\"van Billiard, Mr. Austin Blyler\",\"Olsen, Mr. Ole Martin\",\"Williams, Mr. Charles Duane\",\"Gilnagh, Miss. Katherine \\\"Katie\\\"\",\"Corn, Mr. Harry\",\"Smiljanic, Mr. Mile\",\"Sage, Master. Thomas Henry\",\"Cribb, Mr. John Hatfield\",\"Watt, Mrs. James (Elizabeth \\\"Bessie\\\" Inglis Milne)\",\"Bengtsson, Mr. John Viktor\",\"Calic, Mr. Jovo\",\"Panula, Master. Eino Viljami\",\"Goldsmith, Master. Frank John William \\\"Frankie\\\"\",\"Chibnall, Mrs. (Edith Martha Bowerman)\",\"Skoog, Mrs. William (Anna Bernhardina Karlsson)\",\"Baumann, Mr. John D\",\"Ling, Mr. Lee\",\"Van der hoef, Mr. Wyckoff\",\"Rice, Master. Arthur\",\"Johnson, Miss. Eleanor Ileen\",\"Sivola, Mr. Antti Wilhelm\",\"Smith, Mr. James Clinch\",\"Klasen, Mr. Klas Albin\",\"Lefebre, Master. Henry Forbes\",\"Isham, Miss. Ann Elizabeth\",\"Hale, Mr. Reginald\",\"Leonard, Mr. Lionel\",\"Sage, Miss. Constance Gladys\",\"Pernot, Mr. Rene\",\"Asplund, Master. Clarence Gustaf Hugo\",\"Becker, Master. Richard F\",\"Kink-Heilmann, Miss. Luise Gretchen\",\"Rood, Mr. Hugh Roscoe\",\"O'Brien, Mrs. Thomas (Johanna \\\"Hannah\\\" Godfrey)\",\"Romaine, Mr. Charles Hallace (\\\"Mr C Rolmane\\\")\",\"Bourke, Mr. John\",\"Turcin, Mr. Stjepan\",\"Pinsky, Mrs. (Rosa)\",\"Carbines, Mr. William\",\"Andersen-Jensen, Miss. Carla Christine Nielsine\",\"Navratil, Master. Michel M\",\"Brown, Mrs. James Joseph (Margaret Tobin)\",\"Lurette, Miss. Elise\",\"Mernagh, Mr. Robert\",\"Olsen, Mr. Karl Siegwart Andreas\",\"Madigan, Miss. Margaret \\\"Maggie\\\"\",\"Yrois, Miss. Henriette (\\\"Mrs Harbeck\\\")\",\"Vande Walle, Mr. Nestor Cyriel\",\"Sage, Mr. Frederick\",\"Johanson, Mr. Jakob Alfred\",\"Youseff, Mr. Gerious\",\"Cohen, Mr. Gurshon \\\"Gus\\\"\",\"Strom, Miss. Telma Matilda\",\"Backstrom, Mr. Karl Alfred\",\"Albimona, Mr. Nassef Cassem\",\"Carr, Miss. Helen \\\"Ellen\\\"\",\"Blank, Mr. Henry\",\"Ali, Mr. Ahmed\",\"Cameron, Miss. Clear Annie\",\"Perkin, Mr. John Henry\",\"Givard, Mr. Hans Kristensen\",\"Kiernan, Mr. Philip\",\"Newell, Miss. Madeleine\",\"Honkanen, Miss. Eliina\",\"Jacobsohn, Mr. Sidney Samuel\",\"Bazzani, Miss. Albina\",\"Harris, Mr. Walter\",\"Sunderland, Mr. Victor Francis\",\"Bracken, Mr. James H\",\"Green, Mr. George Henry\",\"Nenkoff, Mr. Christo\",\"Hoyt, Mr. Frederick Maxfield\",\"Berglund, Mr. Karl Ivar Sven\",\"Mellors, Mr. William John\",\"Lovell, Mr. John Hall (\\\"Henry\\\")\",\"Fahlstrom, Mr. Arne Jonas\",\"Lefebre, Miss. Mathilde\",\"Harris, Mrs. Henry Birkhardt (Irene Wallach)\",\"Larsson, Mr. Bengt Edvin\",\"Sjostedt, Mr. Ernst Adolf\",\"Asplund, Miss. Lillian Gertrud\",\"Leyson, Mr. Robert William Norman\",\"Harknett, Miss. Alice Phoebe\",\"Hold, Mr. Stephen\",\"Collyer, Miss. Marjorie \\\"Lottie\\\"\",\"Pengelly, Mr. Frederick William\",\"Hunt, Mr. George Henry\",\"Zabour, Miss. Thamine\",\"Murphy, Miss. Katherine \\\"Kate\\\"\",\"Coleridge, Mr. Reginald Charles\",\"Maenpaa, Mr. Matti Alexanteri\",\"Attalah, Mr. Sleiman\",\"Minahan, Dr. William Edward\",\"Lindahl, Miss. Agda Thorilda Viktoria\",\"Hamalainen, Mrs. William (Anna)\",\"Beckwith, Mr. Richard Leonard\",\"Carter, Rev. Ernest Courtenay\",\"Reed, Mr. James George\",\"Strom, Mrs. Wilhelm (Elna Matilda Persson)\",\"Stead, Mr. William Thomas\",\"Lobb, Mr. William Arthur\",\"Rosblom, Mrs. Viktor (Helena Wilhelmina)\",\"Touma, Mrs. Darwis (Hanne Youssef Razi)\",\"Thorne, Mrs. Gertrude Maybelle\",\"Cherry, Miss. Gladys\",\"Ward, Miss. Anna\",\"Parrish, Mrs. (Lutie Davis)\",\"Smith, Mr. Thomas\",\"Asplund, Master. Edvin Rojj Felix\",\"Taussig, Mr. Emil\",\"Harrison, Mr. William\",\"Henry, Miss. Delia\",\"Reeves, Mr. David\",\"Panula, Mr. Ernesti Arvid\",\"Persson, Mr. Ernst Ulrik\",\"Graham, Mrs. William Thompson (Edith Junkins)\",\"Bissette, Miss. Amelia\",\"Cairns, Mr. Alexander\",\"Tornquist, Mr. William Henry\",\"Mellinger, Mrs. (Elizabeth Anne Maidment)\",\"Natsch, Mr. Charles H\",\"Healy, Miss. Hanora \\\"Nora\\\"\",\"Andrews, Miss. Kornelia Theodosia\",\"Lindblom, Miss. Augusta Charlotta\",\"Parkes, Mr. Francis \\\"Frank\\\"\",\"Rice, Master. Eric\",\"Abbott, Mrs. Stanton (Rosa Hunt)\",\"Duane, Mr. Frank\",\"Olsson, Mr. Nils Johan Goransson\",\"de Pelsmaeker, Mr. Alfons\",\"Dorking, Mr. Edward Arthur\",\"Smith, Mr. Richard William\",\"Stankovic, Mr. Ivan\",\"de Mulder, Mr. Theodore\",\"Naidenoff, Mr. Penko\",\"Hosono, Mr. Masabumi\",\"Connolly, Miss. Kate\",\"Barber, Miss. Ellen \\\"Nellie\\\"\",\"Bishop, Mrs. Dickinson H (Helen Walton)\",\"Levy, Mr. Rene Jacques\",\"Haas, Miss. Aloisia\",\"Mineff, Mr. Ivan\",\"Lewy, Mr. Ervin G\",\"Hanna, Mr. Mansour\",\"Allison, Miss. Helen Loraine\",\"Saalfeld, Mr. Adolphe\",\"Baxter, Mrs. James (Helene DeLaudeniere Chaput)\",\"Kelly, Miss. Anna Katherine \\\"Annie Kate\\\"\",\"McCoy, Mr. Bernard\",\"Johnson, Mr. William Cahoone Jr\",\"Keane, Miss. Nora A\",\"Williams, Mr. Howard Hugh \\\"Harry\\\"\",\"Allison, Master. Hudson Trevor\",\"Fleming, Miss. Margaret\",\"Penasco y Castellana, Mrs. Victor de Satode (Maria Josefa Perez de Soto y Vallejo)\",\"Abelson, Mr. Samuel\",\"Francatelli, Miss. Laura Mabel\",\"Hays, Miss. Margaret Bechstein\",\"Ryerson, Miss. Emily Borie\",\"Lahtinen, Mrs. William (Anna Sylfven)\",\"Hendekovic, Mr. Ignjac\",\"Hart, Mr. Benjamin\",\"Nilsson, Miss. Helmina Josefina\",\"Kantor, Mrs. Sinai (Miriam Sternin)\",\"Moraweck, Dr. Ernest\",\"Wick, Miss. Mary Natalie\",\"Spedden, Mrs. Frederic Oakley (Margaretta Corning Stone)\",\"Dennis, Mr. Samuel\",\"Danoff, Mr. Yoto\",\"Slayter, Miss. Hilda Mary\",\"Caldwell, Mrs. Albert Francis (Sylvia Mae Harbaugh)\",\"Sage, Mr. George John Jr\",\"Young, Miss. Marie Grice\",\"Nysveen, Mr. Johan Hansen\",\"Ball, Mrs. (Ada E Hall)\",\"Goldsmith, Mrs. Frank John (Emily Alice Brown)\",\"Hippach, Miss. Jean Gertrude\",\"McCoy, Miss. Agnes\",\"Partner, Mr. Austen\",\"Graham, Mr. George Edward\",\"Vander Planke, Mr. Leo Edmondus\",\"Frauenthal, Mrs. Henry William (Clara Heinsheimer)\",\"Denkoff, Mr. Mitto\",\"Pears, Mr. Thomas Clinton\",\"Burns, Miss. Elizabeth Margaret\",\"Dahl, Mr. Karl Edwart\",\"Blackwell, Mr. Stephen Weart\",\"Navratil, Master. Edmond Roger\",\"Fortune, Miss. Alice Elizabeth\",\"Collander, Mr. Erik Gustaf\",\"Sedgwick, Mr. Charles Frederick Waddington\",\"Fox, Mr. Stanley Hubert\",\"Brown, Miss. Amelia \\\"Mildred\\\"\",\"Smith, Miss. Marion Elsie\",\"Davison, Mrs. Thomas Henry (Mary E Finck)\",\"Coutts, Master. William Loch \\\"William\\\"\",\"Dimic, Mr. Jovan\",\"Odahl, Mr. Nils Martin\",\"Williams-Lambert, Mr. Fletcher Fellows\",\"Elias, Mr. Tannous\",\"Arnold-Franchi, Mr. Josef\",\"Yousif, Mr. Wazli\",\"Vanden Steen, Mr. Leo Peter\",\"Bowerman, Miss. Elsie Edith\",\"Funk, Miss. Annie Clemmer\",\"McGovern, Miss. Mary\",\"Mockler, Miss. Helen Mary \\\"Ellie\\\"\",\"Skoog, Mr. Wilhelm\",\"del Carlo, Mr. Sebastiano\",\"Barbara, Mrs. (Catherine David)\",\"Asim, Mr. Adola\",\"O'Brien, Mr. Thomas\",\"Adahl, Mr. Mauritz Nils Martin\",\"Warren, Mrs. Frank Manley (Anna Sophia Atkinson)\",\"Moussa, Mrs. (Mantoura Boulos)\",\"Jermyn, Miss. Annie\",\"Aubart, Mme. Leontine Pauline\",\"Harder, Mr. George Achilles\",\"Wiklund, Mr. Jakob Alfred\",\"Beavan, Mr. William Thomas\",\"Ringhini, Mr. Sante\",\"Palsson, Miss. Stina Viola\",\"Meyer, Mrs. Edgar Joseph (Leila Saks)\",\"Landergren, Miss. Aurora Adelia\",\"Widener, Mr. Harry Elkins\",\"Betros, Mr. Tannous\",\"Gustafsson, Mr. Karl Gideon\",\"Bidois, Miss. Rosalie\",\"Nakid, Miss. Maria (\\\"Mary\\\")\",\"Tikkanen, Mr. Juho\",\"Holverson, Mrs. Alexander Oskar (Mary Aline Towner)\",\"Plotcharsky, Mr. Vasil\",\"Davies, Mr. Charles Henry\",\"Goodwin, Master. Sidney Leonard\",\"Buss, Miss. Kate\",\"Sadlier, Mr. Matthew\",\"Lehmann, Miss. Bertha\",\"Carter, Mr. William Ernest\",\"Jansson, Mr. Carl Olof\",\"Gustafsson, Mr. Johan Birger\",\"Newell, Miss. Marjorie\",\"Sandstrom, Mrs. Hjalmar (Agnes Charlotta Bengtsson)\",\"Johansson, Mr. Erik\",\"Olsson, Miss. Elina\",\"McKane, Mr. Peter David\",\"Pain, Dr. Alfred\",\"Trout, Mrs. William H (Jessie L)\",\"Niskanen, Mr. Juha\",\"Adams, Mr. John\",\"Jussila, Miss. Mari Aina\",\"Hakkarainen, Mr. Pekka Pietari\",\"Oreskovic, Miss. Marija\",\"Gale, Mr. Shadrach\",\"Widegren, Mr. Carl\\u002fCharles Peter\",\"Richards, Master. William Rowe\",\"Birkeland, Mr. Hans Martin Monsen\",\"Lefebre, Miss. Ida\",\"Sdycoff, Mr. Todor\",\"Hart, Mr. Henry\",\"Minahan, Miss. Daisy E\",\"Cunningham, Mr. Alfred Fleming\",\"Sundman, Mr. Johan Julian\",\"Meek, Mrs. Thomas (Annie Louise Rowley)\",\"Drew, Mrs. James Vivian (Lulu Thorne Christian)\",\"Silven, Miss. Lyyli Karoliina\",\"Matthews, Mr. William John\",\"Van Impe, Miss. Catharina\",\"Gheorgheff, Mr. Stanio\",\"Charters, Mr. David\",\"Zimmerman, Mr. Leo\",\"Danbom, Mrs. Ernst Gilbert (Anna Sigrid Maria Brogren)\",\"Rosblom, Mr. Viktor Richard\",\"Wiseman, Mr. Phillippe\",\"Clarke, Mrs. Charles V (Ada Maria Winfield)\",\"Phillips, Miss. Kate Florence (\\\"Mrs Kate Louise Phillips Marshall\\\")\",\"Flynn, Mr. James\",\"Pickard, Mr. Berk (Berk Trembisky)\",\"Bjornstrom-Steffansson, Mr. Mauritz Hakan\",\"Thorneycroft, Mrs. Percival (Florence Kate White)\",\"Louch, Mrs. Charles Alexander (Alice Adelaide Slow)\",\"Kallio, Mr. Nikolai Erland\",\"Silvey, Mr. William Baird\",\"Carter, Miss. Lucile Polk\",\"Ford, Miss. Doolina Margaret \\\"Daisy\\\"\",\"Richards, Mrs. Sidney (Emily Hocking)\",\"Fortune, Mr. Mark\",\"Kvillner, Mr. Johan Henrik Johannesson\",\"Hart, Mrs. Benjamin (Esther Ada Bloomfield)\",\"Hampe, Mr. Leon\",\"Petterson, Mr. Johan Emil\",\"Reynaldo, Ms. Encarnacion\",\"Johannesen-Bratthammer, Mr. Bernt\",\"Dodge, Master. Washington\",\"Mellinger, Miss. Madeleine Violet\",\"Seward, Mr. Frederic Kimber\",\"Baclini, Miss. Marie Catherine\",\"Peuchen, Major. Arthur Godfrey\",\"West, Mr. Edwy Arthur\",\"Hagland, Mr. Ingvald Olai Olsen\",\"Foreman, Mr. Benjamin Laventall\",\"Goldenberg, Mr. Samuel L\",\"Peduzzi, Mr. Joseph\",\"Jalsevac, Mr. Ivan\",\"Millet, Mr. Francis Davis\",\"Kenyon, Mrs. Frederick R (Marion)\",\"Toomey, Miss. Ellen\",\"O'Connor, Mr. Maurice\",\"Anderson, Mr. Harry\",\"Morley, Mr. William\",\"Gee, Mr. Arthur H\",\"Milling, Mr. Jacob Christian\",\"Maisner, Mr. Simon\",\"Goncalves, Mr. Manuel Estanslas\",\"Campbell, Mr. William\",\"Smart, Mr. John Montgomery\",\"Scanlan, Mr. James\",\"Baclini, Miss. Helene Barbara\",\"Keefe, Mr. Arthur\",\"Cacic, Mr. Luka\",\"West, Mrs. Edwy Arthur (Ada Mary Worth)\",\"Jerwan, Mrs. Amin S (Marie Marthe Thuillard)\",\"Strandberg, Miss. Ida Sofia\",\"Clifford, Mr. George Quincy\",\"Renouf, Mr. Peter Henry\",\"Braund, Mr. Lewis Richard\",\"Karlsson, Mr. Nils August\",\"Hirvonen, Miss. Hildur E\",\"Goodwin, Master. Harold Victor\",\"Frost, Mr. Anthony Wood \\\"Archie\\\"\",\"Rouse, Mr. Richard Henry\",\"Turkula, Mrs. (Hedwig)\",\"Bishop, Mr. Dickinson H\",\"Lefebre, Miss. Jeannie\",\"Hoyt, Mrs. Frederick Maxfield (Jane Anne Forby)\",\"Kent, Mr. Edward Austin\",\"Somerton, Mr. Francis William\",\"Coutts, Master. Eden Leslie \\\"Neville\\\"\",\"Hagland, Mr. Konrad Mathias Reiersen\",\"Windelov, Mr. Einar\",\"Molson, Mr. Harry Markland\",\"Artagaveytia, Mr. Ramon\",\"Stanley, Mr. Edward Roland\",\"Yousseff, Mr. Gerious\",\"Eustis, Miss. Elizabeth Mussey\",\"Shellard, Mr. Frederick William\",\"Allison, Mrs. Hudson J C (Bessie Waldo Daniels)\",\"Svensson, Mr. Olof\",\"Calic, Mr. Petar\",\"Canavan, Miss. Mary\",\"O'Sullivan, Miss. Bridget Mary\",\"Laitinen, Miss. Kristina Sofia\",\"Maioni, Miss. Roberta\",\"Penasco y Castellana, Mr. Victor de Satode\",\"Quick, Mrs. Frederick Charles (Jane Richards)\",\"Bradley, Mr. George (\\\"George Arthur Brayton\\\")\",\"Olsen, Mr. Henry Margido\",\"Lang, Mr. Fang\",\"Daly, Mr. Eugene Patrick\",\"Webber, Mr. James\",\"McGough, Mr. James Robert\",\"Rothschild, Mrs. Martin (Elizabeth L. Barrett)\",\"Coleff, Mr. Satio\",\"Walker, Mr. William Anderson\",\"Lemore, Mrs. (Amelia Milley)\",\"Ryan, Mr. Patrick\",\"Angle, Mrs. William A (Florence \\\"Mary\\\" Agnes Hughes)\",\"Pavlovic, Mr. Stefo\",\"Perreault, Miss. Anne\",\"Vovk, Mr. Janko\",\"Lahoud, Mr. Sarkis\",\"Hippach, Mrs. Louis Albert (Ida Sophia Fischer)\",\"Kassem, Mr. Fared\",\"Farrell, Mr. James\",\"Ridsdale, Miss. Lucy\",\"Farthing, Mr. John\",\"Salonen, Mr. Johan Werner\",\"Hocking, Mr. Richard George\",\"Quick, Miss. Phyllis May\",\"Toufik, Mr. Nakli\",\"Elias, Mr. Joseph Jr\",\"Peter, Mrs. Catherine (Catherine Rizk)\",\"Cacic, Miss. Marija\",\"Hart, Miss. Eva Miriam\",\"Butt, Major. Archibald Willingham\",\"LeRoy, Miss. Bertha\",\"Risien, Mr. Samuel Beard\",\"Frolicher, Miss. Hedwig Margaritha\",\"Crosby, Miss. Harriet R\",\"Andersson, Miss. Ingeborg Constanzia\",\"Andersson, Miss. Sigrid Elisabeth\",\"Beane, Mr. Edward\",\"Douglas, Mr. Walter Donald\",\"Nicholson, Mr. Arthur Ernest\",\"Beane, Mrs. Edward (Ethel Clarke)\",\"Padro y Manent, Mr. Julian\",\"Goldsmith, Mr. Frank John\",\"Davies, Master. John Morgan Jr\",\"Thayer, Mr. John Borland Jr\",\"Sharp, Mr. Percival James R\",\"O'Brien, Mr. Timothy\",\"Leeni, Mr. Fahim (\\\"Philip Zenni\\\")\",\"Ohman, Miss. Velin\",\"Wright, Mr. George\",\"Duff Gordon, Lady. (Lucille Christiana Sutherland) (\\\"Mrs Morgan\\\")\",\"Robbins, Mr. Victor\",\"Taussig, Mrs. Emil (Tillie Mandelbaum)\",\"de Messemaeker, Mrs. Guillaume Joseph (Emma)\",\"Morrow, Mr. Thomas Rowan\",\"Sivic, Mr. Husein\",\"Norman, Mr. Robert Douglas\",\"Simmons, Mr. John\",\"Meanwell, Miss. (Marion Ogden)\",\"Davies, Mr. Alfred J\",\"Stoytcheff, Mr. Ilia\",\"Palsson, Mrs. Nils (Alma Cornelia Berglund)\",\"Doharr, Mr. Tannous\",\"Jonsson, Mr. Carl\",\"Harris, Mr. George\",\"Appleton, Mrs. Edward Dale (Charlotte Lamson)\",\"Flynn, Mr. John Irwin (\\\"Irving\\\")\",\"Kelly, Miss. Mary\",\"Rush, Mr. Alfred George John\",\"Patchett, Mr. George\",\"Garside, Miss. Ethel\",\"Silvey, Mrs. William Baird (Alice Munger)\",\"Caram, Mrs. Joseph (Maria Elias)\",\"Jussila, Mr. Eiriik\",\"Christy, Miss. Julie Rachel\",\"Thayer, Mrs. John Borland (Marian Longstreth Morris)\",\"Downton, Mr. William James\",\"Ross, Mr. John Hugo\",\"Paulner, Mr. Uscher\",\"Taussig, Miss. Ruth\",\"Jarvis, Mr. John Denzil\",\"Frolicher-Stehli, Mr. Maxmillian\",\"Gilinski, Mr. Eliezer\",\"Murdlin, Mr. Joseph\",\"Rintamaki, Mr. Matti\",\"Stephenson, Mrs. Walter Bertram (Martha Eustis)\",\"Elsbury, Mr. William James\",\"Bourke, Miss. Mary\",\"Chapman, Mr. John Henry\",\"Van Impe, Mr. Jean Baptiste\",\"Leitch, Miss. Jessie Wills\",\"Johnson, Mr. Alfred\",\"Boulos, Mr. Hanna\",\"Duff Gordon, Sir. Cosmo Edmund (\\\"Mr Morgan\\\")\",\"Jacobsohn, Mrs. Sidney Samuel (Amy Frances Christy)\",\"Slabenoff, Mr. Petco\",\"Harrington, Mr. Charles H\",\"Torber, Mr. Ernst William\",\"Homer, Mr. Harry (\\\"Mr E Haven\\\")\",\"Lindell, Mr. Edvard Bengtsson\",\"Karaic, Mr. Milan\",\"Daniel, Mr. Robert Williams\",\"Laroche, Mrs. Joseph (Juliette Marie Louise Lafargue)\",\"Shutes, Miss. Elizabeth W\",\"Andersson, Mrs. Anders Johan (Alfrida Konstantia Brogren)\",\"Jardin, Mr. Jose Neto\",\"Murphy, Miss. Margaret Jane\",\"Horgan, Mr. John\",\"Brocklebank, Mr. William Alfred\",\"Herman, Miss. Alice\",\"Danbom, Mr. Ernst Gilbert\",\"Lobb, Mrs. William Arthur (Cordelia K Stanlick)\",\"Becker, Miss. Marion Louise\",\"Gavey, Mr. Lawrence\",\"Yasbeck, Mr. Antoni\",\"Kimball, Mr. Edwin Nelson Jr\",\"Nakid, Mr. Sahid\",\"Hansen, Mr. Henry Damsgaard\",\"Bowen, Mr. David John \\\"Dai\\\"\",\"Sutton, Mr. Frederick\",\"Kirkland, Rev. Charles Leonard\",\"Longley, Miss. Gretchen Fiske\",\"Bostandyeff, Mr. Guentcho\",\"O'Connell, Mr. Patrick D\",\"Barkworth, Mr. Algernon Henry Wilson\",\"Lundahl, Mr. Johan Svensson\",\"Stahelin-Maeglin, Dr. Max\",\"Parr, Mr. William Henry Marsh\",\"Skoog, Miss. Mabel\",\"Davis, Miss. Mary\",\"Leinonen, Mr. Antti Gustaf\",\"Collyer, Mr. Harvey\",\"Panula, Mrs. Juha (Maria Emilia Ojala)\",\"Thorneycroft, Mr. Percival\",\"Jensen, Mr. Hans Peder\",\"Sagesser, Mlle. Emma\",\"Skoog, Miss. Margit Elizabeth\",\"Foo, Mr. Choong\",\"Baclini, Miss. Eugenie\",\"Harper, Mr. Henry Sleeper\",\"Cor, Mr. Liudevit\",\"Simonius-Blumer, Col. Oberst Alfons\",\"Willey, Mr. Edward\",\"Stanley, Miss. Amy Zillah Elsie\",\"Mitkoff, Mr. Mito\",\"Doling, Miss. Elsie\",\"Kalvik, Mr. Johannes Halvorsen\",\"O'Leary, Miss. Hanora \\\"Norah\\\"\",\"Hegarty, Miss. Hanora \\\"Nora\\\"\",\"Hickman, Mr. Leonard Mark\",\"Radeff, Mr. Alexander\",\"Bourke, Mrs. John (Catherine)\",\"Eitemiller, Mr. George Floyd\",\"Newell, Mr. Arthur Webster\",\"Frauenthal, Dr. Henry William\",\"Badt, Mr. Mohamed\",\"Colley, Mr. Edward Pomeroy\",\"Coleff, Mr. Peju\",\"Lindqvist, Mr. Eino William\",\"Hickman, Mr. Lewis\",\"Butler, Mr. Reginald Fenton\",\"Rommetvedt, Mr. Knud Paust\",\"Cook, Mr. Jacob\",\"Taylor, Mrs. Elmer Zebley (Juliet Cummins Wright)\",\"Brown, Mrs. Thomas William Solomon (Elizabeth Catherine Ford)\",\"Davidson, Mr. Thornton\",\"Mitchell, Mr. Henry Michael\",\"Wilhelms, Mr. Charles\",\"Watson, Mr. Ennis Hastings\",\"Edvardsson, Mr. Gustaf Hjalmar\",\"Sawyer, Mr. Frederick Charles\",\"Turja, Miss. Anna Sofia\",\"Goodwin, Mrs. Frederick (Augusta Tyler)\",\"Cardeza, Mr. Thomas Drake Martinez\",\"Peters, Miss. Katie\",\"Hassab, Mr. Hammad\",\"Olsvigen, Mr. Thor Anderson\",\"Goodwin, Mr. Charles Edward\",\"Brown, Mr. Thomas William Solomon\",\"Laroche, Mr. Joseph Philippe Lemercier\",\"Panula, Mr. Jaako Arnold\",\"Dakic, Mr. Branko\",\"Fischer, Mr. Eberhard Thelander\",\"Madill, Miss. Georgette Alexandra\",\"Dick, Mr. Albert Adrian\",\"Karun, Miss. Manca\",\"Lam, Mr. Ali\",\"Saad, Mr. Khalil\",\"Weir, Col. John\",\"Chapman, Mr. Charles Henry\",\"Kelly, Mr. James\",\"Mullens, Miss. Katherine \\\"Katie\\\"\",\"Thayer, Mr. John Borland\",\"Humblen, Mr. Adolf Mathias Nicolai Olsen\",\"Astor, Mrs. John Jacob (Madeleine Talmadge Force)\",\"Silverthorne, Mr. Spencer Victor\",\"Barbara, Miss. Saiide\",\"Gallagher, Mr. Martin\",\"Hansen, Mr. Henrik Juul\",\"Morley, Mr. Henry Samuel (\\\"Mr Henry Marshall\\\")\",\"Kelly, Mrs. Florence \\\"Fannie\\\"\",\"Calderhead, Mr. Edward Pennington\",\"Cleaver, Miss. Alice\",\"Moubarek, Master. Halim Gonios (\\\"William George\\\")\",\"Mayne, Mlle. Berthe Antonine (\\\"Mrs de Villiers\\\")\",\"Klaber, Mr. Herman\",\"Taylor, Mr. Elmer Zebley\",\"Larsson, Mr. August Viktor\",\"Greenberg, Mr. Samuel\",\"Soholt, Mr. Peter Andreas Lauritz Andersen\",\"Endres, Miss. Caroline Louise\",\"Troutt, Miss. Edwina Celia \\\"Winnie\\\"\",\"McEvoy, Mr. Michael\",\"Johnson, Mr. Malkolm Joackim\",\"Harper, Miss. Annie Jessie \\\"Nina\\\"\",\"Jensen, Mr. Svend Lauritz\",\"Gillespie, Mr. William Henry\",\"Hodges, Mr. Henry Price\",\"Chambers, Mr. Norman Campbell\",\"Oreskovic, Mr. Luka\",\"Renouf, Mrs. Peter Henry (Lillian Jefferys)\",\"Mannion, Miss. Margareth\",\"Bryhl, Mr. Kurt Arnold Gottfrid\",\"Ilmakangas, Miss. Pieta Sofia\",\"Allen, Miss. Elisabeth Walton\",\"Hassan, Mr. Houssein G N\",\"Knight, Mr. Robert J\",\"Berriman, Mr. William John\",\"Troupiansky, Mr. Moses Aaron\",\"Williams, Mr. Leslie\",\"Ford, Mrs. Edward (Margaret Ann Watson)\",\"Lesurer, Mr. Gustave J\",\"Ivanoff, Mr. Kanio\",\"Nankoff, Mr. Minko\",\"Hawksford, Mr. Walter James\",\"Cavendish, Mr. Tyrell William\",\"Ryerson, Miss. Susan Parker \\\"Suzette\\\"\",\"McNamee, Mr. Neal\",\"Stranden, Mr. Juho\",\"Crosby, Capt. Edward Gifford\",\"Abbott, Mr. Rossmore Edward\",\"Sinkkonen, Miss. Anna\",\"Marvin, Mr. Daniel Warner\",\"Connaghton, Mr. Michael\",\"Wells, Miss. Joan\",\"Moor, Master. Meier\",\"Vande Velde, Mr. Johannes Joseph\",\"Jonkoff, Mr. Lalio\",\"Herman, Mrs. Samuel (Jane Laver)\",\"Hamalainen, Master. Viljo\",\"Carlsson, Mr. August Sigfrid\",\"Bailey, Mr. Percy Andrew\",\"Theobald, Mr. Thomas Leonard\",\"Rothes, the Countess. of (Lucy Noel Martha Dyer-Edwards)\",\"Garfirth, Mr. John\",\"Nirva, Mr. Iisakki Antino Aijo\",\"Barah, Mr. Hanna Assi\",\"Carter, Mrs. William Ernest (Lucile Polk)\",\"Eklund, Mr. Hans Linus\",\"Hogeboom, Mrs. John C (Anna Andrews)\",\"Brewe, Dr. Arthur Jackson\",\"Mangan, Miss. Mary\",\"Moran, Mr. Daniel J\",\"Gronnestad, Mr. Daniel Danielsen\",\"Lievens, Mr. Rene Aime\",\"Jensen, Mr. Niels Peder\",\"Mack, Mrs. (Mary)\",\"Elias, Mr. Dibo\",\"Hocking, Mrs. Elizabeth (Eliza Needs)\",\"Myhrman, Mr. Pehr Fabian Oliver Malkolm\",\"Tobin, Mr. Roger\",\"Emanuel, Miss. Virginia Ethel\",\"Kilgannon, Mr. Thomas J\",\"Robert, Mrs. Edward Scott (Elisabeth Walton McMillan)\",\"Ayoub, Miss. Banoura\",\"Dick, Mrs. Albert Adrian (Vera Gillespie)\",\"Long, Mr. Milton Clyde\",\"Johnston, Mr. Andrew G\",\"Ali, Mr. William\",\"Harmer, Mr. Abraham (David Lishin)\",\"Sjoblom, Miss. Anna Sofia\",\"Rice, Master. George Hugh\",\"Dean, Master. Bertram Vere\",\"Guggenheim, Mr. Benjamin\",\"Keane, Mr. Andrew \\\"Andy\\\"\",\"Gaskell, Mr. Alfred\",\"Sage, Miss. Stella Anna\",\"Hoyt, Mr. William Fisher\",\"Dantcheff, Mr. Ristiu\",\"Otter, Mr. Richard\",\"Leader, Dr. Alice (Farnham)\",\"Osman, Mrs. Mara\",\"Ibrahim Shawah, Mr. Yousseff\",\"Van Impe, Mrs. Jean Baptiste (Rosalie Paula Govaert)\",\"Ponesell, Mr. Martin\",\"Collyer, Mrs. Harvey (Charlotte Annie Tate)\",\"Carter, Master. William Thornton II\",\"Thomas, Master. Assad Alexander\",\"Hedman, Mr. Oskar Arvid\",\"Johansson, Mr. Karl Johan\",\"Andrews, Mr. Thomas Jr\",\"Pettersson, Miss. Ellen Natalia\",\"Meyer, Mr. August\",\"Chambers, Mrs. Norman Campbell (Bertha Griggs)\",\"Alexander, Mr. William\",\"Lester, Mr. James\",\"Slemen, Mr. Richard James\",\"Andersson, Miss. Ebba Iris Alfrida\",\"Tomlin, Mr. Ernest Portage\",\"Fry, Mr. Richard\",\"Heininen, Miss. Wendla Maria\",\"Mallet, Mr. Albert\",\"Holm, Mr. John Fredrik Alexander\",\"Skoog, Master. Karl Thorsten\",\"Hays, Mrs. Charles Melville (Clara Jennings Gregg)\",\"Lulic, Mr. Nikola\",\"Reuchlin, Jonkheer. John George\",\"Moor, Mrs. (Beila)\",\"Panula, Master. Urho Abraham\",\"Flynn, Mr. John\",\"Lam, Mr. Len\",\"Mallet, Master. Andre\",\"McCormack, Mr. Thomas Joseph\",\"Stone, Mrs. George Nelson (Martha Evelyn)\",\"Yasbeck, Mrs. Antoni (Selini Alexander)\",\"Richards, Master. George Sibley\",\"Saad, Mr. Amin\",\"Augustsson, Mr. Albert\",\"Allum, Mr. Owen George\",\"Compton, Miss. Sara Rebecca\",\"Pasic, Mr. Jakob\",\"Sirota, Mr. Maurice\",\"Chip, Mr. Chang\",\"Marechal, Mr. Pierre\",\"Alhomaki, Mr. Ilmari Rudolf\",\"Mudd, Mr. Thomas Charles\",\"Serepeca, Miss. Augusta\",\"Lemberopolous, Mr. Peter L\",\"Culumovic, Mr. Jeso\",\"Abbing, Mr. Anthony\",\"Sage, Mr. Douglas Bullen\",\"Markoff, Mr. Marin\",\"Harper, Rev. John\",\"Goldenberg, Mrs. Samuel L (Edwiga Grabowska)\",\"Andersson, Master. Sigvard Harald Elias\",\"Svensson, Mr. Johan\",\"Boulos, Miss. Nourelain\",\"Lines, Miss. Mary Conover\",\"Carter, Mrs. Ernest Courtenay (Lilian Hughes)\",\"Aks, Mrs. Sam (Leah Rosen)\",\"Wick, Mrs. George Dennick (Mary Hitchcock)\",\"Daly, Mr. Peter Denis \",\"Baclini, Mrs. Solomon (Latifa Qurban)\",\"Razi, Mr. Raihed\",\"Hansen, Mr. Claus Peter\",\"Giles, Mr. Frederick Edward\",\"Swift, Mrs. Frederick Joel (Margaret Welles Barron)\",\"Sage, Miss. Dorothy Edith \\\"Dolly\\\"\",\"Gill, Mr. John William\",\"Bystrom, Mrs. (Karolina)\",\"Duran y More, Miss. Asuncion\",\"Roebling, Mr. Washington Augustus II\",\"van Melkebeke, Mr. Philemon\",\"Johnson, Master. Harold Theodor\",\"Balkic, Mr. Cerin\",\"Beckwith, Mrs. Richard Leonard (Sallie Monypeny)\",\"Carlsson, Mr. Frans Olof\",\"Vander Cruyssen, Mr. Victor\",\"Abelson, Mrs. Samuel (Hannah Wizosky)\",\"Najib, Miss. Adele Kiamie \\\"Jane\\\"\",\"Gustafsson, Mr. Alfred Ossian\",\"Petroff, Mr. Nedelio\",\"Laleff, Mr. Kristo\",\"Potter, Mrs. Thomas Jr (Lily Alexenia Wilson)\",\"Shelley, Mrs. William (Imanita Parrish Hall)\",\"Markun, Mr. Johann\",\"Dahlberg, Miss. Gerda Ulrika\",\"Banfield, Mr. Frederick James\",\"Sutehall, Mr. Henry Jr\",\"Rice, Mrs. William (Margaret Norton)\",\"Montvila, Rev. Juozas\",\"Graham, Miss. Margaret Edith\",\"Johnston, Miss. Catherine Helen \\\"Carrie\\\"\",\"Behr, Mr. Karl Howell\",\"Dooley, Mr. Patrick\"],\"y\":[\"male\",\"female\",\"female\",\"female\",\"male\",\"male\",\"male\",\"male\",\"female\",\"female\",\"female\",\"female\",\"male\",\"male\",\"female\",\"female\",\"male\",\"male\",\"female\",\"female\",\"male\",\"male\",\"female\",\"male\",\"female\",\"female\",\"male\",\"male\",\"female\",\"male\",\"male\",\"female\",\"female\",\"male\",\"male\",\"male\",\"male\",\"male\",\"female\",\"female\",\"female\",\"female\",\"male\",\"female\",\"female\",\"male\",\"male\",\"female\",\"male\",\"female\",\"male\",\"male\",\"female\",\"female\",\"male\",\"male\",\"female\",\"male\",\"female\",\"male\",\"male\",\"female\",\"male\",\"male\",\"male\",\"male\",\"female\",\"male\",\"female\",\"male\",\"male\",\"female\",\"male\",\"male\",\"male\",\"male\",\"male\",\"male\",\"male\",\"female\",\"male\",\"male\",\"female\",\"male\",\"female\",\"female\",\"male\",\"male\",\"female\",\"male\",\"male\",\"male\",\"male\",\"male\",\"male\",\"male\",\"male\",\"male\",\"female\",\"male\",\"female\",\"male\",\"male\",\"male\",\"male\",\"male\",\"female\",\"male\",\"male\",\"female\",\"male\",\"female\",\"male\",\"female\",\"female\",\"male\",\"male\",\"male\",\"male\",\"female\",\"male\",\"male\",\"male\",\"female\",\"male\",\"male\",\"male\",\"male\",\"female\",\"male\",\"male\",\"male\",\"female\",\"female\",\"male\",\"male\",\"female\",\"male\",\"male\",\"male\",\"female\",\"female\",\"female\",\"male\",\"male\",\"male\",\"male\",\"female\",\"male\",\"male\",\"male\",\"female\",\"male\",\"male\",\"male\",\"male\",\"female\",\"male\",\"male\",\"male\",\"male\",\"female\",\"male\",\"male\",\"male\",\"male\",\"female\",\"female\",\"male\",\"male\",\"male\",\"male\",\"female\",\"male\",\"male\",\"male\",\"male\",\"female\",\"male\",\"male\",\"female\",\"male\",\"male\",\"male\",\"female\",\"male\",\"female\",\"male\",\"male\",\"male\",\"female\",\"male\",\"female\",\"male\",\"female\",\"female\",\"male\",\"male\",\"female\",\"female\",\"male\",\"male\",\"male\",\"male\",\"male\",\"female\",\"male\",\"male\",\"female\",\"male\",\"male\",\"female\",\"male\",\"male\",\"male\",\"female\",\"female\",\"male\",\"female\",\"male\",\"male\",\"male\",\"male\",\"male\",\"male\",\"male\",\"male\",\"male\",\"male\",\"female\",\"female\",\"male\",\"male\",\"female\",\"male\",\"female\",\"male\",\"female\",\"male\",\"male\",\"female\",\"female\",\"male\",\"male\",\"male\",\"male\",\"female\",\"female\",\"male\",\"male\",\"male\",\"female\",\"male\",\"male\",\"female\",\"female\",\"female\",\"female\",\"female\",\"female\",\"male\",\"male\",\"male\",\"male\",\"female\",\"male\",\"male\",\"male\",\"female\",\"female\",\"male\",\"male\",\"female\",\"male\",\"female\",\"female\",\"female\",\"male\",\"male\",\"female\",\"male\",\"male\",\"male\",\"male\",\"male\",\"male\",\"male\",\"male\",\"male\",\"female\",\"female\",\"female\",\"male\",\"female\",\"male\",\"male\",\"male\",\"female\",\"male\",\"female\",\"female\",\"male\",\"male\",\"female\",\"male\",\"male\",\"female\",\"female\",\"male\",\"female\",\"female\",\"female\",\"female\",\"male\",\"male\",\"female\",\"female\",\"male\",\"female\",\"female\",\"male\",\"male\",\"female\",\"female\",\"male\",\"female\",\"male\",\"female\",\"female\",\"female\",\"female\",\"male\",\"male\",\"male\",\"female\",\"male\",\"male\",\"female\",\"male\",\"male\",\"male\",\"female\",\"male\",\"male\",\"male\",\"female\",\"female\",\"female\",\"male\",\"male\",\"male\",\"male\",\"male\",\"male\",\"male\",\"male\",\"female\",\"female\",\"female\",\"female\",\"male\",\"male\",\"female\",\"male\",\"male\",\"male\",\"female\",\"female\",\"female\",\"female\",\"male\",\"male\",\"male\",\"male\",\"female\",\"female\",\"female\",\"male\",\"male\",\"male\",\"female\",\"female\",\"male\",\"female\",\"male\",\"male\",\"male\",\"female\",\"male\",\"female\",\"male\",\"male\",\"male\",\"female\",\"female\",\"male\",\"female\",\"male\",\"male\",\"female\",\"male\",\"male\",\"female\",\"male\",\"female\",\"male\",\"male\",\"male\",\"male\",\"female\",\"male\",\"male\",\"female\",\"male\",\"male\",\"female\",\"female\",\"female\",\"male\",\"female\",\"male\",\"male\",\"male\",\"female\",\"male\",\"male\",\"female\",\"female\",\"male\",\"male\",\"male\",\"female\",\"female\",\"male\",\"male\",\"female\",\"female\",\"female\",\"male\",\"male\",\"female\",\"male\",\"male\",\"female\",\"male\",\"male\",\"female\",\"male\",\"female\",\"male\",\"male\",\"male\",\"male\",\"male\",\"male\",\"male\",\"male\",\"female\",\"female\",\"male\",\"male\",\"male\",\"male\",\"male\",\"male\",\"male\",\"male\",\"male\",\"male\",\"female\",\"male\",\"male\",\"female\",\"female\",\"female\",\"male\",\"male\",\"male\",\"male\",\"female\",\"male\",\"male\",\"male\",\"female\",\"male\",\"female\",\"female\",\"male\",\"male\",\"male\",\"male\",\"male\",\"male\",\"male\",\"male\",\"male\",\"female\",\"male\",\"female\",\"male\",\"male\",\"female\",\"female\",\"female\",\"female\",\"male\",\"female\",\"male\",\"male\",\"male\",\"male\",\"male\",\"male\",\"female\",\"male\",\"male\",\"female\",\"male\",\"female\",\"male\",\"female\",\"male\",\"male\",\"female\",\"male\",\"male\",\"female\",\"male\",\"male\",\"male\",\"female\",\"male\",\"male\",\"female\",\"female\",\"female\",\"male\",\"female\",\"male\",\"female\",\"female\",\"female\",\"female\",\"male\",\"male\",\"male\",\"female\",\"male\",\"male\",\"male\",\"male\",\"male\",\"male\",\"male\",\"female\",\"male\",\"female\",\"male\",\"female\",\"female\",\"male\",\"male\",\"male\",\"male\",\"female\",\"male\",\"male\",\"female\",\"male\",\"male\",\"male\",\"female\",\"male\",\"female\",\"male\",\"male\",\"female\",\"female\",\"female\",\"male\",\"female\",\"female\",\"male\",\"male\",\"male\",\"female\",\"male\",\"male\",\"male\",\"male\",\"male\",\"female\",\"male\",\"female\",\"male\",\"male\",\"female\",\"male\",\"male\",\"male\",\"female\",\"male\",\"male\",\"male\",\"male\",\"male\",\"male\",\"male\",\"female\",\"female\",\"female\",\"male\",\"female\",\"male\",\"male\",\"female\",\"male\",\"female\",\"female\",\"male\",\"male\",\"male\",\"male\",\"male\",\"male\",\"male\",\"male\",\"female\",\"male\",\"male\",\"male\",\"male\",\"male\",\"male\",\"female\",\"female\",\"male\",\"male\",\"female\",\"male\",\"male\",\"female\",\"female\",\"male\",\"female\",\"male\",\"male\",\"male\",\"male\",\"female\",\"male\",\"female\",\"male\",\"female\",\"female\",\"male\",\"male\",\"female\",\"male\",\"male\",\"male\",\"male\",\"male\",\"male\",\"male\",\"male\",\"male\",\"male\",\"male\",\"female\",\"female\",\"male\",\"male\",\"male\",\"male\",\"male\",\"male\",\"female\",\"female\",\"male\",\"female\",\"male\",\"male\",\"male\",\"male\",\"male\",\"male\",\"male\",\"male\",\"female\",\"male\",\"female\",\"male\",\"male\",\"male\",\"male\",\"male\",\"female\",\"male\",\"male\",\"female\",\"male\",\"female\",\"male\",\"male\",\"male\",\"female\",\"male\",\"female\",\"male\",\"female\",\"male\",\"male\",\"male\",\"male\",\"male\",\"female\",\"female\",\"male\",\"male\",\"female\",\"male\",\"male\",\"male\",\"male\",\"male\",\"female\",\"female\",\"male\",\"female\",\"female\",\"male\",\"male\",\"male\",\"male\",\"male\",\"female\",\"male\",\"male\",\"male\",\"male\",\"male\",\"female\",\"male\",\"male\",\"male\",\"male\",\"female\",\"male\",\"male\",\"female\",\"male\",\"male\",\"male\",\"female\",\"male\",\"male\",\"male\",\"male\",\"female\",\"male\",\"male\",\"male\",\"female\",\"male\",\"female\",\"male\",\"female\",\"male\",\"male\",\"male\",\"male\",\"female\",\"male\",\"female\",\"male\",\"male\",\"female\",\"male\",\"female\",\"female\",\"female\",\"male\",\"male\",\"male\",\"male\",\"female\",\"male\",\"male\",\"male\",\"male\",\"male\",\"female\",\"male\",\"male\",\"male\",\"female\",\"female\",\"male\",\"female\",\"male\",\"female\",\"male\",\"male\",\"male\",\"male\",\"male\",\"female\",\"male\",\"female\",\"male\",\"male\",\"male\",\"female\",\"male\",\"male\",\"female\",\"male\",\"male\",\"male\",\"female\",\"male\",\"male\",\"female\",\"male\",\"male\",\"male\",\"male\",\"male\",\"female\",\"female\",\"male\",\"male\",\"male\",\"male\",\"female\",\"male\",\"male\",\"male\",\"male\",\"male\",\"male\",\"female\",\"male\",\"male\",\"male\",\"male\",\"male\",\"male\",\"female\",\"male\",\"male\",\"female\",\"female\",\"female\",\"female\",\"female\",\"male\",\"female\",\"male\",\"male\",\"male\",\"female\",\"female\",\"male\",\"female\",\"female\",\"male\",\"male\",\"male\",\"male\",\"female\",\"male\",\"male\",\"female\",\"female\",\"male\",\"male\",\"male\",\"female\",\"female\",\"male\",\"female\",\"male\",\"male\",\"female\",\"male\",\"female\",\"female\",\"male\",\"male\"],\"z\":[22.0,38.0,26.0,35.0,35.0,null,54.0,2.0,27.0,14.0,4.0,58.0,20.0,39.0,14.0,55.0,2.0,null,31.0,null,35.0,34.0,15.0,28.0,8.0,38.0,null,19.0,null,null,40.0,null,null,66.0,28.0,42.0,null,21.0,18.0,14.0,40.0,27.0,null,3.0,19.0,null,null,null,null,18.0,7.0,21.0,49.0,29.0,65.0,null,21.0,28.5,5.0,11.0,22.0,38.0,45.0,4.0,null,null,29.0,19.0,17.0,26.0,32.0,16.0,21.0,26.0,32.0,25.0,null,null,0.83,30.0,22.0,29.0,null,28.0,17.0,33.0,16.0,null,23.0,24.0,29.0,20.0,46.0,26.0,59.0,null,71.0,23.0,34.0,34.0,28.0,null,21.0,33.0,37.0,28.0,21.0,null,38.0,null,47.0,14.5,22.0,20.0,17.0,21.0,70.5,29.0,24.0,2.0,21.0,null,32.5,32.5,54.0,12.0,null,24.0,null,45.0,33.0,20.0,47.0,29.0,25.0,23.0,19.0,37.0,16.0,24.0,null,22.0,24.0,19.0,18.0,19.0,27.0,9.0,36.5,42.0,51.0,22.0,55.5,40.5,null,51.0,16.0,30.0,null,null,44.0,40.0,26.0,17.0,1.0,9.0,null,45.0,null,28.0,61.0,4.0,1.0,21.0,56.0,18.0,null,50.0,30.0,36.0,null,null,9.0,1.0,4.0,null,null,45.0,40.0,36.0,32.0,19.0,19.0,3.0,44.0,58.0,null,42.0,null,24.0,28.0,null,34.0,45.5,18.0,2.0,32.0,26.0,16.0,40.0,24.0,35.0,22.0,30.0,null,31.0,27.0,42.0,32.0,30.0,16.0,27.0,51.0,null,38.0,22.0,19.0,20.5,18.0,null,35.0,29.0,59.0,5.0,24.0,null,44.0,8.0,19.0,33.0,null,null,29.0,22.0,30.0,44.0,25.0,24.0,37.0,54.0,null,29.0,62.0,30.0,41.0,29.0,null,30.0,35.0,50.0,null,3.0,52.0,40.0,null,36.0,16.0,25.0,58.0,35.0,null,25.0,41.0,37.0,null,63.0,45.0,null,7.0,35.0,65.0,28.0,16.0,19.0,null,33.0,30.0,22.0,42.0,22.0,26.0,19.0,36.0,24.0,24.0,null,23.5,2.0,null,50.0,null,null,19.0,null,null,0.92,null,17.0,30.0,30.0,24.0,18.0,26.0,28.0,43.0,26.0,24.0,54.0,31.0,40.0,22.0,27.0,30.0,22.0,null,36.0,61.0,36.0,31.0,16.0,null,45.5,38.0,16.0,null,null,29.0,41.0,45.0,45.0,2.0,24.0,28.0,25.0,36.0,24.0,40.0,null,3.0,42.0,23.0,null,15.0,25.0,null,28.0,22.0,38.0,null,null,40.0,29.0,45.0,35.0,null,30.0,60.0,null,null,24.0,25.0,18.0,19.0,22.0,3.0,null,22.0,27.0,20.0,19.0,42.0,1.0,32.0,35.0,null,18.0,1.0,36.0,null,17.0,36.0,21.0,28.0,23.0,24.0,22.0,31.0,46.0,23.0,28.0,39.0,26.0,21.0,28.0,20.0,34.0,51.0,3.0,21.0,null,null,null,33.0,null,44.0,null,34.0,18.0,30.0,10.0,null,21.0,29.0,28.0,18.0,null,28.0,19.0,null,32.0,28.0,null,42.0,17.0,50.0,14.0,21.0,24.0,64.0,31.0,45.0,20.0,25.0,28.0,null,4.0,13.0,34.0,5.0,52.0,36.0,null,30.0,49.0,null,29.0,65.0,null,50.0,null,48.0,34.0,47.0,48.0,null,38.0,null,56.0,null,0.75,null,38.0,33.0,23.0,22.0,null,34.0,29.0,22.0,2.0,9.0,null,50.0,63.0,25.0,null,35.0,58.0,30.0,9.0,null,21.0,55.0,71.0,21.0,null,54.0,null,25.0,24.0,17.0,21.0,null,37.0,16.0,18.0,33.0,null,28.0,26.0,29.0,null,36.0,54.0,24.0,47.0,34.0,null,36.0,32.0,30.0,22.0,null,44.0,null,40.5,50.0,null,39.0,23.0,2.0,null,17.0,null,30.0,7.0,45.0,30.0,null,22.0,36.0,9.0,11.0,32.0,50.0,64.0,19.0,null,33.0,8.0,17.0,27.0,null,22.0,22.0,62.0,48.0,null,39.0,36.0,null,40.0,28.0,null,null,24.0,19.0,29.0,null,32.0,62.0,53.0,36.0,null,16.0,19.0,34.0,39.0,null,32.0,25.0,39.0,54.0,36.0,null,18.0,47.0,60.0,22.0,null,35.0,52.0,47.0,null,37.0,36.0,null,49.0,null,49.0,24.0,null,null,44.0,35.0,36.0,30.0,27.0,22.0,40.0,39.0,null,null,null,35.0,24.0,34.0,26.0,4.0,26.0,27.0,42.0,20.0,21.0,21.0,61.0,57.0,21.0,26.0,null,80.0,51.0,32.0,null,9.0,28.0,32.0,31.0,41.0,null,20.0,24.0,2.0,null,0.75,48.0,19.0,56.0,null,23.0,null,18.0,21.0,null,18.0,24.0,null,32.0,23.0,58.0,50.0,40.0,47.0,36.0,20.0,32.0,25.0,null,43.0,null,40.0,31.0,70.0,31.0,null,18.0,24.5,18.0,43.0,36.0,null,27.0,20.0,14.0,60.0,25.0,14.0,19.0,18.0,15.0,31.0,4.0,null,25.0,60.0,52.0,44.0,null,49.0,42.0,18.0,35.0,18.0,25.0,26.0,39.0,45.0,42.0,22.0,null,24.0,null,48.0,29.0,52.0,19.0,38.0,27.0,null,33.0,6.0,17.0,34.0,50.0,27.0,20.0,30.0,null,25.0,25.0,29.0,11.0,null,23.0,23.0,28.5,48.0,35.0,null,null,null,36.0,21.0,24.0,31.0,70.0,16.0,30.0,19.0,31.0,4.0,6.0,33.0,23.0,48.0,0.67,28.0,18.0,34.0,33.0,null,41.0,20.0,36.0,16.0,51.0,null,30.5,null,32.0,24.0,48.0,57.0,null,54.0,18.0,null,5.0,null,43.0,13.0,17.0,29.0,null,25.0,25.0,18.0,8.0,1.0,46.0,null,16.0,null,null,25.0,39.0,49.0,31.0,30.0,30.0,34.0,31.0,11.0,0.42,27.0,31.0,39.0,18.0,39.0,33.0,26.0,39.0,35.0,6.0,30.5,null,23.0,31.0,43.0,10.0,52.0,27.0,38.0,27.0,2.0,null,null,1.0,null,62.0,15.0,0.83,null,23.0,18.0,39.0,21.0,null,32.0,null,20.0,16.0,30.0,34.5,17.0,42.0,null,35.0,28.0,null,4.0,74.0,9.0,16.0,44.0,18.0,45.0,51.0,24.0,null,41.0,21.0,48.0,null,24.0,42.0,27.0,31.0,null,4.0,26.0,47.0,33.0,47.0,28.0,15.0,20.0,19.0,null,56.0,25.0,33.0,22.0,28.0,25.0,39.0,27.0,19.0,null,26.0,32.0],\"type\":\"scatter3d\"}],                        {\"template\":{\"data\":{\"histogram2dcontour\":[{\"type\":\"histogram2dcontour\",\"colorbar\":{\"outlinewidth\":0,\"ticks\":\"\"},\"colorscale\":[[0.0,\"#0d0887\"],[0.1111111111111111,\"#46039f\"],[0.2222222222222222,\"#7201a8\"],[0.3333333333333333,\"#9c179e\"],[0.4444444444444444,\"#bd3786\"],[0.5555555555555556,\"#d8576b\"],[0.6666666666666666,\"#ed7953\"],[0.7777777777777778,\"#fb9f3a\"],[0.8888888888888888,\"#fdca26\"],[1.0,\"#f0f921\"]]}],\"choropleth\":[{\"type\":\"choropleth\",\"colorbar\":{\"outlinewidth\":0,\"ticks\":\"\"}}],\"histogram2d\":[{\"type\":\"histogram2d\",\"colorbar\":{\"outlinewidth\":0,\"ticks\":\"\"},\"colorscale\":[[0.0,\"#0d0887\"],[0.1111111111111111,\"#46039f\"],[0.2222222222222222,\"#7201a8\"],[0.3333333333333333,\"#9c179e\"],[0.4444444444444444,\"#bd3786\"],[0.5555555555555556,\"#d8576b\"],[0.6666666666666666,\"#ed7953\"],[0.7777777777777778,\"#fb9f3a\"],[0.8888888888888888,\"#fdca26\"],[1.0,\"#f0f921\"]]}],\"heatmap\":[{\"type\":\"heatmap\",\"colorbar\":{\"outlinewidth\":0,\"ticks\":\"\"},\"colorscale\":[[0.0,\"#0d0887\"],[0.1111111111111111,\"#46039f\"],[0.2222222222222222,\"#7201a8\"],[0.3333333333333333,\"#9c179e\"],[0.4444444444444444,\"#bd3786\"],[0.5555555555555556,\"#d8576b\"],[0.6666666666666666,\"#ed7953\"],[0.7777777777777778,\"#fb9f3a\"],[0.8888888888888888,\"#fdca26\"],[1.0,\"#f0f921\"]]}],\"heatmapgl\":[{\"type\":\"heatmapgl\",\"colorbar\":{\"outlinewidth\":0,\"ticks\":\"\"},\"colorscale\":[[0.0,\"#0d0887\"],[0.1111111111111111,\"#46039f\"],[0.2222222222222222,\"#7201a8\"],[0.3333333333333333,\"#9c179e\"],[0.4444444444444444,\"#bd3786\"],[0.5555555555555556,\"#d8576b\"],[0.6666666666666666,\"#ed7953\"],[0.7777777777777778,\"#fb9f3a\"],[0.8888888888888888,\"#fdca26\"],[1.0,\"#f0f921\"]]}],\"contourcarpet\":[{\"type\":\"contourcarpet\",\"colorbar\":{\"outlinewidth\":0,\"ticks\":\"\"}}],\"contour\":[{\"type\":\"contour\",\"colorbar\":{\"outlinewidth\":0,\"ticks\":\"\"},\"colorscale\":[[0.0,\"#0d0887\"],[0.1111111111111111,\"#46039f\"],[0.2222222222222222,\"#7201a8\"],[0.3333333333333333,\"#9c179e\"],[0.4444444444444444,\"#bd3786\"],[0.5555555555555556,\"#d8576b\"],[0.6666666666666666,\"#ed7953\"],[0.7777777777777778,\"#fb9f3a\"],[0.8888888888888888,\"#fdca26\"],[1.0,\"#f0f921\"]]}],\"surface\":[{\"type\":\"surface\",\"colorbar\":{\"outlinewidth\":0,\"ticks\":\"\"},\"colorscale\":[[0.0,\"#0d0887\"],[0.1111111111111111,\"#46039f\"],[0.2222222222222222,\"#7201a8\"],[0.3333333333333333,\"#9c179e\"],[0.4444444444444444,\"#bd3786\"],[0.5555555555555556,\"#d8576b\"],[0.6666666666666666,\"#ed7953\"],[0.7777777777777778,\"#fb9f3a\"],[0.8888888888888888,\"#fdca26\"],[1.0,\"#f0f921\"]]}],\"mesh3d\":[{\"type\":\"mesh3d\",\"colorbar\":{\"outlinewidth\":0,\"ticks\":\"\"}}],\"scatter\":[{\"fillpattern\":{\"fillmode\":\"overlay\",\"size\":10,\"solidity\":0.2},\"type\":\"scatter\"}],\"parcoords\":[{\"type\":\"parcoords\",\"line\":{\"colorbar\":{\"outlinewidth\":0,\"ticks\":\"\"}}}],\"scatterpolargl\":[{\"type\":\"scatterpolargl\",\"marker\":{\"colorbar\":{\"outlinewidth\":0,\"ticks\":\"\"}}}],\"bar\":[{\"error_x\":{\"color\":\"#2a3f5f\"},\"error_y\":{\"color\":\"#2a3f5f\"},\"marker\":{\"line\":{\"color\":\"#E5ECF6\",\"width\":0.5},\"pattern\":{\"fillmode\":\"overlay\",\"size\":10,\"solidity\":0.2}},\"type\":\"bar\"}],\"scattergeo\":[{\"type\":\"scattergeo\",\"marker\":{\"colorbar\":{\"outlinewidth\":0,\"ticks\":\"\"}}}],\"scatterpolar\":[{\"type\":\"scatterpolar\",\"marker\":{\"colorbar\":{\"outlinewidth\":0,\"ticks\":\"\"}}}],\"histogram\":[{\"marker\":{\"pattern\":{\"fillmode\":\"overlay\",\"size\":10,\"solidity\":0.2}},\"type\":\"histogram\"}],\"scattergl\":[{\"type\":\"scattergl\",\"marker\":{\"colorbar\":{\"outlinewidth\":0,\"ticks\":\"\"}}}],\"scatter3d\":[{\"type\":\"scatter3d\",\"line\":{\"colorbar\":{\"outlinewidth\":0,\"ticks\":\"\"}},\"marker\":{\"colorbar\":{\"outlinewidth\":0,\"ticks\":\"\"}}}],\"scattermapbox\":[{\"type\":\"scattermapbox\",\"marker\":{\"colorbar\":{\"outlinewidth\":0,\"ticks\":\"\"}}}],\"scatterternary\":[{\"type\":\"scatterternary\",\"marker\":{\"colorbar\":{\"outlinewidth\":0,\"ticks\":\"\"}}}],\"scattercarpet\":[{\"type\":\"scattercarpet\",\"marker\":{\"colorbar\":{\"outlinewidth\":0,\"ticks\":\"\"}}}],\"carpet\":[{\"aaxis\":{\"endlinecolor\":\"#2a3f5f\",\"gridcolor\":\"white\",\"linecolor\":\"white\",\"minorgridcolor\":\"white\",\"startlinecolor\":\"#2a3f5f\"},\"baxis\":{\"endlinecolor\":\"#2a3f5f\",\"gridcolor\":\"white\",\"linecolor\":\"white\",\"minorgridcolor\":\"white\",\"startlinecolor\":\"#2a3f5f\"},\"type\":\"carpet\"}],\"table\":[{\"cells\":{\"fill\":{\"color\":\"#EBF0F8\"},\"line\":{\"color\":\"white\"}},\"header\":{\"fill\":{\"color\":\"#C8D4E3\"},\"line\":{\"color\":\"white\"}},\"type\":\"table\"}],\"barpolar\":[{\"marker\":{\"line\":{\"color\":\"#E5ECF6\",\"width\":0.5},\"pattern\":{\"fillmode\":\"overlay\",\"size\":10,\"solidity\":0.2}},\"type\":\"barpolar\"}],\"pie\":[{\"automargin\":true,\"type\":\"pie\"}]},\"layout\":{\"autotypenumbers\":\"strict\",\"colorway\":[\"#636efa\",\"#EF553B\",\"#00cc96\",\"#ab63fa\",\"#FFA15A\",\"#19d3f3\",\"#FF6692\",\"#B6E880\",\"#FF97FF\",\"#FECB52\"],\"font\":{\"color\":\"#2a3f5f\"},\"hovermode\":\"closest\",\"hoverlabel\":{\"align\":\"left\"},\"paper_bgcolor\":\"white\",\"plot_bgcolor\":\"#E5ECF6\",\"polar\":{\"bgcolor\":\"#E5ECF6\",\"angularaxis\":{\"gridcolor\":\"white\",\"linecolor\":\"white\",\"ticks\":\"\"},\"radialaxis\":{\"gridcolor\":\"white\",\"linecolor\":\"white\",\"ticks\":\"\"}},\"ternary\":{\"bgcolor\":\"#E5ECF6\",\"aaxis\":{\"gridcolor\":\"white\",\"linecolor\":\"white\",\"ticks\":\"\"},\"baxis\":{\"gridcolor\":\"white\",\"linecolor\":\"white\",\"ticks\":\"\"},\"caxis\":{\"gridcolor\":\"white\",\"linecolor\":\"white\",\"ticks\":\"\"}},\"coloraxis\":{\"colorbar\":{\"outlinewidth\":0,\"ticks\":\"\"}},\"colorscale\":{\"sequential\":[[0.0,\"#0d0887\"],[0.1111111111111111,\"#46039f\"],[0.2222222222222222,\"#7201a8\"],[0.3333333333333333,\"#9c179e\"],[0.4444444444444444,\"#bd3786\"],[0.5555555555555556,\"#d8576b\"],[0.6666666666666666,\"#ed7953\"],[0.7777777777777778,\"#fb9f3a\"],[0.8888888888888888,\"#fdca26\"],[1.0,\"#f0f921\"]],\"sequentialminus\":[[0.0,\"#0d0887\"],[0.1111111111111111,\"#46039f\"],[0.2222222222222222,\"#7201a8\"],[0.3333333333333333,\"#9c179e\"],[0.4444444444444444,\"#bd3786\"],[0.5555555555555556,\"#d8576b\"],[0.6666666666666666,\"#ed7953\"],[0.7777777777777778,\"#fb9f3a\"],[0.8888888888888888,\"#fdca26\"],[1.0,\"#f0f921\"]],\"diverging\":[[0,\"#8e0152\"],[0.1,\"#c51b7d\"],[0.2,\"#de77ae\"],[0.3,\"#f1b6da\"],[0.4,\"#fde0ef\"],[0.5,\"#f7f7f7\"],[0.6,\"#e6f5d0\"],[0.7,\"#b8e186\"],[0.8,\"#7fbc41\"],[0.9,\"#4d9221\"],[1,\"#276419\"]]},\"xaxis\":{\"gridcolor\":\"white\",\"linecolor\":\"white\",\"ticks\":\"\",\"title\":{\"standoff\":15},\"zerolinecolor\":\"white\",\"automargin\":true,\"zerolinewidth\":2},\"yaxis\":{\"gridcolor\":\"white\",\"linecolor\":\"white\",\"ticks\":\"\",\"title\":{\"standoff\":15},\"zerolinecolor\":\"white\",\"automargin\":true,\"zerolinewidth\":2},\"scene\":{\"xaxis\":{\"backgroundcolor\":\"#E5ECF6\",\"gridcolor\":\"white\",\"linecolor\":\"white\",\"showbackground\":true,\"ticks\":\"\",\"zerolinecolor\":\"white\",\"gridwidth\":2},\"yaxis\":{\"backgroundcolor\":\"#E5ECF6\",\"gridcolor\":\"white\",\"linecolor\":\"white\",\"showbackground\":true,\"ticks\":\"\",\"zerolinecolor\":\"white\",\"gridwidth\":2},\"zaxis\":{\"backgroundcolor\":\"#E5ECF6\",\"gridcolor\":\"white\",\"linecolor\":\"white\",\"showbackground\":true,\"ticks\":\"\",\"zerolinecolor\":\"white\",\"gridwidth\":2}},\"shapedefaults\":{\"line\":{\"color\":\"#2a3f5f\"}},\"annotationdefaults\":{\"arrowcolor\":\"#2a3f5f\",\"arrowhead\":0,\"arrowwidth\":1},\"geo\":{\"bgcolor\":\"white\",\"landcolor\":\"#E5ECF6\",\"subunitcolor\":\"white\",\"showland\":true,\"showlakes\":true,\"lakecolor\":\"white\"},\"title\":{\"x\":0.05},\"mapbox\":{\"style\":\"light\"}}},\"scene\":{\"domain\":{\"x\":[0.0,1.0],\"y\":[0.0,1.0]},\"xaxis\":{\"title\":{\"text\":\"Name\"}},\"yaxis\":{\"title\":{\"text\":\"Sex\"}},\"zaxis\":{\"title\":{\"text\":\"Age\"}}},\"coloraxis\":{\"colorbar\":{\"title\":{\"text\":\"Age\"}},\"colorscale\":[[0.0,\"#0d0887\"],[0.1111111111111111,\"#46039f\"],[0.2222222222222222,\"#7201a8\"],[0.3333333333333333,\"#9c179e\"],[0.4444444444444444,\"#bd3786\"],[0.5555555555555556,\"#d8576b\"],[0.6666666666666666,\"#ed7953\"],[0.7777777777777778,\"#fb9f3a\"],[0.8888888888888888,\"#fdca26\"],[1.0,\"#f0f921\"]]},\"legend\":{\"tracegroupgap\":0},\"margin\":{\"t\":60}},                        {\"responsive\": true}                    ).then(function(){\n",
       "                            \n",
       "var gd = document.getElementById('559afe2f-55cb-4baa-9682-f49e41f87e94');\n",
       "var x = new MutationObserver(function (mutations, observer) {{\n",
       "        var display = window.getComputedStyle(gd).display;\n",
       "        if (!display || display === 'none') {{\n",
       "            console.log([gd, 'removed!']);\n",
       "            Plotly.purge(gd);\n",
       "            observer.disconnect();\n",
       "        }}\n",
       "}});\n",
       "\n",
       "// Listen for the removal of the full notebook cells\n",
       "var notebookContainer = gd.closest('#notebook-container');\n",
       "if (notebookContainer) {{\n",
       "    x.observe(notebookContainer, {childList: true});\n",
       "}}\n",
       "\n",
       "// Listen for the clearing of the current output cell\n",
       "var outputEl = gd.closest('.output');\n",
       "if (outputEl) {{\n",
       "    x.observe(outputEl, {childList: true});\n",
       "}}\n",
       "\n",
       "                        })                };                });            </script>        </div>"
      ]
     },
     "metadata": {},
     "output_type": "display_data"
    },
    {
     "data": {
      "text/plain": [
       "<Figure size 1000x300 with 0 Axes>"
      ]
     },
     "metadata": {},
     "output_type": "display_data"
    }
   ],
   "source": [
    "plt.figure(figsize=(10, 3))\n",
    "fig = px.scatter_3d(train_data, x='Name', y='Sex', z='Age', color='Age')\n",
    "fig.show()"
   ]
  },
  {
   "cell_type": "markdown",
   "id": "83efae88",
   "metadata": {},
   "source": [
    "Each point, represents a person and it shows name, sex and age. Color indicator is Age."
   ]
  },
  {
   "cell_type": "markdown",
   "id": "17681bc8",
   "metadata": {},
   "source": [
    "<a id=\"7\"></a> <br>\n",
    "# 7.Data Preprocessing"
   ]
  },
  {
   "cell_type": "markdown",
   "id": "c1369954",
   "metadata": {},
   "source": [
    "As we already know we have missing data for Age, Cabin and Embarked.\n",
    "\n",
    "Number of missing data for:\n",
    "* Age - 177\n",
    "* Cabin - 687\n",
    "* Embarked - 2     "
   ]
  },
  {
   "cell_type": "markdown",
   "id": "8dccc966",
   "metadata": {},
   "source": [
    "<a id=\"7.1\"></a> <br>\n",
    "### 7.1  Handling missing data of Age"
   ]
  },
  {
   "cell_type": "code",
   "execution_count": 31,
   "id": "e9ab8c63",
   "metadata": {
    "execution": {
     "iopub.execute_input": "2022-04-11T05:11:50.418483Z",
     "iopub.status.busy": "2022-04-11T05:11:50.417697Z",
     "iopub.status.idle": "2022-04-11T05:11:50.424824Z",
     "shell.execute_reply": "2022-04-11T05:11:50.424317Z",
     "shell.execute_reply.started": "2022-04-11T05:11:50.418441Z"
    }
   },
   "outputs": [
    {
     "data": {
      "text/plain": [
       "177"
      ]
     },
     "execution_count": 31,
     "metadata": {},
     "output_type": "execute_result"
    }
   ],
   "source": [
    "train_data['Age'].isnull().sum()"
   ]
  },
  {
   "cell_type": "markdown",
   "id": "f4f6b05a",
   "metadata": {},
   "source": [
    "There are  177 null values in age column.\n",
    "\n",
    "We can use imputing function to fill missing age data, by finding dependency of age over the Pclass variable, as we have already seen 3rd class survival rate is very less. For this first we can visualise this distribution using a boxplot with age and Pclass. \n",
    "\n",
    "Boxplot, box indicates the interquartile Range(IQR) with median as central line.  Maximum value that is the line end at top is equal to  Q3+1.5* IQR and minimum line at bottom is equal to Q1-1.5* IQR. If there is any circle outside the extreme lines, it indicates there is outlier in the data."
   ]
  },
  {
   "cell_type": "code",
   "execution_count": 32,
   "id": "e78fb406",
   "metadata": {
    "execution": {
     "iopub.execute_input": "2022-04-11T05:11:50.426281Z",
     "iopub.status.busy": "2022-04-11T05:11:50.425893Z",
     "iopub.status.idle": "2022-04-11T05:11:50.680692Z",
     "shell.execute_reply": "2022-04-11T05:11:50.679854Z",
     "shell.execute_reply.started": "2022-04-11T05:11:50.426254Z"
    },
    "scrolled": true
   },
   "outputs": [
    {
     "data": {
      "text/plain": [
       "Text(0.5, 1.0, 'Age over Pclass')"
      ]
     },
     "execution_count": 32,
     "metadata": {},
     "output_type": "execute_result"
    },
    {
     "data": {
      "image/png": "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",
      "text/plain": [
       "<Figure size 1000x1000 with 1 Axes>"
      ]
     },
     "metadata": {},
     "output_type": "display_data"
    }
   ],
   "source": [
    "plt.figure(figsize=(10, 10))\n",
    "sns.boxplot(x='Pclass',y='Age',data=train_data,palette=\"spring\")\n",
    "plt.title('Age over Pclass')"
   ]
  },
  {
   "cell_type": "markdown",
   "id": "ed1609ea",
   "metadata": {},
   "source": [
    "From the boxplot it is very clear that older people are in Pclass 1 and so on. So to impute age, we can use below code.\n",
    "Also the median of Pclass1 = 37, Pclass2 = 29 and PClass3 = 24.\n",
    "\n",
    "First we can write an if-else struture to define impute_train_age(), which will return age, whose value will be median of that particular Pclass."
   ]
  },
  {
   "cell_type": "code",
   "execution_count": 33,
   "id": "5b465a96",
   "metadata": {
    "execution": {
     "iopub.execute_input": "2022-04-11T05:11:50.682279Z",
     "iopub.status.busy": "2022-04-11T05:11:50.681936Z",
     "iopub.status.idle": "2022-04-11T05:11:50.687923Z",
     "shell.execute_reply": "2022-04-11T05:11:50.687033Z",
     "shell.execute_reply.started": "2022-04-11T05:11:50.682227Z"
    }
   },
   "outputs": [],
   "source": [
    "def impute_train_age(cols):\n",
    "    Age = cols[0]\n",
    "    Pclass = cols[1]\n",
    "    \n",
    "    if pd.isnull(Age):\n",
    "\n",
    "        if Pclass == 1:\n",
    "            return 37\n",
    "\n",
    "        elif Pclass == 2:\n",
    "            return 29\n",
    "\n",
    "        else:\n",
    "            return 24\n",
    "\n",
    "    else:\n",
    "        return Age"
   ]
  },
  {
   "cell_type": "code",
   "execution_count": 34,
   "id": "fadad89d",
   "metadata": {
    "execution": {
     "iopub.execute_input": "2022-04-11T05:11:50.689734Z",
     "iopub.status.busy": "2022-04-11T05:11:50.689436Z",
     "iopub.status.idle": "2022-04-11T05:11:50.711769Z",
     "shell.execute_reply": "2022-04-11T05:11:50.711068Z",
     "shell.execute_reply.started": "2022-04-11T05:11:50.689699Z"
    }
   },
   "outputs": [],
   "source": [
    "train_data['Age'] = train_data[['Age','Pclass']].apply(impute_train_age,axis=1)"
   ]
  },
  {
   "cell_type": "markdown",
   "id": "d97edb5f",
   "metadata": {},
   "source": [
    "Now, if we run below code, it will give number null values as zero."
   ]
  },
  {
   "cell_type": "code",
   "execution_count": 35,
   "id": "9f85f03b",
   "metadata": {
    "execution": {
     "iopub.execute_input": "2022-04-11T05:11:50.713441Z",
     "iopub.status.busy": "2022-04-11T05:11:50.713111Z",
     "iopub.status.idle": "2022-04-11T05:11:50.720049Z",
     "shell.execute_reply": "2022-04-11T05:11:50.719281Z",
     "shell.execute_reply.started": "2022-04-11T05:11:50.713405Z"
    }
   },
   "outputs": [
    {
     "data": {
      "text/plain": [
       "0"
      ]
     },
     "execution_count": 35,
     "metadata": {},
     "output_type": "execute_result"
    }
   ],
   "source": [
    "train_data['Age'].isnull().sum()"
   ]
  },
  {
   "cell_type": "markdown",
   "id": "faa7cdf1",
   "metadata": {},
   "source": [
    "<a id=\"7.2\"></a> <br>\n",
    "### 7.2  Handling missing data of Cabin"
   ]
  },
  {
   "cell_type": "code",
   "execution_count": 36,
   "id": "33aa82e3",
   "metadata": {
    "execution": {
     "iopub.execute_input": "2022-04-11T05:11:50.721906Z",
     "iopub.status.busy": "2022-04-11T05:11:50.72147Z",
     "iopub.status.idle": "2022-04-11T05:11:50.731788Z",
     "shell.execute_reply": "2022-04-11T05:11:50.730933Z",
     "shell.execute_reply.started": "2022-04-11T05:11:50.72187Z"
    }
   },
   "outputs": [
    {
     "data": {
      "text/plain": [
       "687"
      ]
     },
     "execution_count": 36,
     "metadata": {},
     "output_type": "execute_result"
    }
   ],
   "source": [
    "train_data['Cabin'].isnull().sum()"
   ]
  },
  {
   "cell_type": "markdown",
   "id": "3e954372",
   "metadata": {},
   "source": [
    "From 891 rows, for 687 rows Cabin have null value, moreover, cabins are represented as C85, C123 etc.\n",
    "\n",
    "So we can drop this column."
   ]
  },
  {
   "cell_type": "code",
   "execution_count": 37,
   "id": "985e018a",
   "metadata": {
    "execution": {
     "iopub.execute_input": "2022-04-11T05:11:50.733082Z",
     "iopub.status.busy": "2022-04-11T05:11:50.732873Z",
     "iopub.status.idle": "2022-04-11T05:11:50.742484Z",
     "shell.execute_reply": "2022-04-11T05:11:50.741499Z",
     "shell.execute_reply.started": "2022-04-11T05:11:50.733052Z"
    }
   },
   "outputs": [],
   "source": [
    "train_data.drop('Cabin',axis=1,inplace=True)"
   ]
  },
  {
   "cell_type": "code",
   "execution_count": 38,
   "id": "3f85e239",
   "metadata": {
    "execution": {
     "iopub.execute_input": "2022-04-11T05:11:50.743746Z",
     "iopub.status.busy": "2022-04-11T05:11:50.743527Z",
     "iopub.status.idle": "2022-04-11T05:11:50.764015Z",
     "shell.execute_reply": "2022-04-11T05:11:50.763153Z",
     "shell.execute_reply.started": "2022-04-11T05:11:50.743723Z"
    }
   },
   "outputs": [
    {
     "data": {
      "text/html": [
       "<div>\n",
       "<style scoped>\n",
       "    .dataframe tbody tr th:only-of-type {\n",
       "        vertical-align: middle;\n",
       "    }\n",
       "\n",
       "    .dataframe tbody tr th {\n",
       "        vertical-align: top;\n",
       "    }\n",
       "\n",
       "    .dataframe thead th {\n",
       "        text-align: right;\n",
       "    }\n",
       "</style>\n",
       "<table border=\"1\" class=\"dataframe\">\n",
       "  <thead>\n",
       "    <tr style=\"text-align: right;\">\n",
       "      <th></th>\n",
       "      <th>PassengerId</th>\n",
       "      <th>Survived</th>\n",
       "      <th>Pclass</th>\n",
       "      <th>Name</th>\n",
       "      <th>Sex</th>\n",
       "      <th>Age</th>\n",
       "      <th>SibSp</th>\n",
       "      <th>Parch</th>\n",
       "      <th>Ticket</th>\n",
       "      <th>Fare</th>\n",
       "      <th>Embarked</th>\n",
       "    </tr>\n",
       "  </thead>\n",
       "  <tbody>\n",
       "    <tr>\n",
       "      <th>0</th>\n",
       "      <td>1</td>\n",
       "      <td>0</td>\n",
       "      <td>3</td>\n",
       "      <td>Braund, Mr. Owen Harris</td>\n",
       "      <td>male</td>\n",
       "      <td>22.0</td>\n",
       "      <td>1</td>\n",
       "      <td>0</td>\n",
       "      <td>A/5 21171</td>\n",
       "      <td>7.2500</td>\n",
       "      <td>S</td>\n",
       "    </tr>\n",
       "    <tr>\n",
       "      <th>1</th>\n",
       "      <td>2</td>\n",
       "      <td>1</td>\n",
       "      <td>1</td>\n",
       "      <td>Cumings, Mrs. John Bradley (Florence Briggs Th...</td>\n",
       "      <td>female</td>\n",
       "      <td>38.0</td>\n",
       "      <td>1</td>\n",
       "      <td>0</td>\n",
       "      <td>PC 17599</td>\n",
       "      <td>71.2833</td>\n",
       "      <td>C</td>\n",
       "    </tr>\n",
       "    <tr>\n",
       "      <th>2</th>\n",
       "      <td>3</td>\n",
       "      <td>1</td>\n",
       "      <td>3</td>\n",
       "      <td>Heikkinen, Miss. Laina</td>\n",
       "      <td>female</td>\n",
       "      <td>26.0</td>\n",
       "      <td>0</td>\n",
       "      <td>0</td>\n",
       "      <td>STON/O2. 3101282</td>\n",
       "      <td>7.9250</td>\n",
       "      <td>S</td>\n",
       "    </tr>\n",
       "    <tr>\n",
       "      <th>3</th>\n",
       "      <td>4</td>\n",
       "      <td>1</td>\n",
       "      <td>1</td>\n",
       "      <td>Futrelle, Mrs. Jacques Heath (Lily May Peel)</td>\n",
       "      <td>female</td>\n",
       "      <td>35.0</td>\n",
       "      <td>1</td>\n",
       "      <td>0</td>\n",
       "      <td>113803</td>\n",
       "      <td>53.1000</td>\n",
       "      <td>S</td>\n",
       "    </tr>\n",
       "    <tr>\n",
       "      <th>4</th>\n",
       "      <td>5</td>\n",
       "      <td>0</td>\n",
       "      <td>3</td>\n",
       "      <td>Allen, Mr. William Henry</td>\n",
       "      <td>male</td>\n",
       "      <td>35.0</td>\n",
       "      <td>0</td>\n",
       "      <td>0</td>\n",
       "      <td>373450</td>\n",
       "      <td>8.0500</td>\n",
       "      <td>S</td>\n",
       "    </tr>\n",
       "  </tbody>\n",
       "</table>\n",
       "</div>"
      ],
      "text/plain": [
       "   PassengerId  Survived  Pclass  \\\n",
       "0            1         0       3   \n",
       "1            2         1       1   \n",
       "2            3         1       3   \n",
       "3            4         1       1   \n",
       "4            5         0       3   \n",
       "\n",
       "                                                Name     Sex   Age  SibSp  \\\n",
       "0                            Braund, Mr. Owen Harris    male  22.0      1   \n",
       "1  Cumings, Mrs. John Bradley (Florence Briggs Th...  female  38.0      1   \n",
       "2                             Heikkinen, Miss. Laina  female  26.0      0   \n",
       "3       Futrelle, Mrs. Jacques Heath (Lily May Peel)  female  35.0      1   \n",
       "4                           Allen, Mr. William Henry    male  35.0      0   \n",
       "\n",
       "   Parch            Ticket     Fare Embarked  \n",
       "0      0         A/5 21171   7.2500        S  \n",
       "1      0          PC 17599  71.2833        C  \n",
       "2      0  STON/O2. 3101282   7.9250        S  \n",
       "3      0            113803  53.1000        S  \n",
       "4      0            373450   8.0500        S  "
      ]
     },
     "execution_count": 38,
     "metadata": {},
     "output_type": "execute_result"
    }
   ],
   "source": [
    "train_data.head()"
   ]
  },
  {
   "cell_type": "markdown",
   "id": "c7600438",
   "metadata": {},
   "source": [
    "We can see Cabin column is removed."
   ]
  },
  {
   "cell_type": "markdown",
   "id": "638052fa",
   "metadata": {},
   "source": [
    "<a id=\"7.2\"></a> <br>\n",
    "### 7.2  Handling missing data of Embarked"
   ]
  },
  {
   "cell_type": "code",
   "execution_count": 39,
   "id": "88cc2fc3",
   "metadata": {
    "execution": {
     "iopub.execute_input": "2022-04-11T05:11:50.765537Z",
     "iopub.status.busy": "2022-04-11T05:11:50.765233Z",
     "iopub.status.idle": "2022-04-11T05:11:50.777646Z",
     "shell.execute_reply": "2022-04-11T05:11:50.77688Z",
     "shell.execute_reply.started": "2022-04-11T05:11:50.765511Z"
    },
    "scrolled": true
   },
   "outputs": [
    {
     "data": {
      "text/plain": [
       "PassengerId    0\n",
       "Survived       0\n",
       "Pclass         0\n",
       "Name           0\n",
       "Sex            0\n",
       "Age            0\n",
       "SibSp          0\n",
       "Parch          0\n",
       "Ticket         0\n",
       "Fare           0\n",
       "Embarked       2\n",
       "dtype: int64"
      ]
     },
     "execution_count": 39,
     "metadata": {},
     "output_type": "execute_result"
    }
   ],
   "source": [
    "train_data.isnull().sum()"
   ]
  },
  {
   "cell_type": "markdown",
   "id": "c2b27fb1",
   "metadata": {},
   "source": [
    "Only two rows of Embarked is missing, so we can drop those two rows."
   ]
  },
  {
   "cell_type": "code",
   "execution_count": 40,
   "id": "57110b8b",
   "metadata": {
    "execution": {
     "iopub.execute_input": "2022-04-11T05:11:50.779788Z",
     "iopub.status.busy": "2022-04-11T05:11:50.779245Z",
     "iopub.status.idle": "2022-04-11T05:11:50.787089Z",
     "shell.execute_reply": "2022-04-11T05:11:50.78656Z",
     "shell.execute_reply.started": "2022-04-11T05:11:50.779752Z"
    }
   },
   "outputs": [],
   "source": [
    "train_data.dropna(inplace=True)"
   ]
  },
  {
   "cell_type": "code",
   "execution_count": 41,
   "id": "9c203f1c",
   "metadata": {
    "execution": {
     "iopub.execute_input": "2022-04-11T05:11:50.790685Z",
     "iopub.status.busy": "2022-04-11T05:11:50.790454Z",
     "iopub.status.idle": "2022-04-11T05:11:50.799746Z",
     "shell.execute_reply": "2022-04-11T05:11:50.799234Z",
     "shell.execute_reply.started": "2022-04-11T05:11:50.790651Z"
    }
   },
   "outputs": [
    {
     "data": {
      "text/plain": [
       "PassengerId    0\n",
       "Survived       0\n",
       "Pclass         0\n",
       "Name           0\n",
       "Sex            0\n",
       "Age            0\n",
       "SibSp          0\n",
       "Parch          0\n",
       "Ticket         0\n",
       "Fare           0\n",
       "Embarked       0\n",
       "dtype: int64"
      ]
     },
     "execution_count": 41,
     "metadata": {},
     "output_type": "execute_result"
    }
   ],
   "source": [
    "train_data.isnull().sum()"
   ]
  },
  {
   "cell_type": "markdown",
   "id": "120a6008",
   "metadata": {},
   "source": [
    "Now there is no more missing data."
   ]
  },
  {
   "cell_type": "markdown",
   "id": "f6dfde52",
   "metadata": {},
   "source": [
    "<a id=\"8\"></a> <br>\n",
    "# 8  Encoding Categorical Features"
   ]
  },
  {
   "cell_type": "code",
   "execution_count": 42,
   "id": "ede23d68",
   "metadata": {
    "execution": {
     "iopub.execute_input": "2022-04-11T05:11:50.801189Z",
     "iopub.status.busy": "2022-04-11T05:11:50.800528Z",
     "iopub.status.idle": "2022-04-11T05:11:50.814448Z",
     "shell.execute_reply": "2022-04-11T05:11:50.81366Z",
     "shell.execute_reply.started": "2022-04-11T05:11:50.801141Z"
    }
   },
   "outputs": [
    {
     "name": "stdout",
     "output_type": "stream",
     "text": [
      "<class 'pandas.core.frame.DataFrame'>\n",
      "Int64Index: 889 entries, 0 to 890\n",
      "Data columns (total 11 columns):\n",
      " #   Column       Non-Null Count  Dtype  \n",
      "---  ------       --------------  -----  \n",
      " 0   PassengerId  889 non-null    int64  \n",
      " 1   Survived     889 non-null    int64  \n",
      " 2   Pclass       889 non-null    int64  \n",
      " 3   Name         889 non-null    object \n",
      " 4   Sex          889 non-null    object \n",
      " 5   Age          889 non-null    float64\n",
      " 6   SibSp        889 non-null    int64  \n",
      " 7   Parch        889 non-null    int64  \n",
      " 8   Ticket       889 non-null    object \n",
      " 9   Fare         889 non-null    float64\n",
      " 10  Embarked     889 non-null    object \n",
      "dtypes: float64(2), int64(5), object(4)\n",
      "memory usage: 83.3+ KB\n"
     ]
    }
   ],
   "source": [
    "train_data.info()"
   ]
  },
  {
   "cell_type": "markdown",
   "id": "243fd197",
   "metadata": {},
   "source": [
    "From train_data.info(), it is clear that we have 4 categorical variables in our dataset. They are Name, Sex, Ticket and Embarked.\n",
    "\n",
    "Features Name and Ticket will have no significant meaning for determining target, so we can drop those two. Where as Sex and Embarked feautres will have to be encoded before builiding model."
   ]
  },
  {
   "cell_type": "code",
   "execution_count": 43,
   "id": "fd8da773",
   "metadata": {
    "execution": {
     "iopub.execute_input": "2022-04-11T05:11:50.81663Z",
     "iopub.status.busy": "2022-04-11T05:11:50.81605Z",
     "iopub.status.idle": "2022-04-11T05:11:50.825743Z",
     "shell.execute_reply": "2022-04-11T05:11:50.825081Z",
     "shell.execute_reply.started": "2022-04-11T05:11:50.816593Z"
    }
   },
   "outputs": [],
   "source": [
    "train_data.drop(['Name','Ticket'],axis=1,inplace=True)"
   ]
  },
  {
   "cell_type": "code",
   "execution_count": 44,
   "id": "887dcea2",
   "metadata": {
    "execution": {
     "iopub.execute_input": "2022-04-11T05:11:50.827942Z",
     "iopub.status.busy": "2022-04-11T05:11:50.826944Z",
     "iopub.status.idle": "2022-04-11T05:11:50.848933Z",
     "shell.execute_reply": "2022-04-11T05:11:50.848341Z",
     "shell.execute_reply.started": "2022-04-11T05:11:50.82791Z"
    }
   },
   "outputs": [
    {
     "data": {
      "text/html": [
       "<div>\n",
       "<style scoped>\n",
       "    .dataframe tbody tr th:only-of-type {\n",
       "        vertical-align: middle;\n",
       "    }\n",
       "\n",
       "    .dataframe tbody tr th {\n",
       "        vertical-align: top;\n",
       "    }\n",
       "\n",
       "    .dataframe thead th {\n",
       "        text-align: right;\n",
       "    }\n",
       "</style>\n",
       "<table border=\"1\" class=\"dataframe\">\n",
       "  <thead>\n",
       "    <tr style=\"text-align: right;\">\n",
       "      <th></th>\n",
       "      <th>PassengerId</th>\n",
       "      <th>Survived</th>\n",
       "      <th>Pclass</th>\n",
       "      <th>Sex</th>\n",
       "      <th>Age</th>\n",
       "      <th>SibSp</th>\n",
       "      <th>Parch</th>\n",
       "      <th>Fare</th>\n",
       "      <th>Embarked</th>\n",
       "    </tr>\n",
       "  </thead>\n",
       "  <tbody>\n",
       "    <tr>\n",
       "      <th>0</th>\n",
       "      <td>1</td>\n",
       "      <td>0</td>\n",
       "      <td>3</td>\n",
       "      <td>male</td>\n",
       "      <td>22.0</td>\n",
       "      <td>1</td>\n",
       "      <td>0</td>\n",
       "      <td>7.2500</td>\n",
       "      <td>S</td>\n",
       "    </tr>\n",
       "    <tr>\n",
       "      <th>1</th>\n",
       "      <td>2</td>\n",
       "      <td>1</td>\n",
       "      <td>1</td>\n",
       "      <td>female</td>\n",
       "      <td>38.0</td>\n",
       "      <td>1</td>\n",
       "      <td>0</td>\n",
       "      <td>71.2833</td>\n",
       "      <td>C</td>\n",
       "    </tr>\n",
       "    <tr>\n",
       "      <th>2</th>\n",
       "      <td>3</td>\n",
       "      <td>1</td>\n",
       "      <td>3</td>\n",
       "      <td>female</td>\n",
       "      <td>26.0</td>\n",
       "      <td>0</td>\n",
       "      <td>0</td>\n",
       "      <td>7.9250</td>\n",
       "      <td>S</td>\n",
       "    </tr>\n",
       "    <tr>\n",
       "      <th>3</th>\n",
       "      <td>4</td>\n",
       "      <td>1</td>\n",
       "      <td>1</td>\n",
       "      <td>female</td>\n",
       "      <td>35.0</td>\n",
       "      <td>1</td>\n",
       "      <td>0</td>\n",
       "      <td>53.1000</td>\n",
       "      <td>S</td>\n",
       "    </tr>\n",
       "    <tr>\n",
       "      <th>4</th>\n",
       "      <td>5</td>\n",
       "      <td>0</td>\n",
       "      <td>3</td>\n",
       "      <td>male</td>\n",
       "      <td>35.0</td>\n",
       "      <td>0</td>\n",
       "      <td>0</td>\n",
       "      <td>8.0500</td>\n",
       "      <td>S</td>\n",
       "    </tr>\n",
       "  </tbody>\n",
       "</table>\n",
       "</div>"
      ],
      "text/plain": [
       "   PassengerId  Survived  Pclass     Sex   Age  SibSp  Parch     Fare Embarked\n",
       "0            1         0       3    male  22.0      1      0   7.2500        S\n",
       "1            2         1       1  female  38.0      1      0  71.2833        C\n",
       "2            3         1       3  female  26.0      0      0   7.9250        S\n",
       "3            4         1       1  female  35.0      1      0  53.1000        S\n",
       "4            5         0       3    male  35.0      0      0   8.0500        S"
      ]
     },
     "execution_count": 44,
     "metadata": {},
     "output_type": "execute_result"
    }
   ],
   "source": [
    "train_data.head()"
   ]
  },
  {
   "cell_type": "markdown",
   "id": "895998a7",
   "metadata": {},
   "source": [
    "Now only Columns Sex and Embarked contain categorical variables, they should be encoded before building the model. \n",
    "\n",
    "For enoding categorical data, dummy variable is to be created for each discrete categorical variable in each column ( here for columns Sex and Embarked ) which can be done by using pandas.get_dummies() which will return dummy-coded data.\n",
    "\n",
    "Here column Sex contains two variables male and female and Embarked contains 3 cities, C = Cherbourg, Q = Queenstown, S = Southampton.\n",
    "\n",
    "For Embarked column, a dummy variable is to be assigned to each city. If our data does not belong to C and Q, it clearly means it will belong to S. This is called multicolinearity or dummy variable trap. That is by using one feature(s) we can predict another feature. To avoid this we will have to drop one dummy variable.\n",
    "\n",
    "Likewise for column Sex, for males and females, we will assign a dummy variable and we will have to drop one dummy variable from it. Because if the column is not male it indicates it will be female.\n",
    "\n",
    "Thus we can say if we drop one dummy variable no relevant information will be lost as other dummy variables can explain dropped feature fully. So if there are n dummy variables, n-1 dummy variables will be able to predict the value of the n-th dummy variable.\n",
    "\n",
    "In pandas.get_dummies(), by using parameter drop_first = True, it will drop first dummy variable, thus it will give n-1 dummies out of n categorical levels by removing the first level."
   ]
  },
  {
   "cell_type": "code",
   "execution_count": 45,
   "id": "7042ad56",
   "metadata": {},
   "outputs": [
    {
     "data": {
      "text/plain": [
       "S    644\n",
       "C    168\n",
       "Q     77\n",
       "Name: Embarked, dtype: int64"
      ]
     },
     "execution_count": 45,
     "metadata": {},
     "output_type": "execute_result"
    }
   ],
   "source": [
    "train_data[\"Embarked\"].value_counts()"
   ]
  },
  {
   "cell_type": "markdown",
   "id": "12d264fe",
   "metadata": {},
   "source": [
    "#### LabelEncoding:"
   ]
  },
  {
   "cell_type": "markdown",
   "id": "c1efd9e2",
   "metadata": {},
   "source": [
    "let's apply label Encoding function For categorical Features: "
   ]
  },
  {
   "cell_type": "code",
   "execution_count": 46,
   "id": "b857388a",
   "metadata": {},
   "outputs": [],
   "source": [
    "from sklearn.preprocessing import LabelEncoder\n",
    "le=LabelEncoder()\n",
    "train_data[\"Embarked\"]=le.fit_transform(train_data[\"Embarked\"])\n",
    "train_data[\"Sex\"]=le.fit_transform(train_data[\"Sex\"])"
   ]
  },
  {
   "cell_type": "code",
   "execution_count": 47,
   "id": "d16000f7",
   "metadata": {
    "scrolled": true
   },
   "outputs": [
    {
     "data": {
      "text/html": [
       "<div>\n",
       "<style scoped>\n",
       "    .dataframe tbody tr th:only-of-type {\n",
       "        vertical-align: middle;\n",
       "    }\n",
       "\n",
       "    .dataframe tbody tr th {\n",
       "        vertical-align: top;\n",
       "    }\n",
       "\n",
       "    .dataframe thead th {\n",
       "        text-align: right;\n",
       "    }\n",
       "</style>\n",
       "<table border=\"1\" class=\"dataframe\">\n",
       "  <thead>\n",
       "    <tr style=\"text-align: right;\">\n",
       "      <th></th>\n",
       "      <th>PassengerId</th>\n",
       "      <th>Survived</th>\n",
       "      <th>Pclass</th>\n",
       "      <th>Sex</th>\n",
       "      <th>Age</th>\n",
       "      <th>SibSp</th>\n",
       "      <th>Parch</th>\n",
       "      <th>Fare</th>\n",
       "      <th>Embarked</th>\n",
       "    </tr>\n",
       "  </thead>\n",
       "  <tbody>\n",
       "    <tr>\n",
       "      <th>0</th>\n",
       "      <td>1</td>\n",
       "      <td>0</td>\n",
       "      <td>3</td>\n",
       "      <td>1</td>\n",
       "      <td>22.0</td>\n",
       "      <td>1</td>\n",
       "      <td>0</td>\n",
       "      <td>7.2500</td>\n",
       "      <td>2</td>\n",
       "    </tr>\n",
       "    <tr>\n",
       "      <th>1</th>\n",
       "      <td>2</td>\n",
       "      <td>1</td>\n",
       "      <td>1</td>\n",
       "      <td>0</td>\n",
       "      <td>38.0</td>\n",
       "      <td>1</td>\n",
       "      <td>0</td>\n",
       "      <td>71.2833</td>\n",
       "      <td>0</td>\n",
       "    </tr>\n",
       "    <tr>\n",
       "      <th>2</th>\n",
       "      <td>3</td>\n",
       "      <td>1</td>\n",
       "      <td>3</td>\n",
       "      <td>0</td>\n",
       "      <td>26.0</td>\n",
       "      <td>0</td>\n",
       "      <td>0</td>\n",
       "      <td>7.9250</td>\n",
       "      <td>2</td>\n",
       "    </tr>\n",
       "    <tr>\n",
       "      <th>3</th>\n",
       "      <td>4</td>\n",
       "      <td>1</td>\n",
       "      <td>1</td>\n",
       "      <td>0</td>\n",
       "      <td>35.0</td>\n",
       "      <td>1</td>\n",
       "      <td>0</td>\n",
       "      <td>53.1000</td>\n",
       "      <td>2</td>\n",
       "    </tr>\n",
       "    <tr>\n",
       "      <th>4</th>\n",
       "      <td>5</td>\n",
       "      <td>0</td>\n",
       "      <td>3</td>\n",
       "      <td>1</td>\n",
       "      <td>35.0</td>\n",
       "      <td>0</td>\n",
       "      <td>0</td>\n",
       "      <td>8.0500</td>\n",
       "      <td>2</td>\n",
       "    </tr>\n",
       "    <tr>\n",
       "      <th>...</th>\n",
       "      <td>...</td>\n",
       "      <td>...</td>\n",
       "      <td>...</td>\n",
       "      <td>...</td>\n",
       "      <td>...</td>\n",
       "      <td>...</td>\n",
       "      <td>...</td>\n",
       "      <td>...</td>\n",
       "      <td>...</td>\n",
       "    </tr>\n",
       "    <tr>\n",
       "      <th>886</th>\n",
       "      <td>887</td>\n",
       "      <td>0</td>\n",
       "      <td>2</td>\n",
       "      <td>1</td>\n",
       "      <td>27.0</td>\n",
       "      <td>0</td>\n",
       "      <td>0</td>\n",
       "      <td>13.0000</td>\n",
       "      <td>2</td>\n",
       "    </tr>\n",
       "    <tr>\n",
       "      <th>887</th>\n",
       "      <td>888</td>\n",
       "      <td>1</td>\n",
       "      <td>1</td>\n",
       "      <td>0</td>\n",
       "      <td>19.0</td>\n",
       "      <td>0</td>\n",
       "      <td>0</td>\n",
       "      <td>30.0000</td>\n",
       "      <td>2</td>\n",
       "    </tr>\n",
       "    <tr>\n",
       "      <th>888</th>\n",
       "      <td>889</td>\n",
       "      <td>0</td>\n",
       "      <td>3</td>\n",
       "      <td>0</td>\n",
       "      <td>24.0</td>\n",
       "      <td>1</td>\n",
       "      <td>2</td>\n",
       "      <td>23.4500</td>\n",
       "      <td>2</td>\n",
       "    </tr>\n",
       "    <tr>\n",
       "      <th>889</th>\n",
       "      <td>890</td>\n",
       "      <td>1</td>\n",
       "      <td>1</td>\n",
       "      <td>1</td>\n",
       "      <td>26.0</td>\n",
       "      <td>0</td>\n",
       "      <td>0</td>\n",
       "      <td>30.0000</td>\n",
       "      <td>0</td>\n",
       "    </tr>\n",
       "    <tr>\n",
       "      <th>890</th>\n",
       "      <td>891</td>\n",
       "      <td>0</td>\n",
       "      <td>3</td>\n",
       "      <td>1</td>\n",
       "      <td>32.0</td>\n",
       "      <td>0</td>\n",
       "      <td>0</td>\n",
       "      <td>7.7500</td>\n",
       "      <td>1</td>\n",
       "    </tr>\n",
       "  </tbody>\n",
       "</table>\n",
       "<p>889 rows × 9 columns</p>\n",
       "</div>"
      ],
      "text/plain": [
       "     PassengerId  Survived  Pclass  Sex   Age  SibSp  Parch     Fare  Embarked\n",
       "0              1         0       3    1  22.0      1      0   7.2500         2\n",
       "1              2         1       1    0  38.0      1      0  71.2833         0\n",
       "2              3         1       3    0  26.0      0      0   7.9250         2\n",
       "3              4         1       1    0  35.0      1      0  53.1000         2\n",
       "4              5         0       3    1  35.0      0      0   8.0500         2\n",
       "..           ...       ...     ...  ...   ...    ...    ...      ...       ...\n",
       "886          887         0       2    1  27.0      0      0  13.0000         2\n",
       "887          888         1       1    0  19.0      0      0  30.0000         2\n",
       "888          889         0       3    0  24.0      1      2  23.4500         2\n",
       "889          890         1       1    1  26.0      0      0  30.0000         0\n",
       "890          891         0       3    1  32.0      0      0   7.7500         1\n",
       "\n",
       "[889 rows x 9 columns]"
      ]
     },
     "execution_count": 47,
     "metadata": {},
     "output_type": "execute_result"
    }
   ],
   "source": [
    "train_data"
   ]
  },
  {
   "cell_type": "markdown",
   "id": "9a9e40f5",
   "metadata": {},
   "source": [
    "<a id=\"9\"></a> <br>\n",
    "# 9. Analysis Numerical columns"
   ]
  },
  {
   "cell_type": "markdown",
   "id": "f00a3809",
   "metadata": {},
   "source": [
    "s PassengerId is like index, it does have any significance for building model and also it will loose its meaning as index when we do feature scaling. So it can dropped."
   ]
  },
  {
   "cell_type": "code",
   "execution_count": 49,
   "id": "8bc35cf4",
   "metadata": {
    "scrolled": true
   },
   "outputs": [
    {
     "ename": "KeyError",
     "evalue": "\"['PassengerId'] not found in axis\"",
     "output_type": "error",
     "traceback": [
      "\u001b[1;31m---------------------------------------------------------------------------\u001b[0m",
      "\u001b[1;31mKeyError\u001b[0m                                  Traceback (most recent call last)",
      "Cell \u001b[1;32mIn[49], line 1\u001b[0m\n\u001b[1;32m----> 1\u001b[0m train_data\u001b[38;5;241m.\u001b[39mdrop(\u001b[38;5;124m'\u001b[39m\u001b[38;5;124mPassengerId\u001b[39m\u001b[38;5;124m'\u001b[39m,axis\u001b[38;5;241m=\u001b[39m\u001b[38;5;241m1\u001b[39m,inplace\u001b[38;5;241m=\u001b[39m\u001b[38;5;28;01mTrue\u001b[39;00m)\n",
      "File \u001b[1;32m~\\anaconda3\\Lib\\site-packages\\pandas\\util\\_decorators.py:331\u001b[0m, in \u001b[0;36mdeprecate_nonkeyword_arguments.<locals>.decorate.<locals>.wrapper\u001b[1;34m(*args, **kwargs)\u001b[0m\n\u001b[0;32m    325\u001b[0m \u001b[38;5;28;01mif\u001b[39;00m \u001b[38;5;28mlen\u001b[39m(args) \u001b[38;5;241m>\u001b[39m num_allow_args:\n\u001b[0;32m    326\u001b[0m     warnings\u001b[38;5;241m.\u001b[39mwarn(\n\u001b[0;32m    327\u001b[0m         msg\u001b[38;5;241m.\u001b[39mformat(arguments\u001b[38;5;241m=\u001b[39m_format_argument_list(allow_args)),\n\u001b[0;32m    328\u001b[0m         \u001b[38;5;167;01mFutureWarning\u001b[39;00m,\n\u001b[0;32m    329\u001b[0m         stacklevel\u001b[38;5;241m=\u001b[39mfind_stack_level(),\n\u001b[0;32m    330\u001b[0m     )\n\u001b[1;32m--> 331\u001b[0m \u001b[38;5;28;01mreturn\u001b[39;00m func(\u001b[38;5;241m*\u001b[39margs, \u001b[38;5;241m*\u001b[39m\u001b[38;5;241m*\u001b[39mkwargs)\n",
      "File \u001b[1;32m~\\anaconda3\\Lib\\site-packages\\pandas\\core\\frame.py:5399\u001b[0m, in \u001b[0;36mDataFrame.drop\u001b[1;34m(self, labels, axis, index, columns, level, inplace, errors)\u001b[0m\n\u001b[0;32m   5251\u001b[0m \u001b[38;5;129m@deprecate_nonkeyword_arguments\u001b[39m(version\u001b[38;5;241m=\u001b[39m\u001b[38;5;28;01mNone\u001b[39;00m, allowed_args\u001b[38;5;241m=\u001b[39m[\u001b[38;5;124m\"\u001b[39m\u001b[38;5;124mself\u001b[39m\u001b[38;5;124m\"\u001b[39m, \u001b[38;5;124m\"\u001b[39m\u001b[38;5;124mlabels\u001b[39m\u001b[38;5;124m\"\u001b[39m])\n\u001b[0;32m   5252\u001b[0m \u001b[38;5;28;01mdef\u001b[39;00m \u001b[38;5;21mdrop\u001b[39m(  \u001b[38;5;66;03m# type: ignore[override]\u001b[39;00m\n\u001b[0;32m   5253\u001b[0m     \u001b[38;5;28mself\u001b[39m,\n\u001b[1;32m   (...)\u001b[0m\n\u001b[0;32m   5260\u001b[0m     errors: IgnoreRaise \u001b[38;5;241m=\u001b[39m \u001b[38;5;124m\"\u001b[39m\u001b[38;5;124mraise\u001b[39m\u001b[38;5;124m\"\u001b[39m,\n\u001b[0;32m   5261\u001b[0m ) \u001b[38;5;241m-\u001b[39m\u001b[38;5;241m>\u001b[39m DataFrame \u001b[38;5;241m|\u001b[39m \u001b[38;5;28;01mNone\u001b[39;00m:\n\u001b[0;32m   5262\u001b[0m \u001b[38;5;250m    \u001b[39m\u001b[38;5;124;03m\"\"\"\u001b[39;00m\n\u001b[0;32m   5263\u001b[0m \u001b[38;5;124;03m    Drop specified labels from rows or columns.\u001b[39;00m\n\u001b[0;32m   5264\u001b[0m \n\u001b[1;32m   (...)\u001b[0m\n\u001b[0;32m   5397\u001b[0m \u001b[38;5;124;03m            weight  1.0     0.8\u001b[39;00m\n\u001b[0;32m   5398\u001b[0m \u001b[38;5;124;03m    \"\"\"\u001b[39;00m\n\u001b[1;32m-> 5399\u001b[0m     \u001b[38;5;28;01mreturn\u001b[39;00m \u001b[38;5;28msuper\u001b[39m()\u001b[38;5;241m.\u001b[39mdrop(\n\u001b[0;32m   5400\u001b[0m         labels\u001b[38;5;241m=\u001b[39mlabels,\n\u001b[0;32m   5401\u001b[0m         axis\u001b[38;5;241m=\u001b[39maxis,\n\u001b[0;32m   5402\u001b[0m         index\u001b[38;5;241m=\u001b[39mindex,\n\u001b[0;32m   5403\u001b[0m         columns\u001b[38;5;241m=\u001b[39mcolumns,\n\u001b[0;32m   5404\u001b[0m         level\u001b[38;5;241m=\u001b[39mlevel,\n\u001b[0;32m   5405\u001b[0m         inplace\u001b[38;5;241m=\u001b[39minplace,\n\u001b[0;32m   5406\u001b[0m         errors\u001b[38;5;241m=\u001b[39merrors,\n\u001b[0;32m   5407\u001b[0m     )\n",
      "File \u001b[1;32m~\\anaconda3\\Lib\\site-packages\\pandas\\util\\_decorators.py:331\u001b[0m, in \u001b[0;36mdeprecate_nonkeyword_arguments.<locals>.decorate.<locals>.wrapper\u001b[1;34m(*args, **kwargs)\u001b[0m\n\u001b[0;32m    325\u001b[0m \u001b[38;5;28;01mif\u001b[39;00m \u001b[38;5;28mlen\u001b[39m(args) \u001b[38;5;241m>\u001b[39m num_allow_args:\n\u001b[0;32m    326\u001b[0m     warnings\u001b[38;5;241m.\u001b[39mwarn(\n\u001b[0;32m    327\u001b[0m         msg\u001b[38;5;241m.\u001b[39mformat(arguments\u001b[38;5;241m=\u001b[39m_format_argument_list(allow_args)),\n\u001b[0;32m    328\u001b[0m         \u001b[38;5;167;01mFutureWarning\u001b[39;00m,\n\u001b[0;32m    329\u001b[0m         stacklevel\u001b[38;5;241m=\u001b[39mfind_stack_level(),\n\u001b[0;32m    330\u001b[0m     )\n\u001b[1;32m--> 331\u001b[0m \u001b[38;5;28;01mreturn\u001b[39;00m func(\u001b[38;5;241m*\u001b[39margs, \u001b[38;5;241m*\u001b[39m\u001b[38;5;241m*\u001b[39mkwargs)\n",
      "File \u001b[1;32m~\\anaconda3\\Lib\\site-packages\\pandas\\core\\generic.py:4505\u001b[0m, in \u001b[0;36mNDFrame.drop\u001b[1;34m(self, labels, axis, index, columns, level, inplace, errors)\u001b[0m\n\u001b[0;32m   4503\u001b[0m \u001b[38;5;28;01mfor\u001b[39;00m axis, labels \u001b[38;5;129;01min\u001b[39;00m axes\u001b[38;5;241m.\u001b[39mitems():\n\u001b[0;32m   4504\u001b[0m     \u001b[38;5;28;01mif\u001b[39;00m labels \u001b[38;5;129;01mis\u001b[39;00m \u001b[38;5;129;01mnot\u001b[39;00m \u001b[38;5;28;01mNone\u001b[39;00m:\n\u001b[1;32m-> 4505\u001b[0m         obj \u001b[38;5;241m=\u001b[39m obj\u001b[38;5;241m.\u001b[39m_drop_axis(labels, axis, level\u001b[38;5;241m=\u001b[39mlevel, errors\u001b[38;5;241m=\u001b[39merrors)\n\u001b[0;32m   4507\u001b[0m \u001b[38;5;28;01mif\u001b[39;00m inplace:\n\u001b[0;32m   4508\u001b[0m     \u001b[38;5;28mself\u001b[39m\u001b[38;5;241m.\u001b[39m_update_inplace(obj)\n",
      "File \u001b[1;32m~\\anaconda3\\Lib\\site-packages\\pandas\\core\\generic.py:4546\u001b[0m, in \u001b[0;36mNDFrame._drop_axis\u001b[1;34m(self, labels, axis, level, errors, only_slice)\u001b[0m\n\u001b[0;32m   4544\u001b[0m         new_axis \u001b[38;5;241m=\u001b[39m axis\u001b[38;5;241m.\u001b[39mdrop(labels, level\u001b[38;5;241m=\u001b[39mlevel, errors\u001b[38;5;241m=\u001b[39merrors)\n\u001b[0;32m   4545\u001b[0m     \u001b[38;5;28;01melse\u001b[39;00m:\n\u001b[1;32m-> 4546\u001b[0m         new_axis \u001b[38;5;241m=\u001b[39m axis\u001b[38;5;241m.\u001b[39mdrop(labels, errors\u001b[38;5;241m=\u001b[39merrors)\n\u001b[0;32m   4547\u001b[0m     indexer \u001b[38;5;241m=\u001b[39m axis\u001b[38;5;241m.\u001b[39mget_indexer(new_axis)\n\u001b[0;32m   4549\u001b[0m \u001b[38;5;66;03m# Case for non-unique axis\u001b[39;00m\n\u001b[0;32m   4550\u001b[0m \u001b[38;5;28;01melse\u001b[39;00m:\n",
      "File \u001b[1;32m~\\anaconda3\\Lib\\site-packages\\pandas\\core\\indexes\\base.py:6934\u001b[0m, in \u001b[0;36mIndex.drop\u001b[1;34m(self, labels, errors)\u001b[0m\n\u001b[0;32m   6932\u001b[0m \u001b[38;5;28;01mif\u001b[39;00m mask\u001b[38;5;241m.\u001b[39many():\n\u001b[0;32m   6933\u001b[0m     \u001b[38;5;28;01mif\u001b[39;00m errors \u001b[38;5;241m!=\u001b[39m \u001b[38;5;124m\"\u001b[39m\u001b[38;5;124mignore\u001b[39m\u001b[38;5;124m\"\u001b[39m:\n\u001b[1;32m-> 6934\u001b[0m         \u001b[38;5;28;01mraise\u001b[39;00m \u001b[38;5;167;01mKeyError\u001b[39;00m(\u001b[38;5;124mf\u001b[39m\u001b[38;5;124m\"\u001b[39m\u001b[38;5;132;01m{\u001b[39;00m\u001b[38;5;28mlist\u001b[39m(labels[mask])\u001b[38;5;132;01m}\u001b[39;00m\u001b[38;5;124m not found in axis\u001b[39m\u001b[38;5;124m\"\u001b[39m)\n\u001b[0;32m   6935\u001b[0m     indexer \u001b[38;5;241m=\u001b[39m indexer[\u001b[38;5;241m~\u001b[39mmask]\n\u001b[0;32m   6936\u001b[0m \u001b[38;5;28;01mreturn\u001b[39;00m \u001b[38;5;28mself\u001b[39m\u001b[38;5;241m.\u001b[39mdelete(indexer)\n",
      "\u001b[1;31mKeyError\u001b[0m: \"['PassengerId'] not found in axis\""
     ]
    }
   ],
   "source": [
    "train_data.drop('PassengerId',axis=1,inplace=True)\n"
   ]
  },
  {
   "cell_type": "code",
   "execution_count": 50,
   "id": "39616fd7",
   "metadata": {},
   "outputs": [
    {
     "data": {
      "text/html": [
       "<div>\n",
       "<style scoped>\n",
       "    .dataframe tbody tr th:only-of-type {\n",
       "        vertical-align: middle;\n",
       "    }\n",
       "\n",
       "    .dataframe tbody tr th {\n",
       "        vertical-align: top;\n",
       "    }\n",
       "\n",
       "    .dataframe thead th {\n",
       "        text-align: right;\n",
       "    }\n",
       "</style>\n",
       "<table border=\"1\" class=\"dataframe\">\n",
       "  <thead>\n",
       "    <tr style=\"text-align: right;\">\n",
       "      <th></th>\n",
       "      <th>Survived</th>\n",
       "      <th>Pclass</th>\n",
       "      <th>Sex</th>\n",
       "      <th>Age</th>\n",
       "      <th>SibSp</th>\n",
       "      <th>Parch</th>\n",
       "      <th>Fare</th>\n",
       "      <th>Embarked</th>\n",
       "    </tr>\n",
       "  </thead>\n",
       "  <tbody>\n",
       "    <tr>\n",
       "      <th>0</th>\n",
       "      <td>0</td>\n",
       "      <td>3</td>\n",
       "      <td>1</td>\n",
       "      <td>22.0</td>\n",
       "      <td>1</td>\n",
       "      <td>0</td>\n",
       "      <td>7.2500</td>\n",
       "      <td>2</td>\n",
       "    </tr>\n",
       "    <tr>\n",
       "      <th>1</th>\n",
       "      <td>1</td>\n",
       "      <td>1</td>\n",
       "      <td>0</td>\n",
       "      <td>38.0</td>\n",
       "      <td>1</td>\n",
       "      <td>0</td>\n",
       "      <td>71.2833</td>\n",
       "      <td>0</td>\n",
       "    </tr>\n",
       "    <tr>\n",
       "      <th>2</th>\n",
       "      <td>1</td>\n",
       "      <td>3</td>\n",
       "      <td>0</td>\n",
       "      <td>26.0</td>\n",
       "      <td>0</td>\n",
       "      <td>0</td>\n",
       "      <td>7.9250</td>\n",
       "      <td>2</td>\n",
       "    </tr>\n",
       "    <tr>\n",
       "      <th>3</th>\n",
       "      <td>1</td>\n",
       "      <td>1</td>\n",
       "      <td>0</td>\n",
       "      <td>35.0</td>\n",
       "      <td>1</td>\n",
       "      <td>0</td>\n",
       "      <td>53.1000</td>\n",
       "      <td>2</td>\n",
       "    </tr>\n",
       "    <tr>\n",
       "      <th>4</th>\n",
       "      <td>0</td>\n",
       "      <td>3</td>\n",
       "      <td>1</td>\n",
       "      <td>35.0</td>\n",
       "      <td>0</td>\n",
       "      <td>0</td>\n",
       "      <td>8.0500</td>\n",
       "      <td>2</td>\n",
       "    </tr>\n",
       "  </tbody>\n",
       "</table>\n",
       "</div>"
      ],
      "text/plain": [
       "   Survived  Pclass  Sex   Age  SibSp  Parch     Fare  Embarked\n",
       "0         0       3    1  22.0      1      0   7.2500         2\n",
       "1         1       1    0  38.0      1      0  71.2833         0\n",
       "2         1       3    0  26.0      0      0   7.9250         2\n",
       "3         1       1    0  35.0      1      0  53.1000         2\n",
       "4         0       3    1  35.0      0      0   8.0500         2"
      ]
     },
     "execution_count": 50,
     "metadata": {},
     "output_type": "execute_result"
    }
   ],
   "source": [
    "train_data.head()"
   ]
  },
  {
   "cell_type": "markdown",
   "id": "6516e788",
   "metadata": {},
   "source": [
    "<a id=\"10\"></a> <br>\n",
    "# 10. Train and Test Split"
   ]
  },
  {
   "cell_type": "markdown",
   "id": "3bd3eb21",
   "metadata": {},
   "source": [
    "As discussed earlier, for test.csv there is no survivial data. So for test and train split, I will be using train_data as we cannot perform evaluation if we donot have target in our evaluation dataset. \n",
    "\n",
    "Once evaluation part is done, we can predict target (Survived or not) of test_data.csv"
   ]
  },
  {
   "cell_type": "code",
   "execution_count": 51,
   "id": "ec838640",
   "metadata": {},
   "outputs": [],
   "source": [
    "X = train_data.drop(['Survived'],axis = 1)\n",
    "y = train_data['Survived']"
   ]
  },
  {
   "cell_type": "code",
   "execution_count": 51,
   "id": "54779dd2",
   "metadata": {
    "execution": {
     "iopub.execute_input": "2022-04-11T05:11:50.9106Z",
     "iopub.status.busy": "2022-04-11T05:11:50.910381Z",
     "iopub.status.idle": "2022-04-11T05:11:50.92909Z",
     "shell.execute_reply": "2022-04-11T05:11:50.92823Z",
     "shell.execute_reply.started": "2022-04-11T05:11:50.910576Z"
    }
   },
   "outputs": [
    {
     "data": {
      "text/html": [
       "<div>\n",
       "<style scoped>\n",
       "    .dataframe tbody tr th:only-of-type {\n",
       "        vertical-align: middle;\n",
       "    }\n",
       "\n",
       "    .dataframe tbody tr th {\n",
       "        vertical-align: top;\n",
       "    }\n",
       "\n",
       "    .dataframe thead th {\n",
       "        text-align: right;\n",
       "    }\n",
       "</style>\n",
       "<table border=\"1\" class=\"dataframe\">\n",
       "  <thead>\n",
       "    <tr style=\"text-align: right;\">\n",
       "      <th></th>\n",
       "      <th>Pclass</th>\n",
       "      <th>Age</th>\n",
       "      <th>SibSp</th>\n",
       "      <th>Parch</th>\n",
       "      <th>Fare</th>\n",
       "      <th>Sex_male</th>\n",
       "      <th>Embarked_Q</th>\n",
       "      <th>Embarked_S</th>\n",
       "    </tr>\n",
       "  </thead>\n",
       "  <tbody>\n",
       "    <tr>\n",
       "      <th>0</th>\n",
       "      <td>3</td>\n",
       "      <td>22.0</td>\n",
       "      <td>1</td>\n",
       "      <td>0</td>\n",
       "      <td>7.2500</td>\n",
       "      <td>True</td>\n",
       "      <td>False</td>\n",
       "      <td>True</td>\n",
       "    </tr>\n",
       "    <tr>\n",
       "      <th>1</th>\n",
       "      <td>1</td>\n",
       "      <td>38.0</td>\n",
       "      <td>1</td>\n",
       "      <td>0</td>\n",
       "      <td>71.2833</td>\n",
       "      <td>False</td>\n",
       "      <td>False</td>\n",
       "      <td>False</td>\n",
       "    </tr>\n",
       "    <tr>\n",
       "      <th>2</th>\n",
       "      <td>3</td>\n",
       "      <td>26.0</td>\n",
       "      <td>0</td>\n",
       "      <td>0</td>\n",
       "      <td>7.9250</td>\n",
       "      <td>False</td>\n",
       "      <td>False</td>\n",
       "      <td>True</td>\n",
       "    </tr>\n",
       "    <tr>\n",
       "      <th>3</th>\n",
       "      <td>1</td>\n",
       "      <td>35.0</td>\n",
       "      <td>1</td>\n",
       "      <td>0</td>\n",
       "      <td>53.1000</td>\n",
       "      <td>False</td>\n",
       "      <td>False</td>\n",
       "      <td>True</td>\n",
       "    </tr>\n",
       "    <tr>\n",
       "      <th>4</th>\n",
       "      <td>3</td>\n",
       "      <td>35.0</td>\n",
       "      <td>0</td>\n",
       "      <td>0</td>\n",
       "      <td>8.0500</td>\n",
       "      <td>True</td>\n",
       "      <td>False</td>\n",
       "      <td>True</td>\n",
       "    </tr>\n",
       "  </tbody>\n",
       "</table>\n",
       "</div>"
      ],
      "text/plain": [
       "   Pclass   Age  SibSp  Parch     Fare  Sex_male  Embarked_Q  Embarked_S\n",
       "0       3  22.0      1      0   7.2500      True       False        True\n",
       "1       1  38.0      1      0  71.2833     False       False       False\n",
       "2       3  26.0      0      0   7.9250     False       False        True\n",
       "3       1  35.0      1      0  53.1000     False       False        True\n",
       "4       3  35.0      0      0   8.0500      True       False        True"
      ]
     },
     "execution_count": 51,
     "metadata": {},
     "output_type": "execute_result"
    }
   ],
   "source": [
    "X.head()"
   ]
  },
  {
   "cell_type": "code",
   "execution_count": 52,
   "id": "24585d04",
   "metadata": {
    "execution": {
     "iopub.execute_input": "2022-04-11T05:11:50.930952Z",
     "iopub.status.busy": "2022-04-11T05:11:50.930656Z",
     "iopub.status.idle": "2022-04-11T05:11:50.940803Z",
     "shell.execute_reply": "2022-04-11T05:11:50.940212Z",
     "shell.execute_reply.started": "2022-04-11T05:11:50.930917Z"
    }
   },
   "outputs": [
    {
     "data": {
      "text/plain": [
       "0    0\n",
       "1    1\n",
       "2    1\n",
       "3    1\n",
       "4    0\n",
       "Name: Survived, dtype: int64"
      ]
     },
     "execution_count": 52,
     "metadata": {},
     "output_type": "execute_result"
    }
   ],
   "source": [
    "y.head()"
   ]
  },
  {
   "cell_type": "code",
   "execution_count": 52,
   "id": "51854601",
   "metadata": {},
   "outputs": [
    {
     "data": {
      "text/plain": [
       "0    549\n",
       "1    340\n",
       "Name: Survived, dtype: int64"
      ]
     },
     "execution_count": 52,
     "metadata": {},
     "output_type": "execute_result"
    }
   ],
   "source": [
    "y.value_counts()"
   ]
  },
  {
   "cell_type": "markdown",
   "id": "71243e63",
   "metadata": {},
   "source": [
    "Handling imbalance data using SMOTE based techniques\n",
    "\n",
    "Resampling data is one of the most commonly preferred approaches to deal with an imbalanced dataset. There are broadly two types of methods for this i) Undersampling ii) Oversampling. In most cases, oversampling is preferred over undersampling techniques. The reason being, in undersampling we tend to remove instances from data that may be carrying some important information. In this article, I am specifically covering some special data augmentation oversampling techniques: SMOTE and its related counterparts.\n",
    "\n",
    "SMOTE: Synthetic Minority Oversampling Technique SMOTE is an oversampling technique where the synthetic samples are generated for the minority class. This algorithm helps to overcome the overfitting problem posed by random oversampling. It focuses on the feature space to generate new instances with the help of interpolation between the positive instances that lie together.\n",
    "\n",
    "Working Procedure: At first the total no. of oversampling observations, N is set up. Generally, it is selected such that the binary class distribution is 1:1. But that could be tuned down based on need. Then the iteration starts by first selecting a positive class instance at random. Next, the KNN’s (by default 5) for that instance is obtained. At last, N of these K instances is chosen to interpolate new synthetic instances. To do that, using any distance metric the difference in distance between the feature vector and its neighbors is calculated. Now, this difference is multiplied by any random value in (0,1] and is added to the previous feature vector. This is pictorially represented below:image.png\n",
    "\n",
    "Though this algorithm is quite useful, it has few drawbacks associated with it.\n",
    "\n",
    "i) The synthetic instances generated are in the same direction i.e. connected by an artificial line its diagonal instances. This in turn complicates the decision surface generated by few classifier algorithms.\n",
    "\n",
    "ii) SMOTE tends to create a large no. of noisy data points in feature space"
   ]
  },
  {
   "cell_type": "code",
   "execution_count": 54,
   "id": "05a80984",
   "metadata": {
    "execution": {
     "iopub.execute_input": "2022-09-29T15:49:17.627069Z",
     "iopub.status.busy": "2022-09-29T15:49:17.626683Z",
     "iopub.status.idle": "2022-09-29T15:49:17.643336Z",
     "shell.execute_reply": "2022-09-29T15:49:17.642137Z",
     "shell.execute_reply.started": "2022-09-29T15:49:17.627037Z"
    }
   },
   "outputs": [],
   "source": [
    "from imblearn.over_sampling import SMOTE\n",
    "from sklearn.model_selection import train_test_split, GridSearchCV\n",
    "from sklearn.ensemble import GradientBoostingClassifier\n",
    "from sklearn.metrics import classification_report, confusion_matrix\n",
    "\n",
    "smt = SMOTE(random_state=42, \n",
    "                   sampling_strategy={0:549, 1:549})\n",
    "X_smote, y_smote = smt.fit_resample(X, y)"
   ]
  },
  {
   "cell_type": "code",
   "execution_count": 55,
   "id": "921defc4",
   "metadata": {},
   "outputs": [],
   "source": [
    "X_train, X_test, y_train, y_test = train_test_split(X_smote, y_smote, test_size=0.2,random_state=101)"
   ]
  },
  {
   "cell_type": "code",
   "execution_count": 56,
   "id": "7c4fcea1",
   "metadata": {
    "execution": {
     "iopub.execute_input": "2022-04-11T05:11:50.955335Z",
     "iopub.status.busy": "2022-04-11T05:11:50.95479Z",
     "iopub.status.idle": "2022-04-11T05:11:50.963814Z",
     "shell.execute_reply": "2022-04-11T05:11:50.963104Z",
     "shell.execute_reply.started": "2022-04-11T05:11:50.955298Z"
    }
   },
   "outputs": [
    {
     "data": {
      "text/plain": [
       "(878, 7)"
      ]
     },
     "execution_count": 56,
     "metadata": {},
     "output_type": "execute_result"
    }
   ],
   "source": [
    "X_train.shape"
   ]
  },
  {
   "cell_type": "code",
   "execution_count": 57,
   "id": "2768825d",
   "metadata": {
    "execution": {
     "iopub.execute_input": "2022-04-11T05:11:50.965381Z",
     "iopub.status.busy": "2022-04-11T05:11:50.964738Z",
     "iopub.status.idle": "2022-04-11T05:11:50.973714Z",
     "shell.execute_reply": "2022-04-11T05:11:50.97313Z",
     "shell.execute_reply.started": "2022-04-11T05:11:50.965285Z"
    }
   },
   "outputs": [
    {
     "data": {
      "text/plain": [
       "(220, 7)"
      ]
     },
     "execution_count": 57,
     "metadata": {},
     "output_type": "execute_result"
    }
   ],
   "source": [
    "X_test.shape"
   ]
  },
  {
   "cell_type": "code",
   "execution_count": 58,
   "id": "9e36058a",
   "metadata": {
    "execution": {
     "iopub.execute_input": "2022-04-11T05:11:50.975491Z",
     "iopub.status.busy": "2022-04-11T05:11:50.975012Z",
     "iopub.status.idle": "2022-04-11T05:11:50.984433Z",
     "shell.execute_reply": "2022-04-11T05:11:50.983529Z",
     "shell.execute_reply.started": "2022-04-11T05:11:50.975454Z"
    }
   },
   "outputs": [
    {
     "data": {
      "text/plain": [
       "(878,)"
      ]
     },
     "execution_count": 58,
     "metadata": {},
     "output_type": "execute_result"
    }
   ],
   "source": [
    "y_train.shape"
   ]
  },
  {
   "cell_type": "code",
   "execution_count": 59,
   "id": "0dba2c15",
   "metadata": {
    "execution": {
     "iopub.execute_input": "2022-04-11T05:11:50.985836Z",
     "iopub.status.busy": "2022-04-11T05:11:50.985508Z",
     "iopub.status.idle": "2022-04-11T05:11:50.994953Z",
     "shell.execute_reply": "2022-04-11T05:11:50.994242Z",
     "shell.execute_reply.started": "2022-04-11T05:11:50.985812Z"
    }
   },
   "outputs": [
    {
     "data": {
      "text/plain": [
       "(220,)"
      ]
     },
     "execution_count": 59,
     "metadata": {},
     "output_type": "execute_result"
    }
   ],
   "source": [
    "y_test.shape"
   ]
  },
  {
   "cell_type": "code",
   "execution_count": 61,
   "id": "324de60d",
   "metadata": {},
   "outputs": [],
   "source": [
    "from sklearn.preprocessing import StandardScaler\n",
    "sc = StandardScaler()\n",
    "sc.fit(X_train)\n",
    "X_trainsc = sc.transform(X_train)\n",
    "X_testsc = sc.transform(X_test)"
   ]
  },
  {
   "cell_type": "code",
   "execution_count": 62,
   "id": "eba0ce4f",
   "metadata": {},
   "outputs": [
    {
     "name": "stdout",
     "output_type": "stream",
     "text": [
      "Collecting xgboost\n",
      "  Obtaining dependency information for xgboost from https://files.pythonhosted.org/packages/a2/48/d5da8591891327b0faf08179d420fba3893c6134bdd449497c5329e4cb01/xgboost-2.1.0-py3-none-win_amd64.whl.metadata\n",
      "  Downloading xgboost-2.1.0-py3-none-win_amd64.whl.metadata (2.1 kB)\n",
      "Requirement already satisfied: numpy in c:\\users\\hp\\anaconda3\\lib\\site-packages (from xgboost) (1.24.3)\n",
      "Requirement already satisfied: scipy in c:\\users\\hp\\anaconda3\\lib\\site-packages (from xgboost) (1.11.1)\n",
      "Downloading xgboost-2.1.0-py3-none-win_amd64.whl (124.9 MB)\n",
      "   ---------------------------------------- 0.0/124.9 MB ? eta -:--:--\n",
      "   ---------------------------------------- 0.0/124.9 MB ? eta -:--:--\n",
      "   ---------------------------------------- 0.0/124.9 MB 660.6 kB/s eta 0:03:10\n",
      "   ---------------------------------------- 0.0/124.9 MB 487.6 kB/s eta 0:04:17\n",
      "   ---------------------------------------- 0.2/124.9 MB 1.1 MB/s eta 0:01:49\n",
      "   ---------------------------------------- 0.3/124.9 MB 1.6 MB/s eta 0:01:18\n",
      "   ---------------------------------------- 0.5/124.9 MB 2.0 MB/s eta 0:01:02\n",
      "   ---------------------------------------- 0.6/124.9 MB 2.2 MB/s eta 0:00:57\n",
      "   ---------------------------------------- 0.8/124.9 MB 2.3 MB/s eta 0:00:54\n",
      "   ---------------------------------------- 1.0/124.9 MB 2.5 MB/s eta 0:00:50\n",
      "   ---------------------------------------- 1.1/124.9 MB 2.6 MB/s eta 0:00:49\n",
      "   ---------------------------------------- 1.3/124.9 MB 2.8 MB/s eta 0:00:44\n",
      "   ---------------------------------------- 1.4/124.9 MB 2.8 MB/s eta 0:00:45\n",
      "    --------------------------------------- 1.6/124.9 MB 3.0 MB/s eta 0:00:42\n",
      "    --------------------------------------- 1.8/124.9 MB 3.0 MB/s eta 0:00:41\n",
      "    --------------------------------------- 2.0/124.9 MB 3.1 MB/s eta 0:00:41\n",
      "    --------------------------------------- 2.2/124.9 MB 3.2 MB/s eta 0:00:39\n",
      "    --------------------------------------- 2.3/124.9 MB 3.2 MB/s eta 0:00:39\n",
      "    --------------------------------------- 2.5/124.9 MB 3.3 MB/s eta 0:00:38\n",
      "    --------------------------------------- 2.7/124.9 MB 3.2 MB/s eta 0:00:38\n",
      "    --------------------------------------- 2.9/124.9 MB 3.4 MB/s eta 0:00:37\n",
      "    --------------------------------------- 3.1/124.9 MB 3.4 MB/s eta 0:00:36\n",
      "   - -------------------------------------- 3.4/124.9 MB 3.6 MB/s eta 0:00:35\n",
      "   - -------------------------------------- 3.6/124.9 MB 3.7 MB/s eta 0:00:34\n",
      "   - -------------------------------------- 3.9/124.9 MB 3.8 MB/s eta 0:00:32\n",
      "   - -------------------------------------- 4.1/124.9 MB 3.9 MB/s eta 0:00:32\n",
      "   - -------------------------------------- 4.5/124.9 MB 4.0 MB/s eta 0:00:31\n",
      "   - -------------------------------------- 4.6/124.9 MB 4.0 MB/s eta 0:00:31\n",
      "   - -------------------------------------- 4.7/124.9 MB 3.8 MB/s eta 0:00:32\n",
      "   - -------------------------------------- 4.9/124.9 MB 3.9 MB/s eta 0:00:31\n",
      "   - -------------------------------------- 5.2/124.9 MB 3.9 MB/s eta 0:00:31\n",
      "   - -------------------------------------- 5.4/124.9 MB 4.0 MB/s eta 0:00:30\n",
      "   - -------------------------------------- 5.7/124.9 MB 4.1 MB/s eta 0:00:30\n",
      "   - -------------------------------------- 5.9/124.9 MB 4.1 MB/s eta 0:00:30\n",
      "   - -------------------------------------- 6.2/124.9 MB 4.1 MB/s eta 0:00:29\n",
      "   -- ------------------------------------- 6.4/124.9 MB 4.2 MB/s eta 0:00:29\n",
      "   -- ------------------------------------- 6.7/124.9 MB 4.3 MB/s eta 0:00:28\n",
      "   -- ------------------------------------- 7.0/124.9 MB 4.4 MB/s eta 0:00:27\n",
      "   -- ------------------------------------- 7.3/124.9 MB 4.4 MB/s eta 0:00:27\n",
      "   -- ------------------------------------- 7.5/124.9 MB 4.4 MB/s eta 0:00:27\n",
      "   -- ------------------------------------- 7.8/124.9 MB 4.4 MB/s eta 0:00:27\n",
      "   -- ------------------------------------- 8.1/124.9 MB 4.5 MB/s eta 0:00:26\n",
      "   -- ------------------------------------- 8.4/124.9 MB 4.5 MB/s eta 0:00:26\n",
      "   -- ------------------------------------- 8.6/124.9 MB 4.6 MB/s eta 0:00:26\n",
      "   -- ------------------------------------- 8.7/124.9 MB 4.5 MB/s eta 0:00:26\n",
      "   -- ------------------------------------- 8.9/124.9 MB 4.5 MB/s eta 0:00:26\n",
      "   -- ------------------------------------- 9.2/124.9 MB 4.6 MB/s eta 0:00:26\n",
      "   -- ------------------------------------- 9.3/124.9 MB 4.6 MB/s eta 0:00:26\n",
      "   --- ------------------------------------ 9.6/124.9 MB 4.6 MB/s eta 0:00:26\n",
      "   --- ------------------------------------ 9.7/124.9 MB 4.6 MB/s eta 0:00:26\n",
      "   --- ------------------------------------ 10.0/124.9 MB 4.6 MB/s eta 0:00:26\n",
      "   --- ------------------------------------ 10.2/124.9 MB 4.6 MB/s eta 0:00:26\n",
      "   --- ------------------------------------ 10.5/124.9 MB 4.8 MB/s eta 0:00:24\n",
      "   --- ------------------------------------ 10.6/124.9 MB 4.8 MB/s eta 0:00:24\n",
      "   --- ------------------------------------ 10.8/124.9 MB 4.9 MB/s eta 0:00:24\n",
      "   --- ------------------------------------ 11.0/124.9 MB 5.0 MB/s eta 0:00:23\n",
      "   --- ------------------------------------ 11.2/124.9 MB 5.0 MB/s eta 0:00:23\n",
      "   --- ------------------------------------ 11.5/124.9 MB 5.0 MB/s eta 0:00:23\n",
      "   --- ------------------------------------ 11.7/124.9 MB 5.1 MB/s eta 0:00:23\n",
      "   --- ------------------------------------ 12.0/124.9 MB 5.2 MB/s eta 0:00:22\n",
      "   --- ------------------------------------ 12.3/124.9 MB 5.2 MB/s eta 0:00:22\n",
      "   --- ------------------------------------ 12.5/124.9 MB 5.2 MB/s eta 0:00:22\n",
      "   ---- ----------------------------------- 12.7/124.9 MB 5.3 MB/s eta 0:00:22\n",
      "   ---- ----------------------------------- 13.1/124.9 MB 5.3 MB/s eta 0:00:22\n",
      "   ---- ----------------------------------- 13.3/124.9 MB 5.4 MB/s eta 0:00:21\n",
      "   ---- ----------------------------------- 13.6/124.9 MB 5.4 MB/s eta 0:00:21\n",
      "   ---- ----------------------------------- 14.0/124.9 MB 5.4 MB/s eta 0:00:21\n",
      "   ---- ----------------------------------- 14.3/124.9 MB 5.4 MB/s eta 0:00:21\n",
      "   ---- ----------------------------------- 14.6/124.9 MB 5.4 MB/s eta 0:00:21\n",
      "   ---- ----------------------------------- 14.7/124.9 MB 5.4 MB/s eta 0:00:21\n",
      "   ---- ----------------------------------- 15.0/124.9 MB 5.5 MB/s eta 0:00:20\n",
      "   ---- ----------------------------------- 15.3/124.9 MB 5.5 MB/s eta 0:00:20\n",
      "   ---- ----------------------------------- 15.5/124.9 MB 5.5 MB/s eta 0:00:20\n",
      "   ----- ---------------------------------- 15.8/124.9 MB 5.5 MB/s eta 0:00:20\n",
      "   ----- ---------------------------------- 16.1/124.9 MB 5.6 MB/s eta 0:00:20\n",
      "   ----- ---------------------------------- 16.3/124.9 MB 5.5 MB/s eta 0:00:20\n",
      "   ----- ---------------------------------- 16.6/124.9 MB 5.5 MB/s eta 0:00:20\n",
      "   ----- ---------------------------------- 16.9/124.9 MB 5.5 MB/s eta 0:00:20\n",
      "   ----- ---------------------------------- 17.1/124.9 MB 5.5 MB/s eta 0:00:20\n",
      "   ----- ---------------------------------- 17.5/124.9 MB 5.5 MB/s eta 0:00:20\n",
      "   ----- ---------------------------------- 17.8/124.9 MB 5.6 MB/s eta 0:00:20\n",
      "   ----- ---------------------------------- 18.1/124.9 MB 5.6 MB/s eta 0:00:20\n",
      "   ----- ---------------------------------- 18.4/124.9 MB 5.6 MB/s eta 0:00:20\n",
      "   ----- ---------------------------------- 18.7/124.9 MB 5.6 MB/s eta 0:00:19\n",
      "   ------ --------------------------------- 18.9/124.9 MB 5.6 MB/s eta 0:00:19\n",
      "   ------ --------------------------------- 19.1/124.9 MB 5.6 MB/s eta 0:00:19\n",
      "   ------ --------------------------------- 19.5/124.9 MB 5.7 MB/s eta 0:00:19\n",
      "   ------ --------------------------------- 19.8/124.9 MB 5.7 MB/s eta 0:00:19\n",
      "   ------ --------------------------------- 19.9/124.9 MB 5.8 MB/s eta 0:00:19\n",
      "   ------ --------------------------------- 20.2/124.9 MB 5.8 MB/s eta 0:00:19\n",
      "   ------ --------------------------------- 20.5/124.9 MB 5.8 MB/s eta 0:00:19\n",
      "   ------ --------------------------------- 20.9/124.9 MB 5.9 MB/s eta 0:00:18\n",
      "   ------ --------------------------------- 21.2/124.9 MB 6.0 MB/s eta 0:00:18\n",
      "   ------ --------------------------------- 21.5/124.9 MB 6.1 MB/s eta 0:00:18\n",
      "   ------ --------------------------------- 21.7/124.9 MB 6.1 MB/s eta 0:00:17\n",
      "   ------- -------------------------------- 22.1/124.9 MB 6.1 MB/s eta 0:00:17\n",
      "   ------- -------------------------------- 22.3/124.9 MB 6.2 MB/s eta 0:00:17\n",
      "   ------- -------------------------------- 22.4/124.9 MB 6.0 MB/s eta 0:00:18\n",
      "   ------- -------------------------------- 22.7/124.9 MB 6.0 MB/s eta 0:00:18\n",
      "   ------- -------------------------------- 22.9/124.9 MB 6.1 MB/s eta 0:00:17\n",
      "   ------- -------------------------------- 23.2/124.9 MB 6.1 MB/s eta 0:00:17\n",
      "   ------- -------------------------------- 23.4/124.9 MB 6.0 MB/s eta 0:00:17\n",
      "   ------- -------------------------------- 23.7/124.9 MB 6.1 MB/s eta 0:00:17\n",
      "   ------- -------------------------------- 24.0/124.9 MB 6.1 MB/s eta 0:00:17\n",
      "   ------- -------------------------------- 24.4/124.9 MB 6.0 MB/s eta 0:00:17\n",
      "   ------- -------------------------------- 24.7/124.9 MB 6.0 MB/s eta 0:00:17\n",
      "   ------- -------------------------------- 25.0/124.9 MB 6.2 MB/s eta 0:00:17\n",
      "   -------- ------------------------------- 25.3/124.9 MB 6.2 MB/s eta 0:00:17\n",
      "   -------- ------------------------------- 25.5/124.9 MB 6.2 MB/s eta 0:00:16\n",
      "   -------- ------------------------------- 25.7/124.9 MB 6.1 MB/s eta 0:00:17\n",
      "   -------- ------------------------------- 26.0/124.9 MB 6.1 MB/s eta 0:00:17\n",
      "   -------- ------------------------------- 26.2/124.9 MB 6.1 MB/s eta 0:00:17\n",
      "   -------- ------------------------------- 26.5/124.9 MB 6.1 MB/s eta 0:00:17\n",
      "   -------- ------------------------------- 26.8/124.9 MB 6.1 MB/s eta 0:00:17\n",
      "   -------- ------------------------------- 27.2/124.9 MB 6.2 MB/s eta 0:00:16\n",
      "   -------- ------------------------------- 27.5/124.9 MB 6.2 MB/s eta 0:00:16\n",
      "   -------- ------------------------------- 27.8/124.9 MB 6.1 MB/s eta 0:00:16\n",
      "   -------- ------------------------------- 28.1/124.9 MB 6.2 MB/s eta 0:00:16\n",
      "   --------- ------------------------------ 28.2/124.9 MB 6.1 MB/s eta 0:00:16\n",
      "   --------- ------------------------------ 28.5/124.9 MB 6.1 MB/s eta 0:00:16\n",
      "   --------- ------------------------------ 28.8/124.9 MB 6.1 MB/s eta 0:00:16\n",
      "   --------- ------------------------------ 29.1/124.9 MB 6.1 MB/s eta 0:00:16\n",
      "   --------- ------------------------------ 29.5/124.9 MB 6.1 MB/s eta 0:00:16\n",
      "   --------- ------------------------------ 29.7/124.9 MB 6.1 MB/s eta 0:00:16\n",
      "   --------- ------------------------------ 30.0/124.9 MB 6.1 MB/s eta 0:00:16\n",
      "   --------- ------------------------------ 30.0/124.9 MB 6.1 MB/s eta 0:00:16\n",
      "   --------- ------------------------------ 30.3/124.9 MB 6.0 MB/s eta 0:00:16\n",
      "   --------- ------------------------------ 30.5/124.9 MB 5.9 MB/s eta 0:00:17\n",
      "   --------- ------------------------------ 30.7/124.9 MB 5.9 MB/s eta 0:00:16\n",
      "   --------- ------------------------------ 30.8/124.9 MB 5.8 MB/s eta 0:00:17\n",
      "   --------- ------------------------------ 31.1/124.9 MB 5.7 MB/s eta 0:00:17\n",
      "   ---------- ----------------------------- 31.5/124.9 MB 5.7 MB/s eta 0:00:17\n",
      "   ---------- ----------------------------- 31.7/124.9 MB 5.7 MB/s eta 0:00:17\n",
      "   ---------- ----------------------------- 32.1/124.9 MB 5.8 MB/s eta 0:00:17\n",
      "   ---------- ----------------------------- 32.4/124.9 MB 5.7 MB/s eta 0:00:17\n",
      "   ---------- ----------------------------- 32.8/124.9 MB 5.9 MB/s eta 0:00:16\n",
      "   ---------- ----------------------------- 33.0/124.9 MB 5.8 MB/s eta 0:00:16\n",
      "   ---------- ----------------------------- 33.4/124.9 MB 6.0 MB/s eta 0:00:16\n",
      "   ---------- ----------------------------- 33.7/124.9 MB 6.0 MB/s eta 0:00:16\n",
      "   ---------- ----------------------------- 33.9/124.9 MB 5.9 MB/s eta 0:00:16\n",
      "   ---------- ----------------------------- 34.3/124.9 MB 5.9 MB/s eta 0:00:16\n",
      "   ----------- ---------------------------- 34.5/124.9 MB 5.9 MB/s eta 0:00:16\n",
      "   ----------- ---------------------------- 34.7/124.9 MB 5.9 MB/s eta 0:00:16\n",
      "   ----------- ---------------------------- 35.0/124.9 MB 5.8 MB/s eta 0:00:16\n",
      "   ----------- ---------------------------- 35.4/124.9 MB 5.9 MB/s eta 0:00:16\n",
      "   ----------- ---------------------------- 35.7/124.9 MB 5.8 MB/s eta 0:00:16\n",
      "   ----------- ---------------------------- 35.9/124.9 MB 6.0 MB/s eta 0:00:15\n",
      "   ----------- ---------------------------- 36.0/124.9 MB 5.9 MB/s eta 0:00:16\n",
      "   ----------- ---------------------------- 36.3/124.9 MB 5.9 MB/s eta 0:00:16\n",
      "   ----------- ---------------------------- 36.5/124.9 MB 5.9 MB/s eta 0:00:15\n",
      "   ----------- ---------------------------- 36.7/124.9 MB 5.8 MB/s eta 0:00:16\n",
      "   ----------- ---------------------------- 36.9/124.9 MB 5.7 MB/s eta 0:00:16\n",
      "   ----------- ---------------------------- 37.2/124.9 MB 5.7 MB/s eta 0:00:16\n",
      "   ----------- ---------------------------- 37.4/124.9 MB 5.6 MB/s eta 0:00:16\n",
      "   ------------ --------------------------- 37.7/124.9 MB 5.6 MB/s eta 0:00:16\n",
      "   ------------ --------------------------- 37.9/124.9 MB 5.6 MB/s eta 0:00:16\n",
      "   ------------ --------------------------- 38.1/124.9 MB 5.6 MB/s eta 0:00:16\n",
      "   ------------ --------------------------- 38.4/124.9 MB 5.7 MB/s eta 0:00:16\n",
      "   ------------ --------------------------- 38.7/124.9 MB 5.7 MB/s eta 0:00:16\n",
      "   ------------ --------------------------- 39.0/124.9 MB 5.7 MB/s eta 0:00:16\n",
      "   ------------ --------------------------- 39.3/124.9 MB 5.7 MB/s eta 0:00:16\n",
      "   ------------ --------------------------- 39.6/124.9 MB 5.7 MB/s eta 0:00:15\n",
      "   ------------ --------------------------- 39.9/124.9 MB 5.6 MB/s eta 0:00:16\n",
      "   ------------ --------------------------- 40.1/124.9 MB 5.6 MB/s eta 0:00:16\n",
      "   ------------ --------------------------- 40.5/124.9 MB 5.8 MB/s eta 0:00:15\n",
      "   ------------- -------------------------- 40.6/124.9 MB 5.8 MB/s eta 0:00:15\n",
      "   ------------- -------------------------- 40.8/124.9 MB 5.7 MB/s eta 0:00:15\n",
      "   ------------- -------------------------- 41.0/124.9 MB 5.9 MB/s eta 0:00:15\n",
      "   ------------- -------------------------- 41.2/124.9 MB 5.8 MB/s eta 0:00:15\n",
      "   ------------- -------------------------- 41.4/124.9 MB 5.8 MB/s eta 0:00:15\n",
      "   ------------- -------------------------- 41.4/124.9 MB 5.7 MB/s eta 0:00:15\n",
      "   ------------- -------------------------- 41.6/124.9 MB 5.5 MB/s eta 0:00:16\n",
      "   ------------- -------------------------- 41.9/124.9 MB 5.6 MB/s eta 0:00:15\n",
      "   ------------- -------------------------- 42.1/124.9 MB 5.5 MB/s eta 0:00:15\n",
      "   ------------- -------------------------- 42.3/124.9 MB 5.5 MB/s eta 0:00:16\n",
      "   ------------- -------------------------- 42.5/124.9 MB 5.5 MB/s eta 0:00:16\n",
      "   ------------- -------------------------- 42.8/124.9 MB 5.5 MB/s eta 0:00:16\n",
      "   ------------- -------------------------- 43.1/124.9 MB 5.4 MB/s eta 0:00:16\n",
      "   ------------- -------------------------- 43.4/124.9 MB 5.4 MB/s eta 0:00:16\n",
      "   ------------- -------------------------- 43.6/124.9 MB 5.4 MB/s eta 0:00:16\n",
      "   -------------- ------------------------- 43.8/124.9 MB 5.4 MB/s eta 0:00:16\n",
      "   -------------- ------------------------- 44.0/124.9 MB 5.3 MB/s eta 0:00:16\n",
      "   -------------- ------------------------- 44.3/124.9 MB 5.3 MB/s eta 0:00:16\n",
      "   -------------- ------------------------- 44.6/124.9 MB 5.3 MB/s eta 0:00:16\n",
      "   -------------- ------------------------- 44.9/124.9 MB 5.4 MB/s eta 0:00:15\n",
      "   -------------- ------------------------- 45.2/124.9 MB 5.4 MB/s eta 0:00:15\n",
      "   -------------- ------------------------- 45.5/124.9 MB 5.3 MB/s eta 0:00:15\n",
      "   -------------- ------------------------- 45.6/124.9 MB 5.3 MB/s eta 0:00:16\n",
      "   -------------- ------------------------- 45.9/124.9 MB 5.3 MB/s eta 0:00:15\n",
      "   -------------- ------------------------- 46.2/124.9 MB 5.4 MB/s eta 0:00:15\n",
      "   -------------- ------------------------- 46.5/124.9 MB 5.4 MB/s eta 0:00:15\n",
      "   -------------- ------------------------- 46.8/124.9 MB 5.4 MB/s eta 0:00:15\n",
      "   --------------- ------------------------ 47.0/124.9 MB 5.5 MB/s eta 0:00:15\n",
      "   --------------- ------------------------ 47.3/124.9 MB 5.5 MB/s eta 0:00:14\n",
      "   --------------- ------------------------ 47.6/124.9 MB 5.6 MB/s eta 0:00:14\n",
      "   --------------- ------------------------ 47.9/124.9 MB 5.6 MB/s eta 0:00:14\n",
      "   --------------- ------------------------ 48.2/124.9 MB 5.6 MB/s eta 0:00:14\n",
      "   --------------- ------------------------ 48.6/124.9 MB 5.6 MB/s eta 0:00:14\n",
      "   --------------- ------------------------ 48.8/124.9 MB 5.6 MB/s eta 0:00:14\n",
      "   --------------- ------------------------ 48.9/124.9 MB 5.5 MB/s eta 0:00:14\n",
      "   --------------- ------------------------ 49.3/124.9 MB 5.5 MB/s eta 0:00:14\n",
      "   --------------- ------------------------ 49.6/124.9 MB 5.5 MB/s eta 0:00:14\n",
      "   --------------- ------------------------ 49.8/124.9 MB 5.5 MB/s eta 0:00:14\n",
      "   ---------------- ----------------------- 50.0/124.9 MB 5.5 MB/s eta 0:00:14\n",
      "   ---------------- ----------------------- 50.2/124.9 MB 5.5 MB/s eta 0:00:14\n",
      "   ---------------- ----------------------- 50.6/124.9 MB 5.5 MB/s eta 0:00:14\n",
      "   ---------------- ----------------------- 50.6/124.9 MB 5.5 MB/s eta 0:00:14\n",
      "   ---------------- ----------------------- 50.7/124.9 MB 5.3 MB/s eta 0:00:14\n",
      "   ---------------- ----------------------- 51.0/124.9 MB 5.4 MB/s eta 0:00:14\n",
      "   ---------------- ----------------------- 51.4/124.9 MB 5.5 MB/s eta 0:00:14\n",
      "   ---------------- ----------------------- 51.6/124.9 MB 5.5 MB/s eta 0:00:14\n",
      "   ---------------- ----------------------- 51.9/124.9 MB 5.7 MB/s eta 0:00:13\n",
      "   ---------------- ----------------------- 52.2/124.9 MB 5.7 MB/s eta 0:00:13\n",
      "   ---------------- ----------------------- 52.4/124.9 MB 5.7 MB/s eta 0:00:13\n",
      "   ---------------- ----------------------- 52.7/124.9 MB 5.8 MB/s eta 0:00:13\n",
      "   ---------------- ----------------------- 53.0/124.9 MB 5.8 MB/s eta 0:00:13\n",
      "   ----------------- ---------------------- 53.1/124.9 MB 5.7 MB/s eta 0:00:13\n",
      "   ----------------- ---------------------- 53.4/124.9 MB 5.7 MB/s eta 0:00:13\n",
      "   ----------------- ---------------------- 53.7/124.9 MB 5.7 MB/s eta 0:00:13\n",
      "   ----------------- ---------------------- 54.0/124.9 MB 5.8 MB/s eta 0:00:13\n",
      "   ----------------- ---------------------- 54.2/124.9 MB 5.7 MB/s eta 0:00:13\n",
      "   ----------------- ---------------------- 54.4/124.9 MB 5.7 MB/s eta 0:00:13\n",
      "   ----------------- ---------------------- 54.5/124.9 MB 5.6 MB/s eta 0:00:13\n",
      "   ----------------- ---------------------- 54.8/124.9 MB 5.6 MB/s eta 0:00:13\n",
      "   ----------------- ---------------------- 55.1/124.9 MB 5.6 MB/s eta 0:00:13\n",
      "   ----------------- ---------------------- 55.4/124.9 MB 5.6 MB/s eta 0:00:13\n",
      "   ----------------- ---------------------- 55.6/124.9 MB 5.6 MB/s eta 0:00:13\n",
      "   ----------------- ---------------------- 55.8/124.9 MB 5.5 MB/s eta 0:00:13\n",
      "   ----------------- ---------------------- 56.0/124.9 MB 5.6 MB/s eta 0:00:13\n",
      "   ------------------ --------------------- 56.3/124.9 MB 5.5 MB/s eta 0:00:13\n",
      "   ------------------ --------------------- 56.6/124.9 MB 5.6 MB/s eta 0:00:13\n",
      "   ------------------ --------------------- 56.8/124.9 MB 5.5 MB/s eta 0:00:13\n",
      "   ------------------ --------------------- 57.1/124.9 MB 5.5 MB/s eta 0:00:13\n",
      "   ------------------ --------------------- 57.4/124.9 MB 5.5 MB/s eta 0:00:13\n",
      "   ------------------ --------------------- 57.5/124.9 MB 5.5 MB/s eta 0:00:13\n",
      "   ------------------ --------------------- 57.9/124.9 MB 5.5 MB/s eta 0:00:13\n",
      "   ------------------ --------------------- 58.2/124.9 MB 5.5 MB/s eta 0:00:13\n",
      "   ------------------ --------------------- 58.4/124.9 MB 5.4 MB/s eta 0:00:13\n",
      "   ------------------ --------------------- 58.6/124.9 MB 5.4 MB/s eta 0:00:13\n",
      "   ------------------ --------------------- 59.0/124.9 MB 5.4 MB/s eta 0:00:13\n",
      "   ------------------ --------------------- 59.2/124.9 MB 5.5 MB/s eta 0:00:13\n",
      "   ------------------- -------------------- 59.4/124.9 MB 5.4 MB/s eta 0:00:13\n",
      "   ------------------- -------------------- 59.7/124.9 MB 5.5 MB/s eta 0:00:12\n",
      "   ------------------- -------------------- 60.0/124.9 MB 5.4 MB/s eta 0:00:12\n",
      "   ------------------- -------------------- 60.3/124.9 MB 5.5 MB/s eta 0:00:12\n",
      "   ------------------- -------------------- 60.7/124.9 MB 5.5 MB/s eta 0:00:12\n",
      "   ------------------- -------------------- 60.7/124.9 MB 5.5 MB/s eta 0:00:12\n",
      "   ------------------- -------------------- 60.9/124.9 MB 5.6 MB/s eta 0:00:12\n",
      "   ------------------- -------------------- 61.2/124.9 MB 5.5 MB/s eta 0:00:12\n",
      "   ------------------- -------------------- 61.4/124.9 MB 5.5 MB/s eta 0:00:12\n",
      "   ------------------- -------------------- 61.7/124.9 MB 5.5 MB/s eta 0:00:12\n",
      "   ------------------- -------------------- 61.9/124.9 MB 5.5 MB/s eta 0:00:12\n",
      "   ------------------- -------------------- 62.1/124.9 MB 5.6 MB/s eta 0:00:12\n",
      "   ------------------- -------------------- 62.3/124.9 MB 5.4 MB/s eta 0:00:12\n",
      "   -------------------- ------------------- 62.7/124.9 MB 5.5 MB/s eta 0:00:12\n",
      "   -------------------- ------------------- 62.9/124.9 MB 5.5 MB/s eta 0:00:12\n",
      "   -------------------- ------------------- 63.0/124.9 MB 5.4 MB/s eta 0:00:12\n",
      "   -------------------- ------------------- 63.3/124.9 MB 5.5 MB/s eta 0:00:12\n",
      "   -------------------- ------------------- 63.6/124.9 MB 5.4 MB/s eta 0:00:12\n",
      "   -------------------- ------------------- 64.0/124.9 MB 5.5 MB/s eta 0:00:12\n",
      "   -------------------- ------------------- 64.2/124.9 MB 5.5 MB/s eta 0:00:12\n",
      "   -------------------- ------------------- 64.5/124.9 MB 5.5 MB/s eta 0:00:11\n",
      "   -------------------- ------------------- 64.7/124.9 MB 5.5 MB/s eta 0:00:11\n",
      "   -------------------- ------------------- 64.9/124.9 MB 5.5 MB/s eta 0:00:11\n",
      "   -------------------- ------------------- 65.2/124.9 MB 5.5 MB/s eta 0:00:11\n",
      "   -------------------- ------------------- 65.4/124.9 MB 5.5 MB/s eta 0:00:11\n",
      "   --------------------- ------------------ 65.8/124.9 MB 5.5 MB/s eta 0:00:11\n",
      "   --------------------- ------------------ 66.0/124.9 MB 5.6 MB/s eta 0:00:11\n",
      "   --------------------- ------------------ 66.4/124.9 MB 5.7 MB/s eta 0:00:11\n",
      "   --------------------- ------------------ 66.7/124.9 MB 5.7 MB/s eta 0:00:11\n",
      "   --------------------- ------------------ 67.0/124.9 MB 5.7 MB/s eta 0:00:11\n",
      "   --------------------- ------------------ 67.3/124.9 MB 5.7 MB/s eta 0:00:11\n",
      "   --------------------- ------------------ 67.6/124.9 MB 5.8 MB/s eta 0:00:10\n",
      "   --------------------- ------------------ 68.0/124.9 MB 5.8 MB/s eta 0:00:10\n",
      "   --------------------- ------------------ 68.3/124.9 MB 5.8 MB/s eta 0:00:10\n",
      "   ---------------------- ----------------- 68.7/124.9 MB 6.0 MB/s eta 0:00:10\n",
      "   ---------------------- ----------------- 68.8/124.9 MB 5.9 MB/s eta 0:00:10\n",
      "   ---------------------- ----------------- 69.0/124.9 MB 5.8 MB/s eta 0:00:10\n",
      "   ---------------------- ----------------- 69.3/124.9 MB 5.8 MB/s eta 0:00:10\n",
      "   ---------------------- ----------------- 69.6/124.9 MB 5.8 MB/s eta 0:00:10\n",
      "   ---------------------- ----------------- 69.7/124.9 MB 5.7 MB/s eta 0:00:10\n",
      "   ---------------------- ----------------- 70.1/124.9 MB 5.7 MB/s eta 0:00:10\n",
      "   ---------------------- ----------------- 70.2/124.9 MB 5.8 MB/s eta 0:00:10\n",
      "   ---------------------- ----------------- 70.5/124.9 MB 5.7 MB/s eta 0:00:10\n",
      "   ---------------------- ----------------- 70.5/124.9 MB 5.7 MB/s eta 0:00:10\n",
      "   ---------------------- ----------------- 70.5/124.9 MB 5.4 MB/s eta 0:00:11\n",
      "   ---------------------- ----------------- 70.8/124.9 MB 5.4 MB/s eta 0:00:10\n",
      "   ---------------------- ----------------- 71.0/124.9 MB 5.5 MB/s eta 0:00:10\n",
      "   ---------------------- ----------------- 71.3/124.9 MB 5.5 MB/s eta 0:00:10\n",
      "   ---------------------- ----------------- 71.6/124.9 MB 5.5 MB/s eta 0:00:10\n",
      "   ----------------------- ---------------- 71.9/124.9 MB 5.5 MB/s eta 0:00:10\n",
      "   ----------------------- ---------------- 72.2/124.9 MB 5.5 MB/s eta 0:00:10\n",
      "   ----------------------- ---------------- 72.4/124.9 MB 5.5 MB/s eta 0:00:10\n",
      "   ----------------------- ---------------- 72.6/124.9 MB 5.6 MB/s eta 0:00:10\n",
      "   ----------------------- ---------------- 72.9/124.9 MB 5.5 MB/s eta 0:00:10\n",
      "   ----------------------- ---------------- 73.3/124.9 MB 5.7 MB/s eta 0:00:10\n",
      "   ----------------------- ---------------- 73.4/124.9 MB 5.5 MB/s eta 0:00:10\n",
      "   ----------------------- ---------------- 73.7/124.9 MB 5.6 MB/s eta 0:00:10\n",
      "   ----------------------- ---------------- 74.0/124.9 MB 5.6 MB/s eta 0:00:10\n",
      "   ----------------------- ---------------- 74.3/124.9 MB 5.6 MB/s eta 0:00:10\n",
      "   ----------------------- ---------------- 74.6/124.9 MB 5.5 MB/s eta 0:00:10\n",
      "   ----------------------- ---------------- 74.9/124.9 MB 5.6 MB/s eta 0:00:09\n",
      "   ------------------------ --------------- 75.1/124.9 MB 5.6 MB/s eta 0:00:09\n",
      "   ------------------------ --------------- 75.3/124.9 MB 5.6 MB/s eta 0:00:09\n",
      "   ------------------------ --------------- 75.7/124.9 MB 5.6 MB/s eta 0:00:09\n",
      "   ------------------------ --------------- 76.0/124.9 MB 5.6 MB/s eta 0:00:09\n",
      "   ------------------------ --------------- 76.3/124.9 MB 5.6 MB/s eta 0:00:09\n",
      "   ------------------------ --------------- 76.6/124.9 MB 5.6 MB/s eta 0:00:09\n",
      "   ------------------------ --------------- 77.0/124.9 MB 5.6 MB/s eta 0:00:09\n",
      "   ------------------------ --------------- 77.2/124.9 MB 5.6 MB/s eta 0:00:09\n",
      "   ------------------------ --------------- 77.3/124.9 MB 5.5 MB/s eta 0:00:09\n",
      "   ------------------------ --------------- 77.6/124.9 MB 5.6 MB/s eta 0:00:09\n",
      "   ------------------------ --------------- 77.9/124.9 MB 5.5 MB/s eta 0:00:09\n",
      "   ------------------------ --------------- 78.0/124.9 MB 5.4 MB/s eta 0:00:09\n",
      "   ------------------------- -------------- 78.3/124.9 MB 5.5 MB/s eta 0:00:09\n",
      "   ------------------------- -------------- 78.6/124.9 MB 5.5 MB/s eta 0:00:09\n",
      "   ------------------------- -------------- 78.9/124.9 MB 5.4 MB/s eta 0:00:09\n",
      "   ------------------------- -------------- 79.2/124.9 MB 5.5 MB/s eta 0:00:09\n",
      "   ------------------------- -------------- 79.4/124.9 MB 5.5 MB/s eta 0:00:09\n",
      "   ------------------------- -------------- 79.7/124.9 MB 5.5 MB/s eta 0:00:09\n",
      "   ------------------------- -------------- 79.9/124.9 MB 5.5 MB/s eta 0:00:09\n",
      "   ------------------------- -------------- 80.2/124.9 MB 5.5 MB/s eta 0:00:09\n",
      "   ------------------------- -------------- 80.4/124.9 MB 5.5 MB/s eta 0:00:09\n",
      "   ------------------------- -------------- 80.7/124.9 MB 5.5 MB/s eta 0:00:09\n",
      "   ------------------------- -------------- 80.9/124.9 MB 5.8 MB/s eta 0:00:08\n",
      "   -------------------------- ------------- 81.2/124.9 MB 5.8 MB/s eta 0:00:08\n",
      "   -------------------------- ------------- 81.5/124.9 MB 5.8 MB/s eta 0:00:08\n",
      "   -------------------------- ------------- 81.8/124.9 MB 5.8 MB/s eta 0:00:08\n",
      "   -------------------------- ------------- 82.1/124.9 MB 5.8 MB/s eta 0:00:08\n",
      "   -------------------------- ------------- 82.5/124.9 MB 5.8 MB/s eta 0:00:08\n",
      "   -------------------------- ------------- 82.8/124.9 MB 6.0 MB/s eta 0:00:08\n",
      "   -------------------------- ------------- 83.1/124.9 MB 6.0 MB/s eta 0:00:08\n",
      "   -------------------------- ------------- 83.4/124.9 MB 5.9 MB/s eta 0:00:08\n",
      "   -------------------------- ------------- 83.8/124.9 MB 6.1 MB/s eta 0:00:07\n",
      "   -------------------------- ------------- 84.1/124.9 MB 6.1 MB/s eta 0:00:07\n",
      "   --------------------------- ------------ 84.4/124.9 MB 6.0 MB/s eta 0:00:07\n",
      "   --------------------------- ------------ 84.5/124.9 MB 6.0 MB/s eta 0:00:07\n",
      "   --------------------------- ------------ 84.7/124.9 MB 5.9 MB/s eta 0:00:07\n",
      "   --------------------------- ------------ 85.0/124.9 MB 5.9 MB/s eta 0:00:07\n",
      "   --------------------------- ------------ 85.1/124.9 MB 5.9 MB/s eta 0:00:07\n",
      "   --------------------------- ------------ 85.2/124.9 MB 5.7 MB/s eta 0:00:07\n",
      "   --------------------------- ------------ 85.4/124.9 MB 5.7 MB/s eta 0:00:07\n",
      "   --------------------------- ------------ 85.5/124.9 MB 5.6 MB/s eta 0:00:08\n",
      "   --------------------------- ------------ 85.9/124.9 MB 5.6 MB/s eta 0:00:07\n",
      "   --------------------------- ------------ 86.1/124.9 MB 5.6 MB/s eta 0:00:07\n",
      "   --------------------------- ------------ 86.4/124.9 MB 5.6 MB/s eta 0:00:07\n",
      "   --------------------------- ------------ 86.5/124.9 MB 5.6 MB/s eta 0:00:07\n",
      "   --------------------------- ------------ 86.7/124.9 MB 5.5 MB/s eta 0:00:07\n",
      "   --------------------------- ------------ 87.0/124.9 MB 5.5 MB/s eta 0:00:07\n",
      "   --------------------------- ------------ 87.3/124.9 MB 5.5 MB/s eta 0:00:07\n",
      "   ---------------------------- ----------- 87.7/124.9 MB 5.6 MB/s eta 0:00:07\n",
      "   ---------------------------- ----------- 88.0/124.9 MB 5.6 MB/s eta 0:00:07\n",
      "   ---------------------------- ----------- 88.4/124.9 MB 5.7 MB/s eta 0:00:07\n",
      "   ---------------------------- ----------- 88.6/124.9 MB 5.7 MB/s eta 0:00:07\n",
      "   ---------------------------- ----------- 89.0/124.9 MB 5.7 MB/s eta 0:00:07\n",
      "   ---------------------------- ----------- 89.2/124.9 MB 5.6 MB/s eta 0:00:07\n",
      "   ---------------------------- ----------- 89.7/124.9 MB 5.7 MB/s eta 0:00:07\n",
      "   ---------------------------- ----------- 89.9/124.9 MB 5.7 MB/s eta 0:00:07\n",
      "   ---------------------------- ----------- 89.9/124.9 MB 5.7 MB/s eta 0:00:07\n",
      "   ---------------------------- ----------- 90.2/124.9 MB 5.6 MB/s eta 0:00:07\n",
      "   ---------------------------- ----------- 90.5/124.9 MB 5.6 MB/s eta 0:00:07\n",
      "   ----------------------------- ---------- 90.8/124.9 MB 5.6 MB/s eta 0:00:07\n",
      "   ----------------------------- ---------- 91.1/124.9 MB 5.7 MB/s eta 0:00:06\n",
      "   ----------------------------- ---------- 91.4/124.9 MB 5.7 MB/s eta 0:00:06\n",
      "   ----------------------------- ---------- 91.7/124.9 MB 5.7 MB/s eta 0:00:06\n",
      "   ----------------------------- ---------- 92.0/124.9 MB 5.7 MB/s eta 0:00:06\n",
      "   ----------------------------- ---------- 92.2/124.9 MB 5.6 MB/s eta 0:00:06\n",
      "   ----------------------------- ---------- 92.4/124.9 MB 5.6 MB/s eta 0:00:06\n",
      "   ----------------------------- ---------- 92.6/124.9 MB 5.6 MB/s eta 0:00:06\n",
      "   ----------------------------- ---------- 92.9/124.9 MB 5.5 MB/s eta 0:00:06\n",
      "   ----------------------------- ---------- 93.2/124.9 MB 5.5 MB/s eta 0:00:06\n",
      "   ----------------------------- ---------- 93.6/124.9 MB 5.5 MB/s eta 0:00:06\n",
      "   ------------------------------ --------- 93.9/124.9 MB 5.5 MB/s eta 0:00:06\n",
      "   ------------------------------ --------- 94.1/124.9 MB 5.5 MB/s eta 0:00:06\n",
      "   ------------------------------ --------- 94.4/124.9 MB 5.5 MB/s eta 0:00:06\n",
      "   ------------------------------ --------- 94.7/124.9 MB 5.5 MB/s eta 0:00:06\n",
      "   ------------------------------ --------- 95.0/124.9 MB 5.6 MB/s eta 0:00:06\n",
      "   ------------------------------ --------- 95.3/124.9 MB 5.6 MB/s eta 0:00:06\n",
      "   ------------------------------ --------- 95.6/124.9 MB 5.7 MB/s eta 0:00:06\n",
      "   ------------------------------ --------- 95.9/124.9 MB 5.9 MB/s eta 0:00:05\n",
      "   ------------------------------ --------- 96.2/124.9 MB 6.0 MB/s eta 0:00:05\n",
      "   ------------------------------ --------- 96.4/124.9 MB 5.9 MB/s eta 0:00:05\n",
      "   ------------------------------ --------- 96.8/124.9 MB 6.0 MB/s eta 0:00:05\n",
      "   ------------------------------- -------- 97.1/124.9 MB 6.1 MB/s eta 0:00:05\n",
      "   ------------------------------- -------- 97.3/124.9 MB 6.1 MB/s eta 0:00:05\n",
      "   ------------------------------- -------- 97.7/124.9 MB 6.1 MB/s eta 0:00:05\n",
      "   ------------------------------- -------- 97.9/124.9 MB 6.0 MB/s eta 0:00:05\n",
      "   ------------------------------- -------- 98.2/124.9 MB 6.0 MB/s eta 0:00:05\n",
      "   ------------------------------- -------- 98.5/124.9 MB 6.0 MB/s eta 0:00:05\n",
      "   ------------------------------- -------- 98.9/124.9 MB 6.0 MB/s eta 0:00:05\n",
      "   ------------------------------- -------- 99.2/124.9 MB 6.0 MB/s eta 0:00:05\n",
      "   ------------------------------- -------- 99.5/124.9 MB 6.0 MB/s eta 0:00:05\n",
      "   ------------------------------- -------- 99.7/124.9 MB 6.0 MB/s eta 0:00:05\n",
      "   -------------------------------- ------- 99.9/124.9 MB 6.0 MB/s eta 0:00:05\n",
      "   -------------------------------- ------- 100.3/124.9 MB 6.2 MB/s eta 0:00:04\n",
      "   -------------------------------- ------- 100.6/124.9 MB 6.2 MB/s eta 0:00:04\n",
      "   -------------------------------- ------- 100.8/124.9 MB 6.1 MB/s eta 0:00:04\n",
      "   -------------------------------- ------- 101.1/124.9 MB 6.1 MB/s eta 0:00:04\n",
      "   -------------------------------- ------- 101.4/124.9 MB 6.1 MB/s eta 0:00:04\n",
      "   -------------------------------- ------- 101.6/124.9 MB 6.1 MB/s eta 0:00:04\n",
      "   -------------------------------- ------- 102.0/124.9 MB 6.1 MB/s eta 0:00:04\n",
      "   -------------------------------- ------- 102.3/124.9 MB 6.2 MB/s eta 0:00:04\n",
      "   -------------------------------- ------- 102.3/124.9 MB 6.1 MB/s eta 0:00:04\n",
      "   -------------------------------- ------- 102.6/124.9 MB 6.1 MB/s eta 0:00:04\n",
      "   -------------------------------- ------- 102.9/124.9 MB 6.1 MB/s eta 0:00:04\n",
      "   --------------------------------- ------ 103.1/124.9 MB 6.1 MB/s eta 0:00:04\n",
      "   --------------------------------- ------ 103.4/124.9 MB 6.2 MB/s eta 0:00:04\n",
      "   --------------------------------- ------ 103.6/124.9 MB 6.1 MB/s eta 0:00:04\n",
      "   --------------------------------- ------ 103.9/124.9 MB 6.1 MB/s eta 0:00:04\n",
      "   --------------------------------- ------ 104.3/124.9 MB 6.1 MB/s eta 0:00:04\n",
      "   --------------------------------- ------ 104.6/124.9 MB 6.1 MB/s eta 0:00:04\n",
      "   --------------------------------- ------ 104.9/124.9 MB 6.1 MB/s eta 0:00:04\n",
      "   --------------------------------- ------ 105.2/124.9 MB 6.1 MB/s eta 0:00:04\n",
      "   --------------------------------- ------ 105.5/124.9 MB 6.1 MB/s eta 0:00:04\n",
      "   --------------------------------- ------ 105.8/124.9 MB 6.1 MB/s eta 0:00:04\n",
      "   --------------------------------- ------ 106.0/124.9 MB 6.1 MB/s eta 0:00:04\n",
      "   --------------------------------- ------ 106.1/124.9 MB 6.0 MB/s eta 0:00:04\n",
      "   ---------------------------------- ----- 106.4/124.9 MB 6.0 MB/s eta 0:00:04\n",
      "   ---------------------------------- ----- 106.7/124.9 MB 6.1 MB/s eta 0:00:03\n",
      "   ---------------------------------- ----- 107.1/124.9 MB 6.1 MB/s eta 0:00:03\n",
      "   ---------------------------------- ----- 107.4/124.9 MB 6.0 MB/s eta 0:00:03\n",
      "   ---------------------------------- ----- 107.6/124.9 MB 6.1 MB/s eta 0:00:03\n",
      "   ---------------------------------- ----- 107.9/124.9 MB 6.0 MB/s eta 0:00:03\n",
      "   ---------------------------------- ----- 108.1/124.9 MB 6.0 MB/s eta 0:00:03\n",
      "   ---------------------------------- ----- 108.3/124.9 MB 6.0 MB/s eta 0:00:03\n",
      "   ---------------------------------- ----- 108.6/124.9 MB 6.0 MB/s eta 0:00:03\n",
      "   ---------------------------------- ----- 109.0/124.9 MB 6.0 MB/s eta 0:00:03\n",
      "   ---------------------------------- ----- 109.3/124.9 MB 6.0 MB/s eta 0:00:03\n",
      "   ----------------------------------- ---- 109.5/124.9 MB 6.0 MB/s eta 0:00:03\n",
      "   ----------------------------------- ---- 109.8/124.9 MB 6.0 MB/s eta 0:00:03\n",
      "   ----------------------------------- ---- 110.0/124.9 MB 6.1 MB/s eta 0:00:03\n",
      "   ----------------------------------- ---- 110.2/124.9 MB 6.0 MB/s eta 0:00:03\n",
      "   ----------------------------------- ---- 110.5/124.9 MB 6.0 MB/s eta 0:00:03\n",
      "   ----------------------------------- ---- 110.8/124.9 MB 5.9 MB/s eta 0:00:03\n",
      "   ----------------------------------- ---- 110.9/124.9 MB 5.8 MB/s eta 0:00:03\n",
      "   ----------------------------------- ---- 111.2/124.9 MB 5.8 MB/s eta 0:00:03\n",
      "   ----------------------------------- ---- 111.5/124.9 MB 5.9 MB/s eta 0:00:03\n",
      "   ----------------------------------- ---- 111.6/124.9 MB 5.7 MB/s eta 0:00:03\n",
      "   ----------------------------------- ---- 111.8/124.9 MB 5.8 MB/s eta 0:00:03\n",
      "   ----------------------------------- ---- 112.0/124.9 MB 5.7 MB/s eta 0:00:03\n",
      "   ----------------------------------- ---- 112.3/124.9 MB 5.7 MB/s eta 0:00:03\n",
      "   ------------------------------------ --- 112.5/124.9 MB 5.7 MB/s eta 0:00:03\n",
      "   ------------------------------------ --- 112.8/124.9 MB 5.7 MB/s eta 0:00:03\n",
      "   ------------------------------------ --- 113.1/124.9 MB 5.8 MB/s eta 0:00:03\n",
      "   ------------------------------------ --- 113.2/124.9 MB 5.6 MB/s eta 0:00:03\n",
      "   ------------------------------------ --- 113.3/124.9 MB 5.6 MB/s eta 0:00:03\n",
      "   ------------------------------------ --- 113.6/124.9 MB 5.6 MB/s eta 0:00:03\n",
      "   ------------------------------------ --- 113.8/124.9 MB 5.6 MB/s eta 0:00:02\n",
      "   ------------------------------------ --- 114.0/124.9 MB 5.5 MB/s eta 0:00:02\n",
      "   ------------------------------------ --- 114.3/124.9 MB 5.5 MB/s eta 0:00:02\n",
      "   ------------------------------------ --- 114.6/124.9 MB 5.5 MB/s eta 0:00:02\n",
      "   ------------------------------------ --- 114.8/124.9 MB 5.5 MB/s eta 0:00:02\n",
      "   ------------------------------------ --- 115.1/124.9 MB 5.5 MB/s eta 0:00:02\n",
      "   ------------------------------------ --- 115.3/124.9 MB 5.5 MB/s eta 0:00:02\n",
      "   ------------------------------------ --- 115.5/124.9 MB 5.5 MB/s eta 0:00:02\n",
      "   ------------------------------------- -- 115.8/124.9 MB 5.5 MB/s eta 0:00:02\n",
      "   ------------------------------------- -- 115.9/124.9 MB 5.4 MB/s eta 0:00:02\n",
      "   ------------------------------------- -- 116.2/124.9 MB 5.5 MB/s eta 0:00:02\n",
      "   ------------------------------------- -- 116.5/124.9 MB 5.5 MB/s eta 0:00:02\n",
      "   ------------------------------------- -- 116.9/124.9 MB 5.5 MB/s eta 0:00:02\n",
      "   ------------------------------------- -- 117.1/124.9 MB 5.5 MB/s eta 0:00:02\n",
      "   ------------------------------------- -- 117.3/124.9 MB 5.5 MB/s eta 0:00:02\n",
      "   ------------------------------------- -- 117.5/124.9 MB 5.4 MB/s eta 0:00:02\n",
      "   ------------------------------------- -- 117.8/124.9 MB 5.5 MB/s eta 0:00:02\n",
      "   ------------------------------------- -- 118.0/124.9 MB 5.5 MB/s eta 0:00:02\n",
      "   ------------------------------------- -- 118.3/124.9 MB 5.5 MB/s eta 0:00:02\n",
      "   ------------------------------------- -- 118.5/124.9 MB 5.4 MB/s eta 0:00:02\n",
      "   -------------------------------------- - 118.8/124.9 MB 5.4 MB/s eta 0:00:02\n",
      "   -------------------------------------- - 119.1/124.9 MB 5.4 MB/s eta 0:00:02\n",
      "   -------------------------------------- - 119.4/124.9 MB 5.4 MB/s eta 0:00:02\n",
      "   -------------------------------------- - 119.7/124.9 MB 5.4 MB/s eta 0:00:01\n",
      "   -------------------------------------- - 119.8/124.9 MB 5.4 MB/s eta 0:00:01\n",
      "   -------------------------------------- - 120.1/124.9 MB 5.3 MB/s eta 0:00:01\n",
      "   -------------------------------------- - 120.4/124.9 MB 5.4 MB/s eta 0:00:01\n",
      "   -------------------------------------- - 120.6/124.9 MB 5.4 MB/s eta 0:00:01\n",
      "   -------------------------------------- - 121.0/124.9 MB 5.4 MB/s eta 0:00:01\n",
      "   -------------------------------------- - 121.3/124.9 MB 5.5 MB/s eta 0:00:01\n",
      "   -------------------------------------- - 121.5/124.9 MB 5.5 MB/s eta 0:00:01\n",
      "   -------------------------------------- - 121.6/124.9 MB 5.4 MB/s eta 0:00:01\n",
      "   ---------------------------------------  121.8/124.9 MB 5.5 MB/s eta 0:00:01\n",
      "   ---------------------------------------  122.2/124.9 MB 5.5 MB/s eta 0:00:01\n",
      "   ---------------------------------------  122.4/124.9 MB 5.5 MB/s eta 0:00:01\n",
      "   ---------------------------------------  122.7/124.9 MB 5.5 MB/s eta 0:00:01\n",
      "   ---------------------------------------  123.0/124.9 MB 5.5 MB/s eta 0:00:01\n",
      "   ---------------------------------------  123.2/124.9 MB 5.5 MB/s eta 0:00:01\n",
      "   ---------------------------------------  123.4/124.9 MB 5.6 MB/s eta 0:00:01\n",
      "   ---------------------------------------  123.7/124.9 MB 5.7 MB/s eta 0:00:01\n",
      "   ---------------------------------------  123.9/124.9 MB 5.6 MB/s eta 0:00:01\n",
      "   ---------------------------------------  124.3/124.9 MB 5.8 MB/s eta 0:00:01\n",
      "   ---------------------------------------  124.6/124.9 MB 5.8 MB/s eta 0:00:01\n",
      "   ---------------------------------------  124.9/124.9 MB 5.7 MB/s eta 0:00:01\n",
      "   ---------------------------------------  124.9/124.9 MB 5.7 MB/s eta 0:00:01\n",
      "   ---------------------------------------  124.9/124.9 MB 5.7 MB/s eta 0:00:01\n",
      "   ---------------------------------------  124.9/124.9 MB 5.7 MB/s eta 0:00:01\n",
      "   ---------------------------------------  124.9/124.9 MB 5.7 MB/s eta 0:00:01\n",
      "   ---------------------------------------  124.9/124.9 MB 5.7 MB/s eta 0:00:01\n",
      "   ---------------------------------------  124.9/124.9 MB 5.7 MB/s eta 0:00:01\n",
      "   ---------------------------------------  124.9/124.9 MB 5.7 MB/s eta 0:00:01\n",
      "   ---------------------------------------  124.9/124.9 MB 5.7 MB/s eta 0:00:01\n",
      "   ---------------------------------------  124.9/124.9 MB 5.7 MB/s eta 0:00:01\n",
      "   ---------------------------------------- 124.9/124.9 MB 4.1 MB/s eta 0:00:00\n",
      "Installing collected packages: xgboost\n",
      "Successfully installed xgboost-2.1.0\n"
     ]
    }
   ],
   "source": [
    "!pip install xgboost"
   ]
  },
  {
   "cell_type": "code",
   "execution_count": 66,
   "id": "5fe0c20e",
   "metadata": {},
   "outputs": [],
   "source": [
    "from xgboost import XGBClassifier\n",
    "from sklearn.metrics import accuracy_score"
   ]
  },
  {
   "cell_type": "code",
   "execution_count": 73,
   "id": "622b1322",
   "metadata": {},
   "outputs": [],
   "source": [
    "model = XGBClassifier(n_estimeters = 40)\n",
    "model.fit(X_trainsc, y_train)\n",
    "y_pred = model.predict(X_testsc)\n",
    "\n",
    "# Evaluate the model\n",
    "accuracy = accuracy_score(y_test, y_pred)\n",
    "conf_matrix = confusion_matrix(y_test, y_pred)\n",
    "class_report = classification_report(y_test, y_pred)"
   ]
  },
  {
   "cell_type": "code",
   "execution_count": 74,
   "id": "74f4c1f3",
   "metadata": {},
   "outputs": [
    {
     "name": "stdout",
     "output_type": "stream",
     "text": [
      "Accuracy: 0.8227272727272728\n",
      "Confusion Matrix:\n",
      "[[96 19]\n",
      " [20 85]]\n",
      "Classification Report:\n",
      "              precision    recall  f1-score   support\n",
      "\n",
      "           0       0.83      0.83      0.83       115\n",
      "           1       0.82      0.81      0.81       105\n",
      "\n",
      "    accuracy                           0.82       220\n",
      "   macro avg       0.82      0.82      0.82       220\n",
      "weighted avg       0.82      0.82      0.82       220\n",
      "\n"
     ]
    }
   ],
   "source": [
    "print(f'Accuracy: {accuracy}')\n",
    "print('Confusion Matrix:')\n",
    "print(conf_matrix)\n",
    "print('Classification Report:')\n",
    "print(class_report)"
   ]
  },
  {
   "cell_type": "code",
   "execution_count": 75,
   "id": "ff1be84c",
   "metadata": {},
   "outputs": [
    {
     "name": "stdout",
     "output_type": "stream",
     "text": [
      "Fitting 3 folds for each of 54 candidates, totalling 162 fits\n",
      "Best parameters: {'learning_rate': 0.01, 'max_depth': 7, 'n_estimators': 100, 'subsample': 1.0}\n"
     ]
    }
   ],
   "source": [
    "from sklearn.model_selection import GridSearchCV\n",
    "\n",
    "# Define the parameter grid for GridSearchCV\n",
    "param_grid = {\n",
    "    'n_estimators': [100, 200, 300],\n",
    "    'max_depth': [3, 5, 7],\n",
    "    'learning_rate': [0.01, 0.1, 0.3],\n",
    "    'subsample': [0.8, 1.0]\n",
    "}\n",
    "# Initialize GridSearchCV\n",
    "grid_search = GridSearchCV(estimator=model, param_grid=param_grid, cv=3, scoring='accuracy', verbose=1)\n",
    "\n",
    "# Fit GridSearchCV to find the best parameters\n",
    "grid_search.fit(X_trainsc, y_train)\n",
    "\n",
    "# Get the best parameters from GridSearchCV\n",
    "best_params = grid_search.best_params_\n",
    "print(f\"Best parameters: {best_params}\")"
   ]
  },
  {
   "cell_type": "code",
   "execution_count": 77,
   "id": "b0173c31",
   "metadata": {},
   "outputs": [
    {
     "name": "stdout",
     "output_type": "stream",
     "text": [
      "Accuracy with best parameters: 0.85\n",
      "Confusion Matrix:\n",
      "[[104  11]\n",
      " [ 22  83]]\n",
      "Classification Report:\n",
      "              precision    recall  f1-score   support\n",
      "\n",
      "           0       0.83      0.90      0.86       115\n",
      "           1       0.88      0.79      0.83       105\n",
      "\n",
      "    accuracy                           0.85       220\n",
      "   macro avg       0.85      0.85      0.85       220\n",
      "weighted avg       0.85      0.85      0.85       220\n",
      "\n"
     ]
    }
   ],
   "source": [
    "# Train the classifier with the best parameters\n",
    "best_xgb_clf = XGBClassifier(**best_params, use_label_encoder=False, eval_metric='mlogloss')\n",
    "best_xgb_clf.fit(X_trainsc, y_train)\n",
    "\n",
    "# Make predictions with the tuned model\n",
    "y_pred_best = best_xgb_clf.predict(X_testsc)\n",
    "\n",
    "# Evaluate the tuned model\n",
    "accuracy_best = accuracy_score(y_test, y_pred_best)\n",
    "conf_matrix_best = confusion_matrix(y_test, y_pred_best)\n",
    "class_report_best = classification_report(y_test, y_pred_best)\n",
    "\n",
    "print(f'Accuracy with best parameters: {accuracy_best}')\n",
    "print('Confusion Matrix:')\n",
    "print(conf_matrix_best)\n",
    "print('Classification Report:')\n",
    "print(class_report_best)"
   ]
  },
  {
   "cell_type": "code",
   "execution_count": 83,
   "id": "77df1ba0",
   "metadata": {},
   "outputs": [
    {
     "data": {
      "image/png": "iVBORw0KGgoAAAANSUhEUgAAA5cAAALACAYAAAAHaYYeAAAAOXRFWHRTb2Z0d2FyZQBNYXRwbG90bGliIHZlcnNpb24zLjcuMiwgaHR0cHM6Ly9tYXRwbG90bGliLm9yZy8pXeV/AAAACXBIWXMAAA9hAAAPYQGoP6dpAABgLklEQVR4nO3deXhN5/7//9eWQSbzFB9KECEhRMRQc9FTRVGng1a1hqYURVExHEqNRQwVaiqKDlolp3Joj9JqtWqqHmpqQ0LFEGoIEtmJrN8fftlfu0mIrLAjeT6uK1eS+77X2u+d/a7mlbX2WhbDMAwBAAAAAGBCIUcXAAAAAAB4+BEuAQAAAACmES4BAAAAAKYRLgEAAAAAphEuAQAAAACmES4BAAAAAKYRLgEAAAAAphEuAQAAAACmES4BAPmaYRiOLuGhwc8KAGAG4RIA8ECMHDlSNWrUyPLj3//+d64+ntVq1dSpU7Vhw4Zc3e+96tGjh3r06OHQGrJjy5YtCgsLc3QZAICHmLOjCwAAFBxlypRRREREpnOVKlXK1ceKj4/XihUrNHXq1Fzd7716++23Hfr42bVixQpHlwAAeMgRLgEAD4yrq6uCgoIcXcYD5evr6+gSAAB4IDgtFgCQ53zzzTfq2rWrAgMD1bRpU02aNEmJiYkZ1rz44ouqV6+eateurXbt2mn16tWSpFOnTqlNmzaSpFGjRql169aSbp2am/51ulOnTqlGjRpat26dJGnnzp2qUaOGPv30Uz322GNq0qSJtm/fLknas2ePXnrpJdWtW1cNGzZUWFiYLl68eMfn8vfTYmvUqKFPPvlEI0eOVP369dWwYUNNmjRJN27c0LvvvqvGjRurUaNGGjNmjJKTk+22W716tcLCwlSvXj01adLEtt3tNm7cqK5du6pevXpq2rSpxo0bpytXrtjm582bp8cff1wRERFq1KiR2rZtq6eeekq7du3Srl27VKNGDe3cuVOSdOTIEQ0cOFCNGzdWrVq11Lx58wyPWaNGDX300UcaM2aMGjZsqHr16mnQoEG6cOGCXV3/+c9/1LVrV9WtW1etWrXSjBkzZLVabfO///67+vbtq+DgYAUHB2vAgAH6888/7/izBQDkLYRLAMADlZqamuHj9gvJbNiwQQMGDFDVqlU1f/58DRw4UF9++aX69+9vW/fdd99pwIABqlWrlhYsWKB58+apQoUKmjhxon755ReVLVvWdvrt66+/nuWpuHcye/ZshYWFKSwsTEFBQdq9e7d69uwpNzc3zZkzR6NHj9auXbv08ssvZwh4dzNz5ky5uroqIiJCnTt31qpVq9SlSxedOXNGM2bMULdu3bR27VqtWrXKbru5c+fqr7/+0pw5c/Tqq6/qs88+01tvvWWbX7Bggd58803VrVtX7733ngYMGKCvv/5aPXr0sKvx9OnT2rx5s2bNmqUhQ4Zo9uzZCggIUEBAgNasWaNatWopPj5e3bt3V1JSkqZNm6YlS5boySef1KpVqzKcQjt79mylpaVp1qxZGjFihL777jtNmTLFNv/pp59q6NCh8vf3V0REhPr27auPP/5Y48ePlyTFxMSoW7du+uuvvzRt2jRNnjxZf/75p1544QX99ddf9/SzBQA4DqfFAgAemLi4ONWqVSvD+ODBg23hcebMmWrevLlmzpxpm/fx8VHPnj21bds2tWrVStHR0erSpYvGjBljW1OvXj01atRIu3fvVnBwsPz9/SXdei9nQEDAPdfarVs3tWvXzvZ9eHi4qlSpokWLFsnJyUmSVLduXXXo0EFffPGFunfvnu19V6tWTe+8844kqUGDBlq7dq1SUlI0c+ZMOTs7q3nz5tq6dat++eUXu+1KliyphQsXytnZWS1btlShQoU0depU/fHHHypbtqzef/99Pfvss3bv8/Tz81P37t21bt06vfjii5JuBfywsDA1adLEts7Ly0uSbKct//rrr/L399fcuXNtc02aNNGOHTu0e/du9evXz+4xbn9v6/79+/XVV19JktLS0mxHSydPnmxbk5ycrPXr18tqtSoiIkJubm5asWKF7bEeffRRtW3bVkuXLuVCQwDwkCBcAgAemDJlyuj999/PMF6uXDlJ0vHjx3X27Fn17dtXqamptvkGDRrIy8tLP/74o1q1aqVXX31VkpSYmKiTJ08qJiZGBw4ckCSlpKTkSq01atSwfZ2UlKT//e9/6tOnjwzDsNX2yCOPqFq1avrxxx/vKVzWq1fP9rWzs7NKlCih2rVry9n5//1vuXjx4rp69arddh06dLBb88QTT2jq1Knas2eP/u///k9Wq1VPPfWU3TYhISGqUKGCdu7caQuX0q1AeCfNmjVTs2bNlJKSopiYGMXGxuro0aO6ePGiihcvbrf27++j9fb2VlJSkqRbRyUvXLigtm3b2q3p2bOnevbsKUn6+eef1ahRI7m5udl+tl5eXgoJCdFPP/10xzoBAHkH4RIA8MC4uroqMDAwy/nLly9LkiZMmKAJEyZkmI+Pj5ckXbx4UW+//ba++eYbWSwWVa5cWfXr15eUe/dqLFWqlO3rhIQEpaWlacmSJVqyZEmGtYULF76nfacfnbudu7v7XbcrW7ZspjUmJCTI09NTklS6dOkM25UuXTpDUM1s3e3ST3P96KOPlJiYqPLly6tOnTqZPte/116oUCHb65D+mt7+8/y7y5cva+PGjdq4cWOGuZIlS96xTgBA3kG4BADkGUWLFpUkjRgxQg0bNswwX6xYMUnS8OHDdezYMS1fvlzBwcFydXVVUlKSPv/88zvu32Kx6ObNm3Zjf79QUGY8PT1lsVjUs2dPdejQIcN8doJhbkgPaunSL5pTsmRJ28/mwoULqlatmt268+fP65FHHrmnx1q8eLFWrFih8ePH64knnlCRIkUkSc8888w97Sf9Nf37hY8uX76sgwcPKigoSEWKFFGTJk3Uq1evDNvffqQWAJC3cUEfAECeUbVqVZUqVUqnTp1SYGCg7cPb21vh4eE6dOiQJGnv3r164okn1LhxY7m6ukqSvv/+e0m3jrhJsr0v8naenp66dOmS3VVY//6+xsx4eXkpICBAx48ft6urevXqioiIsF1d9X7bunWr3fdff/21LBaLGjdurLp168rV1VUbNmywW7Nnzx6dPn1awcHBd9x3oUL2vxLs3btXvr6+euaZZ2zB8ty5c/r9999tP+PsqFq1qkqUKKEtW7bYjW/YsEGhoaFKTk5Ww4YNFR0dLX9/f9vPtnbt2lqxYoU2b96c7ccCADgWfw4EAOQZTk5OevPNNzVu3Dg5OTnpscceU0JCghYsWKBz587ZLgZUp04dbdiwQbVq1ZK3t7f27dunRYsWyWKx2N7rlx6IduzYoWrVqqlu3bp67LHHtGrVKo0ePVrPPvus/vjjDy1btizTIPp3Q4cO1WuvvaZhw4apU6dOunnzppYtW6b//e9/ev311+/fD+U2+/fv1/Dhw9W5c2cdPXpU7733np577jnbUcnXXntNERERcnFxUZs2bXTq1CnNnTtXvr6+6tq16x33XbRoUe3bt087duxQQECA6tSpowULFmjx4sUKCgrSiRMntGjRIlmtVtvPODucnJz0xhtv6J133tH48eP1+OOPKzY2VnPmzNELL7ygkiVLqn///urWrZv69u2rF154QYULF9aaNWv0zTff6L333jP1MwMAPDiESwBAnvLss8/K09NTS5cu1Zo1a+Th4aHg4GDNnDnTFqKmTZumiRMnauLEiZJuXU12woQJ+vLLL7Vnzx5Jt4429urVS2vWrNF3332nH3/8UU2bNlVYWJhWrVql//73v6pVq5YiIiLUrVu3u9bVrFkzffDBB4qIiNCgQYPk4uKiWrVqafny5RkuaHO/vPLKKzp37pwGDhyoEiVKqF+/furbt69t/o033lDp0qW1evVqff755ypevLjatWunIUOG3PXU3e7du+u3335TaGiopk6dqr59++rSpUtauXKl5s+fr/Lly6tz586yWCxatGiRrly5YjsV9266d+8uDw8PffDBB1q7dq3KlSun3r1767XXXpMk1axZUx999JFmz56tESNGyDAM+fn5af78+bb7lQIA8j6LkVtXPgAAAPdNjRo1NHDgQL3xxhuOLgUAgEzxnksAAAAAgGmESwAAAACAaZwWCwAAAAAwjSOXAAAAAADTCJcAAAAAANMIlwAAAAAA0/L9fS737dsnwzDk4uLi6FIAAAAA4KGSkpIii8WievXq3XVtvj9yaRiG7QMFk2EYslqt9EABRg9Aog9AD+AW+gD0wL25lyyV749curi4yGq1ytfXVx4eHo4uBw6QmJiow4cP0wMFGD0AiT4APYBb6APQA/fmwIED2V6b749cAgAAAADuP8IlAAAAAMA0wiUAAAAAwDTCJQAAAADANMIlAAAAAMA0wiUAAAAAwDTCJQAAAADANMIlAAAAAMA0wiUAAAAAwDTCJQAAAADANMIlAAAAAMA0wiUAAAAAwDTCJQAAAADANMIlAAAAAMA0wiUAAAAAwDTCJQAAAADANMIlAAAAAMA0wiUAAAAAwDTCJQAAAADANMIlAAAAAMA0wiUAAAAAwDTCJQAAAADANMIlAAAAAMA0wiUAAAAAwDTCJQAAAADANMIlAAAAAMA0wiUAAAAAwDTCJQAAAADANMIlAAAAAMA0wiUAAAAAwDTCJQAAAADANMIlAAAAAMA0wiUAAAAAwDTCJQAAAADANMIlAAAAAMA0wiUAAAAAwDTCJQAAAADANMIlAAAAAMA0wiUAAAAAwDTCJQAAAADANMIlAAAAAMA0wiUAAAAAwDTCJQAAAADANMIlAAAAAMA0wiUAAAAAwDTCJQAAAADANMIlAAAAAMA0wiUAAAAAwDTCJQAAAADANMIlAAAAAMA0wiUAAAAAwDTCJQAAAADANMIlAAAAAMA0wiUAAAAAwDTCJQAAAADANMIlAAAAAMA0wiUAAAAAwDTCJQAAAADANMIlAAAAAMA0wiUAAAAAwDTCJQAAAADANMIlAAAAAMA0wiUAAAAAwDTCJQAAAADANMIlAAAAAMA0wiUAAAAAwDTCJQAAAADAtAITLi0Wi6NLgINYLBa5u7vTAwUYPQCJPgA9gFvoA/Da3z8FIly6urrK3d3d0WXAQdzd3RUQEEAPFGD0ACT6APQAbqEP4Fq4sFxcXOzGzpw5o5CQEO3cuTPD+jvNffvtt3rmmWcUGBio5s2ba9KkSbp27Zrdmri4OA0ePFiPPvqoGjVqpP79++vkyZN3rTM+Pl5Dhw5Vo0aNFBwcrEGDBuncuXP3+GwfLGdHF/CgzPxor06du+roMgAAAAA4SMVyRTS8e305O/+/GBQXF6c+ffro6tWMWeFOc5s3b9Ybb7yhhg0bas6cOUpNTdX777+vV155RWvWrJGzs7OSkpLUu3dvpaamauzYsXJ1ddXcuXPVo0cPbdiwQUWLFs20ztTUVIWGhioxMVHjx49XamqqwsPD1bt3b0VGRmYIx3mFw8PlwYMHFRYWptjYWLVp00YXL17Url277NYEBwfrk08+MfU4p85d1bG4K6b2AQAAACB/SEtL0xdffKHp06dnOrd+/fpM59LNmzdPvr6+Wrp0qVxdXSVJISEhatu2rdatW6fnnntOe/fuVWxsrFasWKFHH31UklSlShW1b99eW7Zs0dNPP53pvr/66isdOXJEUVFRql69uiTJ399fHTt21MaNG9W5c2ezT/++cPhpsQsWLJDFYlFUVJTGjh2r33//XePHj9f27dttH++//76jywQAAACQj/zxxx8aP368unTpkiFEHj16NMu5dMePH1ezZs1swVKSSpUqpapVq+rbb7+VJFmtVkmSp6enbU2JEiUkSZcvX86ytu3bt6tKlSq2YClJvr6+qlatmr7//vt7e6IPkMOPXCYkJCggIEA+Pj46d+6cLl++rKCgIJUpU8bRpQEAAADIp7y9vbV582Z5e3tneD9l+fLls5xLV6JECcXFxdmNpaSk6MyZM7ZQ2bRpU/n5+WnGjBmaMmWK3NzcNGXKFHl4eKht27ZZ1nbs2DH5+PhkGK9UqZJiYmLu8Zk+OA4Nl61bt7a9IJGRkVqyZIkKFSqkqlWrOrIsAAAAAPlcsWLF5OHhkelc8eLF77p9165dtXDhQi1evFjPPPOMbty4oTlz5ujatWu2/RYuXFjvvPOO+vXrZwuTrq6uWrhwoR555JEs952QkKDKlStnGPf09NT169ez8ewcw6Hhcu3aterfv7+8vb01ZswYrV+/XkWLFtW4ceO0Y8cOeXp66oknnlD//v3tDjcDAAAAgBlJSUm2r5OTk22fExMT7dZlNdenTx/duHFDc+fOVXh4uJydndW1a1e1atVKx48fV2Jiovbs2aMBAwYoKChIL730kgoVKqTPP/9cAwYMUEREhIKDgzOt7ebNm0pLS8tQS2pqqiRlGL+fDMPI9u1bHBouS5YsKRcXF7m5ualMmTI6duyYkpOTFRISoj59+ujQoUN69913dfr06Tu+mRYAAAAA7kVsbKzt6xMnTtg+3/7+yLvN/eMf/1CrVq0UHx+vEiVKyNPTU++8846cnZ11+PBhvffeeypevLgGDBhgu8JraGioTp06pUmTJmny5MmZ1ubi4qKzZ8/q8OHDduPx8fFycnLKMH6/ZfdAn8Pfc3m7KVOm6F//+peKFCkiSfLz85OLi4uGDh2qESNGqHTp0g6uEAAAAEB+4OPjY7vfafqpppUrV5a/v7/duqzm9uzZI6vVqiZNmtjGUlNTFRcXp06dOsnf318JCQkKCgpSnTp17PbZpEkTffbZZxkeK13NmjV15MiRDPOXLl1S7dq1s9zufoiOjs722jwVLp2cnGzBMp2fn58k6ezZs4RLAAAAALnC3d3d7r2R6Z///j7MrOa+++47bd26VZs3b7YdlVyzZo2uXr2q9u3by8PDQ9WqVdPBgwfl7OxsO/pnGIZ+++03VaxYMcv3fLZs2VKbNm3S6dOn5evrK+lWyIuJidGAAQOy3O5+yO4psVIeuBXJ7V544QWNHTvWbuzAgQNycXHJ9GpJAAAAAOAI3bp104ULFzRy5Ejt2LFDK1as0MSJE9WhQweFhIRIkvr376/z58/r1Vdf1ZYtW7Rt2zYNHjxYv/76qwYPHmzbV3R0tA4dOmT7vn379vLx8VFoaKiioqIUFRWl0NBQ+fn5qV27dg/8uWZXnjpy2bFjR02ZMkW1a9dWkyZNdODAAU2fPl19+vSRl5eXo8sDAAAAAEm3zrBctGiRwsPD1a9fP5UuXVr9+vVT3759bWsCAwO1evVqzZ07V8OHD5eLi4tq1KihlStXqmHDhrZ1EyZMUFxcnLZu3Srp1nscly9frsmTJ2vs2LFycXFR06ZNNWrUKDk756kIZ8diGIbhyAJ69OihChUqaNq0aZKkTz75RKtWrdKff/6pMmXK6LnnntNrr72mQoVydpD1wIEDkqQPNv+lY3FXcq1uAAAAAA+XahWKac7QVjp06JB8fHwe6OmlD6v0PBUYGHjXtQ6PvatWrbL7/oUXXtALL7zgoGoAAAAAADnh8HD5oFQsV+TuiwAAAADkW2SC+6vAhMvh3es7ugQAAAAADnYzLU2pqamOLiNfylNXi71frFarkpKSHF0GHCQpKUmHDh2iBwowegASfQB6ALfQB7AmJyslJcXRZeRLBSJcSrfuJ4OCyTAMJSUl0QMFGD0AiT4APYBb6APw2t8/BSZcAgAAAADuH8IlAAAAAMA0wiUAAAAAwDTCJQAAAADANMIlAAAAAMA0wiUAAAAAwDTCJQAAAADANMIlAAAAAMA0wiUAAAAAwDTCJQAAAADANMIlAAAAAMA0wiUAAAAAwDTCJQAAAADANMIlAAAAAMA0wiUAAAAAwDTCJQAAAADANMIlAAAAAMA0wiUAAAAAwDTCJQAAAADANMIlAAAAAMA0wiUAAAAAwDTCJQAAAADANMIlAAAAAMA0wiUAAAAAwDTCJQAAAADANMIlAAAAAMA0wiUAAAAAwDTCJQAAAADANMIlAAAAAMA0wiUAAAAAwDTCJQAAAADANMIlAAAAAMA0wiUAAAAAwDTCJQAAAADANMIlAAAAAMA0wiUAAAAAwDTCJQAAAADANMIlAAAAAMA0wiUAAAAAwDTCJQAAAADANMIlAAAAAMA0wiUAAAAAwDTCJQAAAADANMIlAAAAAMA0wiUAAAAAwDTCJQAAAADANMIlAAAAAMA0wiUAAAAAwDTCJQAAAADANMIlAAAAAMA0wiUAAAAAwDTCJQAAAADANMIlAAAAAMA0wiUAAAAAwDTCJQAAAADANMIlAAAAAMA0wiUAAAAAwDTCJQAAAADAtAITLi0Wi6NLgINYLBa5u7vTAwUYPQCJPgA9gFvoA+D+KRDh0tXVVe7u7o4uAw7i7u6ugIAAeqAAowcg0QegB3ALfZD/paUZGcbOnDmjkJAQ7dy5857m9uzZoxdffFHBwcFq1aqVJk2apGvXrtmtsVqtmjVrllq1aqU6deqoU6dO2rhx413rjI+P19ChQ9WoUSMFBwdr0KBBOnfu3D0807zH2dEFPCgzP9qrU+euOroMAAAAAPdJxXJFNLx7fbuxuLg49enTR1evZswCd5r7/fff1atXL9WvX19z5szRuXPnNGPGDJ06dUoLFy60rRs+fLi2b9+u4cOHy8fHR//+9781dOhQeXl5qUWLFpnWmZqaqtDQUCUmJmr8+PFKTU1VeHi4evfurcjISLm4uJj8STiGw8PlwYMHFRYWptjYWLVp00YtWrTQihUr9Oeff6ps2bJ65pln1KdPHzk5OZl6nFPnrupY3JVcqhoAAABAXpaWlqb169dr+vTpmc79+9//1pw5c7LcPioqShaLRfPnz5enp6ekW6Fw/PjxiouLU4UKFbR79259/fXXWrx4sVq2bClJevTRR3XixAl9//33WYbLr776SkeOHFFUVJSqV68uSfL391fHjh21ceNGde7c2eSzdwyHnxa7YMECWSwWRUVFqVWrVnr77bf18ssv68svv9Sbb76pJUuW6P3333d0mQAAAAAeIkePHtX48ePVpUuXDAHz5MmTmjJlSqZz6axWq5ydne1OoS5RooQk6fLly5Kkr7/+Wo888ogtWEq33tf76aef6l//+leWtW3fvl1VqlSxBUtJ8vX1VbVq1fT999/f83PNKxweLhMSEhQQECAfHx999tlnevrpp/Xss8+qUqVKevLJJ9WrVy+tXbvW0WUCAAAAeIiUL19emzdv1qhRo+Tm5mY3V7p0aX355ZeZzqV75plnZLFYNHXqVF26dEl//PGH5s+fLz8/P9WsWVOSdOTIEfn5+WnDhg168sknFRAQoHbt2unrr7++Y23Hjh2Tj49PhvFKlSopJiYmZ084D3DoabGtW7dWXFycJCkyMlJDhgxRu3btMqy7coXTWQEAAABkX/HixbOc8/LyUrly5e64va+vr4YNG6aJEydq5cqVkqQKFSroo48+sr1l7+LFi4qNjdXBgwf15ptvqkyZMvr44481ePBgLVq0yO6I5u0SEhJUuXLlDOOenp66fv16Np9h3uPQcLl27Vr1799f3t7eGjNmjIoVKyZXV1fbfEJCgj755BM1a9bMgVUCAAAAeJgkJSXJMP7fVWOTk5Ntn5OSkmxr/j6XmJho2+aDDz5QRESEnn/+ebVu3VqXLl3SkiVL9PLLL2vZsmUqVaqUrFarzp8/r48//lj+/v6SpDp16uj555/XvHnz1KBBg0zru3nzptLS0uweT7r1nk5JGcYdyTCMbN+6x6HhsmTJknJxcZGbm5vKlCljN3f9+nX1799fycnJGjFihIMqBAAAAPCwiYmJsYVHSTpx4oTtc/rFeWJjY7Ocu3nzppYsWaKmTZvaLq5TpEgRDR8+XEOGDNHs2bPVvXt3FSpUyHaE9PDhw7bHq169urZs2WI3djsXFxedPXs2w3x8fLycnJyy3M5Rbj8AeCcOv1psZs6fP6++ffvqzz//1AcffKBHHnnE0SUBAAAAeEhUqVLF7shl+qmmlStXlo+Pj2JjY+Xj4yN3d3e7ufSjj+fPn1dycrJatGhhG0tXtWpVXbp0Sf7+/vLz89Pu3btVs2ZNu6N7RYsWlbu7e4Zt09WsWVNHjhzJMH/p0iXVrl07y+0cITo6Ottr81y4PHbsmF599VWlpqZq9erVqlGjhqNLAgAAAPAQuf0Kr5JUuHBh2+f0OXd3d3l4eNjNeXh4SJIqVqyo4sWL68CBA+rZs6dtPxcvXtTJkycVFBQkDw8PtW7dWps3b9a+fftsb+WzWq3asWOHQkJCbPv7u5YtW2rTpk06ffq0fH19Jd0KcTExMRowYECW2zlCdk+JlfJYuPzzzz/1yiuvqFixYlq6dKnKly/v6JIAAAAAFDBOTk564403NHHiRHl6eurJJ5/UpUuXtGjRIjk5Oal3796SpKeeekqrV6/W8OHDNWzYMJUrV04rV67U2bNnNXfuXNv+oqOjZbVaFRAQIElq3769Fi5cqNDQUA0bNkySFB4eLj8/v0wvcPqwyFPhcvTo0bJarQoPD5ezs7POnz9vm/v7ezIBAAAA4H556aWXVKRIES1fvlzr1q1TiRIlFBISovnz56tixYqSbr13cvny5Zo1a5Zmz56t69evKyAgQCtWrFCtWrVs+5owYYLi4uK0detWSbfew7h8+XJNnjxZY8eOlYuLi5o2bapRo0bJ2TlPRbR7YjFuPxnZAXr06KEKFSrozTffVIsWLbJcd/To0Rzt/8CBA5KkDzb/pWNx3NIEAAAAyK+qVSimOUNb3XFNYmKiDh8+LH9//zx1+mlelZ6nAgMD77rW4bF41apVtq9zGiABAAAAAI7l8HD5oFQsV8TRJQAAAAC4j/id37EKTLgc3r2+o0sAAAAAcJ+lpRkqVCj7VzhF7ink6AIeBKvVancTVRQsSUlJOnToED1QgNEDkOgD0AO4hT7I/wiWjlMgwqUkOfi6RXAgwzCUlJREDxRg9AAk+gD0AG6hD4D7p8CESwAAAADA/UO4BAAAAACYRrgEAAAAAJhGuAQAAAAAmEa4BAAAAACYRrgEAAAAAJhGuAQAAAAAmEa4BAAAAACYRrgEAAAAAJhGuAQAAAAAmEa4BAAAAACYRrgEAAAAAJhGuAQAAAAAmEa4BAAAAACYRrgEAAAAAJhGuAQAAAAAmEa4BAAAAACYRrgEAAAAAJhGuAQAAAAAmEa4BAAAAACYRrgEAAAAAJhGuAQAAAAAmEa4BAAAAACYRrgEAAAAAJhGuAQAAAAAmEa4BAAAAACYRrgEAAAAAJhGuAQAAAAAmEa4BAAAAACYRrgEAAAAAJhGuAQAAAAAmEa4BAAAAACYRrgEAAAAAJhGuAQAAAAAmEa4BAAAAACYRrgEAAAAAJhGuAQAAAAAmEa4BAAAAACYRrgEAAAAAJhGuAQAAAAAmEa4BAAAAACYRrgEAAAAAJhGuAQAAAAAmEa4BAAAAACYRrgEAAAAAJhGuAQAAAAAmEa4BAAAAACYRrgEAAAAAJhGuAQAAAAAmEa4BAAAAACYRrgEAAAAAJhGuAQAAAAAmEa4BAAAAACYRrgEAAAAAJhGuAQAAAAAmEa4BAAAAACYRrgEAAAAAJhGuAQAAAAAmFZgwqXFYnF0CQAAAACQbxWIcOnq6ip3d3dHl4EHKC3NyHT8zJkzCgkJ0c6dO+3Gv/32Wz3zzDMKDAxU8+bNNWnSJF27di3L/f/222+qVauW1q1bd9da4uPjNXToUDVq1EjBwcEaNGiQzp07d29PCAAAAMjjnB1dwIMy86O9OnXuqqPLwANQsVwRDe9eP8P46dOnNXDgQF29at8Hmzdv1htvvKGGDRtqzpw5Sk1N1fvvv69XXnlFa9askbOz/X8mVqtVI0eOVGpq6l1rSU1NVWhoqBITEzV+/HilpqYqPDxcvXv3VmRkpFxcXMw9WQAAACCPcHi4PHjwoMLCwhQbG6s2bdpoyJAhmjp1qnbv3i0PDw898cQTeuutt0wfeTx17qqOxV3JparxMElLS9N3332nNWvWZHp69Lx58+Tr66ulS5fK1dVVkhQSEqK2bdtq3bp1eu655+zWz5kzJ0NAzcpXX32lI0eOKCoqStWrV5ck+fv7q2PHjtq4caM6d+5s8tkBAAAAeYPDT4tdsGCBLBaLoqKiNHbsWL300kuSpM8++0zTp0/Xf//7X7377rsOrhIPsz/++EPLly9Xx44dNX369Azzx48fV7NmzWzBUpJKlSqlqlWr6ttvv7Vbu2/fPq1evVrjxo3L1mNv375dVapUsQVLSfL19VW1atX0/fff5/AZAQAAAHmPw49cJiQkKCAgQD4+Ppo3b56cnZ01b948FS5cWNWrV9fgwYP1ySefyDAMLsqDHPH29tasWbPUrFkzHThwIMN8iRIlFBcXZzeWkpKiM2fOyGq12sZu3LihkSNHqm/fvqpRo0a2HvvYsWPy8fHJMF6pUiXFxMTc2xMBAAAA8jCHHrls3bq1du3apcjISNWoUUM//PCDHn/8cRUuXNi25tlnn9W6desIlsixYsWKqVSpUlnOd+3aVf/973+1ePFiXbx4UadPn9aYMWN07do1JSUl2dbNnDlTHh4e6tu3b7YfOyEhQV5eXhnGPT09df369Xt7IgAAAEAe5tAjl2vXrlX//v3l7e2tMWPGqEOHDmrbtq2mTp2qr7/+Wi4uLnr88cc1ePBgu8AJZEdSUpIMw7AFxKSkJCUnJ0uSkpOTlZiYKEnq06ePbty4oblz5yo8PFzOzs7q2rWrWrVqpePHjysxMVF79uzRmjVrtGrVKlmtVt24cUPSrYv7pO8nMzdv3lRaWlqGNekXA7rTtsg9t/cACi76APQAJPoA9MC9upczSB0aLkuWLCkXFxe5ubmpTJkyunbtmpYsWaIOHTooIiJCp0+f1sSJE3XhwoVM3ysH3ElMTIzdPxqxsbE6ceKEJOnEiRPy9PS0zf3jH/9Qq1atFB8frxIlSsjT01PvvPOOnJ2dtW/fPo0ePVodO3aU1WrVb7/9pgsXLkiS4uLi9Ntvv8nJySnTGlxcXHT27FkdPnzYbjw+Pl5OTk4ZxnF/xcbGOroE5AH0AegBSPQB6IF7cfu1Se7E4e+5vJ2Li4uqVKmi8ePHS5Jq166tmzdvasiQIQoLC7vjqY3A31WpUsV25DI2NlY+Pj62U1ErV64sf39/SdKePXtktVrVpEkT27apqamKi4tTp06ddPPmTZ0/f17r1q3LcF/LxYsXa/Hixdq3b1+mNdSsWVNHjhyxPVa6S5cuqXbt2hnGcX/c3gPc87bgog9AD0CiD0AP3Kvo6Ohsr81T4dLb29vuqpqSbN/HxcURLnFP/v6Phbu7u+306sKFC8vDw0OS9N1332nr1q3avHmz7b6Ta9as0dWrV9W+fXvVrFlTa9eutdvX+fPn9frrr2vgwIFq1aqVbV9/17JlS23atEmnT5+Wr6+vpFv/gcbExGjAgAFZbof7w93dnZ856APQA5BEH4AeyK57ufZNngqXISEh2r9/v915vb///rucnJxUsWJFB1eH/Kpbt2767LPPNHLkSD3zzDM6evSoZs6cqQ4dOigkJESSFBgYaLfNqVOnJEkVKlSwm4uOjpbValVAQIAkqX379lq4cKFCQ0M1bNgwSVJ4eLj8/PzUrl27B/H0AAAAgAfC4fe5vF2fPn30559/6u2331ZMTIx++OEHvfvuu+rcubNKlizp6PKQT/n5+WnRokWKiYlRv379tGrVKvXr1y9H91edMGGCBg4caPve1dVVy5cvV61atTR27Fi98847CgoK0tKlS+XsnKf+tgMAAACYkqd+u61atapWrlyp6dOnq3PnzipSpIg6deqkN99809GlIZ9o1KiRjh49mmG8adOmatq0abb3U7FixUz3s2rVqgxj5cuXV0RExL0VCgAAADxkHB4u//7LeJ06dbR69WoHVQMAAAAAyAmHh8sHpWK5Io4uAQ8IrzUAAADw4BWYcDm8e31Hl4AHKC3NUKFC2b+yFQAAAABz8tQFfe4Xq9WqpKQkR5eBB4hgCQAAADxYBSJcSpJhGI4uAQAAAADyrQITLgEAAAAA9w/hEgAAAABgGuESAAAAAGAa4RIAAAAAYBrhEgAAAABgGuESAAAAAGAa4RIAAAAAYBrhEgAAAABgGuESAAAAAGAa4RIAAAAAYBrhEgAAAABgGuESAAAAAGAa4RIAAAAAYBrhEgAAAABgGuESAAAAAGAa4RIAAAAAYBrhEgAAAABgGuESAAAAAGAa4RIAAAAAYBrhEgAAAABgGuESAAAAAGAa4RIAAAAAYBrhEgAAAABgGuESAAAAAGAa4RIAAAAAYBrhEgAAAABgGuESAAAAAGAa4RIAAAAAYBrhEgAAAABgGuESAAAAAGAa4RIAAAAAYBrhEgAAAABgGuESAAAAAGAa4RIAAAAAYBrhEgAAAABgGuESAAAAAGBaroXL1NRUXb58Obd2BwAAAAB4iOQoXKampioiIkJffvmlJGnHjh1q0qSJHn30Ub3yyiu6cuVKrhYJAAAAAMjbchQu582bp/fff19Xr16VJE2ZMkUlSpTQqFGjdPLkSYWHh+dqkQAAAACAvC1H4TIqKkpDhw5V9+7ddfz4cf3xxx96/fXX9fLLL+vNN9/U1q1bc7tOAAAAAEAelqNwGR8fr7p160qSvv/+exUqVEgtWrSQJHl7e9uOaAIAAAAACoYchcuyZcvq1KlTkqTNmzfL399fJUuWlCTt27dP3t7euVchAAAAACDPy1G47NSpk6ZOnao+ffpo7969+uc//ylJmjx5subNm6ennnoqV4sEAAAAAORtzjnZaNCgQXJzc9Pu3bs1bNgwvfjii5KkAwcOqHfv3urfv3+uFgkAAAAAyNtyFC4tFov69u2rvn372o1/+umnuVIUAAAAAODhkqNwKUlWq1Vr167VTz/9pPPnz2vKlCnatWuXatWqpTp16uRmjQAAAACAPC5H77m8ePGi/vnPf2ry5Mk6ceKE9u/frxs3bui7775Tjx49tG/fvtyuEwAAAACQh+UoXE6fPl3Xr1/Xxo0btX79ehmGIUl67733FBgYqPfeey9XiwQAAAAA5G05CpfffvutBg8erMqVK8tisdjGCxcurN69e+vgwYO5ViAAAAAAIO/LUbhMTk5W8eLFM51zcnJSSkqKmZoAAAAAAA+ZHIXLwMBAffzxx5nObdiwQbVr1zZVFAAAAADg4ZKjq8UOHjxYPXv2VOfOndWyZUtZLBZFRUVp3rx52r59u5YuXZrbdQIAAAAA8rAcHbkMCQnR8uXL5e7urqVLl8owDK1YsULnz5/XokWL1Lhx49yuEwAAAACQh+XoyOVPP/2koKAgffrpp7px44auXLkiLy8veXp65nZ9AAAAAICHQI6OXI4YMUJbtmyRJLm5ualcuXIESwAAAAAowHIULl1dXVW4cOHcrgUAAAAA8JDK0Wmxffv21bhx43TkyBFVr15dpUuXzrCmQYMGposDAAAAADwcchQu3377bUnSggULJEkWi8U2ZxiGLBaLDh8+nAvlAQAAAAAeBjkKlytXrsztOu672wMwAAAAACB35ShcNmzYMLfruK9cXV3l7u7u6DJwH6SlGSpUKOMfDs6cOaOnnnpK8+fPV2BgoG18z549mjVrlo4cOaKiRYuqbdu2GjJkiLy8vGxrZs6cqSVLlmTY57Bhw/Taa69lWUt8fLymTZumH3/8USkpKWrWrJnGjBmjcuXKmXyWAAAAQN6Xo3AZGRl51zVdunTJya7vm5kf7dWpc1cdXQZyUcVyRTS8e/0M43FxcerTp4+uXrV/vaOjo9WrVy/Vr19fc+bM0blz5zRjxgydOnVKCxcutK07fPiwHn30UQ0ZMsRu+/Lly2dZS2pqqkJDQ5WYmKjx48crNTVV4eHh6t27tyIjI+Xi4mLuyQIAAAB5XI7C5ciRIzMdt1gscnJykpOTU7bD5cGDBxUWFqbY2Fi1adNGISEhWrVqlc6cOaNKlSqpV69eeuaZZ3JSpp1T567qWNwV0/tB3pWWlqb169dr+vTpmc5v2rRJFotF8+fPt906JzU1VePHj1dcXJwqVKggSTpy5IheeOEFBQUFZfuxv/rqKx05ckRRUVGqXr26JMnf318dO3bUxo0b1blzZ3NPDgAAAMjjchQu0+9xebvExETt3btXixcv1vz587O9rwULFshisSgqKkpRUVEKDw/XlClTFBgYqB07dmjcuHEqVqyYHn/88ZyUigLk6NGjGj9+vF588UU1adIkwymsVqtVzs7OdqdIlyhRQpJ0+fJlVahQQRcuXNCFCxdUs2bNe3rs7du3q0qVKrZgKUm+vr6qVq2avv/+e8IlAAAA8r0c3eeyQoUKGT6qV6+ubt26qVevXpo4cWK295WQkKCAgAD5+PjI1dVVQ4cOVfv27fXII4/oueeek5+fn3766aeclIkCpnz58tq8ebNGjRolNze3DPNdunSRxWLR1KlTdenSJf3xxx+aP3++/Pz8bGHy0KFDkm79AeWxxx5TrVq11KVLF23btu2Oj33s2DH5+PhkGK9UqZJiYmLMPzkAAAAgj8tRuLwTPz8/HTx4MFtrW7durV27dikyMlI1atRQ3bp19fLLL0uSUlJStGHDBkVHR6tp06a5XSbyoeLFi8vb2zvL+WrVqmnYsGFavXq1GjdurI4dO+r69etavHixnJycJN06JVaSLl68qEmTJikiIkKlSpVSv3799MMPP2S574SEBLuLAqXz9PTU9evXTT4zAAAAIO/L0WmxWbFarfrss89UqlSpbK1fu3at+vfvL29vb40ZM0bFihWTdOuKnj169FBaWpr++c9/qk2bNrlZJvKZpKQkGYZhN5acnGz7nJSUJElatGiRFi5cqOeff16tW7fWpUuXtGTJEr388statmyZSpUqpdatW8vHx0dNmjRRoUK3/vYSHBys559/XnPmzFH9+hkvICRJN2/eVFpamhITE+3GU1NTJSnDOB6s9B5I/4yCiT4APQCJPgA9cK8Mw8j2bR1zFC5bt26d4QHS0tJ06dIlJScnKywsLFv7KVmypFxcXOTm5qYyZcrYxqtUqaL169frt99+05QpU1SiRAm99dZbOSkVBUBMTEyGfxxOnDhh++zp6ambN29q+fLlatq0qe39j0WKFNHw4cM1ZMgQzZ49W927d5cklSpVSkePHrXbX40aNbRlyxYdPnw40xpcXFx09uzZDPPx8fFycnLKcjs8WLGxsY4uAXkAfQB6ABJ9AHrgXri6umZrXY7vc5lZevXy8tJjjz2mJk2a5GS3NqVKlVKpUqVUs2ZNXbx4UfPmzdPgwYOz/aRQsFSpUiXDkcv0U1ErV64sHx8f7du3T8nJyWrRooX8/f3t1latWlWXLl2Sv7+/fvjhB1mt1gxHyz09PVWiRIkM26arWbOmjhw5kmH+0qVLql27dpbb4cFISkpSbGysfHx8uOdtAUYfgB6ARB+AHrhX0dHR2V6bo3A5bdq0O86npqbK2fned71t2zZVrFhR1apVs435+fnJarXq8uXLKlu27D3vE/lfZv8oFC5c2PbZ3d1dxYoVU7FixXTgwAH17NnTtu7ixYs6efKkgoKC5OHhoS1btmjLli1q0aKF7TTtxMREbd++XY0aNZKHh0emNbRs2VKbNm3S6dOn5evrK+nWf4gxMTEaMGBAltvhwXJ3d+e1AH0AegCS6APQA9mV3VNipRxe0KdNmza2C5/83f79+3N8AZ5Zs2Zp0aJFdmP/+9//VLx4cZUuXTpH+wQkqVChQurXr5+ioqI0btw47dixQxs3blSvXr3k5OSk3r17S5JeffVVpaam6rXXXtOWLVv03//+V6+88ooSExM1aNAg2/6io6NtV5aVpPbt28vHx0ehoaG22+qEhobKz89P7dq1e+DPFwAAAHjQsn14MSoqynZxkri4OP33v//NNGDu2LFDKSkpOSrmtdde0/Dhw1W3bl01a9ZMP//8sz744AONGDHCdnEVIKe6deumUqVKafny5Vq3bp1KlCihkJAQzZ8/XxUrVpR060j56tWrNWfOHI0ePVpWq1UNGjTQ5MmTValSJdu+JkyYoLi4OG3dulXSrfPQly9frsmTJ2vs2LFycXFR06ZNNWrUqBwdxQcAAAAeNtn+rfe3337TihUrJN06NLpgwYIs1/bq1StHxXTo0EGpqalasmSJpk2bpv/7v//T2LFj9eyzz+Zofyi4GjVqZLsoz+1Xau3cubPtgj5ZCQwM1AcffHDHNatWrcowVr58eUVEROSgWgAAAODhl+1wOXToUPXo0UOGYaht27aKiIjIcJESJycneXl5ZXq/v6z8/Zf07PzyDwAAAADIW7IdLl1dXVWhQgVJ0pYtW1S2bFm5uLjct8JyW8VyRRxdAnIZrykAAACQd+TozWAVKlTQr7/+ql27diklJcV2GwjDMJSYmKi9e/fqs88+y9VCzRrevb6jS8B9kJZmqFCh7F/BCgAAAMD9kaNw+dFHH2nSpEkZ7i0o3boqZ7NmzUwXlpusVquSkpK4j00+RLAEAAAA8oYcXYJ19erVatasmXbu3Kk+ffroueee06+//qq5c+eqcOHC6tSpU27XaVpmQRgAAAAAkDtyFC5PnTqll156ScWKFVNgYKD27t0rNzc3PfHEE+rbt69WrlyZ23UCAAAAAPKwHIVLFxcXubm5SZJ8fHx04sQJ270tg4ODFRsbm2sFAgAAAADyvhyFS39/f3377beSpMqVKystLU2//vqrJOns2bO5VhwAAAAA4OGQowv69OrVSwMHDtSVK1c0depUtWnTRiNGjNATTzyhDRs2qH59rswKAAAAAAVJjo5ctm3bVgsXLpSvr68k6Z133lGVKlX06aefqmrVqho3blyuFgkAAAAAyNtydORSklq1aqVWrVpJkkqUKKFly5blVk0AAAAAgIdMjsOlJG3btk0//fST4uPjNXToUB0+fFi1atVShQoVcqs+AAAAAMBDIEfhMikpSQMGDNBPP/0kLy8vXb9+Xa+++qo++eQTHTp0SKtXr1b16tVzu1YAAAAAQB6Vo/dczpo1SwcPHtSKFSv0888/yzAMSdL06dNVrlw5zZ07N1eLBAAAAADkbTkKl5s2bdLQoUPVuHFjWSwW23iZMmX0+uuva+/evblWIAAAAAAg78tRuExISMjyfZXFihVTYmKiqaIAAAAAAA+XHIXL6tWra8OGDZnObd26lfdbAgAAAEABk6ML+rz++usaOHCgLl++rMcee0wWi0W7d+/WunXr9Omnnyo8PDy36wQAAAAA5GE5Cpdt27bVjBkzFB4erm3btkmSpk2bplKlSmn8+PFq165drhYJAAAAAMjbsh0uN2zYoObNm6t48eKSpKeeekpPPfWUjh8/rsuXL6to0aKqWrWqChXK0Zm2AAAAAICHWLaT4IgRI3Ty5Em7sYULF6po0aIKDg6Wr68vwRIAAAAACqhsp8H0e1mmu3nzpubOnatz587lelEAAAAAgIeLqUONfw+cAAAAAICCifNYAQAAAACmES4BAAAAAKaZDpcWiyU36gAAAAAAPMTu6T6XAwYMkKurq91Yv3795OLiYjdmsVj0zTffmK8OAAAAAPBQyHa4fPrpp+9nHQAAAACAh1i2w+XUqVPvZx0AAAAAgIcYF/QBAAAAAJhGuAQAAAAAmEa4BAAAAACYRrgEAAAAAJhGuAQAAAAAmEa4BAAAAACYRrgEAAAAAJhGuAQAAAAAmEa4BAAAAACYRrgEAAAAAJhGuAQAAAAAmEa4BAAAAACYRrgEAAAAAJhGuAQAAAAAmEa4BAAAAACYRrgEAAAAAJhGuAQAAAAAmEa4BAAAAACYRrgEAAAAAJhGuAQAAAAAmEa4BAAAAACYRrgEAAAAAJhGuAQAAAAAmEa4BAAAAACYRrgEAAAAAJhGuAQAAAAAmEa4BAAAAACYRrgEAAAAAJhGuAQAAAAAmEa4BAAAAACYRrgEAAAAAJhGuAQAAAAAmEa4BAAAAACYRrgEAAAAAJhWYMKlxWJxdAkAAAAAkG85O7qAB8HV1VXu7u6OLgMmpaUZKlQo4x8Jzpw5o6eeekrz589Xo0aNJEk1atTIcj8NGzbUqlWr1KNHD+3atSvLdUePHs1yLj4+XtOmTdOPP/6olJQUNWvWTGPGjFG5cuXu4RkBAAAA+UeBCJeSNPOjvTp17qqjy0AOVSxXRMO7188wHhcXpz59+ujqVfvXds2aNbavb9y4odjYWB0/flwffvihunXrJkl6++23de3aNbvtTp48qbCwMD333HNZ1pKamqrQ0FAlJiZq/PjxSk1NVXh4uHr37q3IyEi5uLiYeaoAAADAQ8nh4fLgwYMKCwtTbGys2rRpo27dumnGjBmKjo6Wt7e3+vfvry5duph+nFPnrupY3BXzBSNPSEtL0/r16zV9+vRM54OCgmxfJyYm6sqVK/riiy/UvXt3dejQQZLk6+trt01qaqomTpyomjVrasyYMVk+9ldffaUjR44oKipK1atXlyT5+/urY8eO2rhxozp37mzy2QEAAAAPH4e/53LBggWyWCyKiopS9+7d1bdvX7Vs2VKRkZF6/vnnNXr0aO3YscPRZSKPOXr0qMaPH68uXbpkGTBvt3r1arm5uWno0KFZrvn000916NAhTZgwQa6urlmu2759u6pUqWILltKtoFqtWjV9//339/ZEAAAAgHzC4UcuExISFBAQIB8fHy1btkw1a9bU4MGDJUlVq1bVoUOHtHTpUj366KMOrhR5Sfny5bV582Z5e3tr586dd1z766+/ateuXZowYYK8vLwyXXP9+nXNmzdPnTt3Vp06de64v2PHjsnHxyfDeKVKlRQTE5Pt5wAAAADkJw4Nl61bt1ZcXJwkKTIyUtWqVVPbtm3t1jRu3FiTJ0+WYRhc8RU2xYsXz/balStXqkyZMmrfvn2Wa9auXauEhAT17dv3rvtLSEhQ5cqVM4x7enrq+vXr2a4LAAAAyE8cGi7Xrl2r/v37y9vbW2PGjFHbtm3l7e1tt6Zs2bJKSkrSpUuXVLJkSQdVirwiKSlJhmHYjSUnJ9s+JyYm2s2dPXtW27ZtU/fu3ZWSkpJhPt3q1avVsmVLlStXLss16W7evKm0tLQM61JTUyXprtvjwUtKSrL7jIKJPgA9AIk+AD1wr+7lIJ9Dw2XJkiXl4uIiNzc3lSlTRikpKRne65b+vdVqdUSJyGNiYmIy/ENw4sQJ22dPT0+7uU2bNkmSmjRpotjY2Ez3eeLECZ08eVJPP/20Dh8+fNcaXFxcdPbs2Qxr4+Pj5eTklK19wDGy6gEULPQB6AFI9AHogXtxp+uR3M7h77m8XeHChTOEyPTvuU8lJKlKlSoZjlymn4pauXJl+fv7283NnTtXQUFBKlasmHx8fDLtox9//FFubm7q1q2b3Nzc7lpDzZo1deTIkQyPdenSJdWuXTvDOBwvKSlJsbGxWfYACgb6APQAJPoA9MC9io6OzvbaPBUuy5cvr/j4eLux+Ph4eXh4qEiRIg6qCnlJZv8AFC5c2PbZw8PDNm4Yhg4dOqTnn3/etu3t8+kOHTqkWrVqZfu065YtW2rTpk06ffq07XYm0dHRiomJ0YABAzJ9DOQNWfUAChb6APQAJPoA9EB23ct1bxx+K5LbhYSEaNeuXXZjO3bsUHBwsAoVylOl4iFw+vRpXb16VVWrVr3jut9//z3DPS9vFx0drUOHDtm+b9++vXx8fBQaGqqoqChFRUUpNDRUfn5+ateuXa7VDwAAADxM8lRi69Gjh/bv36+ZM2fq2LFjWrZsmb7++mu9+uqrji4ND6G//vpLklS0aNG7rrvTmgkTJmjgwIG2711dXbV8+XLVqlVLY8eO1TvvvKOgoCAtXbpUzs556mQAAAAA4IHJU78JV69eXQsWLNCMGTP04YcfqmLFipoxYwb3uMQdNWrUSEePHs0wXqdOHR09elSJiYl3vMjO//73vzvuf9WqVRnGypcvr4iIiHsvFgAAAMinHB4u//6Le4sWLdSiRQsHVQMAAAAAyAmHh8sHpWI5Lgj0MOP1AwAAAPK2AhMuh3ev7+gSYFJamqFChbJ/tSoAAAAAD06euqDP/WK1WpWUlOToMmASwRIAAADIuwpEuJRu3fMQAAAAAHB/FJhwCQAAAAC4fwiXAAAAAADTCJcAAAAAANMIlwAAAAAA0wiXAAAAAADTCJcAAAAAANMIlwAAAAAA0wiXAAAAAADTCJcAAAAAANMIlwAAAAAA0wiXAAAAAADTCJcAAAAAANMIlwAAAAAA0wiXAAAAAADTCJcAAAAAANMIlwAAAAAA0wiXAAAAAADTCJcAAAAAANMIlwAAAAAA0wiXAAAAAADTCJcAAAAAANMIlwAAAAAA0wiXAAAAAADTCJcAAAAAANMIlwAAAAAA0wiXAAAAAADTCJcAAAAAANMIlwAAAAAA0wiXAAAAAADTCJcAAAAAANMIlwAAAAAA0wiXAAAAAADTCJcAAAAAANMIlwAAAAAA0wiXAAAAAADTCJcAAAAAANMIlwAAAAAA0wiXAAAAAADTCJcAAAAAANMIlwAAAAAA0wiXAAAAAADTCJcAAAAAANMIlwAAAAAA0wiXAAAAAADTCJcAAAAAANMIlwAAAAAA0wiXAAAAAADTCJcAAAAAANMIlwAAAAAA0wiXAAAAAADTCJcAAAAAANMIlwAAAAAA0wiXAAAAAADTCJcAAAAAANMIlwAAAAAA0wiXAAAAAADTCJcAAAAAANMIlwAAAAAA0wpMuLRYLI4uAQAAAADyrQIRLl1dXeXu7u7oMhwmLc3IdPzMmTMKCQnRzp077caPHz+u1157TfXr11ejRo00evRoJSQk2K25du2axo0bp6ZNmyooKEi9evVSdHT0XWuJj4/X0KFD1ahRIwUHB2vQoEE6d+5czp8cAAAAgDzB2dEFPCgzP9qrU+euOrqMB65iuSIa3r1+hvG4uDj16dNHV6/a/0wSEhLUs2dPlS1bVtOnT9dff/2lGTNm6OzZs1q2bJlt3bBhw7R//3699dZb8vLyUkREhF555RX95z//UfHixTOtJTU1VaGhoUpMTNT48eOVmpqq8PBw9e7dW5GRkXJxccnV5w4AAADgwXF4uDx48KDCwsIUGxurNm3aaO7cuZKkmJgYPf3004qKilLFihVNP86pc1d1LO6K6f087NLS0rR+/XpNnz490/lPPvlECQkJioyMVMmSJSVJ5cqV02uvvaY9e/YoJCRE+/bt03fffafFixerZcuWkqSQkBC1adNGH3/8sfr375/pvr/66isdOXJEUVFRql69uiTJ399fHTt21MaNG9W5c+f78IwBAAAAPAgOPy12wYIFslgsioqK0tixYyVJR48eVa9evZSUlOTg6vKfo0ePavz48erSpUumAXP79u2qX7++LVhKUvPmzeXp6anvv//etsbDw0NNmza1rSlZsqQaNGhgW5OZ7du3q0qVKrZgKUm+vr6qVq3aHbcDAAAAkPc5PFwmJCQoICBAPj4+Kl26tN5//30999xzduEGuad8+fLavHmzRo0aJTc3twzzx44dU5UqVezGChUqpIoVKyo2Nta2pmLFinJ2tj/wXalSJcXExGT52MeOHZOPj0+G8bttBwAAACDvc+hpsa1bt1ZcXJwkKTIyUitXrtQPP/ygGTNmqFixYnr55ZcdWV6+lNX7IdMlJCTI09Mzw7inp6euXbsmSbp69aq8vLwyXXP9+vU77rty5cr3vB0AAACAvM+h4XLt2rXq37+/vL29NWbMGBUrVkwff/yxJGW4ginMSUpKkmHYXzU2OTnZ9jkxMVGSZBiGUlNTbd+nu3nzpgzDUGJiolJSUmxf3y4lJUUWiyXD+O37SEtLyzCfmpoqSVluZ1b66dWcZl1w0QOQ6APQA7iFPgA9cG8Mw8j2bR0dGi5LliwpFxcXubm5qUyZMo4sJd+LiYnJ8B/QiRMnbJ/Tj1a6u7vrzz//1OHDh+3WXrp0Se7u7jp8+LAMw9Bff/2VYc2pU6fk5uaWYTydi4uLzp49m2E+Pj5eTk5OWW6XW9JP60XBRQ9Aog9AD+AW+gD0QPa5urpma53DrxaLB6NKlSoZjlymn4pauXJl+fv7S5KqVaum69ev276Xbl1h9q+//lL79u3l7++vOnXq6ODBg6pRo4YKFSpktz8/Pz+7bW9Xs2ZNHTlyJMP8pUuXVLt27Sy3MyspKUmxsbHy8fEp0Pc7LcjoAUj0AegB3EIfgB64N9m5l306wmUBkdl/OIULF7Z99vDwkHTryrAffPCBbty4Ybuo0rZt23T9+nW1atVKHh4eatWqlZYuXaq9e/fabkVy8eJF/fLLL+rXr59tX3/XsmVLbdq0SadPn5avr6+kW80aExOjAQMGZLldbnF3d7/vj4G8jR6ARB+AHsAt9AHogezJ7imxUh64WizylhdffFGFCxdWr169tHnzZn3++ed666231KJFC9WrV0+S1KBBAzVs2FBvvfWWPv/8c23evFk9e/ZUkSJF1K1bN9u+oqOjdejQIdv37du3l4+Pj0JDQxUVFaWoqCiFhobKz89P7dq1e+DPFQAAAEDu4cgl7JQsWVIrV67UlClTNHz4cHl6eqpdu3YaMWKE3bqIiAhNmzZN06dPV1pamoKDgzVnzhwVK1bMtmbChAmKi4vT1q1bJd06V3v58uWaPHmyxo4dKxcXFzVt2lSjRo3KcFsTAAAAAA8XfqMvwBo1aqSjR49mGPfz89OKFSvuuG2xYsU0depUTZ06Ncs1q1atyjBWvnx5RURE3HOtAAAAAPI2h4fLzAKIlHXwAQAAAADkPQ4Plw9KxXJFHF2CQxTU5w0AAADgwSow4XJ49/qOLsFh0tIMFSqU/as8AQAAAMC9KhBXi7VarUpKSnJ0GQ5DsAQAAABwvxWIcClJhmE4ugQAAAAAyLcKTLgEAAAAANw/hEsAAAAAgGmESwAAAACAaYRLAAAAAIBphEsAAAAAgGmESwAAAACAaYRLAAAAAIBphEsAAAAAgGmESwAAAACAaYRLAAAAAIBphEsAAAAAgGmESwAAAACAaYRLAAAAAIBphEsAAAAAgGmESwAAAACAaYRLAAAAAIBphEsAAAAAgGmESwAAAACAaYRLAAAAAIBphEsAAAAAgGmESwAAAACAaYRLAAAAAIBphEsAAAAAgGmESwAAAACAaYRLAAAAAIBphEsAAAAAgGmESwAAAACAaYRLAAAAAIBphEsAAAAAgGmESwAAAACAaYRLAAAAAIBphEsAAAAAgGmESwAAAACAaYRLAAAAAIBphEsAAAAAgGmESwAAAACAaYRLAAAAAIBphEsAAAAAgGmESwAAAACAaYRLAAAAAIBphEsAAAAAgGmESwAAAACAaYRLAAAAAIBphEsAAAAAgGmESwAAAACAaYRLAAAAAIBphEsAAAAAgGmESwAAAACAaYRLAAAAAIBphEsAAAAAgGmESwAAAACAaYRLAAAAAIBphEsAAAAAgGmESwAAAACAaYRLAAAAAIBphEsAAAAAgGmESwAAAACAaYRLAAAAAIBpBSZcWiwWR5cAAAAAAPlWgQiXrq6ucnd3d3QZ9ywtzdDOnTtVo0aNLD8iIiLstklJSdGzzz6refPmZesx9u/fr5deekn16tVT06ZN9e6778pqtd6PpwMAAAAgH3N2dAEPysyP9urUuauOLiPbKpYrouHd66tWrVpas2ZNhvk5c+bowIED6tChg23sxo0beuutt7R//361aNHiro9x8uRJ9erVS/Xq1dOcOXN07NgxzZ49W1evXtWkSZNy9fkAAAAAyN8cHi4PHjyosLAwxcbGqk2bNpo7d64kyTAMvfrqq7JarVq1apXpxzl17qqOxV0xvZ8HzcvLS0FBQXZj33zzjXbs2KG5c+eqSpUqkqQ9e/ZowoQJio+Pz/a+ly5dKk9PTy1YsECurq5q2bKl3NzcNHHiRL3++uuqUKFCbj4VAAAAAPmYw0+LXbBggSwWi6KiojR27Fjb+Icffqjt27c7sLK86caNG5o0aZJatWqldu3a2cbTw+C6deuyva/t27erVatWcnV1tY21a9dOaWlp/OwBAAAA3BOHH7lMSEhQQECAfHx8bGNHjx7V/PnzMxyxg7RixQrFx8frww8/tBtfvXq1atSoke393LhxQ3FxcbYjn+lKliwpLy8vxcbG5ka5AAAAAAoIhx65bN26tXbt2qXIyEjVqFFDO3fuVHJysoYPH65BgwZlCD4FXfopwu3bt1flypXt5u4lWEq3Qr1067Tbv/P09NS1a9dyXigAAACAAsehRy7Xrl2r/v37y9vbW2PGjFGxYsU0ffp0lS1bVi+99JJGjRrlyPLyhKSkJBmGIUnauHGjLly4oO7duysxMfGO26WkpNxxTfqc1WrNsC4tLU03b96862M8LJKSkuw+o+ChByDRB6AHcAt9AHrg3hiGke3bOjo0XJYsWVIuLi5yc3NTmTJl9P3332vDhg368ssvuS/l/y8mJsbW+OvXr1fFihWVlpamw4cP33G78+fP33HNjRs3JEnHjx/PsO7atWuyWq13fYyHDaf6gh6ARB+AHsAt9AHogey7/Rotd+Lw91ymu3jxokaPHq3x48erXLlyji4nz6hSpYoMw1BKSop+++039ezZU/7+/nfdrkyZMnddV7ZsWVmtVrt1Fy9eVFJSkkJCQrL1OA+DpKQkxcbGysfH56G83ynMowcg0QegB3ALfQB64N5ER0dne22eCZfbtm3T+fPnNXr0aI0ePVrSrVM209LSVK9ePS1ZskQhISEOrvLBS2/4gwcP6saNG2rcuLE8PDzuup2Li8td1zVr1kzbt2+Xs7Oz7a8RkZGRcnJyUsuWLbP1OA8Td3f3fPeccG/oAUj0AegB3EIfgB7Inns5ozTPhMvHH39cwcHBdmMzZ87U2bNnNXPmzAJ/NPP333+XJFWrVi3H+/j1119VsmRJVapUSZL06quv6j//+Y9effVV9erVS7GxsZo1a5aef/55lS9fPlfqBgAAAFAw5Jlw6eXlleHKpZ6ennJzc8twZdSC6MKFC5KkYsWK5Xgfzz//vJ5++mlNmzZN0q2gumzZMk2fPl2DBg1SiRIl1LNnTw0ePDhXagYAAABQcOSZcIk7Cw0NVWhoaLbWHj16NNvjISEh+uyzz0zVBgAAAAAOD5erVq3Kci79CBsAAAAAIG9zeLh8UCqWK+LoEu7Jw1YvAAAAgIKtwITL4d3rO7qEe5aWZqhQIe73CQAAACDvK+ToAh4Eq9WqpKQkR5dxzwiWAAAAAB4WBSJcSpJhGI4uAQAAAADyrQITLgEAAAAA9w/hEgAAAABgGuESAAAAAGAa4RIAAAAAYBrhEgAAAABgGuESAAAAAGAa4RIAAAAAYBrhEgAAAABgGuESAAAAAGAa4RIAAAAAYBrhEgAAAABgGuESAAAAAGAa4RIAAAAAYBrhEgAAAABgGuESAAAAAGAa4RIAAAAAYBrhEgAAAABgGuESAAAAAGAa4RIAAAAAYBrhEgAAAABgGuESAAAAAGAa4RIAAAAAYBrhEgAAAABgGuESAAAAAGAa4RIAAAAAYBrhEgAAAABgGuESAAAAAGAa4RIAAAAAYBrhEgAAAABgGuESAAAAAGAa4RIAAAAAYBrhEgAAAABgGuESAAAAAGAa4RIAAAAAYBrhEgAAAABgGuESAAAAAGAa4RIAAAAAYBrhEgAAAABgGuESAAAAAGAa4RIAAAAAYBrhEgAAAABgGuESAAAAAGAa4RIAAAAAYBrhEgAAAABgGuESAAAAAGAa4RIAAAAAYBrhEgAAAABgGuESAAAAAGAa4RIAAAAAYBrhEgAAAABgGuESAAAAAGAa4RIAAAAAYBrhEgAAAABgGuESAAAAAGAa4RIAAAAAYBrhEgAAAABgGuESAAAAAGAa4RIAAAAAYBrhEgAAAABgGuESAAAAAGAa4RIAAAAAYBrhEgAAAABgGuESAAAAAGAa4RIAAAAAYBrhEgAAAABgmsUwDMPRRdxPv/zyiwzDkIuLiywWi6PLgQMYhqGUlBR6oACjByDRB6AHcAt9AHrg3litVlksFgUHB991rfMDqMeh0huGxim4LBaLXF1dHV0GHIgegEQfgB7ALfQB6IF7Y7FYsp2l8v2RSwAAAADA/cd7LgEAAAAAphEuAQAAAACmES4BAAAAAKYRLgEAAAAAphEuAQAAAACmES4BAAAAAKYRLgEAAAAAphEuAQAAAACmES4BAAAAAKYRLgEAAAAAphEuAQAAAACmES4BAAAAAKbl23CZlpam9957T82bN1fdunXVu3dvnThxwtFlIRddvnxZ48aNU4sWLRQcHKwXXnhBe/bssc0fPnxYL730koKCgtSqVSt98MEHdtvTI/lLTEyM6tWrp3Xr1tnG6IGCIzIyUu3bt1dgYKA6dOigTZs22ebog/wvJSVFs2fPVqtWrVSvXj29+OKL+uWXX2zz9ED+tmDBAvXo0cNuLDde87vtA3lLZn2wdetW/fOf/1S9evXUunVrvfvuu7px44Ztnj64D4x8at68ecajjz5qfPfdd8bhw4eN3r17G48//riRnJzs6NKQS3r16mV06tTJ2L17t3Hs2DFj4sSJRp06dYzo6Gjj4sWLRqNGjYwxY8YY0dHRxtq1a43AwEBj7dq1tu3pkfzDarUaXbt2Nfz8/IwvvvjCMAyDHihAIiMjDX9/f2PFihVGbGysERERYdSsWdP45Zdf6IMCYu7cuUbTpk2NH374wYiNjTXGjBljBAcHG2fPnqUH8rnly5cbNWrUMF566SXbWG685tnZB/KOzPpg9+7dhr+/v7Fo0SIjNjbW2LZtm9GyZUtj5MiRtjX0Qe7Ll+EyOTnZqFevnvHxxx/bxq5cuWLUqVPHiIqKcmBlyC2xsbGGn5+fsXfvXttYWlqa8fjjjxtz5swxFi5caDRv3txISUmxzYeHhxtPPPGEYRj0SH4THh5u9OjRwy5c0gMFQ1pamvHYY48Z06ZNsxvv3bu3sXDhQvqggOjUqZMxdepU2/dXr141/Pz8jK+++ooeyKfOnj1r9OnTxwgKCjLatWtnFypy4zW/2z6QN9ypD4YNG2b06tXLbn1kZKQREBBgJCcn0wf3Sb48LfbIkSO6fv26GjdubBsrWrSoAgICtHv3bgdWhtxSokQJLV68WLVr17aNWSwWGYahK1euaM+ePWrQoIGcnZ1t840bN1ZMTIz++usveiQf2b17t9asWaN3333XbpweKBiOHz+uuLg4PfXUU3bjH3zwgfr27UsfFBDFixfXt99+q1OnTunmzZtas2aNXF1d5e/vTw/kUwcPHlSxYsX05Zdfqm7dunZzufGa320fyBvu1Ae9e/fWiBEjMmyTmpqqa9eu0Qf3Sb4Ml2fPnpUklS9f3m68bNmyOnPmjCNKQi4rWrSoWrZsKVdXV9vYpk2bdPLkSTVr1kxnz56Vt7e33TZly5aVJJ0+fZoeyScSEhI0YsQI/etf/8rwWtIDBUNsbKwkKTExUX369NGjjz6qZ599Vlu3bpVEHxQUY8aMkbOzs9q0aaPAwEDNnj1bc+bMUaVKleiBfKp169YKDw/XI488kmEuN17zu+0DecOd+iAgIEA1a9a0fW+1WrV8+XLVqlVLJUuWpA/uk3wZLpOSkiTJLnhIUuHChZWcnOyIknCf7d27V6NHj1abNm3UunVr3bhxI9PXX5KSk5PpkXxi/PjxCgoKynDUShI9UEBcu3ZNkhQWFqaOHTtq2bJlatq0qfr3768dO3bQBwXEsWPHVLRoUc2fP19r1qxR165dFRYWpiNHjtADBVBuvOZ32wceLqmpqRoxYoSio6P19ttvS8peXqAP7p3z3Zc8fNzc3CTd+gtF+tfSrSZwd3d3VFm4T7755hsNHz5cdevW1axZsyTd6gGr1Wq3Lv0fAQ8PD3okH4iMjNSePXu0YcOGTOfpgYLBxcVFktSnTx89/fTTkiR/f38dOnRIy5cvpw8KgLi4OL311ltasWKFQkJCJEmBgYGKjo7WvHnz6IECKDde87vtAw+Pa9euaciQIdq5c6fee+892+mz9MH9kS+PXKYf3o6Pj7cbj4+Pz3BoGw+31atX64033lCLFi20ZMkS2z8O3t7emb7+klSuXDl6JB/44osv9Ndff9luPVCvXj1J0ttvv60OHTrQAwVE+mvl5+dnN+7r66tTp07RBwXA/v37lZKSosDAQLvxunXrKjY2lh4ogHLjNb/bPvBwiI+PV/fu3bVv3z4tWbJErVu3ts3RB/dHvgyXNWvWlJeXl3bu3GkbS0hI0KFDh2x/1cTD7+OPP9bEiRPVvXt3zZkzx+60hQYNGmjv3r26efOmbWzHjh2qUqWKSpUqRY/kAzNnztTGjRsVGRlp+5CkQYMGafHixfRAAREQECBPT0/973//sxv//fffValSJfqgAEj/BfHo0aN247///rsqV65MDxRAufGa320fyPuuXLmiV155RRcvXtTHH39sd+EeKXt5gT7IAUdfrvZ+mTVrltGwYUPjm2++sd235h//+Af3rMonjh8/btSqVcsYMGCAER8fb/eRkJBgXLhwwWjQoIERFhZm/PHHH8YXX3xhBAYGGuvWrbPtgx7Jf26/FQk9UHDMnz/fqFevnrFhwwbjxIkTxoIFC4yaNWsaP//8M31QANy8edN48cUXjXbt2hk7duwwYmJijNmzZxv+/v7Gvn376IECICwszO4WFLnxmmdnH8hb/t4HYWFhRq1atYwdO3Zk+F0xNTXVMAz64H6wGIZhODrg3g83b97UrFmztG7dOt24cUMNGjTQuHHjVLFiRUeXhlywcOFCzZ49O9O5p59+WtOmTdP+/fs1efJkHTp0SGXKlFHv3r310ksv2dbRI/lPjRo1NHXqVHXt2lWS6IECZPny5Vq9erXOnTunatWq6Y033lDbtm0l0QcFwZUrVzRnzhx99913unLlivz8/DR06FA1bNhQEj2Q340cOVJxcXFatWqVbSw3XvO77QN5y+19kJaWpqCgoCwvurNlyxZVrFiRPrgP8m24BAAAAAA8OPnyPZcAAAAAgAeLcAkAAAAAMI1wCQAAAAAwjXAJAAAAADCNcAkAAAAAMI1wCQAAAAAwjXAJAAAAADDN2dEFAACQF40cOVLr16/Pcn769Onq3LnzA6wIAIC8jXAJAEAWypQpo4iIiEznKlWq9ICrAQAgbyNcAgCQBVdXVwUFBTm6DAAAHgq85xIAgFy2ceNGderUSXXq1FHjxo01fPhwxcfH2+YNw9BHH32kDh06qE6dOnr88ce1ZMkSGYZhW/Pjjz/qxRdfVP369dWoUSMNGzZMZ86csc2vW7dOAQEB+vzzz9WsWTO1aNFCf/zxhyTpm2++UdeuXRUYGKimTZtq0qRJSkxMfHA/AABAgUS4BADgDlJTUzN83B4C/27v3r0aPny4/vGPf2jJkiUaNWqUfv75Zw0bNsy2ZtasWZo8ebJatmyp999/X88++6xmz56tBQsWSJL+/e9/q3fv3ipXrpxmzZqlUaNGad++fXr++ef1119/2fZz8+ZNLVy4UJMmTdKQIUPk6+urDRs2aMCAAapatarmz5+vgQMH6ssvv1T//v3vWDcAAGZxWiwAAFmIi4tTrVq1MowPHjxY/fv3z3SbvXv3qnDhwgoNDVXhwoUlScWLF9eBAwdkGIauXr2q5cuXq0ePHhoxYoQkqWnTprp48aL27t2rtLQ0zZgxQ02aNNHs2bNt+w0ODlb79u21bNkyvfXWW7bxfv36qVWrVpJuHRGdOXOmmjdvrpkzZ9rW+Pj4qGfPntq2bZttLQAAuY1wCQBAFsqUKaP3338/w3i5cuWy3KZBgwaaPXu2nnrqKT355JNq0aKFmjVrppYtW0qSfv31V6WkpOjxxx+3227kyJGSpGPHjun8+fMaOnSo3XylSpVUr1497dy5027cz8/P9vXx48d19uxZ9e3bV6mpqXY1eXl56ccffyRcAgDuG8IlAABZcHV1VWBg4D1tU69ePS1evFgrVqzQBx98oIULF6pMmTIKDQ3VK6+8osuXL0uSSpYsmen26fOlS5fOMFe6dGkdOnTIbqxUqVIZtp0wYYImTJiQYfvb3/cJAEBuI1wCAJDLmjdvrubNmyspKUk///yzVq5cqSlTpigoKEhFixaVJF28eFFVq1a1bXPmzBmdOHFCJUqUkCRduHAhw37Pnz9vm89M+r5HjBihhg0bZpgvVqyYqecFAMCdcEEfAABy0bvvvqtnnnlGhmHI3d1djz32mMLCwiTdCpB16tSRi4uLtmzZYrfdhx9+qMGDB6tKlSoqU6aMNmzYYDf/559/6tdff1VwcHCWj121alWVKlVKp06dUmBgoO3D29tb4eHhGY56AgCQmzhyCQBALnr00Ue1fPlyjRw5Up06dVJKSoqWLl2q4sWLq3HjxipevLhefvllffjhh3J1dVXjxo114MABrV69WkOHDpWrq6uGDh2qUaNG6c0331SXLl106dIlRUREqFixYurVq1eWj+3k5KQ333xT48aNk5OTkx577DElJCRowYIFOnfuXKYXJwIAILcQLgEAyEUtWrTQzJkztWzZMg0cOFAWi0X169fXypUrVbx4cUnSW2+9pdKlS+uTTz7RsmXLVLFiRY0ePVovvviiJKlr167y9PTUokWLNGDAAHl5eal58+YaOnSoypQpc8fHf/bZZ+Xp6amlS5dqzZo18vDwUHBwsGbOnKlHHnnkfj99AEABZjG46RUAAAAAwCTecwkAAAAAMI1wCQAAAAAwjXAJAAAAADCNcAkAAAAAMI1wCQAAAAAwjXAJAAAAADCNcAkAAAAAMI1wCQAAAAAwjXAJAAAAADCNcAkAAAAAMI1wCQAAAAAwjXAJAAAAADDt/wOhP5+foqsd0wAAAABJRU5ErkJggg==",
      "text/plain": [
       "<Figure size 1100x800 with 1 Axes>"
      ]
     },
     "metadata": {},
     "output_type": "display_data"
    }
   ],
   "source": [
    "import matplotlib.pyplot as plt\n",
    "import xgboost as xgb\n",
    "xgb.plot_importance(best_xgb_clf)\n",
    "plt.show()"
   ]
  },
  {
   "cell_type": "code",
   "execution_count": 84,
   "id": "f48d39bd",
   "metadata": {},
   "outputs": [
    {
     "name": "stdout",
     "output_type": "stream",
     "text": [
      "Collecting lightgbm\n",
      "  Obtaining dependency information for lightgbm from https://files.pythonhosted.org/packages/ca/b4/57f3f253721e0a16ea28c49acca92c5b1198eb94fbbb8328d6dabc61d2e0/lightgbm-4.4.0-py3-none-win_amd64.whl.metadata\n",
      "  Downloading lightgbm-4.4.0-py3-none-win_amd64.whl.metadata (19 kB)\n",
      "Requirement already satisfied: numpy>=1.17.0 in c:\\users\\hp\\anaconda3\\lib\\site-packages (from lightgbm) (1.24.3)\n",
      "Requirement already satisfied: scipy in c:\\users\\hp\\anaconda3\\lib\\site-packages (from lightgbm) (1.11.1)\n",
      "Downloading lightgbm-4.4.0-py3-none-win_amd64.whl (1.4 MB)\n",
      "   ---------------------------------------- 0.0/1.4 MB ? eta -:--:--\n",
      "   ---------------------------------------- 0.0/1.4 MB ? eta -:--:--\n",
      "    --------------------------------------- 0.0/1.4 MB 435.7 kB/s eta 0:00:04\n",
      "    --------------------------------------- 0.0/1.4 MB 435.7 kB/s eta 0:00:04\n",
      "   - -------------------------------------- 0.1/1.4 MB 326.8 kB/s eta 0:00:05\n",
      "   -- ------------------------------------- 0.1/1.4 MB 435.7 kB/s eta 0:00:04\n",
      "   -- ------------------------------------- 0.1/1.4 MB 435.7 kB/s eta 0:00:04\n",
      "   --- ------------------------------------ 0.1/1.4 MB 400.9 kB/s eta 0:00:04\n",
      "   ------- -------------------------------- 0.3/1.4 MB 684.6 kB/s eta 0:00:02\n",
      "   ---------- ----------------------------- 0.4/1.4 MB 882.8 kB/s eta 0:00:02\n",
      "   ---------- ----------------------------- 0.4/1.4 MB 807.8 kB/s eta 0:00:02\n",
      "   ----------------- ---------------------- 0.6/1.4 MB 1.2 MB/s eta 0:00:01\n",
      "   ---------------------- ----------------- 0.8/1.4 MB 1.4 MB/s eta 0:00:01\n",
      "   ---------------------- ----------------- 0.8/1.4 MB 1.4 MB/s eta 0:00:01\n",
      "   -------------------------------- ------- 1.2/1.4 MB 1.8 MB/s eta 0:00:01\n",
      "   ----------------------------------- ---- 1.3/1.4 MB 1.9 MB/s eta 0:00:01\n",
      "   ----------------------------------- ---- 1.3/1.4 MB 1.9 MB/s eta 0:00:01\n",
      "   ------------------------------------- -- 1.3/1.4 MB 1.7 MB/s eta 0:00:01\n",
      "   ---------------------------------------- 1.4/1.4 MB 1.7 MB/s eta 0:00:00\n",
      "Installing collected packages: lightgbm\n",
      "Successfully installed lightgbm-4.4.0\n"
     ]
    }
   ],
   "source": [
    "!pip install lightgbm"
   ]
  },
  {
   "cell_type": "code",
   "execution_count": 90,
   "id": "83f24e4e",
   "metadata": {},
   "outputs": [
    {
     "name": "stdout",
     "output_type": "stream",
     "text": [
      "[LightGBM] [Info] Number of positive: 444, number of negative: 434\n",
      "[LightGBM] [Info] Auto-choosing row-wise multi-threading, the overhead of testing was 0.000325 seconds.\n",
      "You can set `force_row_wise=true` to remove the overhead.\n",
      "And if memory is not enough, you can set `force_col_wise=true`.\n",
      "[LightGBM] [Info] Total Bins 360\n",
      "[LightGBM] [Info] Number of data points in the train set: 878, number of used features: 7\n",
      "[LightGBM] [Info] [binary:BoostFromScore]: pavg=0.505695 -> initscore=0.022780\n",
      "[LightGBM] [Info] Start training from score 0.022780\n",
      "[LightGBM] [Warning] No further splits with positive gain, best gain: -inf\n",
      "Training until validation scores don't improve for 10 rounds\n",
      "[LightGBM] [Warning] No further splits with positive gain, best gain: -inf\n",
      "[LightGBM] [Warning] No further splits with positive gain, best gain: -inf\n",
      "Early stopping, best iteration is:\n",
      "[18]\tvalid_0's binary_error: 0.145455\n"
     ]
    }
   ],
   "source": [
    "import lightgbm as lgb\n",
    "\n",
    "# Create the LightGBM dataset\n",
    "train_data = lgb.Dataset(X_train, label=y_train)\n",
    "test_data = lgb.Dataset(X_test, label=y_test, reference=train_data)\n",
    "\n",
    "# Define parameters\n",
    "params = {\n",
    "    'objective': 'binary',\n",
    "    'metric': 'binary_error',\n",
    "    'boosting_type': 'gbdt',\n",
    "    'num_leaves': 31,\n",
    "    'learning_rate': 0.05,\n",
    "    'feature_fraction': 0.9\n",
    "}\n",
    "\n",
    "# Train the model\n",
    "bst = lgb.train(\n",
    "    params,\n",
    "    train_data,\n",
    "    num_boost_round=100,\n",
    "    valid_sets=[test_data],\n",
    "    callbacks=[lgb.early_stopping(stopping_rounds=10)]\n",
    ")\n",
    "# Make predictions\n",
    "y_pred = bst.predict(X_test, num_iteration=bst.best_iteration)\n",
    "y_pred = (y_pred > 0.5).astype(int)  # Convert probabilities to binary predictions"
   ]
  },
  {
   "cell_type": "code",
   "execution_count": 91,
   "id": "fc301ca5",
   "metadata": {},
   "outputs": [
    {
     "name": "stdout",
     "output_type": "stream",
     "text": [
      "Accuracy: 0.8545454545454545\n",
      "Confusion Matrix:\n",
      "[[103  12]\n",
      " [ 20  85]]\n",
      "Classification Report:\n",
      "              precision    recall  f1-score   support\n",
      "\n",
      "           0       0.84      0.90      0.87       115\n",
      "           1       0.88      0.81      0.84       105\n",
      "\n",
      "    accuracy                           0.85       220\n",
      "   macro avg       0.86      0.85      0.85       220\n",
      "weighted avg       0.86      0.85      0.85       220\n",
      "\n"
     ]
    }
   ],
   "source": [
    "# Evaluate the model\n",
    "accuracy = accuracy_score(y_test, y_pred)\n",
    "conf_matrix = confusion_matrix(y_test, y_pred)\n",
    "class_report = classification_report(y_test, y_pred)\n",
    "\n",
    "print(f'Accuracy: {accuracy}')\n",
    "print('Confusion Matrix:')\n",
    "print(conf_matrix)\n",
    "print('Classification Report:')\n",
    "print(class_report)"
   ]
  },
  {
   "cell_type": "code",
   "execution_count": 92,
   "id": "ede148f6",
   "metadata": {},
   "outputs": [
    {
     "data": {
      "image/png": "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",
      "text/plain": [
       "<Figure size 1100x800 with 1 Axes>"
      ]
     },
     "metadata": {},
     "output_type": "display_data"
    }
   ],
   "source": [
    "# Plot feature importance\n",
    "lgb.plot_importance(bst, max_num_features=10)\n",
    "plt.show()"
   ]
  },